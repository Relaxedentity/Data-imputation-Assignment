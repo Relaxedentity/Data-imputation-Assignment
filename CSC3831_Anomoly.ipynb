{
  "nbformat": 4,
  "nbformat_minor": 0,
  "metadata": {
    "colab": {
      "name": "CSC3831_Anomoly.ipynb",
      "provenance": [],
      "collapsed_sections": [],
      "toc_visible": true
    },
    "kernelspec": {
      "name": "python3",
      "display_name": "Python 3"
    },
    "language_info": {
      "name": "python"
    }
  },
  "cells": [
    {
      "cell_type": "markdown",
      "source": [
        "# **Anomoly Detection using OneClass SVM and K-NN**\n",
        "\n",
        "This notebook goes through the implementation of the OneClass SVM and K-NN to the dataset produced using the data generator. The code is run on 6 generated versions produced from the generator through varying outliers_fraction and num_clusters. The F-score, precision, and recall will also be concluded from both these methods. We will first be implementing OneClass SVM for all variations of the generated data set and then doing the same for K NN, concluding with an analysis on all the values obtained."
      ],
      "metadata": {
        "id": "gMXrBOvPgI6C"
      }
    },
    {
      "cell_type": "code",
      "execution_count": 116,
      "metadata": {
        "id": "e0Ypo7Qie-xq"
      },
      "outputs": [],
      "source": [
        "import seaborn as sns\n",
        "import matplotlib.pyplot as plt\n",
        "from sklearn.datasets import make_classification, make_blobs, make_moons\n",
        "from matplotlib.pyplot import figure\n",
        "import numpy as np"
      ]
    },
    {
      "cell_type": "markdown",
      "source": [
        "# **Data Generator**\n",
        "\n",
        "Implementation of the Data generator provided in order to obtain the first data set we will use to implement bothe OnceClass SVM as well as K NN. The first data set me generate will have 0.1 for the outliers_fraction variable and 10 for the num_clusters variable."
      ],
      "metadata": {
        "id": "aJZPr9RQ19ys"
      }
    },
    {
      "cell_type": "code",
      "source": [
        "n_samples = 2000\n",
        "\n",
        "# modify these settings to obtain different combinations of high density areas (clusters) and outliers\n",
        "outliers_fraction = 0.1    ## values to use: 0.01, 0.05, 0.1\n",
        "n_outliers = int(outliers_fraction * n_samples)\n",
        "n_inliers = n_samples - n_outliers\n",
        "num_clusters = 10\n",
        "stdev = 1\n",
        "n_features = 2\n",
        "\n",
        "print(\"total samples: {s} outliers: {o}%, outliers expected:{ot}, inliers:{i}\".format(s=n_samples, o=outliers_fraction, ot=n_outliers, i=n_inliers))\n",
        "print(\"blobs: centers: {c}, samples = {n}, std dev: {std}\".format(c=num_clusters, n=n_inliers, std=stdev))"
      ],
      "metadata": {
        "colab": {
          "base_uri": "https://localhost:8080/"
        },
        "id": "LO9U2BORfJ7l",
        "outputId": "caf87603-0fa2-4e5f-b985-ff2cbfbc12de"
      },
      "execution_count": 117,
      "outputs": [
        {
          "output_type": "stream",
          "name": "stdout",
          "text": [
            "total samples: 2000 outliers: 0.1%, outliers expected:200, inliers:1800\n",
            "blobs: centers: 10, samples = 1800, std dev: 1\n"
          ]
        }
      ]
    },
    {
      "cell_type": "code",
      "source": [
        "samples, cluster_labels, centers = make_blobs(centers=num_clusters, cluster_std=stdev, random_state=0, n_samples=n_inliers, n_features=n_features, return_centers=True)\n",
        "\n",
        "print(\"clustered samples: {s}\".format(s=len(samples)))\n",
        "\n",
        "## range of samples points -- used to determine the boundaries for outliers generation\n",
        "boost = 1.1   ## extends the range covered by the clusters\n",
        "xmin = min(samples[:,0]) \n",
        "xmax = max(samples[:,0]) \n",
        "ymin = min(samples[:,1]) \n",
        "ymax = max(samples[:,1]) \n",
        "print(\"xmin: {xmin:.2f}, xmax: {xmax:.2f}\".format(xmin=xmin, xmax=xmax))\n",
        "print(\"ymin: {ymin:.2f}, ymax: {ymax:.2f}\".format(ymin=ymin, ymax=ymax))\n",
        "\n",
        "low = min(xmin, ymin) * boost\n",
        "high = max(xmax, ymax) * boost\n",
        "print(\"low, high for outliers: {low:.2f}, {high:.2f}\".format(low=low, high=high))\n",
        "\n",
        "# Add n_outlier outliers, n_features each \n",
        "rng = np.random.RandomState(42)\n",
        "outliers = rng.uniform(low=low, high=high, size=(n_outliers, n_features))\n",
        "print(\"number of outliers produced: {o}\".format(o=len(outliers)))\n",
        "\n",
        "## some of the outliers are within clusters. \n",
        "## we use the distance from centers to remove some of the outliers, as those will never be detected\n",
        "distances = dict()\n",
        "out = dict()\n",
        "i=0\n",
        "for o in outliers:\n",
        "    mindist = 1000000\n",
        "    for c in centers:\n",
        "        dist = np.linalg.norm(o-c)  ## euclidean distance\n",
        "        if dist < mindist:\n",
        "            mindist = dist\n",
        "    out[i] = o\n",
        "    distances[i]= mindist\n",
        "    i = i + 1\n",
        "\n",
        "distarray = np.asarray(list(distances.values()))\n",
        "meandist  = np.mean(distarray)\n",
        "vardist   = np.std(distarray)\n",
        "\n",
        "print(\"outliers distances from centres: mean {m:.2f}, var {v:.2f}\".format(m=meandist, v=vardist))\n",
        "\n",
        "## remove points that are too close to the centers\n",
        "\n",
        "alpha = 1.2 ## larger than1 removes points that are more distant from centroids\n",
        "removed = 0\n",
        "for i in range(len(outliers)):\n",
        "    if distances[i] < meandist-vardist * alpha:\n",
        "        print(\"removing {d:.2f}\".format(d=distances[i]))\n",
        "        out.pop(i)\n",
        "        removed = removed + 1\n",
        "\n",
        "finalOutliers_10_1 = np.asarray(list(out.values()))\n",
        "print(\"removed {r} outliers. {n} remaining outliers \".format(r=removed, n=len(finalOutliers)))"
      ],
      "metadata": {
        "colab": {
          "base_uri": "https://localhost:8080/"
        },
        "id": "VmcebTHKfRUl",
        "outputId": "e632202d-1291-4596-9079-cb27b66ad683"
      },
      "execution_count": 118,
      "outputs": [
        {
          "output_type": "stream",
          "name": "stdout",
          "text": [
            "clustered samples: 1800\n",
            "xmin: -12.41, xmax: 11.95\n",
            "ymin: -10.54, ymax: 10.83\n",
            "low, high for outliers: -13.65, 13.15\n",
            "number of outliers produced: 200\n",
            "outliers distances from centres: mean 4.62, var 2.57\n",
            "removing 1.50\n",
            "removing 0.51\n",
            "removing 0.48\n",
            "removing 1.23\n",
            "removing 1.46\n",
            "removing 1.22\n",
            "removing 1.14\n",
            "removing 1.25\n",
            "removing 1.36\n",
            "removing 1.29\n",
            "removing 0.59\n",
            "removing 1.37\n",
            "removing 1.51\n",
            "removing 0.49\n",
            "removing 0.88\n",
            "removing 1.20\n",
            "removing 1.44\n",
            "removing 0.69\n",
            "removing 1.07\n",
            "removing 0.20\n",
            "removing 1.23\n",
            "removed 21 outliers. 91 remaining outliers \n"
          ]
        }
      ]
    },
    {
      "cell_type": "code",
      "source": [
        "fig, ax = plt.subplots(1,2, figsize=(20,15))\n",
        "\n",
        "ax[0].scatter(samples[:,0], samples[:,1])\n",
        "ax[0].scatter(outliers[:,0], outliers[:,1])\n",
        "ax[0].scatter(centers[:,0], centers[:,1])\n",
        "ax[0].set_title(\"clusters with outliers\")\n",
        "\n",
        "    \n",
        "ax[1].scatter(samples[:,0], samples[:,1])\n",
        "ax[1].scatter(finalOutliers_10_1[:,0], finalOutliers_10_1[:,1])\n",
        "ax[1].scatter(centers[:,0], centers[:,1])\n",
        "ax[1].set_title(\"clusters with outliers after removing points close to cluster centers\")"
      ],
      "metadata": {
        "colab": {
          "base_uri": "https://localhost:8080/",
          "height": 896
        },
        "id": "eFfkSFIGfaw0",
        "outputId": "ea118212-62c2-4fcb-ba94-b001bc213568"
      },
      "execution_count": 119,
      "outputs": [
        {
          "output_type": "execute_result",
          "data": {
            "text/plain": [
              "Text(0.5, 1.0, 'clusters with outliers after removing points close to cluster centers')"
            ]
          },
          "metadata": {},
          "execution_count": 119
        },
        {
          "output_type": "display_data",
          "data": {
            "image/png": "[encoded data removed]",
            "text/plain": [
              "<Figure size 1440x1080 with 2 Axes>"
            ]
          },
          "metadata": {
            "needs_background": "light"
          }
        }
      ]
    },
    {
      "cell_type": "code",
      "source": [
        "full_set_10_1 = np.concatenate([samples, finalOutliers_10_1], axis=0)"
      ],
      "metadata": {
        "id": "1cTY1IzBfd87"
      },
      "execution_count": 120,
      "outputs": []
    },
    {
      "cell_type": "markdown",
      "source": [
        "# **OneClassSVM Implementation**\n",
        "\n",
        "Implementing OneClassSVM from the scikit learn in order to detect outliers, which will eventually be compared to the groundtruth dataset produced by the generator. OneClassSVM utilises support vector machine which utilises lines to seperate one class from another. OneClass SVM is an algorythm designed for novelty detection."
      ],
      "metadata": {
        "id": "oSyOZ3umjNC3"
      }
    },
    {
      "cell_type": "code",
      "source": [
        "from sklearn.svm import OneClassSVM\n",
        "from sklearn.datasets import make_blobs\n",
        "from numpy import quantile, where, random"
      ],
      "metadata": {
        "id": "7oGjx65Znlt2"
      },
      "execution_count": 132,
      "outputs": []
    },
    {
      "cell_type": "code",
      "source": [
        "svm = OneClassSVM(kernel='rbf', gamma=0.001, nu=0.02)\n",
        "svm.fit(full_set_10_1)\n",
        "pred = svm.fit_predict(full_set_10_1)\n",
        "scores = svm.score_samples(full_set_10_1)\n",
        "## setting threshold value as 0.03\n",
        "thresh = quantile(scores, 0.03)\n",
        "index = where(scores<=thresh)\n",
        "values_10_1 = full_set_10_1[index]"
      ],
      "metadata": {
        "id": "0c5NA6K9nq18"
      },
      "execution_count": 133,
      "outputs": []
    },
    {
      "cell_type": "code",
      "source": [
        "figure(figsize=(8, 6), dpi=80)\n",
        "plt.scatter(full_set_10_1[:,0], full_set_10_1[:,1])\n",
        "plt.scatter(values_10_1[:,0], values_10_1[:,1], color='r')\n",
        "plt.show()"
      ],
      "metadata": {
        "colab": {
          "base_uri": "https://localhost:8080/",
          "height": 413
        },
        "id": "E7n_1bhnoCmu",
        "outputId": "9dc38dd0-b87b-4dc2-e027-6ab0596e245f"
      },
      "execution_count": 134,
      "outputs": [
        {
          "output_type": "display_data",
          "data": {
            "image/png": "[encoded data removed]",
            "text/plain": [
              "<Figure size 640x480 with 1 Axes>"
            ]
          },
          "metadata": {
            "needs_background": "light"
          }
        }
      ]
    },
    {
      "cell_type": "markdown",
      "source": [
        "# **Calculating and concluding the precision, recall and F1- meansure for OneClass SVM**\n",
        "\n",
        "The values obtained for the required truePositive, falsePositive and falseNegative were obtained through iterating and comparing the outliers obtained to the ground truth outliers provided by the generator. They were then used for the necessary calculations to obtain the required values."
      ],
      "metadata": {
        "id": "qDUsopJxna2S"
      }
    },
    {
      "cell_type": "code",
      "source": [
        "truePositive = 0\n",
        "falsePositive = 0\n",
        "falseNegative = 0\n",
        "match = 0\n",
        "\n",
        "for row in values_10_1:\n",
        "  if row in finalOutliers_10_1:\n",
        "    \n",
        "    match = 1\n",
        "\n",
        "  if match == 1:\n",
        "    truePositive += 1\n",
        "  else: \n",
        "    falsePositive += 1\n",
        "  match = 0\n",
        "\n",
        "\n",
        "\n",
        "\n",
        "print (\"truePositive: {x}\".format(x=truePositive))\n",
        "print (\"falsePositive: {x}\".format(x=falsePositive))\n"
      ],
      "metadata": {
        "colab": {
          "base_uri": "https://localhost:8080/"
        },
        "id": "G9JCCL2UvKrH",
        "outputId": "d8884a38-1484-4dd5-82df-3b2fad72d5c5"
      },
      "execution_count": 135,
      "outputs": [
        {
          "output_type": "stream",
          "name": "stdout",
          "text": [
            "truePositive: 49\n",
            "falsePositive: 11\n"
          ]
        }
      ]
    },
    {
      "cell_type": "code",
      "source": [
        "match = 0\n",
        "for row in finalOutliers_10_1:\n",
        "  if row in values_10_1:\n",
        "\n",
        "    match = 1\n",
        "\n",
        "    if match == 0:\n",
        "      falseNegative += 1\n",
        "    match = 0\n",
        "\n",
        "print (\"falseNegative: {x}\".format(x=falseNegative))\n"
      ],
      "metadata": {
        "colab": {
          "base_uri": "https://localhost:8080/"
        },
        "id": "z4yh1iPNYySO",
        "outputId": "8a336a29-8f37-4155-cce6-eaf8d05b1c02"
      },
      "execution_count": 136,
      "outputs": [
        {
          "output_type": "stream",
          "name": "stdout",
          "text": [
            "falseNegative: 0\n"
          ]
        }
      ]
    },
    {
      "cell_type": "code",
      "source": [
        "SVM_10_1Precision = truePositive/(truePositive+falsePositive)\n",
        "SVM_10_1Recall = truePositive/(truePositive+falseNegative)\n",
        "SVM_10_1F1 = 2*((SVM_10_1Precision*SVM_10_1Recall)/(SVM_10_1Precision+SVM_10_1Recall))\n",
        "print (\"SVM_10_1Precision: {x}\".format(x=SVM_10_1Precision))\n",
        "print (\"SVM_10_1Recall: {x}\".format(x=SVM_10_1Recall))\n",
        "print (\"SVM_10_1F1: {x}\".format(x=SVM_10_1F1))"
      ],
      "metadata": {
        "colab": {
          "base_uri": "https://localhost:8080/"
        },
        "id": "kXK7Iyl9Av_p",
        "outputId": "b0324c81-52ad-4e22-8557-0734f66f73b4"
      },
      "execution_count": 137,
      "outputs": [
        {
          "output_type": "stream",
          "name": "stdout",
          "text": [
            "SVM_10_1Precision: 0.8166666666666667\n",
            "SVM_10_1Recall: 1.0\n",
            "SVM_10_1F1: 0.8990825688073394\n"
          ]
        }
      ]
    },
    {
      "cell_type": "markdown",
      "source": [
        "# **Implementing OneCalss SVM on Other data sets**\n",
        "\n",
        "implementing OneCalss SVM on the data sets generated through varying the parameters. We will also calculate the precision, recall and F1- meansure for these implementations as well in order to clealry analyse the difference in performance."
      ],
      "metadata": {
        "id": "U48XELesBYFQ"
      }
    },
    {
      "cell_type": "code",
      "source": [
        "n_samples = 2000\n",
        "\n",
        "# modify these settings to obtain different combinations of high density areas (clusters) and outliers\n",
        "outliers_fraction = 0.01    ## values to use: 0.01, 0.05, 0.1\n",
        "n_outliers = int(outliers_fraction * n_samples)\n",
        "n_inliers = n_samples - n_outliers\n",
        "num_clusters = 10\n",
        "stdev = 1\n",
        "n_features = 2\n",
        "\n",
        "samples, cluster_labels, centers = make_blobs(centers=num_clusters, cluster_std=stdev, random_state=0, n_samples=n_inliers, n_features=n_features, return_centers=True)\n",
        "\n",
        "print(\"clustered samples: {s}\".format(s=len(samples)))\n",
        "\n",
        "## range of samples points -- used to determine the boundaries for outliers generation\n",
        "boost = 1.1   ## extends the range covered by the clusters\n",
        "xmin = min(samples[:,0]) \n",
        "xmax = max(samples[:,0]) \n",
        "ymin = min(samples[:,1]) \n",
        "ymax = max(samples[:,1]) \n",
        "print(\"xmin: {xmin:.2f}, xmax: {xmax:.2f}\".format(xmin=xmin, xmax=xmax))\n",
        "print(\"ymin: {ymin:.2f}, ymax: {ymax:.2f}\".format(ymin=ymin, ymax=ymax))\n",
        "\n",
        "low = min(xmin, ymin) * boost\n",
        "high = max(xmax, ymax) * boost\n",
        "print(\"low, high for outliers: {low:.2f}, {high:.2f}\".format(low=low, high=high))\n",
        "\n",
        "# Add n_outlier outliers, n_features each \n",
        "rng = np.random.RandomState(42)\n",
        "outliers = rng.uniform(low=low, high=high, size=(n_outliers, n_features))\n",
        "print(\"number of outliers produced: {o}\".format(o=len(outliers)))\n",
        "\n",
        "## some of the outliers are within clusters. \n",
        "## we use the distance from centers to remove some of the outliers, as those will never be detected\n",
        "distances = dict()\n",
        "out = dict()\n",
        "i=0\n",
        "for o in outliers:\n",
        "    mindist = 1000000\n",
        "    for c in centers:\n",
        "        dist = np.linalg.norm(o-c)  ## euclidean distance\n",
        "        if dist < mindist:\n",
        "            mindist = dist\n",
        "    out[i] = o\n",
        "    distances[i]= mindist\n",
        "    i = i + 1\n",
        "\n",
        "distarray = np.asarray(list(distances.values()))\n",
        "meandist  = np.mean(distarray)\n",
        "vardist   = np.std(distarray)\n",
        "\n",
        "print(\"outliers distances from centres: mean {m:.2f}, var {v:.2f}\".format(m=meandist, v=vardist))\n",
        "\n",
        "## remove points that are too close to the centers\n",
        "\n",
        "alpha = 1.2 ## larger than1 removes points that are more distant from centroids\n",
        "removed = 0\n",
        "for i in range(len(outliers)):\n",
        "    if distances[i] < meandist-vardist * alpha:\n",
        "        out.pop(i)\n",
        "        removed = removed + 1\n",
        "\n",
        "finalOutliers_10_01 = np.asarray(list(out.values()))\n",
        "full_set_10_01 = np.concatenate([samples, finalOutliers_10_01], axis=0)"
      ],
      "metadata": {
        "colab": {
          "base_uri": "https://localhost:8080/"
        },
        "id": "ZiI2xdKfNY_R",
        "outputId": "d5b9691a-ae9b-4659-eb5a-14aeb0086402"
      },
      "execution_count": 209,
      "outputs": [
        {
          "output_type": "stream",
          "name": "stdout",
          "text": [
            "clustered samples: 1980\n",
            "xmin: -12.60, xmax: 11.89\n",
            "ymin: -10.52, ymax: 10.77\n",
            "low, high for outliers: -13.86, 13.08\n",
            "number of outliers produced: 20\n",
            "outliers distances from centres: mean 5.09, var 3.01\n"
          ]
        }
      ]
    },
    {
      "cell_type": "code",
      "source": [
        "svm = OneClassSVM(kernel='rbf', gamma=0.001, nu=0.02)\n",
        "svm.fit(full_set_10_01)\n",
        "pred = svm.fit_predict(full_set_10_01)\n",
        "scores = svm.score_samples(full_set_10_01)\n",
        "## setting threshold value as 0.004\n",
        "thresh = quantile(scores, 0.004)\n",
        "index = where(scores<=thresh)\n",
        "values_10_01 = full_set_10_01[index]\n"
      ],
      "metadata": {
        "id": "Z6NutAeGRdo2"
      },
      "execution_count": 222,
      "outputs": []
    },
    {
      "cell_type": "code",
      "source": [
        "truePositive = 0\n",
        "falsePositive = 0\n",
        "falseNegative = 0\n",
        "match = 0\n",
        "\n",
        "for row in values_10_01:\n",
        "  if row in finalOutliers_10_01:\n",
        "    \n",
        "    match = 1\n",
        "\n",
        "  if match == 1:\n",
        "    truePositive += 1\n",
        "  else: \n",
        "    falsePositive += 1\n",
        "  match = 0\n",
        "\n",
        "print (\"truePositive: {x}\".format(x=truePositive))\n",
        "print (\"falsePositive: {x}\".format(x=falsePositive))"
      ],
      "metadata": {
        "colab": {
          "base_uri": "https://localhost:8080/"
        },
        "id": "ncRllKHcRnjc",
        "outputId": "055e6a7b-2a2d-4cb5-ba63-3f92c844b0b7"
      },
      "execution_count": 223,
      "outputs": [
        {
          "output_type": "stream",
          "name": "stdout",
          "text": [
            "truePositive: 5\n",
            "falsePositive: 3\n"
          ]
        }
      ]
    },
    {
      "cell_type": "code",
      "source": [
        "match = 0\n",
        "for row in finalOutliers_10_01:\n",
        "  if row in values_10_01:\n",
        "\n",
        "    match = 1\n",
        "\n",
        "    if match == 0:\n",
        "      falseNegative += 1\n",
        "    match = 0\n",
        "\n",
        "print (\"falseNegative: {x}\".format(x=falseNegative))"
      ],
      "metadata": {
        "colab": {
          "base_uri": "https://localhost:8080/"
        },
        "id": "kEJy6rUBmdJa",
        "outputId": "16ed060b-d591-4db5-a3c4-78aeca6983ab"
      },
      "execution_count": 224,
      "outputs": [
        {
          "output_type": "stream",
          "name": "stdout",
          "text": [
            "falseNegative: 0\n"
          ]
        }
      ]
    },
    {
      "cell_type": "code",
      "source": [
        "SVM_10_01Precision = truePositive/(truePositive+falsePositive)\n",
        "SVM_10_01Recall = truePositive/(truePositive+falseNegative)\n",
        "SVM_10_01F1 = 2*((SVM_10_01Precision*SVM_10_01Recall)/(SVM_10_01Precision+SVM_10_01Recall))\n",
        "print (\"SVM_10_01Precision: {x}\".format(x=SVM_10_01Precision))\n",
        "print (\"SVM_10_01Recall: {x}\".format(x=SVM_10_01Recall))\n",
        "print (\"SVM_10_01F1: {x}\".format(x=SVM_10_01F1))"
      ],
      "metadata": {
        "colab": {
          "base_uri": "https://localhost:8080/"
        },
        "id": "vmgDJJeSCKX5",
        "outputId": "e1c88335-3963-4c0b-a0a1-63bd55ba8e25"
      },
      "execution_count": 225,
      "outputs": [
        {
          "output_type": "stream",
          "name": "stdout",
          "text": [
            "SVM_10_01Precision: 0.625\n",
            "SVM_10_01Recall: 1.0\n",
            "SVM_10_01F1: 0.7692307692307693\n"
          ]
        }
      ]
    },
    {
      "cell_type": "code",
      "source": [
        "n_samples = 2000\n",
        "\n",
        "# modify these settings to obtain different combinations of high density areas (clusters) and outliers\n",
        "outliers_fraction = 0.05    ## values to use: 0.01, 0.05, 0.1\n",
        "n_outliers = int(outliers_fraction * n_samples)\n",
        "n_inliers = n_samples - n_outliers\n",
        "num_clusters = 10\n",
        "stdev = 1\n",
        "n_features = 2\n",
        "\n",
        "samples, cluster_labels, centers = make_blobs(centers=num_clusters, cluster_std=stdev, random_state=0, n_samples=n_inliers, n_features=n_features, return_centers=True)\n",
        "\n",
        "print(\"clustered samples: {s}\".format(s=len(samples)))\n",
        "\n",
        "## range of samples points -- used to determine the boundaries for outliers generation\n",
        "boost = 1.1   ## extends the range covered by the clusters\n",
        "xmin = min(samples[:,0]) \n",
        "xmax = max(samples[:,0]) \n",
        "ymin = min(samples[:,1]) \n",
        "ymax = max(samples[:,1]) \n",
        "print(\"xmin: {xmin:.2f}, xmax: {xmax:.2f}\".format(xmin=xmin, xmax=xmax))\n",
        "print(\"ymin: {ymin:.2f}, ymax: {ymax:.2f}\".format(ymin=ymin, ymax=ymax))\n",
        "\n",
        "low = min(xmin, ymin) * boost\n",
        "high = max(xmax, ymax) * boost\n",
        "print(\"low, high for outliers: {low:.2f}, {high:.2f}\".format(low=low, high=high))\n",
        "\n",
        "# Add n_outlier outliers, n_features each \n",
        "rng = np.random.RandomState(42)\n",
        "outliers = rng.uniform(low=low, high=high, size=(n_outliers, n_features))\n",
        "print(\"number of outliers produced: {o}\".format(o=len(outliers)))\n",
        "\n",
        "## some of the outliers are within clusters. \n",
        "## we use the distance from centers to remove some of the outliers, as those will never be detected\n",
        "distances = dict()\n",
        "out = dict()\n",
        "i=0\n",
        "for o in outliers:\n",
        "    mindist = 1000000\n",
        "    for c in centers:\n",
        "        dist = np.linalg.norm(o-c)  ## euclidean distance\n",
        "        if dist < mindist:\n",
        "            mindist = dist\n",
        "    out[i] = o\n",
        "    distances[i]= mindist\n",
        "    i = i + 1\n",
        "\n",
        "distarray = np.asarray(list(distances.values()))\n",
        "meandist  = np.mean(distarray)\n",
        "vardist   = np.std(distarray)\n",
        "\n",
        "print(\"outliers distances from centres: mean {m:.2f}, var {v:.2f}\".format(m=meandist, v=vardist))\n",
        "\n",
        "## remove points that are too close to the centers\n",
        "\n",
        "alpha = 1.2 ## larger than1 removes points that are more distant from centroids\n",
        "removed = 0\n",
        "for i in range(len(outliers)):\n",
        "    if distances[i] < meandist-vardist * alpha:\n",
        "        out.pop(i)\n",
        "        removed = removed + 1\n",
        "\n",
        "finalOutliers_10_05 = np.asarray(list(out.values()))\n",
        "full_set_10_05 = np.concatenate([samples, finalOutliers_10_05], axis=0)"
      ],
      "metadata": {
        "colab": {
          "base_uri": "https://localhost:8080/"
        },
        "id": "7fAAHCszSsWL",
        "outputId": "fd7c2a45-396a-479f-aa62-8ad0a0c87d74"
      },
      "execution_count": 161,
      "outputs": [
        {
          "output_type": "stream",
          "name": "stdout",
          "text": [
            "clustered samples: 1900\n",
            "xmin: -11.91, xmax: 11.89\n",
            "ymin: -10.54, ymax: 10.83\n",
            "low, high for outliers: -13.10, 13.08\n",
            "number of outliers produced: 100\n",
            "outliers distances from centres: mean 4.55, var 2.34\n"
          ]
        }
      ]
    },
    {
      "cell_type": "code",
      "source": [
        "svm = OneClassSVM(kernel='rbf', gamma=0.001, nu=0.02)\n",
        "svm.fit(full_set_10_05)\n",
        "pred = svm.fit_predict(full_set_10_05)\n",
        "scores = svm.score_samples(full_set_10_05)\n",
        "## setting threshold value as 0.01\n",
        "thresh = quantile(scores, 0.01)\n",
        "index = where(scores<=thresh)\n",
        "values_10_05 = full_set_10_05[index]\n"
      ],
      "metadata": {
        "colab": {
          "base_uri": "https://localhost:8080/",
          "height": 413
        },
        "id": "dPbuWRcFS2uy",
        "outputId": "883642ce-93b1-493c-cd34-cf2ed9c7ae10"
      },
      "execution_count": 171,
      "outputs": [
        {
          "output_type": "display_data",
          "data": {
            "image/png": "[encoded data removed]",
            "text/plain": [
              "<Figure size 640x480 with 1 Axes>"
            ]
          },
          "metadata": {
            "needs_background": "light"
          }
        }
      ]
    },
    {
      "cell_type": "code",
      "source": [
        "truePositive = 0\n",
        "falsePositive = 0\n",
        "falseNegative = 0\n",
        "match = 0\n",
        "\n",
        "for row in values_10_05:\n",
        "  if row in finalOutliers_10_05:\n",
        "    \n",
        "    match = 1\n",
        "\n",
        "  if match == 1:\n",
        "    truePositive += 1\n",
        "  else: \n",
        "    falsePositive += 1\n",
        "  match = 0\n",
        "\n",
        "print (\"truePositive: {x}\".format(x=truePositive))\n",
        "print (\"falsePositive: {x}\".format(x=falsePositive))"
      ],
      "metadata": {
        "colab": {
          "base_uri": "https://localhost:8080/"
        },
        "id": "QkhEUkYIS_ck",
        "outputId": "c46cb5a1-9a5a-4968-83c1-b580c778ed3c"
      },
      "execution_count": 172,
      "outputs": [
        {
          "output_type": "stream",
          "name": "stdout",
          "text": [
            "truePositive: 19\n",
            "falsePositive: 1\n"
          ]
        }
      ]
    },
    {
      "cell_type": "code",
      "source": [
        "match = 0\n",
        "for row in finalOutliers_10_05:\n",
        "  if row in values_10_05:\n",
        "\n",
        "    match = 1\n",
        "\n",
        "    if match == 0:\n",
        "      falseNegative += 1\n",
        "    match = 0\n",
        "\n",
        "print (\"falseNegative: {x}\".format(x=falseNegative))"
      ],
      "metadata": {
        "colab": {
          "base_uri": "https://localhost:8080/"
        },
        "id": "-sg2rwhFmnNB",
        "outputId": "eabebb8b-af5e-4236-cbc1-a2e73827c8cf"
      },
      "execution_count": 173,
      "outputs": [
        {
          "output_type": "stream",
          "name": "stdout",
          "text": [
            "falseNegative: 0\n"
          ]
        }
      ]
    },
    {
      "cell_type": "code",
      "source": [
        "SVM_10_05Precision = truePositive/(truePositive+falsePositive)\n",
        "SVM_10_05Recall = truePositive/(truePositive+falseNegative)\n",
        "SVM_10_05F1 = 2*((SVM_10_05Precision*SVM_10_05Recall)/(SVM_10_05Precision+SVM_10_05Recall))\n",
        "print (\"SVM_10_05Precision: {x}\".format(x=SVM_10_05Precision))\n",
        "print (\"SVM_10_05Recall: {x}\".format(x=SVM_10_05Recall))\n",
        "print (\"SVM_10_05F1: {x}\".format(x=SVM_10_05F1))"
      ],
      "metadata": {
        "colab": {
          "base_uri": "https://localhost:8080/"
        },
        "id": "vjqIl474Cg6p",
        "outputId": "c4b718d1-cf24-4b3d-cfdd-2cb828131ef9"
      },
      "execution_count": 174,
      "outputs": [
        {
          "output_type": "stream",
          "name": "stdout",
          "text": [
            "SVM_10_05Precision: 0.95\n",
            "SVM_10_05Recall: 1.0\n",
            "SVM_10_05F1: 0.9743589743589743\n"
          ]
        }
      ]
    },
    {
      "cell_type": "code",
      "source": [
        "n_samples = 2000\n",
        "\n",
        "# modify these settings to obtain different combinations of high density areas (clusters) and outliers\n",
        "outliers_fraction = 0.1    ## values to use: 0.01, 0.05, 0.1\n",
        "n_outliers = int(outliers_fraction * n_samples)\n",
        "n_inliers = n_samples - n_outliers\n",
        "num_clusters = 5\n",
        "stdev = 1\n",
        "n_features = 2\n",
        "\n",
        "samples, cluster_labels, centers = make_blobs(centers=num_clusters, cluster_std=stdev, random_state=0, n_samples=n_inliers, n_features=n_features, return_centers=True)\n",
        "\n",
        "print(\"clustered samples: {s}\".format(s=len(samples)))\n",
        "\n",
        "## range of samples points -- used to determine the boundaries for outliers generation\n",
        "boost = 1.1   ## extends the range covered by the clusters\n",
        "xmin = min(samples[:,0]) \n",
        "xmax = max(samples[:,0]) \n",
        "ymin = min(samples[:,1]) \n",
        "ymax = max(samples[:,1]) \n",
        "print(\"xmin: {xmin:.2f}, xmax: {xmax:.2f}\".format(xmin=xmin, xmax=xmax))\n",
        "print(\"ymin: {ymin:.2f}, ymax: {ymax:.2f}\".format(ymin=ymin, ymax=ymax))\n",
        "\n",
        "low = min(xmin, ymin) * boost\n",
        "high = max(xmax, ymax) * boost\n",
        "print(\"low, high for outliers: {low:.2f}, {high:.2f}\".format(low=low, high=high))\n",
        "\n",
        "# Add n_outlier outliers, n_features each \n",
        "rng = np.random.RandomState(42)\n",
        "outliers = rng.uniform(low=low, high=high, size=(n_outliers, n_features))\n",
        "print(\"number of outliers produced: {o}\".format(o=len(outliers)))\n",
        "\n",
        "## some of the outliers are within clusters. \n",
        "## we use the distance from centers to remove some of the outliers, as those will never be detected\n",
        "distances = dict()\n",
        "out = dict()\n",
        "i=0\n",
        "for o in outliers:\n",
        "    mindist = 1000000\n",
        "    for c in centers:\n",
        "        dist = np.linalg.norm(o-c)  ## euclidean distance\n",
        "        if dist < mindist:\n",
        "            mindist = dist\n",
        "    out[i] = o\n",
        "    distances[i]= mindist\n",
        "    i = i + 1\n",
        "\n",
        "distarray = np.asarray(list(distances.values()))\n",
        "meandist  = np.mean(distarray)\n",
        "vardist   = np.std(distarray)\n",
        "\n",
        "print(\"outliers distances from centres: mean {m:.2f}, var {v:.2f}\".format(m=meandist, v=vardist))\n",
        "\n",
        "## remove points that are too close to the centers\n",
        "\n",
        "alpha = 1.2 ## larger than1 removes points that are more distant from centroids\n",
        "removed = 0\n",
        "for i in range(len(outliers)):\n",
        "    if distances[i] < meandist-vardist * alpha:\n",
        "        out.pop(i)\n",
        "        removed = removed + 1\n",
        "\n",
        "finalOutliers_5_1 = np.asarray(list(out.values()))\n",
        "full_set_5_1 = np.concatenate([samples, finalOutliers_5_1], axis=0)"
      ],
      "metadata": {
        "colab": {
          "base_uri": "https://localhost:8080/"
        },
        "id": "StBm2ZPnUA6j",
        "outputId": "c58ce953-f386-4033-ad23-bd6f6669afc6"
      },
      "execution_count": 177,
      "outputs": [
        {
          "output_type": "stream",
          "name": "stdout",
          "text": [
            "clustered samples: 1800\n",
            "xmin: -4.64, xmax: 13.07\n",
            "ymin: -5.05, ymax: 10.17\n",
            "low, high for outliers: -5.55, 14.38\n",
            "number of outliers produced: 200\n",
            "outliers distances from centres: mean 5.35, var 3.47\n"
          ]
        }
      ]
    },
    {
      "cell_type": "code",
      "source": [
        "svm = OneClassSVM(kernel='rbf', gamma=0.001, nu=0.02)\n",
        "svm.fit(full_set_5_1)\n",
        "pred = svm.fit_predict(full_set_5_1)\n",
        "scores = svm.score_samples(full_set_5_1)\n",
        "## setting threshold value as 0.02\n",
        "thresh = quantile(scores, 0.02)\n",
        "index = where(scores<=thresh)\n",
        "values_5_1 = full_set_5_1[index]\n",
        "\n"
      ],
      "metadata": {
        "colab": {
          "base_uri": "https://localhost:8080/",
          "height": 414
        },
        "id": "k2elS4NLUQoy",
        "outputId": "1d6de441-2298-43e3-842d-4922ebc499f3"
      },
      "execution_count": 186,
      "outputs": [
        {
          "output_type": "display_data",
          "data": {
            "image/png": "[encoded data removed]",
            "text/plain": [
              "<Figure size 640x480 with 1 Axes>"
            ]
          },
          "metadata": {
            "needs_background": "light"
          }
        }
      ]
    },
    {
      "cell_type": "code",
      "source": [
        "truePositive = 0\n",
        "falsePositive = 0\n",
        "falseNegative = 0\n",
        "match = 0\n",
        "\n",
        "for row in values_5_1:\n",
        "  if row in finalOutliers_5_1:\n",
        "    \n",
        "    match = 1\n",
        "\n",
        "  if match == 1:\n",
        "    truePositive += 1\n",
        "  else: \n",
        "    falsePositive += 1\n",
        "  match = 0\n",
        "\n",
        "print (\"truePositive: {x}\".format(x=truePositive))\n",
        "print (\"falsePositive: {x}\".format(x=falsePositive))"
      ],
      "metadata": {
        "colab": {
          "base_uri": "https://localhost:8080/"
        },
        "id": "RLQ8KkIcUcl1",
        "outputId": "5f121731-f6be-4cfd-cd81-27dc26dbab6b"
      },
      "execution_count": 187,
      "outputs": [
        {
          "output_type": "stream",
          "name": "stdout",
          "text": [
            "truePositive: 35\n",
            "falsePositive: 5\n"
          ]
        }
      ]
    },
    {
      "cell_type": "code",
      "source": [
        "match = 0\n",
        "for row in finalOutliers_5_1:\n",
        "  if row in values_5_1:\n",
        "\n",
        "    match = 1\n",
        "\n",
        "    if match == 0:\n",
        "      falseNegative += 1\n",
        "    match = 0\n",
        "\n",
        "print (\"falseNegative: {x}\".format(x=falseNegative))"
      ],
      "metadata": {
        "colab": {
          "base_uri": "https://localhost:8080/"
        },
        "id": "BKUHTjBwEZ8m",
        "outputId": "7d4416ba-d40e-4684-9114-a976e466d825"
      },
      "execution_count": 188,
      "outputs": [
        {
          "output_type": "stream",
          "name": "stdout",
          "text": [
            "falseNegative: 0\n"
          ]
        }
      ]
    },
    {
      "cell_type": "code",
      "source": [
        "SVM_5_1Precision = truePositive/(truePositive+falsePositive)\n",
        "SVM_5_1Recall = truePositive/(truePositive+falseNegative)\n",
        "SVM_5_1F1 = 2*((SVM_5_1Precision*SVM_5_1Recall)/(SVM_5_1Precision+SVM_5_1Recall))\n",
        "print (\"SVM_5_1Precision: {x}\".format(x=SVM_5_1Precision))\n",
        "print (\"SVM_5_1Recall: {x}\".format(x=SVM_5_1Recall))\n",
        "print (\"SVM_5_1F1: {x}\".format(x=SVM_5_1F1))"
      ],
      "metadata": {
        "colab": {
          "base_uri": "https://localhost:8080/"
        },
        "id": "0Wl-fkWoEk2F",
        "outputId": "80dc3168-1da5-4657-cdc0-805d3534aa1a"
      },
      "execution_count": 189,
      "outputs": [
        {
          "output_type": "stream",
          "name": "stdout",
          "text": [
            "SVM_5_1Precision: 0.875\n",
            "SVM_5_1Recall: 1.0\n",
            "SVM_5_1F1: 0.9333333333333333\n"
          ]
        }
      ]
    },
    {
      "cell_type": "code",
      "source": [
        "n_samples = 2000\n",
        "\n",
        "# modify these settings to obtain different combinations of high density areas (clusters) and outliers\n",
        "outliers_fraction = 0.01    ## values to use: 0.01, 0.05, 0.1\n",
        "n_outliers = int(outliers_fraction * n_samples)\n",
        "n_inliers = n_samples - n_outliers\n",
        "num_clusters = 5\n",
        "stdev = 1\n",
        "n_features = 2\n",
        "\n",
        "samples, cluster_labels, centers = make_blobs(centers=num_clusters, cluster_std=stdev, random_state=0, n_samples=n_inliers, n_features=n_features, return_centers=True)\n",
        "\n",
        "print(\"clustered samples: {s}\".format(s=len(samples)))\n",
        "\n",
        "## range of samples points -- used to determine the boundaries for outliers generation\n",
        "boost = 1.1   ## extends the range covered by the clusters\n",
        "xmin = min(samples[:,0]) \n",
        "xmax = max(samples[:,0]) \n",
        "ymin = min(samples[:,1]) \n",
        "ymax = max(samples[:,1]) \n",
        "print(\"xmin: {xmin:.2f}, xmax: {xmax:.2f}\".format(xmin=xmin, xmax=xmax))\n",
        "print(\"ymin: {ymin:.2f}, ymax: {ymax:.2f}\".format(ymin=ymin, ymax=ymax))\n",
        "\n",
        "low = min(xmin, ymin) * boost\n",
        "high = max(xmax, ymax) * boost\n",
        "print(\"low, high for outliers: {low:.2f}, {high:.2f}\".format(low=low, high=high))\n",
        "\n",
        "# Add n_outlier outliers, n_features each \n",
        "rng = np.random.RandomState(42)\n",
        "outliers = rng.uniform(low=low, high=high, size=(n_outliers, n_features))\n",
        "print(\"number of outliers produced: {o}\".format(o=len(outliers)))\n",
        "\n",
        "## some of the outliers are within clusters. \n",
        "## we use the distance from centers to remove some of the outliers, as those will never be detected\n",
        "distances = dict()\n",
        "out = dict()\n",
        "i=0\n",
        "for o in outliers:\n",
        "    mindist = 1000000\n",
        "    for c in centers:\n",
        "        dist = np.linalg.norm(o-c)  ## euclidean distance\n",
        "        if dist < mindist:\n",
        "            mindist = dist\n",
        "    out[i] = o\n",
        "    distances[i]= mindist\n",
        "    i = i + 1\n",
        "\n",
        "distarray = np.asarray(list(distances.values()))\n",
        "meandist  = np.mean(distarray)\n",
        "vardist   = np.std(distarray)\n",
        "\n",
        "print(\"outliers distances from centres: mean {m:.2f}, var {v:.2f}\".format(m=meandist, v=vardist))\n",
        "\n",
        "## remove points that are too close to the centers\n",
        "\n",
        "alpha = 1.2 ## larger than1 removes points that are more distant from centroids\n",
        "removed = 0\n",
        "for i in range(len(outliers)):\n",
        "    if distances[i] < meandist-vardist * alpha:\n",
        "        out.pop(i)\n",
        "        removed = removed + 1\n",
        "\n",
        "finalOutliers_5_01 = np.asarray(list(out.values()))\n",
        "full_set_5_01 = np.concatenate([samples, finalOutliers_5_01], axis=0)"
      ],
      "metadata": {
        "colab": {
          "base_uri": "https://localhost:8080/"
        },
        "id": "7ps0VxKcUhrT",
        "outputId": "1318fd95-7ea5-4ce4-be29-450458f9c6ae"
      },
      "execution_count": 226,
      "outputs": [
        {
          "output_type": "stream",
          "name": "stdout",
          "text": [
            "clustered samples: 1980\n",
            "xmin: -4.64, xmax: 12.15\n",
            "ymin: -5.72, ymax: 10.20\n",
            "low, high for outliers: -6.30, 13.37\n",
            "number of outliers produced: 20\n",
            "outliers distances from centres: mean 4.73, var 2.60\n"
          ]
        }
      ]
    },
    {
      "cell_type": "code",
      "source": [
        "svm = OneClassSVM(kernel='rbf', gamma=0.001, nu=0.02)\n",
        "svm.fit(full_set_5_01)\n",
        "pred = svm.fit_predict(full_set_5_01)\n",
        "scores = svm.score_samples(full_set_5_01)\n",
        "## setting threshold value as 0.004\n",
        "thresh = quantile(scores, 0.004)\n",
        "index = where(scores<=thresh)\n",
        "values_5_01 = full_set_5_01[index]\n",
        "\n"
      ],
      "metadata": {
        "colab": {
          "base_uri": "https://localhost:8080/",
          "height": 413
        },
        "id": "KIo8T7dDUvO6",
        "outputId": "49a40eaf-2031-4ec5-f38e-75ac5d97b213"
      },
      "execution_count": 227,
      "outputs": [
        {
          "output_type": "display_data",
          "data": {
            "image/png": "[encoded data removed]",
            "text/plain": [
              "<Figure size 640x480 with 1 Axes>"
            ]
          },
          "metadata": {
            "needs_background": "light"
          }
        }
      ]
    },
    {
      "cell_type": "code",
      "source": [
        "truePositive = 0\n",
        "falsePositive = 0\n",
        "falseNegative = 0\n",
        "match = 0\n",
        "\n",
        "for row in values_5_01:\n",
        "  if row in finalOutliers_5_01:\n",
        "    \n",
        "    match = 1\n",
        "\n",
        "  if match == 1:\n",
        "    truePositive += 1\n",
        "  else: \n",
        "    falsePositive += 1\n",
        "  match = 0\n",
        "\n",
        "print (\"truePositive: {x}\".format(x=truePositive))\n",
        "print (\"falsePositive: {x}\".format(x=falsePositive))"
      ],
      "metadata": {
        "colab": {
          "base_uri": "https://localhost:8080/"
        },
        "id": "OA3AzBYcU4yZ",
        "outputId": "9d11d8ab-8646-487f-f2a3-68528344da5d"
      },
      "execution_count": 228,
      "outputs": [
        {
          "output_type": "stream",
          "name": "stdout",
          "text": [
            "truePositive: 6\n",
            "falsePositive: 2\n"
          ]
        }
      ]
    },
    {
      "cell_type": "code",
      "source": [
        "match = 0\n",
        "for row in finalOutliers_5_01:\n",
        "  if row in values_5_01:\n",
        "\n",
        "    match = 1\n",
        "\n",
        "    if match == 0:\n",
        "      falseNegative += 1\n",
        "    match = 0\n",
        "\n",
        "print (\"falseNegative: {x}\".format(x=falseNegative))"
      ],
      "metadata": {
        "colab": {
          "base_uri": "https://localhost:8080/"
        },
        "id": "MA4O8JHkE3_d",
        "outputId": "229dae35-210f-410a-dd85-f3e236c83e34"
      },
      "execution_count": 229,
      "outputs": [
        {
          "output_type": "stream",
          "name": "stdout",
          "text": [
            "falseNegative: 0\n"
          ]
        }
      ]
    },
    {
      "cell_type": "code",
      "source": [
        "SVM_5_01Precision = truePositive/(truePositive+falsePositive)\n",
        "SVM_5_01Recall = truePositive/(truePositive+falseNegative)\n",
        "SVM_5_01F1 = 2*((SVM_5_01Precision*SVM_5_01Recall)/(SVM_5_01Precision+SVM_5_01Recall))\n",
        "print (\"SVM_5_01Precision: {x}\".format(x=SVM_5_01Precision))\n",
        "print (\"SVM_5_01Recall: {x}\".format(x=SVM_5_01Recall))\n",
        "print (\"SVM_5_01F1: {x}\".format(x=SVM_5_01F1))"
      ],
      "metadata": {
        "colab": {
          "base_uri": "https://localhost:8080/"
        },
        "id": "uU2VwyPzE9CF",
        "outputId": "c8b611a1-7eff-4cad-d678-e7045edbaf80"
      },
      "execution_count": 230,
      "outputs": [
        {
          "output_type": "stream",
          "name": "stdout",
          "text": [
            "SVM_5_01Precision: 0.75\n",
            "SVM_5_01Recall: 1.0\n",
            "SVM_5_01F1: 0.8571428571428571\n"
          ]
        }
      ]
    },
    {
      "cell_type": "code",
      "source": [
        "n_samples = 2000\n",
        "\n",
        "# modify these settings to obtain different combinations of high density areas (clusters) and outliers\n",
        "outliers_fraction = 0.05    ## values to use: 0.01, 0.05, 0.1\n",
        "n_outliers = int(outliers_fraction * n_samples)\n",
        "n_inliers = n_samples - n_outliers\n",
        "num_clusters = 5\n",
        "stdev = 1\n",
        "n_features = 2\n",
        "\n",
        "samples, cluster_labels, centers = make_blobs(centers=num_clusters, cluster_std=stdev, random_state=0, n_samples=n_inliers, n_features=n_features, return_centers=True)\n",
        "\n",
        "print(\"clustered samples: {s}\".format(s=len(samples)))\n",
        "\n",
        "## range of samples points -- used to determine the boundaries for outliers generation\n",
        "boost = 1.1   ## extends the range covered by the clusters\n",
        "xmin = min(samples[:,0]) \n",
        "xmax = max(samples[:,0]) \n",
        "ymin = min(samples[:,1]) \n",
        "ymax = max(samples[:,1]) \n",
        "print(\"xmin: {xmin:.2f}, xmax: {xmax:.2f}\".format(xmin=xmin, xmax=xmax))\n",
        "print(\"ymin: {ymin:.2f}, ymax: {ymax:.2f}\".format(ymin=ymin, ymax=ymax))\n",
        "\n",
        "low = min(xmin, ymin) * boost\n",
        "high = max(xmax, ymax) * boost\n",
        "print(\"low, high for outliers: {low:.2f}, {high:.2f}\".format(low=low, high=high))\n",
        "\n",
        "# Add n_outlier outliers, n_features each \n",
        "rng = np.random.RandomState(42)\n",
        "outliers = rng.uniform(low=low, high=high, size=(n_outliers, n_features))\n",
        "print(\"number of outliers produced: {o}\".format(o=len(outliers)))\n",
        "\n",
        "## some of the outliers are within clusters. \n",
        "## we use the distance from centers to remove some of the outliers, as those will never be detected\n",
        "distances = dict()\n",
        "out = dict()\n",
        "i=0\n",
        "for o in outliers:\n",
        "    mindist = 1000000\n",
        "    for c in centers:\n",
        "        dist = np.linalg.norm(o-c)  ## euclidean distance\n",
        "        if dist < mindist:\n",
        "            mindist = dist\n",
        "    out[i] = o\n",
        "    distances[i]= mindist\n",
        "    i = i + 1\n",
        "\n",
        "distarray = np.asarray(list(distances.values()))\n",
        "meandist  = np.mean(distarray)\n",
        "vardist   = np.std(distarray)\n",
        "\n",
        "print(\"outliers distances from centres: mean {m:.2f}, var {v:.2f}\".format(m=meandist, v=vardist))\n",
        "\n",
        "## remove points that are too close to the centers\n",
        "\n",
        "alpha = 1.2 ## larger than1 removes points that are more distant from centroids\n",
        "removed = 0\n",
        "for i in range(len(outliers)):\n",
        "    if distances[i] < meandist-vardist * alpha:\n",
        "        out.pop(i)\n",
        "        removed = removed + 1\n",
        "\n",
        "finalOutliers_5_05 = np.asarray(list(out.values()))\n",
        "full_set_5_05 = np.concatenate([samples, finalOutliers_5_05], axis=0)"
      ],
      "metadata": {
        "colab": {
          "base_uri": "https://localhost:8080/"
        },
        "id": "LpjDAHLjVKNR",
        "outputId": "3c266499-5d21-43a9-dcce-632dc116f6ad"
      },
      "execution_count": 232,
      "outputs": [
        {
          "output_type": "stream",
          "name": "stdout",
          "text": [
            "clustered samples: 1900\n",
            "xmin: -4.64, xmax: 13.07\n",
            "ymin: -5.72, ymax: 10.20\n",
            "low, high for outliers: -6.30, 14.38\n",
            "number of outliers produced: 100\n",
            "outliers distances from centres: mean 5.24, var 3.30\n"
          ]
        }
      ]
    },
    {
      "cell_type": "code",
      "source": [
        "svm = OneClassSVM(kernel='rbf', gamma=0.001, nu=0.02)\n",
        "svm.fit(full_set_5_05)\n",
        "pred = svm.fit_predict(full_set_5_05)\n",
        "scores = svm.score_samples(full_set_5_05)\n",
        "## setting threshold value as 0.01\n",
        "thresh = quantile(scores, 0.01)\n",
        "index = where(scores<=thresh)\n",
        "values_5_05 = full_set_5_05[index]\n",
        "\n"
      ],
      "metadata": {
        "colab": {
          "base_uri": "https://localhost:8080/",
          "height": 414
        },
        "id": "dxzYINAUVVux",
        "outputId": "708147c3-01b8-4d39-f981-5524e96630eb"
      },
      "execution_count": 245,
      "outputs": [
        {
          "output_type": "display_data",
          "data": {
            "image/png": "[encoded data removed]",
            "text/plain": [
              "<Figure size 640x480 with 1 Axes>"
            ]
          },
          "metadata": {
            "needs_background": "light"
          }
        }
      ]
    },
    {
      "cell_type": "code",
      "source": [
        "truePositive = 0\n",
        "falsePositive = 0\n",
        "falseNegative = 0\n",
        "match = 0\n",
        "\n",
        "for row in values_5_05:\n",
        "  if row in finalOutliers_5_05:\n",
        "    \n",
        "    match = 1\n",
        "\n",
        "  if match == 1:\n",
        "    truePositive += 1\n",
        "  else: \n",
        "    falsePositive += 1\n",
        "  match = 0\n",
        "\n",
        "print (\"truePositive: {x}\".format(x=truePositive))\n",
        "print (\"falsePositive: {x}\".format(x=falsePositive))"
      ],
      "metadata": {
        "colab": {
          "base_uri": "https://localhost:8080/"
        },
        "id": "SE1qfx9OVckD",
        "outputId": "55633f60-9ff7-410c-d518-d1223fb52d9d"
      },
      "execution_count": 246,
      "outputs": [
        {
          "output_type": "stream",
          "name": "stdout",
          "text": [
            "truePositive: 19\n",
            "falsePositive: 1\n"
          ]
        }
      ]
    },
    {
      "cell_type": "code",
      "source": [
        "match = 0\n",
        "for row in finalOutliers_5_05:\n",
        "  if row in values_5_05:\n",
        "\n",
        "    match = 1\n",
        "\n",
        "    if match == 0:\n",
        "      falseNegative += 1\n",
        "    match = 0\n",
        "\n",
        "print (\"falseNegative: {x}\".format(x=falseNegative))"
      ],
      "metadata": {
        "colab": {
          "base_uri": "https://localhost:8080/"
        },
        "id": "J4vo1iybFOo0",
        "outputId": "f4a68cc2-b1ee-46b3-f469-5d72eee14dc1"
      },
      "execution_count": 247,
      "outputs": [
        {
          "output_type": "stream",
          "name": "stdout",
          "text": [
            "falseNegative: 0\n"
          ]
        }
      ]
    },
    {
      "cell_type": "code",
      "source": [
        "SVM_5_05Precision = truePositive/(truePositive+falsePositive)\n",
        "SVM_5_05Recall = truePositive/(truePositive+falseNegative)\n",
        "SVM_5_05F1 = 2*((SVM_5_05Precision*SVM_5_05Recall)/(SVM_5_05Precision+SVM_5_05Recall))\n",
        "print (\"SVM_5_05Precision: {x}\".format(x=SVM_5_05Precision))\n",
        "print (\"SVM_5_05Recall: {x}\".format(x=SVM_5_05Recall))\n",
        "print (\"SVM_5_05F1: {x}\".format(x=SVM_5_05F1))"
      ],
      "metadata": {
        "colab": {
          "base_uri": "https://localhost:8080/"
        },
        "id": "QPHHDzHbFVX0",
        "outputId": "9e7c3ba0-8ec3-492e-bc3d-fa947845c690"
      },
      "execution_count": 248,
      "outputs": [
        {
          "output_type": "stream",
          "name": "stdout",
          "text": [
            "SVM_5_05Precision: 0.95\n",
            "SVM_5_05Recall: 1.0\n",
            "SVM_5_05F1: 0.9743589743589743\n"
          ]
        }
      ]
    },
    {
      "cell_type": "markdown",
      "source": [
        "# **Implementing K-NN**\n",
        "\n",
        "Implementing K Nearest Neighbor approach to the dataset generated in order to detect outliers. A script is written that applies K NN to the dataset utilising Euclidean as the distance function. A decision threshold was also decided upon that divides the inliers from the outliers to be detected. The K NN implementation is based upon the usage of threshold values. Data points beyond these values are considered outliers. "
      ],
      "metadata": {
        "id": "jsWw7F7EF5MT"
      }
    },
    {
      "cell_type": "code",
      "source": [
        "import pandas as pd\n",
        "import numpy as np\n",
        "import matplotlib.pyplot as plt"
      ],
      "metadata": {
        "id": "hWEbxgeqsWf6"
      },
      "execution_count": 41,
      "outputs": []
    },
    {
      "cell_type": "code",
      "source": [
        "figure(figsize=(8, 6), dpi=80)\n",
        "plt.scatter(full_set_10_1[:,0], full_set_10_1[:,1])"
      ],
      "metadata": {
        "colab": {
          "base_uri": "https://localhost:8080/",
          "height": 430
        },
        "id": "5__DXCufTDBR",
        "outputId": "e7a98873-768a-4169-ea6b-f9a7437875a5"
      },
      "execution_count": 85,
      "outputs": [
        {
          "output_type": "execute_result",
          "data": {
            "text/plain": [
              "<matplotlib.collections.PathCollection at 0x7f12f99d2910>"
            ]
          },
          "metadata": {},
          "execution_count": 85
        },
        {
          "output_type": "display_data",
          "data": {
            "image/png": "[encoded data removed]",
            "text/plain": [
              "<Figure size 640x480 with 1 Axes>"
            ]
          },
          "metadata": {
            "needs_background": "light"
          }
        }
      ]
    },
    {
      "cell_type": "markdown",
      "source": [
        "# **Euclidean Distancet**\n",
        "\n",
        "Implementing a function that measure Euclidean distance as this is required in order to measure the distance between points and discern between outliers and inliers. Euclidean distance can be calculated byt the following formula:\n",
        "\n",
        "**Euclidean Distance = sqrt(sum i to N (x1_i – x2_i)^2)**"
      ],
      "metadata": {
        "id": "TiEJhBn8V4At"
      }
    },
    {
      "cell_type": "code",
      "source": [
        "from math import sqrt\n",
        "## function that calculates the Euclidean distance, to be utilised in get_neighbors\n",
        "def euclidean_distance(row1, row2):\n",
        "\tdistance = 0.0\n",
        "\tfor i in range(len(row1)):\n",
        "\t\tdistance += (row1[i] - row2[i])**2\n",
        "\treturn sqrt(distance)"
      ],
      "metadata": {
        "id": "EMpBTUPDoLc9"
      },
      "execution_count": 86,
      "outputs": []
    },
    {
      "cell_type": "markdown",
      "source": [
        "# **Neighbours**\n",
        "\n",
        "Defined a function that includes the implementation of the Euclidean Distance function in order to obtain the distance of a point from its neighbors. This includes the distance of it from itself, anotated by 0. The function takes the number of neighbours as one of its parameters. K neighbors are obtained by using distance function defined above on all points against the others. The neighbors are then appended to a list."
      ],
      "metadata": {
        "id": "M-NPAcwVWQbW"
      }
    },
    {
      "cell_type": "code",
      "source": [
        "def get_neighbors(train, test_row, num_neighbors):\n",
        "\tdistances = list()\n",
        "\tfor train_row in train:\n",
        "\t\tdist = euclidean_distance(test_row, train_row)\n",
        "\t\tdistances.append((dist))\n",
        "\tdistances.sort()\n",
        "\tneighbors = list()\n",
        "\tfor i in range(num_neighbors):\n",
        "\t\tneighbors.append(distances[i])\n",
        "\treturn neighbors"
      ],
      "metadata": {
        "id": "YbVFlVuGoVmm"
      },
      "execution_count": 87,
      "outputs": []
    },
    {
      "cell_type": "markdown",
      "source": [
        "# **Neighbour Distance**\n",
        "\n",
        "Utilized the mean function from the statistics library to obtain the mean of the distances obtained from the get neighbor function. This will later be compared to our decision threshold in order to determine outliers."
      ],
      "metadata": {
        "id": "q7TpIP9pacwx"
      }
    },
    {
      "cell_type": "code",
      "source": [
        "from statistics import mean\n",
        "full_set_10_1.tolist()\n",
        "full_set_10_1\n",
        "neighbors = list()\n",
        "for i in range(len(full_set_10_1)):\n",
        "\n",
        "  neighbors.append((i,get_neighbors(full_set_10_1, full_set_10_1[i], 3),mean(get_neighbors(full_set_10_1, full_set_10_1[i], 3))))\n",
        "  \n",
        "for neighbor in neighbors:\n",
        "    print(neighbor)"
      ],
      "metadata": {
        "colab": {
          "base_uri": "https://localhost:8080/"
        },
        "id": "bmvWbK6nomvk",
        "outputId": "c7d35717-536a-4e4b-9b12-8d65f5b8bdc7"
      },
      "execution_count": 88,
      "outputs": [
        {
          "output_type": "stream",
          "name": "stdout",
          "text": [
            "(0, [0.0, 0.23170504415254778, 0.332712289120791], 0.18813911109111292)\n",
            "(1, [0.0, 0.14329692401350633, 0.23818879344790542], 0.12716190582047057)\n",
            "(2, [0.0, 0.061394141222204296, 0.10920738521698722], 0.056867175479730504)\n",
            "(3, [0.0, 0.2686910873647295, 0.2792068655097378], 0.18263265095815576)\n",
            "(4, [0.0, 0.07443893705936934, 0.15230835851116345], 0.07558243185684427)\n",
            "(5, [0.0, 0.11578233022264488, 0.12136962639405698], 0.07905065220556728)\n",
            "(6, [0.0, 0.20015036275420084, 0.26315981318464793], 0.15443672531294958)\n",
            "(7, [0.0, 0.06649389725260374, 0.14237665206813147], 0.06962351644024507)\n",
            "(8, [0.0, 0.06043697915753781, 0.15051469281206803], 0.07031722398986862)\n",
            "(9, [0.0, 0.06669475935537011, 0.12083894578902792], 0.06251123504813268)\n",
            "(10, [0.0, 0.15405410258647867, 0.17301283514402882], 0.10902231257683583)\n",
            "(11, [0.0, 0.3067440080734406, 0.31476364138753354], 0.20716921648699138)\n",
            "(12, [0.0, 0.06263373006026102, 0.1445100536239012], 0.06904792789472074)\n",
            "(13, [0.0, 0.12064745685997838, 0.12300508176960373], 0.08121751287652737)\n",
            "(14, [0.0, 0.19075407321905433, 0.19794965090834893], 0.12956790804246776)\n",
            "(15, [0.0, 0.10368434905812055, 0.21888443699062432], 0.10752292868291495)\n",
            "(16, [0.0, 0.0823000608004255, 0.10296603073365758], 0.06175536384469436)\n",
            "(17, [0.0, 0.35449817148520824, 0.4707898291633882], 0.2750960002161988)\n",
            "(18, [0.0, 0.10969661429072466, 0.16912480943457922], 0.0929404745751013)\n",
            "(19, [0.0, 0.14672971881908436, 0.19486990886371264], 0.11386654256093233)\n",
            "(20, [0.0, 0.055338660136674066, 0.16892798101718545], 0.07475554705128651)\n",
            "(21, [0.0, 0.020581767747014507, 0.14320521547099693], 0.05459566107267048)\n",
            "(22, [0.0, 0.3163076063682959, 0.4926727706607954], 0.26966012567636377)\n",
            "(23, [0.0, 0.12093507864242092, 0.19649250069244448], 0.1058091931116218)\n",
            "(24, [0.0, 0.3120592022085836, 0.34900772592401946], 0.2203556427108677)\n",
            "(25, [0.0, 0.16001813855957278, 0.2720963594341515], 0.14403816599790809)\n",
            "(26, [0.0, 0.18382020640833782, 0.2571170397936249], 0.1469790820673209)\n",
            "(27, [0.0, 0.06826361238942942, 0.08164431116394222], 0.04996930785112388)\n",
            "(28, [0.0, 0.08387418598103175, 0.1372642535115555], 0.07371281316419574)\n",
            "(29, [0.0, 0.10010520201451208, 0.23790830519983808], 0.11267116907145006)\n",
            "(30, [0.0, 0.06598592436437876, 0.07808996454706908], 0.04802529630381595)\n",
            "(31, [0.0, 0.22828191941230414, 0.34499541723301697], 0.19109244554844038)\n",
            "(32, [0.0, 0.10101448948876861, 0.2264099951148371], 0.10914149486786856)\n",
            "(33, [0.0, 0.10278667532713691, 0.16920531145390727], 0.09066399559368139)\n",
            "(34, [0.0, 0.31369763869250705, 0.31512110149004596], 0.20960624672751768)\n",
            "(35, [0.0, 0.1299915603587938, 0.17386948143915362], 0.10128701393264915)\n",
            "(36, [0.0, 0.08164431116394222, 0.09412642178163232], 0.05859024431519151)\n",
            "(37, [0.0, 0.11191868641339178, 0.11633210484414887], 0.07608359708584689)\n",
            "(38, [0.0, 0.1946078128322435, 0.40701527735534937], 0.20054103006253096)\n",
            "(39, [0.0, 0.08726449305039376, 0.13422927417711467], 0.07383125574250281)\n",
            "(40, [0.0, 0.10979619304188443, 0.20942933909549338], 0.10640851071245927)\n",
            "(41, [0.0, 0.3060644778265522, 0.4384063611860928], 0.24815694633754834)\n",
            "(42, [0.0, 0.5154831470984678, 0.606653286169659], 0.37404547775604224)\n",
            "(43, [0.0, 0.052730945139456156, 0.3227461736446293], 0.12515903959469515)\n",
            "(44, [0.0, 0.09092427692266858, 0.5533079606871972], 0.2147440792032886)\n",
            "(45, [0.0, 0.05330919422217236, 0.1428047783731245], 0.06537132419843228)\n",
            "(46, [0.0, 0.17518338589954946, 0.25468604671738093], 0.14328981087231013)\n",
            "(47, [0.0, 0.009994581881802958, 0.2102504771351523], 0.07341501967231842)\n",
            "(48, [0.0, 0.14114885316449946, 0.2130219262219433], 0.11805692646214759)\n",
            "(49, [0.0, 0.08045913835757663, 0.12591652776505008], 0.06879188870754224)\n",
            "(50, [0.0, 0.1799009655611366, 0.24022051949418122], 0.14004049501843926)\n",
            "(51, [0.0, 0.050948447055450104, 0.32149887307542585], 0.12414910671029199)\n",
            "(52, [0.0, 0.18371448293787276, 0.20137028908602905], 0.12836159067463393)\n",
            "(53, [0.0, 0.03199131641960769, 0.20846394911112068], 0.08015175517690945)\n",
            "(54, [0.0, 0.012405030737345772, 0.19552284730695013], 0.06930929268143196)\n",
            "(55, [0.0, 0.16948364307511615, 0.23578431970004554], 0.1350893209250539)\n",
            "(56, [0.0, 0.29399178939267734, 0.3113977318561072], 0.20179650708292818)\n",
            "(57, [0.0, 0.22548479805434754, 0.23618534230142182], 0.15389004678525645)\n",
            "(58, [0.0, 0.10513237728571291, 0.11023833664765559], 0.0717902379777895)\n",
            "(59, [0.0, 0.12116897325649197, 0.13439570442173504], 0.08518822589274233)\n",
            "(60, [0.0, 0.2274930052549132, 0.3216204164899888], 0.18303780724830065)\n",
            "(61, [0.0, 0.13196814000817927, 0.14741122140560858], 0.09312645380459596)\n",
            "(62, [0.0, 0.03187637534698753, 0.1512765406582243], 0.06105097200173727)\n",
            "(63, [0.0, 0.1571568990830948, 0.3004488487973379], 0.15253524929347756)\n",
            "(64, [0.0, 0.08640597349008998, 0.10133091354717642], 0.06257896234575547)\n",
            "(65, [0.0, 0.061394141222204296, 0.1149628446044804], 0.058785661942228236)\n",
            "(66, [0.0, 0.06767057921060916, 0.1938565231152561], 0.08717570077528843)\n",
            "(67, [0.0, 0.07373172213965583, 0.11137321476465888], 0.06170164563477157)\n",
            "(68, [0.0, 0.14317415786190119, 0.15233521110317527], 0.09850312298835882)\n",
            "(69, [0.0, 0.0702515788199495, 0.08761235637599253], 0.05262131173198068)\n",
            "(70, [0.0, 0.40578387220939033, 0.578125304428383], 0.3279697255459244)\n",
            "(71, [0.0, 0.08760267412263575, 0.23590239656333234], 0.10783502356198936)\n",
            "(72, [0.0, 0.07882313925838598, 0.29780777170269157], 0.12554363698702586)\n",
            "(73, [0.0, 0.3587798107268007, 0.36762372474179333], 0.2421345118228647)\n",
            "(74, [0.0, 0.11191868641339178, 0.15163028040657728], 0.08784965560665635)\n",
            "(75, [0.0, 0.17010476347882747, 0.243810856303803], 0.13797187326087682)\n",
            "(76, [0.0, 0.17566444453059513, 0.21377573670140648], 0.12981339374400053)\n",
            "(77, [0.0, 0.013394359525481866, 0.037159015976457356], 0.016851125167313075)\n",
            "(78, [0.0, 0.07989651280460444, 0.15693562649250287], 0.0789440464323691)\n",
            "(79, [0.0, 0.24594409406892268, 0.32495850565683754], 0.1903008665752534)\n",
            "(80, [0.0, 0.12951438150102473, 0.192228863442069], 0.10724774831436458)\n",
            "(81, [0.0, 0.25675153395117367, 0.3145014795948567], 0.1904176711820101)\n",
            "(82, [0.0, 0.16595120948124178, 0.19181825288744736], 0.11925648745622972)\n",
            "(83, [0.0, 0.10658411977455179, 0.1127797049287668], 0.07312127490110619)\n",
            "(84, [0.0, 0.23090824457405676, 0.2476163328483201], 0.15950819247412562)\n",
            "(85, [0.0, 0.5786131685196307, 0.8272768000744449], 0.46862998953135854)\n",
            "(86, [0.0, 0.23021580716508283, 0.3890646607564658], 0.2064268226405162)\n",
            "(87, [0.0, 0.06272818760693145, 0.08273972775052897], 0.048489305119153475)\n",
            "(88, [0.0, 0.1374667202331004, 0.14416152213399833], 0.09387608078903291)\n",
            "(89, [0.0, 0.14934869795344316, 0.20740489525253175], 0.11891786440199163)\n",
            "(90, [0.0, 0.4543562179689479, 0.521758768865961], 0.32537166227830294)\n",
            "(91, [0.0, 0.024052214902694647, 0.13299017531962698], 0.05234746340744054)\n",
            "(92, [0.0, 0.1163528021498507, 0.23618534230142182], 0.11751271481709084)\n",
            "(93, [0.0, 0.07948096929267481, 0.15730935279962543], 0.07893010736410008)\n",
            "(94, [0.0, 0.10421044396612239, 0.15298046931364032], 0.08573030442658756)\n",
            "(95, [0.0, 0.021752123626711264, 0.21213189611504324], 0.07796133991391817)\n",
            "(96, [0.0, 0.15730935279962543, 0.1619624196148992], 0.10642392413817488)\n",
            "(97, [0.0, 0.14172201025920972, 0.3260294704714036], 0.15591716024353777)\n",
            "(98, [0.0, 0.1954292877903261, 0.26689714299480133], 0.15410881026170914)\n",
            "(99, [0.0, 0.09781731946527346, 0.1133103220084439], 0.07037588049123912)\n",
            "(100, [0.0, 0.07647963980392757, 0.2595373866142596], 0.11200567547272906)\n",
            "(101, [0.0, 0.08561311041407184, 0.16608084779204008], 0.08389798606870397)\n",
            "(102, [0.0, 0.14008772262701827, 0.151111891884048], 0.09706653817035542)\n",
            "(103, [0.0, 0.09088530993166404, 0.12232394982968466], 0.0710697532537829)\n",
            "(104, [0.0, 0.08287788859605104, 0.19039663934272663], 0.0910915093129259)\n",
            "(105, [0.0, 0.22828191941230414, 0.3211328777680233], 0.1831382657267758)\n",
            "(106, [0.0, 0.279773570330486, 0.35820559422265175], 0.2126597215177126)\n",
            "(107, [0.0, 0.13202130881043034, 0.1682707650226343], 0.10009735794435488)\n",
            "(108, [0.0, 0.09430701285292999, 0.10852107265518667], 0.06760936183603888)\n",
            "(109, [0.0, 0.22758121185718863, 0.3187749046287948], 0.18211870549532783)\n",
            "(110, [0.0, 0.08439291932723567, 0.08751971100943597], 0.05730421011222388)\n",
            "(111, [0.0, 0.0682762296740235, 0.21176291768351357], 0.09334638245251235)\n",
            "(112, [0.0, 0.137292359965906, 0.25976811252463544], 0.13235349083018047)\n",
            "(113, [0.0, 0.06562000418221553, 0.09796584486911214], 0.05452861635044256)\n",
            "(114, [0.0, 0.1145467625149034, 0.1665754475390273], 0.09370740335131024)\n",
            "(115, [0.0, 0.18409614632436216, 0.19842777675261886], 0.12750797435899366)\n",
            "(116, [0.0, 0.07440436020842989, 0.12714228414748152], 0.0671822147853038)\n",
            "(117, [0.0, 0.05081759572891933, 0.19599594957693095], 0.08227118176861675)\n",
            "(118, [0.0, 0.1839639661532249, 0.33132800709863736], 0.1717639910839541)\n",
            "(119, [0.0, 0.1682512085592172, 0.2971148070509619], 0.15512200520339303)\n",
            "(120, [0.0, 0.06906941904370506, 0.33915009646441435], 0.1360731718360398)\n",
            "(121, [0.0, 0.015185386868491605, 0.13762794371047266], 0.050937776859654754)\n",
            "(122, [0.0, 0.05919026603147963, 0.06205528419075571], 0.04041518340741178)\n",
            "(123, [0.0, 0.06987156943199868, 0.17866631871677155], 0.08284596271625674)\n",
            "(124, [0.0, 0.07646479543530059, 0.20489332049751138], 0.09378603864427065)\n",
            "(125, [0.0, 0.10683128725057817, 0.1677510504730651], 0.09152744590788109)\n",
            "(126, [0.0, 0.16341426006890328, 0.2066108505142951], 0.12334170352773279)\n",
            "(127, [0.0, 0.2538146127601857, 0.30711173813434817], 0.18697545029817794)\n",
            "(128, [0.0, 0.14557704178930403, 0.21589794838366247], 0.12049166339098884)\n",
            "(129, [0.0, 0.3080042883248679, 0.3217741291603574], 0.20992613916174177)\n",
            "(130, [0.0, 0.1246596537268864, 0.18874485097610882], 0.10446816823433173)\n",
            "(131, [0.0, 0.12828783131092195, 0.22673978934839775], 0.11834254021977324)\n",
            "(132, [0.0, 0.18399602706014087, 0.28207124525364113], 0.15535575743792734)\n",
            "(133, [0.0, 0.14125860728477052, 0.2220535681438043], 0.12110405847619161)\n",
            "(134, [0.0, 0.13299134067116866, 0.13721940609751757], 0.0900702489228954)\n",
            "(135, [0.0, 0.1991467136854392, 0.26552114732258836], 0.15488928700267585)\n",
            "(136, [0.0, 0.028124305751380578, 0.18521044785665716], 0.07111158453601257)\n",
            "(137, [0.0, 0.12382875959851307, 0.28368353780425454], 0.1358374324675892)\n",
            "(138, [0.0, 0.07530443071808071, 0.20205206471271672], 0.09245216514359915)\n",
            "(139, [0.0, 0.1640417637284357, 0.17199441134799676], 0.11201205835881083)\n",
            "(140, [0.0, 0.1801640345112298, 0.24870214552457606], 0.14295539334526863)\n",
            "(141, [0.0, 0.027425304014750147, 0.4017882495849071], 0.1430711845332191)\n",
            "(142, [0.0, 0.14814912896816834, 0.23034025963256152], 0.1261631295335766)\n",
            "(143, [0.0, 0.17252167690920356, 0.1836306635684124], 0.11871744682587199)\n",
            "(144, [0.0, 0.14376383272747323, 0.20110608769904262], 0.11495664014217195)\n",
            "(145, [0.0, 0.1571568990830948, 0.2576301609213122], 0.13826235333480233)\n",
            "(146, [0.0, 0.10936381196616327, 0.15573539439633463], 0.08836640212083263)\n",
            "(147, [0.0, 0.07530443071808071, 0.15078753805113737], 0.07536398958973936)\n",
            "(148, [0.0, 0.049432139162217476, 0.17621904140344544], 0.0752170601885543)\n",
            "(149, [0.0, 0.20799108931831684, 0.27576335811338537], 0.16125148247723406)\n",
            "(150, [0.0, 0.11788396869247958, 0.13859231914889286], 0.08549209594712415)\n",
            "(151, [0.0, 0.09050490255479182, 0.126831425745978], 0.07244544276692327)\n",
            "(152, [0.0, 0.10005408263625973, 0.216495288075841], 0.10551645690403358)\n",
            "(153, [0.0, 0.12207295517295029, 0.17116074090360253], 0.09774456535885094)\n",
            "(154, [0.0, 0.25404340342185056, 0.31639895012913455], 0.1901474511836617)\n",
            "(155, [0.0, 0.08118809640353149, 0.12156028540944339], 0.06758279393765829)\n",
            "(156, [0.0, 0.030036944418601778, 0.08123954976671277], 0.03709216472843818)\n",
            "(157, [0.0, 0.09689400268216886, 0.09973989868304918], 0.06554463378840601)\n",
            "(158, [0.0, 0.1662511897437797, 0.19579685380909764], 0.12068268118429244)\n",
            "(159, [0.0, 0.14114885316449946, 0.29248968782406476], 0.1445461803295214)\n",
            "(160, [0.0, 0.15936140638245552, 0.17306508556488687], 0.11080883064911413)\n",
            "(161, [0.0, 0.09050490255479182, 0.1759183278578541], 0.08880774347088198)\n",
            "(162, [0.0, 0.04118554806740308, 0.05870916519667008], 0.033298237754691054)\n",
            "(163, [0.0, 0.12635846686751626, 0.1888974714293211], 0.10508531276561245)\n",
            "(164, [0.0, 0.20759808344484637, 0.251211353887804], 0.15293647911088346)\n",
            "(165, [0.0, 0.1521579238213558, 0.16340302379757224], 0.10518698253964268)\n",
            "(166, [0.0, 0.20446095987163806, 0.315590491703224], 0.17335048385828736)\n",
            "(167, [0.0, 0.18656852149868935, 0.2557169521203921], 0.14742849120636048)\n",
            "(168, [0.0, 0.17808620780791226, 0.2506040536708124], 0.14289675382624156)\n",
            "(169, [0.0, 0.3051342304947592, 0.3156448917779299], 0.20692637409089637)\n",
            "(170, [0.0, 0.07592732329058048, 0.12022563097706604], 0.0653843180892155)\n",
            "(171, [0.0, 0.06067837182122347, 0.06700172512207629], 0.042560032314433255)\n",
            "(172, [0.0, 0.12296649436577661, 0.15169755601260168], 0.09155468345945943)\n",
            "(173, [0.0, 0.7138215270598125, 0.7490188526092327], 0.48761345988968174)\n",
            "(174, [0.0, 0.07120690260381941, 0.12131609993615501], 0.06417433417999148)\n",
            "(175, [0.0, 0.2571170397936249, 0.30994056087956884], 0.18901920022439792)\n",
            "(176, [0.0, 0.31152772237163734, 0.3594152536679861], 0.2236476586798745)\n",
            "(177, [0.0, 0.10119839073463258, 0.24969917287803373], 0.11696585453755544)\n",
            "(178, [0.0, 0.08012008487948998, 0.10209603494185959], 0.06073870660711652)\n",
            "(179, [0.0, 0.06238375394245619, 0.0839188840146783], 0.048767545985711494)\n",
            "(180, [0.0, 0.17451643550678236, 0.2775043896128172], 0.15067360837319985)\n",
            "(181, [0.0, 0.0678902433896491, 0.09599716634046468], 0.05462913657670459)\n",
            "(182, [0.0, 0.11709713768692201, 0.15948592910606219], 0.0921943555976614)\n",
            "(183, [0.0, 0.10301514317929776, 0.17897770492554638], 0.09399761603494805)\n",
            "(184, [0.0, 0.10297094243833693, 0.16109596783274155], 0.08802230342369283)\n",
            "(185, [0.0, 0.4027617694652346, 0.4985144473613649], 0.3004254056088665)\n",
            "(186, [0.0, 0.04464493943951973, 0.12686655142839737], 0.057170496955972365)\n",
            "(187, [0.0, 0.11170717217177968, 0.3960835339713737], 0.16926356871438447)\n",
            "(188, [0.0, 0.10856581192263827, 0.1608412150628715], 0.08980234232850326)\n",
            "(189, [0.0, 0.11339459509481593, 0.11418792464582339], 0.07586083991354645)\n",
            "(190, [0.0, 0.09542825271905503, 0.12043993900449676], 0.0719560639078506)\n",
            "(191, [0.0, 0.12624939019765513, 0.14089588788572796], 0.08904842602779436)\n",
            "(192, [0.0, 0.08466117312430212, 0.09973885480835558], 0.061466675977552565)\n",
            "(193, [0.0, 0.03871135674355336, 0.06416301281974313], 0.03429145652109883)\n",
            "(194, [0.0, 0.15625733785034945, 0.1665754475390273], 0.10761092846312559)\n",
            "(195, [0.0, 0.2834840293460523, 0.3073285739321052], 0.19693753442605252)\n",
            "(196, [0.0, 0.10275435482495192, 0.12073676184493254], 0.07449703888996148)\n",
            "(197, [0.0, 0.1590756685795866, 0.35905674718541125], 0.1727108052549993)\n",
            "(198, [0.0, 0.07443893705936934, 0.118075040676471], 0.06417132591194678)\n",
            "(199, [0.0, 0.027171707745803762, 0.2146102859534689], 0.08059399789975755)\n",
            "(200, [0.0, 0.0720380043662555, 0.13071566369421592], 0.06758455602015714)\n",
            "(201, [0.0, 0.05385300318615169, 0.06598592436437876], 0.03994630918351015)\n",
            "(202, [0.0, 0.16866921105995306, 0.2274930052549132], 0.13205407210495543)\n",
            "(203, [0.0, 0.2470214815320732, 0.2863779060444816], 0.1777997958588516)\n",
            "(204, [0.0, 0.14718900255940756, 0.15497875250702348], 0.10072258502214368)\n",
            "(205, [0.0, 0.17225530800326283, 0.251211353887804], 0.14115555396368895)\n",
            "(206, [0.0, 0.2576301609213122, 0.3004488487973379], 0.18602633657288337)\n",
            "(207, [0.0, 0.2470214815320732, 0.25578850990112906], 0.1676033304777341)\n",
            "(208, [0.0, 0.1901521853090389, 0.25927552158295164], 0.1498092356306635)\n",
            "(209, [0.0, 0.2824822653329611, 0.28960213295851717], 0.19069479943049275)\n",
            "(210, [0.0, 0.3758827036258086, 0.384986496532634], 0.25362306671948087)\n",
            "(211, [0.0, 0.04869793691590122, 0.23579428341909942], 0.09483074011166688)\n",
            "(212, [0.0, 0.07579777193503934, 0.10454368549526101], 0.06011381914343345)\n",
            "(213, [0.0, 0.13480430952975125, 0.1584923463590477], 0.09776555196293298)\n",
            "(214, [0.0, 0.11487617170106657, 0.11649748130583475], 0.07712455100230044)\n",
            "(215, [0.0, 0.14214736123878838, 0.22423878161297522], 0.1221287142839212)\n",
            "(216, [0.0, 0.13481219209352618, 0.14500070377036167], 0.09327096528796262)\n",
            "(217, [0.0, 0.09835860302092617, 0.10409955785330036], 0.06748605362474218)\n",
            "(218, [0.0, 0.03533131716054301, 0.12725334153321718], 0.054194886231253396)\n",
            "(219, [0.0, 0.12446756134624534, 0.2101749190358962], 0.11154749346071384)\n",
            "(220, [0.0, 0.07995909702781558, 0.11873041602986124], 0.06622983768589227)\n",
            "(221, [0.0, 0.15753154948072962, 0.27436966975407856], 0.1439670730782694)\n",
            "(222, [0.0, 0.09020821399863715, 0.12757168367462435], 0.0725932992244205)\n",
            "(223, [0.0, 0.20762953547883153, 0.35885064230051394], 0.1888267259264485)\n",
            "(224, [0.0, 0.12673012212604068, 0.16666035773036264], 0.09779682661880111)\n",
            "(225, [0.0, 0.1295107472688014, 0.2100595141033454], 0.11319008712404893)\n",
            "(226, [0.0, 0.12158718850567658, 0.17632489542839272], 0.0993040279780231)\n",
            "(227, [0.0, 0.019245225978709972, 0.08442160417241613], 0.03455561005037537)\n",
            "(228, [0.0, 0.11294947125697302, 0.1421766248330495], 0.0850420320300075)\n",
            "(229, [0.0, 0.043736567759612266, 0.07927336237546571], 0.04100331004502599)\n",
            "(230, [0.0, 0.09125034602205279, 0.093559640944267], 0.061603328988773264)\n",
            "(231, [0.0, 0.14542334722152206, 0.31107406833414686], 0.15216580518522296)\n",
            "(232, [0.0, 0.056000189146564155, 0.0789873476260632], 0.044995845590875785)\n",
            "(233, [0.0, 0.2232490195913995, 0.25530582650564837], 0.1595182820323493)\n",
            "(234, [0.0, 0.06767057921060916, 0.2529971300279125], 0.10688923641284057)\n",
            "(235, [0.0, 0.17641756386885576, 0.19735722400378627], 0.12459159595754735)\n",
            "(236, [0.0, 0.09960585006768526, 0.12803597004827466], 0.07588060670531997)\n",
            "(237, [0.0, 0.10196450356998409, 0.1933190386695557], 0.09842784741317992)\n",
            "(238, [0.0, 0.1246025709574309, 0.12855274039952574], 0.08438510378565221)\n",
            "(239, [0.0, 0.17643197110080538, 0.20201197662095297], 0.12614798257391946)\n",
            "(240, [0.0, 0.07878662423277016, 0.09088530993166404], 0.05655731138814473)\n",
            "(241, [0.0, 0.1477469238151385, 0.18772230316454502], 0.11182307565989451)\n",
            "(242, [0.0, 1.081482250320121, 1.0824157790485702], 0.721299343122897)\n",
            "(243, [0.0, 0.11357202018255365, 0.12986834075553974], 0.08114678697936446)\n",
            "(244, [0.0, 0.08547239241770241, 0.14862937163667908], 0.07803392135146049)\n",
            "(245, [0.0, 0.09326290615371605, 0.26552114732258836], 0.11959468449210146)\n",
            "(246, [0.0, 0.09946955572945242, 0.21342354735419683], 0.10429770102788308)\n",
            "(247, [0.0, 0.15625733785034945, 0.20201197662095297], 0.11942310482376747)\n",
            "(248, [0.0, 0.1398295066087707, 0.2865407031266128], 0.14212340324512782)\n",
            "(249, [0.0, 0.16732791326146443, 0.2638599939773332], 0.14372930241293252)\n",
            "(250, [0.0, 0.1511227221162941, 0.1841604598948947], 0.11176106067039628)\n",
            "(251, [0.0, 0.12890483453813423, 0.2091698614919772], 0.11269156534337048)\n",
            "(252, [0.0, 0.10507894853090287, 0.13993795506213244], 0.08167230119767843)\n",
            "(253, [0.0, 0.17079089821138257, 0.30254353380927307], 0.15777814400688522)\n",
            "(254, [0.0, 0.17315804248909844, 0.19962697850302688], 0.12426167366404177)\n",
            "(255, [0.0, 0.04124020792565964, 0.06961238664913308], 0.03695086485826424)\n",
            "(256, [0.0, 0.07322790580265283, 0.12667717605503404], 0.06663502728589563)\n",
            "(257, [0.0, 0.08765203721466275, 0.1584923463590477], 0.08204812785790348)\n",
            "(258, [0.0, 0.03348176856379721, 0.06645391942071051], 0.03331189599483591)\n",
            "(259, [0.0, 0.12624939019765513, 0.2352342244038838], 0.12049453820051298)\n",
            "(260, [0.0, 0.1390730592390682, 0.3063420311988944], 0.1484716968126542)\n",
            "(261, [0.0, 0.16916929740152073, 0.19950188686076387], 0.12289039475409487)\n",
            "(262, [0.0, 0.04464493943951973, 0.13691572986354528], 0.06052022310102167)\n",
            "(263, [0.0, 0.19037743968523974, 0.2621986840653893], 0.15085870791687636)\n",
            "(264, [0.0, 0.0690385302595531, 0.27692322675671077], 0.11532058567208796)\n",
            "(265, [0.0, 0.04922175818742129, 0.18182666657886987], 0.07701614158876371)\n",
            "(266, [0.0, 0.15633722041303516, 0.1912298769469095], 0.11585569911998155)\n",
            "(267, [0.0, 0.028124305751380578, 0.1999636400859272], 0.07602931527910259)\n",
            "(268, [0.0, 0.10149098199643095, 0.2049417943754889], 0.10214425879063994)\n",
            "(269, [0.0, 0.06291959997327554, 0.16486393887929185], 0.07592784628418912)\n",
            "(270, [0.0, 0.26315981318464793, 0.32103614959589755], 0.19473198759351515)\n",
            "(271, [0.0, 0.5290983253820785, 0.5665196536827306], 0.365205993021603)\n",
            "(272, [0.0, 0.11648248302798091, 0.12027529595497392], 0.07891925966098494)\n",
            "(273, [0.0, 0.03462732209309417, 0.19491902473560657], 0.07651544894290024)\n",
            "(274, [0.0, 0.20446095987163806, 0.3437677781954388], 0.18274291268902562)\n",
            "(275, [0.0, 0.10528573193597968, 0.1267911868169599], 0.07735897291764653)\n",
            "(276, [0.0, 0.04649777859746341, 0.09318736606992874], 0.04656171488913072)\n",
            "(277, [0.0, 0.01822537908413393, 0.0874299590363501], 0.03521844604016135)\n",
            "(278, [0.0, 0.25734686634113607, 0.3016127562522106], 0.18631987419778223)\n",
            "(279, [0.0, 0.10553275174791932, 0.18561199037371684], 0.09704824737387872)\n",
            "(280, [0.0, 0.07163525769960334, 0.18536987481249784], 0.08566837750403372)\n",
            "(281, [0.0, 0.20525911213141873, 0.20846394911112068], 0.13790768708084647)\n",
            "(282, [0.0, 0.14444670223365585, 0.2765560929850075], 0.1403342650728878)\n",
            "(283, [0.0, 0.14452581126655872, 0.19639526071413707], 0.1136403573268986)\n",
            "(284, [0.0, 0.06470064172850654, 0.137312367948134], 0.06733766989221351)\n",
            "(285, [0.0, 0.21630082946973417, 0.3326546096205625], 0.18298514636343222)\n",
            "(286, [0.0, 0.15224515110194564, 0.28368353780425454], 0.1453095629687334)\n",
            "(287, [0.0, 0.06884883047373713, 0.1349076369285187], 0.06791882246741861)\n",
            "(288, [0.0, 0.06273114488946151, 0.3587798107268007], 0.1405036518720874)\n",
            "(289, [0.0, 0.02602363622076189, 0.02918606696561946], 0.01840323439546045)\n",
            "(290, [0.0, 0.16909641892155547, 0.27224796740620855], 0.14711479544258801)\n",
            "(291, [0.0, 0.050653403861530125, 0.1426891836389546], 0.06444752916682825)\n",
            "(292, [0.0, 0.03930341829248429, 0.1404589876362266], 0.05992080197623697)\n",
            "(293, [0.0, 0.2417796074555941, 0.24235630971245276], 0.16137863905601563)\n",
            "(294, [0.0, 0.08765203721466275, 0.13478133927187408], 0.07414445882884561)\n",
            "(295, [0.0, 0.1682512085592172, 0.21566262210754675], 0.12797127688892132)\n",
            "(296, [0.0, 0.10792471797832577, 0.21311426882732595], 0.1070129956018839)\n",
            "(297, [0.0, 0.10278273889033715, 0.1285709601773954], 0.07711789968924418)\n",
            "(298, [0.0, 0.034856815039200365, 0.040313259139367764], 0.025056691392856042)\n",
            "(299, [0.0, 0.15112692737617966, 0.19133803124505971], 0.1141549862070798)\n",
            "(300, [0.0, 0.16063860712236286, 0.16362401024676473], 0.10808753912304253)\n",
            "(301, [0.0, 0.022086994466253992, 0.14237067571223155], 0.05481922339282851)\n",
            "(302, [0.0, 0.0637119059653312, 0.11041200912697885], 0.05804130503077002)\n",
            "(303, [0.0, 0.1517175141689701, 0.24028500299712302], 0.13066750572203104)\n",
            "(304, [0.0, 0.06589375195069908, 0.12183257626115405], 0.06257544273728438)\n",
            "(305, [0.0, 0.1887238491047563, 0.3180885947294883], 0.16893748127808153)\n",
            "(306, [0.0, 0.10996045812504794, 0.1516048313067618], 0.08718842981060325)\n",
            "(307, [0.0, 0.13289066552364154, 0.18726686624869152], 0.10671917725744436)\n",
            "(308, [0.0, 0.10028660802347869, 0.18173092937332247], 0.09400584579893372)\n",
            "(309, [0.0, 0.10792471797832577, 0.19767283083083043], 0.10186584960305206)\n",
            "(310, [0.0, 0.0675513681899572, 0.0699352569666981], 0.045828875052218436)\n",
            "(311, [0.0, 0.12386251579755149, 0.1379591939771701], 0.08727390325824053)\n",
            "(312, [0.0, 0.050948447055450104, 0.3169311500435919], 0.12262653236634734)\n",
            "(313, [0.0, 0.18798107796569896, 0.23152207809321432], 0.1398343853529711)\n",
            "(314, [0.0, 0.15224515110194564, 0.1787568874504238], 0.11033401285078982)\n",
            "(315, [0.0, 0.41601961339458343, 0.4382721518452656], 0.28476392174661636)\n",
            "(316, [0.0, 0.11817223132896337, 0.1213517848600303], 0.07984133872966456)\n",
            "(317, [0.0, 0.44085512649195313, 0.4654094232445112], 0.3020881832454881)\n",
            "(318, [0.0, 0.4046012347794859, 0.4867764215726735], 0.2971258854507198)\n",
            "(319, [0.0, 0.1590756685795866, 0.4302486613822849], 0.19644144332062383)\n",
            "(320, [0.0, 0.15875479404375747, 0.16987152296785457], 0.10954210567053735)\n",
            "(321, [0.0, 0.4783548020680299, 1.0238218281749254], 0.5007255434143184)\n",
            "(322, [0.0, 0.0748987292371134, 0.21342354735419683], 0.09610742553043675)\n",
            "(323, [0.0, 0.1439500999773176, 0.17641756386885576], 0.1067892212820578)\n",
            "(324, [0.0, 0.28665815065876743, 0.2981908737641896], 0.19494967480765235)\n",
            "(325, [0.0, 0.13299017531962698, 0.13651423943688884], 0.0898348049188386)\n",
            "(326, [0.0, 0.0717672673352707, 0.12484112734201877], 0.06553613155909649)\n",
            "(327, [0.0, 0.063397853672921, 0.2066108505142951], 0.0900029013957387)\n",
            "(328, [0.0, 0.04801465787342001, 0.10963390283801662], 0.05254952023714554)\n",
            "(329, [0.0, 0.13412831125669394, 0.17395569494815347], 0.10269466873494913)\n",
            "(330, [0.0, 0.12562655546704996, 0.17620314917134627], 0.10060990154613207)\n",
            "(331, [0.0, 0.056569250082834414, 0.12562655546704996], 0.06073193518329479)\n",
            "(332, [0.0, 0.01822537908413393, 0.0925506553545394], 0.03692534481289111)\n",
            "(333, [0.0, 0.11418792464582339, 0.1459898089843407], 0.0867259112100547)\n",
            "(334, [0.0, 0.10816016896512655, 0.2604640760849796], 0.1228747483500354)\n",
            "(335, [0.0, 0.12890483453813423, 0.16341147163368416], 0.09743876872393946)\n",
            "(336, [0.0, 0.12934798200064634, 0.14214736123878838], 0.09049844774647824)\n",
            "(337, [0.0, 0.08998263790447508, 0.18015141573419846], 0.09004468454622451)\n",
            "(338, [0.0, 0.16607293404409557, 0.19644101295913555], 0.12083798233441037)\n",
            "(339, [0.0, 0.07293466818252355, 0.14993822343598168], 0.07429096387283507)\n",
            "(340, [0.0, 0.11170717217177968, 0.38953769465540283], 0.1670816222757275)\n",
            "(341, [0.0, 0.2951128581454071, 0.34863125247307736], 0.2145813702061615)\n",
            "(342, [0.0, 0.03725655274789662, 0.03827136560701964], 0.025175972784972085)\n",
            "(343, [0.0, 0.10658411977455179, 0.12099808751436435], 0.07586073576297205)\n",
            "(344, [0.0, 0.15230297469497575, 0.15235116411306035], 0.1015513796026787)\n",
            "(345, [0.0, 0.16349384368793712, 0.1861246886729136], 0.11653951078695024)\n",
            "(346, [0.0, 0.06419166514471568, 0.1151972129701485], 0.05979629270495473)\n",
            "(347, [0.0, 0.3384621602254477, 0.34092539162873053], 0.22646251728472608)\n",
            "(348, [0.0, 0.2611799287468426, 0.34120276775876435], 0.20079423216853565)\n",
            "(349, [0.0, 0.08000542547192348, 0.1557319456438547], 0.0785791237052594)\n",
            "(350, [0.0, 0.2567511442310291, 0.7960342633549963], 0.3509284691953418)\n",
            "(351, [0.0, 0.027850568776083214, 0.054998898173905485], 0.027616488983329565)\n",
            "(352, [0.0, 0.2052564332268754, 0.2136210679529144], 0.1396258337265966)\n",
            "(353, [0.0, 0.11720115145562898, 0.1790649562039082], 0.09875536921984572)\n",
            "(354, [0.0, 0.24256389519712546, 0.26851034970277093], 0.1703580816332988)\n",
            "(355, [0.0, 0.04864337645521735, 0.07166185378564303], 0.040101743413620126)\n",
            "(356, [0.0, 0.04513746268119399, 0.446914856932798], 0.16401743987133066)\n",
            "(357, [0.0, 0.15734159883999776, 0.20211080982578392], 0.11981746955526056)\n",
            "(358, [0.0, 0.05694279353054962, 0.06669475935537011], 0.04121251762863991)\n",
            "(359, [0.0, 0.12568759160762824, 0.1329018047062737], 0.08619646543796732)\n",
            "(360, [0.0, 0.4708665884769399, 0.5053360194212414], 0.32540086929939377)\n",
            "(361, [0.0, 0.17493053807483153, 0.20182515711515733], 0.12558523172999628)\n",
            "(362, [0.0, 0.03271995787247571, 0.11914035519863088], 0.05062010435703553)\n",
            "(363, [0.0, 0.0985320215604393, 0.09910862301834177], 0.0658802148595937)\n",
            "(364, [0.0, 0.041567117169303905, 0.13643532075743675], 0.05933414597558022)\n",
            "(365, [0.0, 0.03797157002417016, 0.03871135674355336], 0.025560975589241173)\n",
            "(366, [0.0, 0.16909641892155547, 0.21221851354343466], 0.12710497748833005)\n",
            "(367, [0.0, 0.08387418598103175, 0.12533072639667575], 0.06973497079256917)\n",
            "(368, [0.0, 0.0720380043662555, 0.1757676901365254], 0.08260189816759364)\n",
            "(369, [0.0, 0.1726086554177476, 0.1922340938468708], 0.1216142497548728)\n",
            "(370, [0.0, 0.5569040544247442, 0.628358062258856], 0.3950873722278668)\n",
            "(371, [0.0, 0.06649389725260374, 0.08118809640353149], 0.04922733121871174)\n",
            "(372, [0.0, 0.0678548239116401, 0.13684432208586242], 0.06823304866583417)\n",
            "(373, [0.0, 0.05233787965938008, 0.1512195583871471], 0.06785247934884239)\n",
            "(374, [0.0, 0.1926460329987392, 0.21533270135612276], 0.13599291145162065)\n",
            "(375, [0.0, 0.13420806527155463, 0.2211341435822493], 0.11844740295126797)\n",
            "(376, [0.0, 0.2805883783715801, 0.3058683381518635], 0.1954855721744812)\n",
            "(377, [0.0, 0.09559305548205592, 0.1625285507130477], 0.08604053539836787)\n",
            "(378, [0.0, 0.04453672210005461, 0.1698563954387982], 0.07146437251295094)\n",
            "(379, [0.0, 0.056976548173088046, 0.11544636622056866], 0.05747430479788557)\n",
            "(380, [0.0, 0.06987156943199868, 0.22249487271308252], 0.09745548071502706)\n",
            "(381, [0.0, 0.11715791967318134, 0.17523200844225473], 0.09746330937181202)\n",
            "(382, [0.0, 0.14539339164383663, 0.1481140160013093], 0.09783580254838198)\n",
            "(383, [0.0, 0.12754508773536719, 0.2768590806911845], 0.13480138947551723)\n",
            "(384, [0.0, 0.0682762296740235, 0.1611550271678338], 0.07647708561395243)\n",
            "(385, [0.0, 0.10528272247358071, 0.16510353934122798], 0.09012875393826957)\n",
            "(386, [0.0, 0.1161742052568859, 0.1414178431021129], 0.08586401611966626)\n",
            "(387, [0.0, 0.05233787965938008, 0.1220983004828495], 0.0581453933807432)\n",
            "(388, [0.0, 0.04693914021557983, 0.1697887875720272], 0.07224264259586902)\n",
            "(389, [0.0, 0.03446843839545877, 0.0689577506116902], 0.03447539633571632)\n",
            "(390, [0.0, 0.08561311041407184, 0.1720541466664555], 0.08588908569350912)\n",
            "(391, [0.0, 0.13898342933938856, 0.3638022413263999], 0.16759522355526282)\n",
            "(392, [0.0, 0.10833344907011813, 0.13812993438235066], 0.08215446115082294)\n",
            "(393, [0.0, 0.23637804105910637, 0.2584932595445421], 0.16495710020121615)\n",
            "(394, [0.0, 0.09366702552525721, 0.09520555788727325], 0.06295752780417682)\n",
            "(395, [0.0, 0.10081001112529273, 0.12963602421749362], 0.07681534511426212)\n",
            "(396, [0.0, 0.06652921677681638, 0.13757257839915749], 0.06803393172532463)\n",
            "(397, [0.0, 0.03510181567462936, 0.20429693942720836], 0.07979958503394591)\n",
            "(398, [0.0, 0.05370320948802902, 0.07368242589175604], 0.042461878459928354)\n",
            "(399, [0.0, 0.04869793691590122, 0.2630031662929647], 0.10390036773628865)\n",
            "(400, [0.0, 0.12022563097706604, 0.12250202340119684], 0.08090921812608763)\n",
            "(401, [0.0, 0.07878662423277016, 0.093559640944267], 0.05744875505901239)\n",
            "(402, [0.0, 0.004693934906888177, 0.15564799044418676], 0.05344730845035831)\n",
            "(403, [0.0, 0.49810618932385453, 0.5202099772174877], 0.3394387221804474)\n",
            "(404, [0.0, 0.20706654887329928, 0.22638310479286874], 0.14448321788872268)\n",
            "(405, [0.0, 0.19585216270014164, 0.39611372664157113], 0.19732196311390426)\n",
            "(406, [0.0, 0.1285709601773954, 0.15060741181006743], 0.09305945732915427)\n",
            "(407, [0.0, 0.2510371939597453, 0.32232403942998894], 0.1911204111299114)\n",
            "(408, [0.0, 0.081127448362504, 0.15663465181450342], 0.0792540333923358)\n",
            "(409, [0.0, 0.2738543034177396, 0.3360494051319984], 0.203301236183246)\n",
            "(410, [0.0, 0.10705382487687173, 0.43242658914494875], 0.17982680467394016)\n",
            "(411, [0.0, 0.054230097675879704, 0.0637119059653312], 0.03931400121373697)\n",
            "(412, [0.0, 0.11137327165774974, 0.2049417943754889], 0.10543835534441288)\n",
            "(413, [0.0, 1.0101467399913797, 1.1193252161815426], 0.7098239853909741)\n",
            "(414, [0.0, 0.23021580716508283, 0.267353090349003], 0.16585629917136194)\n",
            "(415, [0.0, 0.20141292808931874, 0.31484137091955033], 0.1720847663362897)\n",
            "(416, [0.0, 0.046979210770660806, 0.07438526776044409], 0.04045482617703496)\n",
            "(417, [0.0, 0.12456218674713063, 0.17410691452596055], 0.0995563670910304)\n",
            "(418, [0.0, 0.2233975397158052, 0.2638599939773332], 0.1624191778977128)\n",
            "(419, [0.0, 0.26719805215904263, 0.30085535494544935], 0.18935113570149734)\n",
            "(420, [0.0, 0.0354618305510698, 0.12449426455864693], 0.053318698369905576)\n",
            "(421, [0.0, 0.07463722782424137, 0.10852107265518667], 0.061052766826476014)\n",
            "(422, [0.0, 0.027425304014750147, 0.38537671193210016], 0.13760067198228343)\n",
            "(423, [0.0, 0.13412831125669394, 0.22797123241841613], 0.12069984789170336)\n",
            "(424, [0.0, 0.19346582227481907, 0.38319791100796], 0.19222124442759303)\n",
            "(425, [0.0, 0.07438955288813696, 0.22884049541515689], 0.10107668276776462)\n",
            "(426, [0.0, 0.13532471528847712, 0.16063860712236286], 0.09865444080361332)\n",
            "(427, [0.0, 0.17478976918582356, 0.2049706622113804], 0.12658681046573467)\n",
            "(428, [0.0, 0.1365864007857925, 0.14237067571223155], 0.09298569216600802)\n",
            "(429, [0.0, 0.06273114488946151, 0.36762372474179333], 0.14345162321041827)\n",
            "(430, [0.0, 0.1337904186127757, 0.134192411980083], 0.08932761019761958)\n",
            "(431, [0.0, 0.12803597004827466, 0.17306508556488687], 0.10036701853772051)\n",
            "(432, [0.0, 0.07579777193503934, 0.088244295689213], 0.05468068920808412)\n",
            "(433, [0.0, 0.1568969242529371, 0.1711955572998638], 0.1093641605176003)\n",
            "(434, [0.0, 0.11028932091573371, 0.2742219904955985], 0.12817043713711074)\n",
            "(435, [0.0, 0.041567117169303905, 0.09781731946527346], 0.04646147887819246)\n",
            "(436, [0.0, 0.13622373139583582, 0.16520392453697574], 0.1004758853109372)\n",
            "(437, [0.0, 0.08038878159218518, 0.11648977606518299], 0.06562618588578939)\n",
            "(438, [0.0, 0.10133091354717642, 0.10161024372090932], 0.06764705242269525)\n",
            "(439, [0.0, 0.15781938620756958, 0.23667264584085007], 0.13149734401613988)\n",
            "(440, [0.0, 0.0788798129510129, 0.14344911882808026], 0.07410964392636439)\n",
            "(441, [0.0, 0.04933590715683472, 0.20502116828179426], 0.08478569181287632)\n",
            "(442, [0.0, 0.08466117312430212, 0.0917144280049312], 0.05879186704307777)\n",
            "(443, [0.0, 0.04438141662920727, 0.12614727801990125], 0.05684289821636951)\n",
            "(444, [0.0, 0.16948364307511615, 0.24441068087171408], 0.1379647746489434)\n",
            "(445, [0.0, 0.017663556222326543, 0.15148506151033445], 0.056382872577553665)\n",
            "(446, [0.0, 0.3356059146591352, 0.36290148352740986], 0.23283579939551502)\n",
            "(447, [0.0, 0.07674317068754004, 0.09501058569483878], 0.05725125212745961)\n",
            "(448, [0.0, 0.06999331276683987, 0.08751971100943597], 0.052504341258758615)\n",
            "(449, [0.0, 0.11357202018255365, 0.21692554794119384], 0.11016585604124916)\n",
            "(450, [0.0, 0.005849763224548059, 0.0675513681899572], 0.02446704380483509)\n",
            "(451, [0.0, 0.19567780308274602, 0.29868414329092474], 0.16478731545789024)\n",
            "(452, [0.0, 0.06509162142689469, 0.20420841406471876], 0.08976667849720449)\n",
            "(453, [0.0, 0.11294947125697302, 0.1529557111150279], 0.08863506079066698)\n",
            "(454, [0.0, 0.10697865809315146, 0.15777065005475222], 0.08824976938263455)\n",
            "(455, [0.0, 0.10507894853090287, 0.16819674236969076], 0.09109189696686454)\n",
            "(456, [0.0, 0.05050397187229358, 0.09817397532779461], 0.04955931573336273)\n",
            "(457, [0.0, 0.06972999472704414, 0.21076669182741664], 0.09349889551815359)\n",
            "(458, [0.0, 0.1163528021498507, 0.22548479805434754], 0.11394586673473275)\n",
            "(459, [0.0, 0.049171651137919097, 0.17289431343506628], 0.07402198819099512)\n",
            "(460, [0.0, 0.09946955572945242, 0.21789572745972866], 0.10578842772972702)\n",
            "(461, [0.0, 0.19708509748176076, 0.233832473794843], 0.14363919042553458)\n",
            "(462, [0.0, 0.21229921588802259, 0.2530925867682521], 0.15513060088542488)\n",
            "(463, [0.0, 0.30662435098448104, 0.3928368171424916], 0.23315372270899087)\n",
            "(464, [0.0, 0.12840359374608218, 0.14416152213399833], 0.0908550386266935)\n",
            "(465, [0.0, 0.11675046238749347, 0.13852733046213989], 0.08509259761654445)\n",
            "(466, [0.0, 0.20264984743299672, 0.23853932788623053], 0.1470630584397424)\n",
            "(467, [0.0, 0.12872395524809455, 0.1516048313067618], 0.09344292885161878)\n",
            "(468, [0.0, 0.2221747942169222, 0.41160951403152024], 0.21126143608281414)\n",
            "(469, [0.0, 0.2654608391105914, 0.3752220160298376], 0.21356095171347633)\n",
            "(470, [0.0, 0.08640597349008998, 0.12250202340119684], 0.06963599896376227)\n",
            "(471, [0.0, 0.18608568602716127, 0.19158088766934472], 0.12588885789883533)\n",
            "(472, [0.0, 0.15441189555414142, 0.15753154948072962], 0.10398114834495702)\n",
            "(473, [0.0, 0.029327725705953545, 0.1529780073669224], 0.06076857769095865)\n",
            "(474, [0.0, 0.22758121185718863, 0.2819367648709752], 0.1698393255760546)\n",
            "(475, [0.0, 0.3294904618081792, 0.44033665324999394], 0.25660903835272436)\n",
            "(476, [0.0, 0.12456218674713063, 0.20463767662094698], 0.1097332877893592)\n",
            "(477, [0.0, 0.2999770829552909, 0.5812248038561437], 0.2937339622704782)\n",
            "(478, [0.0, 0.08042691146398243, 0.11379487567335375], 0.06474059571244539)\n",
            "(479, [0.0, 0.01625023652869035, 0.03467085916815427], 0.016973698565614873)\n",
            "(480, [0.0, 0.1250681636000962, 0.138950640262919], 0.0880062679543384)\n",
            "(481, [0.0, 0.13854620496575998, 0.16169589505282295], 0.1000807000061943)\n",
            "(482, [0.0, 0.10388780242931998, 0.11544636622056866], 0.07311138954996288)\n",
            "(483, [0.0, 0.027512905183419034, 0.08734306722681001], 0.038285324136743015)\n",
            "(484, [0.0, 0.10547095892515701, 0.42010115161386585], 0.1751907035130076)\n",
            "(485, [0.0, 0.05764724398438638, 0.0984963485095621], 0.052047864164649495)\n",
            "(486, [0.0, 0.09284195883727968, 0.14942073347437887], 0.08075423077055285)\n",
            "(487, [0.0, 0.18626250881528292, 0.230336098504086], 0.13886620243978964)\n",
            "(488, [0.0, 0.1568969242529371, 0.30996987058712877], 0.15562226494668863)\n",
            "(489, [0.0, 0.13447450595431545, 0.13514037743596236], 0.08987162779675927)\n",
            "(490, [0.0, 0.10368614257594767, 0.10800743307425507], 0.07056452521673424)\n",
            "(491, [0.0, 0.35718278143669097, 0.43882098524628466], 0.2653345888943252)\n",
            "(492, [0.0, 0.028518890628733064, 0.1492030512947298], 0.05924064730782096)\n",
            "(493, [0.0, 0.0912058316609166, 0.20368902396331182], 0.09829828520807614)\n",
            "(494, [0.0, 0.0054311528369111375, 0.1890168280538598], 0.06481599363025697)\n",
            "(495, [0.0, 0.1423816366728677, 0.1487776446100856], 0.09705309376098444)\n",
            "(496, [0.0, 0.14672915993149283, 0.15738993616490812], 0.10137303203213364)\n",
            "(497, [0.0, 0.0716418468858986, 0.33407845951816634], 0.13524010213468832)\n",
            "(498, [0.0, 0.44033665324999394, 0.5209194118440261], 0.32041868836467335)\n",
            "(499, [0.0, 0.16341426006890328, 0.22890369679837125], 0.13077265228909152)\n",
            "(500, [0.0, 0.11271338490172912, 0.13485972072064217], 0.08252436854079043)\n",
            "(501, [0.0, 0.10464839224233492, 0.1244907729349333], 0.07637972172575608)\n",
            "(502, [0.0, 0.21002677022065042, 0.2765142325726981], 0.1621803342644495)\n",
            "(503, [0.0, 0.15286840921636458, 0.18409614632436216], 0.11232151851357558)\n",
            "(504, [0.0, 0.08760267412263575, 0.2070644969901209], 0.09822239037091889)\n",
            "(505, [0.0, 0.26403043569849743, 0.26851034970277093], 0.1775135951337561)\n",
            "(506, [0.0, 0.1872930647456164, 0.19972984155748222], 0.12900763543436622)\n",
            "(507, [0.0, 0.2523649578113758, 0.2606645311759466], 0.1710098296624408)\n",
            "(508, [0.0, 0.23562062690040253, 0.25598611600895377], 0.16386891430311876)\n",
            "(509, [0.0, 0.13397396261085168, 0.20840112003247946], 0.11412502754777705)\n",
            "(510, [0.0, 0.14297946448096735, 0.1788914567472403], 0.10729030707606922)\n",
            "(511, [0.0, 0.12787999037476652, 0.21399550617937046], 0.113958498851379)\n",
            "(512, [0.0, 0.1811778871248153, 0.24291460873620352], 0.14136416528700627)\n",
            "(513, [0.0, 0.10547095892515701, 0.3190755242917996], 0.1415154944056522)\n",
            "(514, [0.0, 0.17497914141557502, 0.1755734195320578], 0.11685085364921094)\n",
            "(515, [0.0, 0.16897062857365858, 0.17298774321159704], 0.11398612392841855)\n",
            "(516, [0.0, 0.010587321782576315, 0.06755421254472206], 0.02604717810909946)\n",
            "(517, [0.0, 0.14089588788572796, 0.19401586510266727], 0.11163725099613174)\n",
            "(518, [0.0, 0.13757257839915749, 0.17909021376183615], 0.10555426405366454)\n",
            "(519, [0.0, 0.3720917939103977, 0.41265303529749175], 0.26158160973596317)\n",
            "(520, [0.0, 0.16312159621194106, 0.27821573533359745], 0.14711244384851282)\n",
            "(521, [0.0, 0.1521956283612704, 0.15894218746349914], 0.10371260527492318)\n",
            "(522, [0.0, 0.25018479062702853, 0.34092539162873053], 0.19703672741858635)\n",
            "(523, [0.0, 0.338386094910498, 0.8481565502400218], 0.39551421505017326)\n",
            "(524, [0.0, 0.2748849044202367, 0.4740167450556256], 0.24963388315862076)\n",
            "(525, [0.0, 0.09790997371536878, 0.19895465912934837], 0.09895487761490572)\n",
            "(526, [0.0, 0.04922175818742129, 0.20108013759744198], 0.08343396526162108)\n",
            "(527, [0.0, 0.09963381641976753, 0.13943708556885626], 0.0796903006628746)\n",
            "(528, [0.0, 0.03406870662672585, 0.1617163501804043], 0.06526168560237672)\n",
            "(529, [0.0, 0.28800698600258967, 0.32077655511346015], 0.20292784703868327)\n",
            "(530, [0.0, 0.09380571190797368, 0.10196450356998409], 0.0652567384926526)\n",
            "(531, [0.0, 0.07973743199591084, 0.10619348864384516], 0.06197697354658533)\n",
            "(532, [0.0, 0.2703149491227391, 0.35588833673498976], 0.20873442861924296)\n",
            "(533, [0.0, 0.09910862301834177, 0.11639638592421021], 0.07183500298085066)\n",
            "(534, [0.0, 0.35885064230051394, 0.4027617694652346], 0.2538708039219162)\n",
            "(535, [0.0, 0.12199909515004824, 0.13684432208586242], 0.08628113907863688)\n",
            "(536, [0.0, 0.18173092937332247, 0.19579685380909764], 0.12584259439414003)\n",
            "(537, [0.0, 0.09584660817982993, 0.16170388563765484], 0.08585016460582826)\n",
            "(538, [0.0, 0.055338660136674066, 0.198992909462792], 0.08477718986648869)\n",
            "(539, [0.0, 0.0671701990140932, 0.14494171197271413], 0.07070397032893577)\n",
            "(540, [0.0, 0.4907016512194541, 0.6219647860012496], 0.37088881240690125)\n",
            "(541, [0.0, 0.2319403175651408, 0.36446979606844593], 0.19880337121119557)\n",
            "(542, [0.0, 0.10841952775038396, 0.19937831028095065], 0.1025992793437782)\n",
            "(543, [0.0, 0.0678548239116401, 0.12199909515004824], 0.06328463968722944)\n",
            "(544, [0.0, 0.08718822882868771, 0.09963381641976753], 0.062274015082818414)\n",
            "(545, [0.0, 0.10209603494185959, 0.1766502195294386], 0.0929154181570994)\n",
            "(546, [0.0, 0.055828431002633606, 0.07642801261282668], 0.04408548120515343)\n",
            "(547, [0.0, 0.08248608780863102, 0.1611550271678338], 0.08121370499215494)\n",
            "(548, [0.0, 0.0690385302595531, 0.2078942713213438], 0.09231093386029897)\n",
            "(549, [0.0, 0.11015950822410187, 0.2668835697207173], 0.12568102598160638)\n",
            "(550, [0.0, 0.08777035987797319, 0.1839973641492615], 0.09058924134241156)\n",
            "(551, [0.0, 1.5713075745641982, 1.7684658266172475], 1.1132578003938152)\n",
            "(552, [0.0, 0.1764588261047308, 0.3169311500435919], 0.16446332538277422)\n",
            "(553, [0.0, 0.1258570288651621, 0.14904804252703582], 0.09163502379739931)\n",
            "(554, [0.0, 0.3326546096205625, 0.4001463206094771], 0.24426697674334652)\n",
            "(555, [0.0, 0.021070695837625678, 0.1922340938468708], 0.07110159656149882)\n",
            "(556, [0.0, 0.0937325528030296, 0.0966840487375644], 0.06347220051353133)\n",
            "(557, [0.0, 0.014285254299785624, 0.14765540214089407], 0.053980218813559896)\n",
            "(558, [0.0, 0.28096785029557203, 0.36082219239624963], 0.21393001423060723)\n",
            "(559, [0.0, 0.02177977937782632, 0.12064745685997838], 0.047475745412601564)\n",
            "(560, [0.0, 0.11648248302798091, 0.19972984155748222], 0.10540410819515438)\n",
            "(561, [0.0, 0.16170388563765484, 0.1840163023901414], 0.11524006267593208)\n",
            "(562, [0.0, 0.08457626494057027, 0.13940111586312484], 0.07465912693456504)\n",
            "(563, [0.0, 0.04257015486564449, 0.07190468148089368], 0.038158278782179395)\n",
            "(564, [0.0, 0.027171707745803762, 0.1905818843390351], 0.07258453069494629)\n",
            "(565, [0.0, 0.11220854554304655, 0.11999890476253651], 0.07740248343519435)\n",
            "(566, [0.0, 0.3601925301656113, 0.3644985380138521], 0.24156368939315448)\n",
            "(567, [0.0, 0.14542334722152206, 0.33684020080513244], 0.16075451600888482)\n",
            "(568, [0.0, 0.07985251902250513, 0.10104453332337245], 0.06029901744862586)\n",
            "(569, [0.0, 0.04391799455686618, 0.09973989868304918], 0.04788596441330512)\n",
            "(570, [0.0, 0.16048944492284506, 0.19845334370133538], 0.11964759620806015)\n",
            "(571, [0.0, 0.1416906833914651, 0.23286428565690204], 0.1248516563494557)\n",
            "(572, [0.0, 0.4775590334503775, 0.4943877196462487], 0.32398225103220873)\n",
            "(573, [0.0, 0.10278667532713691, 0.11637778239387422], 0.07305481924033705)\n",
            "(574, [0.0, 0.10399065268254759, 0.2072370521139443], 0.1037425682654973)\n",
            "(575, [0.0, 0.0320893725147833, 0.09562644059657108], 0.04257193770378479)\n",
            "(576, [0.0, 0.12554223775374498, 0.24361465587733808], 0.12305229787702769)\n",
            "(577, [0.0, 0.21207068829778294, 0.2995449455402936], 0.1705385446126922)\n",
            "(578, [0.0, 0.25382230525516647, 0.2995449455402936], 0.18445575026515335)\n",
            "(579, [0.0, 0.05361718608084115, 0.14382365519793658], 0.06581361375959258)\n",
            "(580, [0.0, 0.08880134817879463, 0.09583002779563338], 0.061543791991476006)\n",
            "(581, [0.0, 0.10697092097657591, 0.11853531871445928], 0.0751687465636784)\n",
            "(582, [0.0, 0.16202988173855612, 0.1817043493278016], 0.11457807702211924)\n",
            "(583, [0.0, 0.13192434677232606, 0.2711772350942951], 0.1343671939555404)\n",
            "(584, [0.0, 0.22285232875953223, 0.4804696090680319], 0.23444064594252137)\n",
            "(585, [0.0, 0.14248709106669225, 0.18257679894119747], 0.1083546300026299)\n",
            "(586, [0.0, 0.2711194231655793, 0.2755681003362448], 0.18222917450060802)\n",
            "(587, [0.0, 0.19785420390441943, 0.20578985748660392], 0.13454802046367445)\n",
            "(588, [0.0, 0.05683693736499551, 0.11954955020014253], 0.058795495855046016)\n",
            "(589, [0.0, 0.17808620780791226, 0.19066854177021794], 0.12291824985937673)\n",
            "(590, [0.0, 0.07231563985821603, 0.1912298769469095], 0.08784850560170851)\n",
            "(591, [0.0, 0.07576794261682404, 0.13807118068380347], 0.07127970776687584)\n",
            "(592, [0.0, 0.17068256840239865, 0.20832723573719475], 0.12633660137986447)\n",
            "(593, [0.0, 0.181259557964057, 0.1974720274020008], 0.12624386178868593)\n",
            "(594, [0.0, 0.08080244160443008, 0.14382365519793658], 0.07487536560078889)\n",
            "(595, [0.0, 0.36628263666136274, 0.46702720902944383], 0.2777699485636022)\n",
            "(596, [0.0, 0.5184453601176122, 0.5467984095165584], 0.35508125654472356)\n",
            "(597, [0.0, 0.09742457966865813, 0.157980237238207], 0.08513493896895505)\n",
            "(598, [0.0, 0.3104265648009164, 0.3135241365079302], 0.20798356710294888)\n",
            "(599, [0.0, 0.07901524871931365, 0.15805318952176015], 0.07902281274702459)\n",
            "(600, [0.0, 0.13666960373510645, 0.2529653472884928], 0.12987831700786642)\n",
            "(601, [0.0, 0.05168877043660844, 0.14008863479253475], 0.06392580174304772)\n",
            "(602, [0.0, 0.1798677416195609, 0.2782360083342503], 0.15270124998460372)\n",
            "(603, [0.0, 0.06712067323170752, 0.06755421254472206], 0.04489162859214319)\n",
            "(604, [0.0, 0.08846288511990108, 0.12387798339358479], 0.07078028950449529)\n",
            "(605, [0.0, 0.22954325558739622, 0.24693498761262783], 0.15882608106667467)\n",
            "(606, [0.0, 0.03280272733532124, 0.0789873476260632], 0.03726335832046148)\n",
            "(607, [0.0, 0.11493434326897657, 0.18258982800858733], 0.09917472375918797)\n",
            "(608, [0.0, 0.09219552715529351, 0.1974702199250806], 0.09655524902679137)\n",
            "(609, [0.0, 0.09762702807017891, 0.1034364665514118], 0.06702116487386357)\n",
            "(610, [0.0, 0.3897160351311527, 0.39208613409944365], 0.26060072307686544)\n",
            "(611, [0.0, 0.2658832625864292, 0.26975034755064253], 0.17854453671235723)\n",
            "(612, [0.0, 0.2652844050492275, 0.30821112332340705], 0.19116517612421152)\n",
            "(613, [0.0, 0.07002678786238602, 0.44214526792157166], 0.17072401859465255)\n",
            "(614, [0.0, 0.5281822179072235, 0.7823768515201889], 0.4368530231424708)\n",
            "(615, [0.0, 0.15477281897363465, 0.23402125139859173], 0.12959802345740878)\n",
            "(616, [0.0, 0.15452803610226853, 0.2601892139019777], 0.13823908333474874)\n",
            "(617, [0.0, 0.14975594998063754, 0.16522281791438095], 0.10499292263167283)\n",
            "(618, [0.0, 0.08012008487948998, 0.08172974047741266], 0.05394994178563421)\n",
            "(619, [0.0, 0.05683693736499551, 0.07569447914872243], 0.04417713883790598)\n",
            "(620, [0.0, 0.06509162142689469, 0.18416737312116954], 0.0830863315160214)\n",
            "(621, [0.0, 0.1609136835609649, 0.21251682690458695], 0.12447683682185061)\n",
            "(622, [0.0, 0.20904215630033107, 0.4271915128050657], 0.21207788970179892)\n",
            "(623, [0.0, 0.2653686178189461, 0.2764339048586978], 0.18060084089254796)\n",
            "(624, [0.0, 0.14471973572210411, 0.1711955572998638], 0.10530509767398931)\n",
            "(625, [0.0, 0.13562637534694644, 0.1844054233072403], 0.10667726621806224)\n",
            "(626, [0.0, 0.16608084779204008, 0.1720541466664555], 0.11271166481949853)\n",
            "(627, [0.0, 0.29625660387565717, 0.35036295797685907], 0.21553985395083874)\n",
            "(628, [0.0, 0.03406870662672585, 0.13067163849270946], 0.0549134483731451)\n",
            "(629, [0.0, 0.13562637534694644, 0.2233045995873009], 0.11964365831141578)\n",
            "(630, [0.0, 0.06548752796384762, 0.08261840096945498], 0.04936864297776753)\n",
            "(631, [0.0, 0.03649057198912382, 0.3468228832103961], 0.1277711517331733)\n",
            "(632, [0.0, 0.06071216701037066, 0.10034887853418045], 0.053687015181517035)\n",
            "(633, [0.0, 0.11978079080885533, 0.17301706944292722], 0.09759928675059418)\n",
            "(634, [0.0, 0.08265670124896615, 0.08367177336887953], 0.055442824872615225)\n",
            "(635, [0.0, 0.14769986507742652, 0.3122282351399592], 0.15330936673912857)\n",
            "(636, [0.0, 0.08045913835757663, 0.13447450595431545], 0.07164454810396403)\n",
            "(637, [0.0, 0.12787999037476652, 0.2698948556119989], 0.1325916153289218)\n",
            "(638, [0.0, 0.27290930522199397, 0.3130589872192341], 0.19532276414707603)\n",
            "(639, [0.0, 0.2006513002609005, 0.2529653472884928], 0.1512055491831311)\n",
            "(640, [0.0, 0.07293466818252355, 0.12758196270419236], 0.06683887696223864)\n",
            "(641, [0.0, 0.015594959859078439, 0.0562337033676057], 0.023942887742228046)\n",
            "(642, [0.0, 0.11978079080885533, 0.19407220801629052], 0.10461766627504862)\n",
            "(643, [0.0, 0.08547239241770241, 0.09375527705968323], 0.05974255649246188)\n",
            "(644, [0.0, 0.10856581192263827, 0.12758196270419236], 0.07871592487561022)\n",
            "(645, [0.0, 0.09375527705968323, 0.158131811351688], 0.08396236280379041)\n",
            "(646, [0.0, 0.1404589876362266, 0.1682707867589325], 0.10290992479838637)\n",
            "(647, [0.0, 0.12635846686751626, 0.18106904913441627], 0.10247583866731085)\n",
            "(648, [0.0, 0.04689279476375154, 0.12480490417491463], 0.05723256631288873)\n",
            "(649, [0.0, 0.03647948707358541, 0.10759275692801513], 0.04802408133386685)\n",
            "(650, [0.0, 0.10440868620927485, 0.1490867295650536], 0.08449847192477615)\n",
            "(651, [0.0, 0.04506531963921949, 0.12183257626115405], 0.055632631966791184)\n",
            "(652, [0.0, 0.1531382957442164, 0.17458657274863093], 0.10924162283094911)\n",
            "(653, [0.0, 0.07453636903038971, 0.2232490195913995], 0.09926179620726307)\n",
            "(654, [0.0, 0.13358648955838967, 0.24317755420524115], 0.12558801458787694)\n",
            "(655, [0.0, 0.22913840058082763, 0.24708852225871716], 0.1587423076131816)\n",
            "(656, [0.0, 0.1067704846167672, 0.16974536265215684], 0.09217194908964135)\n",
            "(657, [0.0, 0.046979210770660806, 0.11069619553306795], 0.05255846876790959)\n",
            "(658, [0.0, 0.06652921677681638, 0.16168037474713748], 0.07606986384131795)\n",
            "(659, [0.0, 0.0942489980067924, 0.18626250881528292], 0.09350383560735843)\n",
            "(660, [0.0, 0.1270831304657105, 0.16912480943457922], 0.09873597996676324)\n",
            "(661, [0.0, 0.08016344404039244, 0.09141743386207173], 0.05719362596748805)\n",
            "(662, [0.0, 0.118075040676471, 0.17452093224711987], 0.09753199097453029)\n",
            "(663, [0.0, 0.19351031102370977, 0.23962574006718695], 0.14437868369696558)\n",
            "(664, [0.0, 0.10920738521698722, 0.1642691191707904], 0.09115883479592587)\n",
            "(665, [0.0, 0.0330249777722833, 0.20832723573719475], 0.08045073783649268)\n",
            "(666, [0.0, 0.010587321782576315, 0.06712067323170752], 0.02590266500476128)\n",
            "(667, [0.0, 0.10530870318783098, 0.1974702199250806], 0.10092630770430386)\n",
            "(668, [0.0, 0.181259557964057, 0.26710486340092854], 0.14945480712166184)\n",
            "(669, [0.0, 0.07988226953850915, 0.09104934654939192], 0.05697720536263369)\n",
            "(670, [0.0, 0.1390730592390682, 0.19138917705231018], 0.1101540787637928)\n",
            "(671, [0.0, 0.1822838199569302, 0.26144189012143026], 0.14790857002612015)\n",
            "(672, [0.0, 0.10563824341429898, 0.1477469238151385], 0.08446172240981249)\n",
            "(673, [0.0, 0.0985320215604393, 0.15305887304459925], 0.08386363153501285)\n",
            "(674, [0.0, 0.11917531678807504, 0.24181576066387833], 0.12033035915065113)\n",
            "(675, [0.0, 0.08833570834044474, 0.11379487567335375], 0.06737686133793283)\n",
            "(676, [0.0, 0.11774854418768635, 0.2394555612190491], 0.11906803513557848)\n",
            "(677, [0.0, 0.40286442910190173, 0.5880318374790062], 0.3302987555269693)\n",
            "(678, [0.0, 0.10996045812504794, 0.12771880946258388], 0.07922642252921061)\n",
            "(679, [0.0, 0.2697703337634533, 0.3215607016628761], 0.1971103451421098)\n",
            "(680, [0.0, 0.27014115247864895, 0.3683896194988595], 0.2128435906591695)\n",
            "(681, [0.0, 0.0912548062309275, 0.10683128725057817], 0.06602869782716855)\n",
            "(682, [0.0, 0.07189829802281732, 0.2970745192784053], 0.12299093910040754)\n",
            "(683, [0.0, 0.26863804384578677, 0.32871437962711286], 0.19911747449096653)\n",
            "(684, [0.0, 0.11028932091573371, 0.24582191560767436], 0.11870374550780269)\n",
            "(685, [0.0, 0.05870916519667008, 0.09343473647726899], 0.050714633891313025)\n",
            "(686, [0.0, 0.16991749233464504, 0.4995680222706121], 0.22316183820175237)\n",
            "(687, [0.0, 0.33536722352737997, 0.36744333423182046], 0.23427018591973348)\n",
            "(688, [0.0, 0.5611860546180707, 0.5894297428957709], 0.3835385991712805)\n",
            "(689, [0.0, 0.14375521255145698, 0.19039663934272663], 0.11138395063139454)\n",
            "(690, [0.0, 0.15755980200851508, 0.18004873041872335], 0.11253617747574614)\n",
            "(691, [0.0, 0.19325823017145285, 0.240973458920389], 0.14474389636394727)\n",
            "(692, [0.0, 0.5234616459361783, 0.5281822179072235], 0.35054795461446725)\n",
            "(693, [0.0, 0.081127448362504, 0.12903391390691354], 0.07005378742313918)\n",
            "(694, [0.0, 0.1430338332415011, 0.25962454002469304], 0.13421945775539804)\n",
            "(695, [0.0, 0.028518890628733064, 0.14892589891589064], 0.05914826318154123)\n",
            "(696, [0.0, 0.0678902433896491, 0.1613880266246154], 0.07642609000475484)\n",
            "(697, [0.0, 0.1517175141689701, 0.1860510778033251], 0.11258953065743174)\n",
            "(698, [0.0, 0.23805030346974274, 0.26625256528207], 0.16810095625060423)\n",
            "(699, [0.0, 0.11817223132896337, 0.12446628366580141], 0.08087950499825493)\n",
            "(700, [0.0, 0.4361805807022149, 0.4476574794477164], 0.29461268671664376)\n",
            "(701, [0.0, 0.3773050265304162, 0.49613334252044444], 0.29114612301695353)\n",
            "(702, [0.0, 0.5422967923115616, 0.7015914934039965], 0.4146294285718527)\n",
            "(703, [0.0, 0.22913840058082763, 0.23004091170511537], 0.153059770761981)\n",
            "(704, [0.0, 0.21045911717888388, 0.38382137867162175], 0.1980934986168352)\n",
            "(705, [0.0, 0.1049578665676585, 0.1127797049287668], 0.07257919049880843)\n",
            "(706, [0.0, 0.20145168843458278, 0.20625885151841608], 0.13590351331766629)\n",
            "(707, [0.0, 0.13067163849270946, 0.1617163501804043], 0.09746266289103793)\n",
            "(708, [0.0, 0.07225308500971488, 0.0966840487375644], 0.056312377915759756)\n",
            "(709, [0.0, 0.16109596783274155, 0.17794472862041227], 0.11301356548438461)\n",
            "(710, [0.0, 0.10028660802347869, 0.16547496573761902], 0.08858719125369924)\n",
            "(711, [0.0, 0.3380260764970088, 0.3861860007806731], 0.2414040257592273)\n",
            "(712, [0.0, 0.10841952775038396, 0.12048704503578325], 0.07630219092872241)\n",
            "(713, [0.0, 0.060622431480414074, 0.5064952894422705], 0.18903924030756153)\n",
            "(714, [0.0, 0.12840359374608218, 0.1374667202331004], 0.08862343799306086)\n",
            "(715, [0.0, 0.038893154741021396, 0.2041647081051638], 0.08101928761539506)\n",
            "(716, [0.0, 0.07438955288813696, 0.22549763762534852], 0.0999623968378285)\n",
            "(717, [0.0, 0.15288918099520935, 0.16282047916412246], 0.10523655338644393)\n",
            "(718, [0.0, 0.6113332941348324, 0.6684227057792175], 0.4265853333046833)\n",
            "(719, [0.0, 0.029327725705953545, 0.1721292041936975], 0.06715230996655035)\n",
            "(720, [0.0, 0.1392873004607944, 0.29698104175778345], 0.14542278073952594)\n",
            "(721, [0.0, 0.18868860324153147, 0.21607077263499583], 0.13491979195884243)\n",
            "(722, [0.0, 0.2801310050732071, 0.3903222729737062], 0.22348442601563775)\n",
            "(723, [0.0, 0.18521488965587393, 0.20828317011473627], 0.13116601992353674)\n",
            "(724, [0.0, 0.10150869614305817, 0.16001633000443757], 0.08717500871583192)\n",
            "(725, [0.0, 0.026964397509312697, 0.08016344404039244], 0.03570928051656838)\n",
            "(726, [0.0, 0.3715879539626773, 0.3819570733193452], 0.2511816757606742)\n",
            "(727, [0.0, 0.11498243960281836, 0.18782222115945785], 0.10093488692075873)\n",
            "(728, [0.0, 0.17147773975652808, 0.17301283514402882], 0.11483019163351897)\n",
            "(729, [0.0, 0.12331664425170763, 0.14333753011906222], 0.08888472479025662)\n",
            "(730, [0.0, 0.12067116061700772, 0.18251404821557213], 0.10106173627752661)\n",
            "(731, [0.0, 0.130189621442348, 0.13134891937438176], 0.08717951360557659)\n",
            "(732, [0.0, 0.32422805716449865, 0.3861860007806731], 0.2368046859817239)\n",
            "(733, [0.0, 0.025905217516784682, 0.15096176630630007], 0.05895566127436158)\n",
            "(734, [0.0, 0.15708413040918293, 0.24088322238620619], 0.1326557842651297)\n",
            "(735, [0.0, 0.11002035263496858, 0.11791773352384344], 0.07597936205293734)\n",
            "(736, [0.0, 0.27605670199367527, 0.38490691017128537], 0.22032120405498687)\n",
            "(737, [0.0, 0.09320760846276564, 0.1629575262106439], 0.08538837822446985)\n",
            "(738, [0.0, 0.16612148110115366, 0.167807795552418], 0.1113097588845239)\n",
            "(739, [0.0, 0.12959779377278965, 0.14892589891589064], 0.09284123089622677)\n",
            "(740, [0.0, 0.023912223621289683, 0.03141625757249243], 0.018442827064594037)\n",
            "(741, [0.0, 0.10969661429072466, 0.19025591811861378], 0.09998417746977949)\n",
            "(742, [0.0, 0.28096785029557203, 0.3960835339713737], 0.22568379475564856)\n",
            "(743, [0.0, 0.024052214902694647, 0.11675046238749347], 0.04693422576339604)\n",
            "(744, [0.0, 0.3590344316211355, 0.40760069455957854], 0.25554504206023804)\n",
            "(745, [0.0, 0.11693950513182164, 0.23550488744240647], 0.11748146419140937)\n",
            "(746, [0.0, 0.005849763224548059, 0.0699352569666981], 0.025261673397082053)\n",
            "(747, [0.0, 0.10973825676863293, 0.14639531426221392], 0.08537785701028228)\n",
            "(748, [0.0, 0.07761573725279991, 0.10697865809315146], 0.061531465115317124)\n",
            "(749, [0.0, 0.1682707650226343, 0.1829968980303682], 0.1170892210176675)\n",
            "(750, [0.0, 0.21082630136600958, 0.31484137091955033], 0.17522255742851997)\n",
            "(751, [0.0, 0.16312159621194106, 0.1879961484020043], 0.11703924820464845)\n",
            "(752, [0.0, 0.03647948707358541, 0.09620035977550744], 0.04422661561636428)\n",
            "(753, [0.0, 0.07382987945037607, 0.13439570442173504], 0.06940852795737038)\n",
            "(754, [0.0, 0.165131884465899, 0.17455324262733884], 0.11322837569774595)\n",
            "(755, [0.0, 0.21389439078157646, 0.24497670874631813], 0.15295703317596487)\n",
            "(756, [0.0, 0.06071216701037066, 0.11633226716885567], 0.05901481139307544)\n",
            "(757, [0.0, 0.09380571190797368, 0.09501058569483878], 0.06293876586760415)\n",
            "(758, [0.0, 0.3260413354296737, 0.596247559675039], 0.3074296317015709)\n",
            "(759, [0.0, 0.0744235553121028, 0.23942339419164957], 0.10461564983458413)\n",
            "(760, [0.0, 0.18015141573419846, 0.1988604852067183], 0.12633730031363893)\n",
            "(761, [0.0, 0.10149098199643095, 0.11137327165774974], 0.07095475121806023)\n",
            "(762, [0.0, 0.09136211459846882, 0.1329377141941377], 0.0747666095975355)\n",
            "(763, [0.0, 0.4010331237583351, 0.46674362596993435], 0.2892589165760898)\n",
            "(764, [0.0, 0.0669179713536706, 0.21092616425876815], 0.09261471187081291)\n",
            "(765, [0.0, 0.15148506151033445, 0.16213236702045022], 0.10453914284359489)\n",
            "(766, [0.0, 0.08833570834044474, 0.15851702930181905], 0.0822842458807546)\n",
            "(767, [0.0, 0.31641037661596944, 0.36082219239624963], 0.2257441896707397)\n",
            "(768, [0.0, 0.018098242941432186, 0.08761235637599253], 0.035236866439141576)\n",
            "(769, [0.0, 0.04453672210005461, 0.18891259674704558], 0.07781643961570006)\n",
            "(770, [0.0, 0.07927336237546571, 0.10923655790767717], 0.06283664009438096)\n",
            "(771, [0.0, 0.3067440080734406, 0.42313038869623115], 0.2432914655898906)\n",
            "(772, [0.0, 0.1721292041936975, 0.19293075335106213], 0.12168665251491988)\n",
            "(773, [0.0, 0.0807305198535401, 0.10445914110644204], 0.061729886986660716)\n",
            "(774, [0.0, 0.03861598840409674, 0.3070093616018961], 0.11520845000199761)\n",
            "(775, [0.0, 0.16368065814848637, 0.18634887234511213], 0.11667651016453283)\n",
            "(776, [0.0, 0.12159615465520131, 0.3052350511769356], 0.14227706861071232)\n",
            "(777, [0.0, 0.14944201927203943, 0.17169898206291748], 0.10704700044498563)\n",
            "(778, [0.0, 0.06606223479569004, 0.08442160417241613], 0.05016127965603539)\n",
            "(779, [0.0, 0.021673515290855826, 0.15056720357747108], 0.057413572956108966)\n",
            "(780, [0.0, 0.026552079232371, 0.07973743199591084], 0.03542983707609394)\n",
            "(781, [0.0, 0.5275954454835196, 0.5417626555551682], 0.3564527003462293)\n",
            "(782, [0.0, 0.08038878159218518, 0.17853989998954686], 0.08630956052724402)\n",
            "(783, [0.0, 0.2340002421268826, 0.25062546039842903], 0.16154190084177056)\n",
            "(784, [0.0, 0.09175606595037199, 0.18872450907300686], 0.09349352500779295)\n",
            "(785, [0.0, 0.2707843187320483, 0.6428462493866879], 0.3045435227062454)\n",
            "(786, [0.0, 0.11299253088404204, 0.1529557111150279], 0.08864941399968998)\n",
            "(787, [0.0, 0.03882281995551482, 0.2042612428871225], 0.08102802094754577)\n",
            "(788, [0.0, 0.08846288511990108, 0.19314622830079317], 0.09386970447356476)\n",
            "(789, [0.0, 0.24235244201735304, 0.2685605121283548], 0.17030431804856927)\n",
            "(790, [0.0, 0.24901484778968713, 0.43170055142465485], 0.22690513307144733)\n",
            "(791, [0.0, 0.08974924111452165, 0.157980237238207], 0.08257649278424288)\n",
            "(792, [0.0, 0.2084320764221676, 0.29557436438707635], 0.16800214693641466)\n",
            "(793, [0.0, 0.06550100291221031, 0.0779154552407107], 0.04780548605097367)\n",
            "(794, [0.0, 0.1352597403735384, 0.23402125139859173], 0.12309366392404338)\n",
            "(795, [0.0, 0.014285254299785624, 0.1341431428211807], 0.04947613237365544)\n",
            "(796, [0.0, 0.19400813748053242, 0.2067362387374155], 0.13358145873931598)\n",
            "(797, [0.0, 0.03462732209309417, 0.17386948143915362], 0.06949893451074926)\n",
            "(798, [0.0, 0.17379268634586761, 0.18672625276791863], 0.12017297970459541)\n",
            "(799, [0.0, 0.09284195883727968, 0.16522281791438095], 0.08602159225055354)\n",
            "(800, [0.0, 0.11941366066568043, 0.23197774916893626], 0.11713046994487224)\n",
            "(801, [0.0, 0.303017756737101, 0.3129254263255085], 0.20531439435420318)\n",
            "(802, [0.0, 0.07940235482691836, 0.2832805388454867], 0.1208942978908017)\n",
            "(803, [0.0, 0.2580692528547246, 0.2823372943464336], 0.18013551573371941)\n",
            "(804, [0.0, 0.11480826122850958, 0.1149628446044804], 0.07659036861099666)\n",
            "(805, [0.0, 0.04317402246293297, 0.23714627808583014], 0.09344010018292104)\n",
            "(806, [0.0, 0.21156189737068198, 0.5581502665048858], 0.25657072129185593)\n",
            "(807, [0.0, 0.06594019586462235, 0.14338345388949195], 0.0697745499180381)\n",
            "(808, [0.0, 0.09545459429031533, 0.17188174344003096], 0.0891121125767821)\n",
            "(809, [0.0, 0.05714684684844267, 0.1161742052568859], 0.057773684035109525)\n",
            "(810, [0.0, 0.12446756134624534, 0.16210252995379967], 0.09552336376668168)\n",
            "(811, [0.0, 0.23441497868237612, 0.2622681165492272], 0.16556103174386777)\n",
            "(812, [0.0, 0.1805067224771796, 0.23991141979199662], 0.14013938075639207)\n",
            "(813, [0.0, 0.09545459429031533, 0.18149031096487825], 0.09231496841839786)\n",
            "(814, [0.0, 0.08024905130346054, 0.12136962639405698], 0.06720622589917251)\n",
            "(815, [0.0, 0.15405410258647867, 0.21344917317201995], 0.12250109191949954)\n",
            "(816, [0.0, 0.10553275174791932, 0.2621986840653893], 0.12257714527110287)\n",
            "(817, [0.0, 0.17897770492554638, 0.1803791233972768], 0.11978560944094106)\n",
            "(818, [0.0, 0.060901681786767546, 0.09049351110085005], 0.05046506429587253)\n",
            "(819, [0.0, 0.07229774198158345, 0.08273972775052897], 0.05167915657737081)\n",
            "(820, [0.0, 0.19585216270014164, 0.20582320871086726], 0.1338917904703363)\n",
            "(821, [0.0, 0.10948155587126816, 0.13091026264339684], 0.080130606171555)\n",
            "(822, [0.0, 0.30975832892155014, 0.3560121476437648], 0.22192349218843832)\n",
            "(823, [0.0, 0.2755339720172874, 0.38405196104588424], 0.2198619776877239)\n",
            "(824, [0.0, 0.14494171197271413, 0.15019315164887298], 0.09837828787386237)\n",
            "(825, [0.0, 0.09835860302092617, 0.10223033033319001], 0.06686297778470539)\n",
            "(826, [0.0, 0.08080244160443008, 0.1131498004758004], 0.06465074736007682)\n",
            "(827, [0.0, 0.12002442675081933, 0.16196544539130056], 0.0939966240473733)\n",
            "(828, [0.0, 0.11015950822410187, 0.2544263753530838], 0.12152862785906189)\n",
            "(829, [0.0, 1.0754477438475925, 1.103538784482454], 0.7263288427766822)\n",
            "(830, [0.0, 0.28027387940961523, 0.6672850585508296], 0.3158529793201483)\n",
            "(831, [0.0, 0.05930811783508371, 0.6320902818370473], 0.23046613322404366)\n",
            "(832, [0.0, 0.2999378135653917, 0.3345657622171262], 0.21150119192750597)\n",
            "(833, [0.0, 0.18816982074854582, 0.19790849918592252], 0.12869277331148946)\n",
            "(834, [0.0, 0.05764724398438638, 0.060650999059117555], 0.03943274768116798)\n",
            "(835, [0.0, 0.1438951962381678, 0.1981243951915066], 0.11400653047655813)\n",
            "(836, [0.0, 0.18021137811826818, 0.29726401725367846], 0.1591584651239822)\n",
            "(837, [0.0, 0.1491731861222327, 0.24693498761262783], 0.13203605791162018)\n",
            "(838, [0.0, 0.2054947684602844, 0.2300130713121207], 0.14516927992413503)\n",
            "(839, [0.0, 0.056569250082834414, 0.17620314917134627], 0.07759079975139356)\n",
            "(840, [0.0, 0.5371231064449773, 0.5488669623063291], 0.3619966895837688)\n",
            "(841, [0.0, 0.15875479404375747, 0.1624754626630764], 0.10707675223561129)\n",
            "(842, [0.0, 0.2611799287468426, 0.3638022413263999], 0.20832739002441417)\n",
            "(843, [0.0, 0.1772723429208921, 0.2637357583093611], 0.1470027004100844)\n",
            "(844, [0.0, 0.3512819213285164, 0.3889591841898713], 0.2467470351727959)\n",
            "(845, [0.0, 0.05041076651814924, 0.05513079094228082], 0.03518051915347669)\n",
            "(846, [0.0, 0.1717276363110754, 0.17271127438335854], 0.11481297023147798)\n",
            "(847, [0.0, 0.06589375195069908, 0.09587251761530574], 0.05392208985533494)\n",
            "(848, [0.0, 0.38529466255908146, 0.4785013628279914], 0.2879320084623576)\n",
            "(849, [0.0, 0.07901524871931365, 0.07948096929267481], 0.05283207267066282)\n",
            "(850, [0.0, 0.23004091170511537, 0.24708852225871716], 0.15904314465461084)\n",
            "(851, [0.0, 0.07569447914872243, 0.13104377794191885], 0.06891275236354709)\n",
            "(852, [0.0, 0.07786327928349496, 0.19785420390441943], 0.09190582772930479)\n",
            "(853, [0.0, 0.2184914450984717, 0.37435550429930836], 0.19761564979926002)\n",
            "(854, [0.0, 0.05168877043660844, 0.10912924246767453], 0.05360600430142765)\n",
            "(855, [0.0, 0.16607151751581004, 0.20410689042322705], 0.1233928026463457)\n",
            "(856, [0.0, 0.13579167719235075, 0.2420818111311363], 0.12595782944116235)\n",
            "(857, [0.0, 0.1559784444443634, 0.20838985253621545], 0.12145609899352629)\n",
            "(858, [0.0, 0.4314927818621013, 0.4679900246298859], 0.29982760216399573)\n",
            "(859, [0.0, 0.14317415786190119, 0.1549983922412741], 0.09939085003439176)\n",
            "(860, [0.0, 0.07116543215003192, 0.11778747522032351], 0.06298430245678514)\n",
            "(861, [0.0, 0.023844680159247726, 0.07593509641417828], 0.033259925524475334)\n",
            "(862, [0.0, 0.09136211459846882, 0.11295170817245372], 0.06810460759030751)\n",
            "(863, [0.0, 0.06983542534026044, 0.09320760846276564], 0.054347677934342024)\n",
            "(864, [0.0, 0.03533131716054301, 0.1621832748293062], 0.06583819732994974)\n",
            "(865, [0.0, 0.20971229197444802, 0.2102504771351523], 0.1399875897032001)\n",
            "(866, [0.0, 0.3535174844017239, 0.619038770175871], 0.3241854181925316)\n",
            "(867, [0.0, 0.12654276318734145, 0.20704229562274168], 0.11119501960336105)\n",
            "(868, [0.0, 0.07592732329058048, 0.1555922695479259], 0.07717319761283546)\n",
            "(869, [0.0, 0.08385118204354186, 0.09454498168785178], 0.059465387910464546)\n",
            "(870, [0.0, 0.08767822911443741, 0.11069619553306795], 0.06612480821583512)\n",
            "(871, [0.0, 0.0671701990140932, 0.19040369878334298], 0.08585796593247873)\n",
            "(872, [0.0, 0.22910536996362804, 0.35431046826456775], 0.19447194607606527)\n",
            "(873, [0.0, 0.07623572432458325, 0.12484112734201877], 0.06702561722220067)\n",
            "(874, [0.0, 0.08993367021129449, 0.33357513338909117], 0.14116960120012856)\n",
            "(875, [0.0, 0.23664637657209617, 0.23667264584085007], 0.15777300747098208)\n",
            "(876, [0.0, 0.46024875809900295, 0.4773115861662858], 0.3125201147550962)\n",
            "(877, [0.0, 0.19037743968523974, 0.24185394945563082], 0.14407712971362352)\n",
            "(878, [0.0, 0.09587251761530574, 0.13217825286610058], 0.07601692349380211)\n",
            "(879, [0.0, 0.16200084987954297, 0.16852120832386355], 0.11017401940113551)\n",
            "(880, [0.0, 0.07116543215003192, 0.09033421309187376], 0.053833215080635224)\n",
            "(881, [0.0, 0.10081001112529273, 0.15222244929262177], 0.08434415347263817)\n",
            "(882, [0.0, 0.049850913318748004, 0.22138998421292666], 0.09041363251055823)\n",
            "(883, [0.0, 0.12533072639667575, 0.1372642535115555], 0.08753165996941041)\n",
            "(884, [0.0, 0.07451339145319368, 0.2301180627951079], 0.10154381808276719)\n",
            "(885, [0.0, 0.05729990032379218, 0.06732467517743615], 0.04154152516707611)\n",
            "(886, [0.0, 0.1604515744445351, 0.5614145422358534], 0.24062203889346284)\n",
            "(887, [0.0, 0.044943291517906526, 0.18085054919828814], 0.07526461357206489)\n",
            "(888, [0.0, 0.15045521513855525, 0.2828761485139057], 0.14444378788415366)\n",
            "(889, [0.0, 0.26368420297176975, 0.5433018204398339], 0.2689953411372012)\n",
            "(890, [0.0, 0.08432121753913435, 0.10464839224233492], 0.06298986992715642)\n",
            "(891, [0.0, 0.12008020812664326, 0.18535929294002723], 0.1018131670222235)\n",
            "(892, [0.0, 0.34717412672485876, 0.7092068498170273], 0.3521269921806287)\n",
            "(893, [0.0, 0.17010476347882747, 0.17493053807483153], 0.115011767184553)\n",
            "(894, [0.0, 0.16429597279398447, 0.21964853338007811], 0.12798150205802086)\n",
            "(895, [0.0, 0.02583469174264348, 0.10513237728571291], 0.0436556896761188)\n",
            "(896, [0.0, 0.07166185378564303, 0.11689201897368245], 0.06285129091977516)\n",
            "(897, [0.0, 0.04317402246293297, 0.20263699254840267], 0.08193700500377854)\n",
            "(898, [0.0, 0.026552079232371, 0.10619348864384516], 0.044248522625405386)\n",
            "(899, [0.0, 0.12598366247750079, 0.13414100519068356], 0.08670822255606145)\n",
            "(900, [0.0, 0.10563824341429898, 0.18772230316454502], 0.09778684885961467)\n",
            "(901, [0.0, 0.032485773121836474, 0.12300508176960373], 0.0518302849638134)\n",
            "(902, [0.0, 0.2817037512997595, 0.3669779953268168], 0.21622724887552544)\n",
            "(903, [0.0, 0.16632015500952946, 0.21990578225344898], 0.12874197908765947)\n",
            "(904, [0.0, 0.08611628243648822, 0.09614673174174629], 0.0607543380594115)\n",
            "(905, [0.0, 0.2371353617102936, 0.39912066320991624], 0.21208534164006995)\n",
            "(906, [0.0, 0.038740363516919854, 0.1423816366728677], 0.060374000063262524)\n",
            "(907, [0.0, 0.216495288075841, 0.30567657805155085], 0.17405728870913062)\n",
            "(908, [0.0, 0.4191993328050705, 0.44248389485187495], 0.28722774255231515)\n",
            "(909, [0.0, 0.07229986413136898, 0.10135543845366955], 0.05788510086167951)\n",
            "(910, [0.0, 0.13898342933938856, 0.2654608391105914], 0.1348147561499933)\n",
            "(911, [0.0, 0.0942489980067924, 0.23988652077287867], 0.11137850625989036)\n",
            "(912, [0.0, 0.10399065268254759, 0.10848239510467968], 0.07082434926240909)\n",
            "(913, [0.0, 0.1398023277452464, 0.16595120948124178], 0.10191784574216273)\n",
            "(914, [0.0, 0.010786055879419347, 0.03141625757249243], 0.014067437817303926)\n",
            "(915, [0.0, 0.12008020812664326, 0.1976111894646776], 0.10589713253044028)\n",
            "(916, [0.0, 0.06281853369924069, 0.12395098831704196], 0.06225650733876088)\n",
            "(917, [0.0, 0.08890942694501354, 0.15708413040918293], 0.08199785245139882)\n",
            "(918, [0.0, 0.11259727310024799, 0.22975189998220946], 0.11411639102748582)\n",
            "(919, [0.0, 0.12591652776505008, 0.19705869339518223], 0.10765840705341077)\n",
            "(920, [0.0, 0.1338441848181956, 0.1407987694669735], 0.0915476514283897)\n",
            "(921, [0.0, 0.10101448948876861, 0.14452581126655872], 0.08184676691844245)\n",
            "(922, [0.0, 0.15781938620756958, 0.2323054902347441], 0.13004162548077122)\n",
            "(923, [0.0, 0.08666173336824488, 0.17534048827786533], 0.08733407388203673)\n",
            "(924, [0.0, 0.12011601450782972, 0.28551880373055843], 0.13521160607946273)\n",
            "(925, [0.0, 0.38537671193210016, 0.4112269871406167], 0.2655345663575723)\n",
            "(926, [0.0, 0.34717412672485876, 1.0240336139531745], 0.45706924689267775)\n",
            "(927, [0.0, 0.14471973572210411, 0.2018987755253028], 0.11553950374913564)\n",
            "(928, [0.0, 0.06149206215093057, 0.1799009655611366], 0.08046434257068906)\n",
            "(929, [0.0, 0.10254779789509219, 0.1534133193091685], 0.08532037240142022)\n",
            "(930, [0.0, 0.08757210744922624, 0.17632489542839272], 0.08796566762587299)\n",
            "(931, [0.0, 0.1338361216406228, 0.1806326650983146], 0.10482292891297913)\n",
            "(932, [0.0, 0.09762702807017891, 0.10937770147182597], 0.06900157651400163)\n",
            "(933, [0.0, 0.09020821399863715, 0.1015864341146906], 0.06393154937110924)\n",
            "(934, [0.0, 0.04118554806740308, 0.09343473647726899], 0.04487342818155736)\n",
            "(935, [0.0, 0.08890942694501354, 0.24158295231691], 0.11016412642064118)\n",
            "(936, [0.0, 0.10304966196782409, 0.1439500999773176], 0.0823332539817139)\n",
            "(937, [0.0, 0.061733074360727225, 0.12636215103402865], 0.06269840846491863)\n",
            "(938, [0.0, 0.08287788859605104, 0.1244907729349333], 0.06912288717699477)\n",
            "(939, [0.0, 0.1131498004758004, 0.1738505789818413], 0.09566679315254724)\n",
            "(940, [0.0, 0.24615970093157113, 0.586065685424291], 0.27740846211862075)\n",
            "(941, [0.0, 0.262499138025973, 0.294084127649939], 0.18552775522530401)\n",
            "(942, [0.0, 0.06550100291221031, 0.0940632371506111], 0.05318808002094047)\n",
            "(943, [0.0, 0.16916929740152073, 0.22638310479286874], 0.13185080073146316)\n",
            "(944, [0.0, 0.2901544405055372, 0.31692074149965227], 0.2023583940017298)\n",
            "(945, [0.0, 0.18371448293787276, 0.1936296678458062], 0.12578138359455965)\n",
            "(946, [0.0, 0.1430113976819843, 0.17206385962876283], 0.10502508577024904)\n",
            "(947, [0.0, 0.16732791326146443, 0.24088322238620619], 0.13607037854922355)\n",
            "(948, [0.0, 0.08172974047741266, 0.15896541622508617], 0.08023171890083294)\n",
            "(949, [0.0, 0.11478218904558574, 0.11498243960281836], 0.07658820954946803)\n",
            "(950, [0.0, 0.07882313925838598, 0.30217417603009106], 0.12699910509615903)\n",
            "(951, [0.0, 0.1890168280538598, 0.1933187228534879], 0.12744518363578256)\n",
            "(952, [0.0, 0.11328073802095963, 0.13801738304524203], 0.08376604035540056)\n",
            "(953, [0.0, 0.27636275183254694, 0.35718278143669097], 0.2111818444230793)\n",
            "(954, [0.0, 0.027512905183419034, 0.06958437616602585], 0.03236576044981496)\n",
            "(955, [0.0, 0.06043697915753781, 0.1220983004828495], 0.06084509321346244)\n",
            "(956, [0.0, 0.1926460329987392, 0.20698665878467082], 0.13321089726113666)\n",
            "(957, [0.0, 0.04354156326773118, 0.18746983196316694], 0.07700379841029938)\n",
            "(958, [0.0, 0.3191342617636522, 0.3437224558483792], 0.22095223920401047)\n",
            "(959, [0.0, 0.04991296117904419, 0.19987859526256657], 0.08326385214720358)\n",
            "(960, [0.0, 0.03187637534698753, 0.13057488169586068], 0.05415041901428273)\n",
            "(961, [0.0, 0.1246025709574309, 0.1907534262455004], 0.10511866573431043)\n",
            "(962, [0.0, 0.10119839073463258, 0.20476801774886133], 0.1019888028278313)\n",
            "(963, [0.0, 0.07995909702781558, 0.10697092097657591], 0.06231000600146383)\n",
            "(964, [0.0, 0.06238375394245619, 0.09855899064196626], 0.053647581528140816)\n",
            "(965, [0.0, 0.06291959997327554, 0.1285632037421435], 0.06382760123847302)\n",
            "(966, [0.0, 0.08042691146398243, 0.1570590261498593], 0.07916197920461392)\n",
            "(967, [0.0, 0.11133459366553583, 0.294255488499803], 0.13519669405511295)\n",
            "(968, [0.0, 0.14557704178930403, 0.20749772620453924], 0.11769158933128109)\n",
            "(969, [0.0, 0.307023261047951, 0.30995433306686543], 0.20565919803827215)\n",
            "(970, [0.0, 0.312504185193412, 0.337713915073481], 0.216739366755631)\n",
            "(971, [0.0, 0.16424122846467495, 0.167374482727314], 0.11053857039732966)\n",
            "(972, [0.0, 0.04229739560068784, 0.13079259189150994], 0.057696662497399256)\n",
            "(973, [0.0, 0.06700172512207629, 0.11213919640727127], 0.05971364050978252)\n",
            "(974, [0.0, 0.2691358369610376, 0.2745999627343997], 0.18124526656514575)\n",
            "(975, [0.0, 0.20577015171211863, 0.22247667776383145], 0.14274894315865003)\n",
            "(976, [0.0, 0.12093507864242092, 0.18021137811826818], 0.10038215225356303)\n",
            "(977, [0.0, 0.07576794261682404, 0.20351056031689022], 0.09309283431123809)\n",
            "(978, [0.0, 0.10135543845366955, 0.1349076369285187], 0.07875435846072942)\n",
            "(979, [0.0, 0.08432121753913435, 0.10936381196616327], 0.06456167650176588)\n",
            "(980, [0.0, 0.13046514341676982, 0.28498827840444063], 0.13848447394040347)\n",
            "(981, [0.0, 0.009994581881802958, 0.20971229197444802], 0.07323562461875033)\n",
            "(982, [0.0, 0.09631917921459886, 0.12038758228006614], 0.07223558716488833)\n",
            "(983, [0.0, 0.10800743307425507, 0.17379268634586761], 0.0939333731400409)\n",
            "(984, [0.0, 0.20128603477837442, 0.2768590806911845], 0.15938170515651964)\n",
            "(985, [0.0, 0.1416906833914651, 0.1730357184424541], 0.1049088006113064)\n",
            "(986, [0.0, 0.5128032376833145, 0.6013646549642201], 0.3713892975491782)\n",
            "(987, [0.0, 0.1213517848600303, 0.13093891608279323], 0.08409690031427451)\n",
            "(988, [0.0, 0.0748987292371134, 0.24871966480106877], 0.1078727980127274)\n",
            "(989, [0.0, 0.15591200756930168, 0.22673978934839775], 0.1275505989725665)\n",
            "(990, [0.0, 0.0996874577171533, 0.15897810577554955], 0.08622185449756761)\n",
            "(991, [0.0, 0.036966037283912956, 0.09542825271905503], 0.044131430000989326)\n",
            "(992, [0.0, 0.05694279353054962, 0.08367177336887953], 0.04687152229980972)\n",
            "(993, [0.0, 0.055612168851445314, 0.08200551891713986], 0.04587256258952839)\n",
            "(994, [0.0, 0.12658210778623366, 0.12714228414748152], 0.08457479731123839)\n",
            "(995, [0.0, 0.09326290615371605, 0.1991467136854392], 0.09746987327971841)\n",
            "(996, [0.0, 0.1549983922412741, 0.22549763762534852], 0.12683200995554086)\n",
            "(997, [0.0, 0.39353250109936205, 0.4352892401772619], 0.27627391375887467)\n",
            "(998, [0.0, 0.03446843839545877, 0.04257015486564449], 0.02567953108703442)\n",
            "(999, [0.0, 0.010786055879419347, 0.023912223621289683], 0.01156609316690301)\n",
            "(1000, [0.0, 0.21156189737068198, 0.40151215819718405], 0.204358018522622)\n",
            "(1001, [0.0, 0.09175606595037199, 0.2608892537991176], 0.11754843991649652)\n",
            "(1002, [0.0, 0.2819367648709752, 0.2917980647353914], 0.19124494320212218)\n",
            "(1003, [0.0, 0.021752123626711264, 0.2338580305999822], 0.08520338474223116)\n",
            "(1004, [0.0, 0.24321454722016594, 0.25087772590928176], 0.16469742437648258)\n",
            "(1005, [0.0, 0.05046125441012141, 0.184688140668259], 0.07838313169279347)\n",
            "(1006, [0.0, 0.05370320948802902, 0.1261957008882192], 0.059966303458749405)\n",
            "(1007, [0.0, 0.10855203032638251, 0.11898463471898656], 0.07584555501512302)\n",
            "(1008, [0.0, 0.449512945837671, 0.4907016512194541], 0.31340486568570836)\n",
            "(1009, [0.0, 0.13753793085246474, 0.19454477540937917], 0.11069423542061464)\n",
            "(1010, [0.0, 0.1811613651359655, 0.18868860324153147], 0.123283322792499)\n",
            "(1011, [0.0, 0.1005554698461371, 0.2018987755253028], 0.10081808179047996)\n",
            "(1012, [0.0, 0.20762953547883153, 0.28881082892318116], 0.16548012146733757)\n",
            "(1013, [0.0, 0.10238013931684331, 0.1428047783731245], 0.08172830589665593)\n",
            "(1014, [0.0, 0.06922313831472404, 0.07120690260381941], 0.04681001363951449)\n",
            "(1015, [0.0, 0.17455324262733884, 0.24795906336399504], 0.14083743533044463)\n",
            "(1016, [0.0, 0.2044397960666805, 0.2867059853487992], 0.16371526047182658)\n",
            "(1017, [0.0, 0.1127030786823879, 0.14272933238171978], 0.08514413702136922)\n",
            "(1018, [0.0, 0.06067837182122347, 0.10948155587126816], 0.056719975897497214)\n",
            "(1019, [0.0, 0.0744235553121028, 0.2619191630893172], 0.11211423946714)\n",
            "(1020, [0.0, 0.0912058316609166, 0.17054551757617342], 0.08725044974569668)\n",
            "(1021, [0.0, 0.041942971874858605, 0.12002442675081933], 0.05398913287522598)\n",
            "(1022, [0.0, 0.23692082812752097, 0.28949062606680787], 0.17547048473144294)\n",
            "(1023, [0.0, 0.08998263790447508, 0.14814912896816834], 0.07937725562421448)\n",
            "(1024, [0.0, 0.1133103220084439, 0.18936295675202416], 0.10089109292015602)\n",
            "(1025, [0.0, 0.19496153744568942, 0.19844901411750868], 0.13113685052106602)\n",
            "(1026, [0.0, 0.02576524033547155, 0.17534048827786533], 0.06703524287111229)\n",
            "(1027, [0.0, 0.06002880785982954, 0.18640850748256915], 0.08214577178079957)\n",
            "(1028, [0.0, 0.14329692401350633, 0.21527327880258396], 0.11952340093869676)\n",
            "(1029, [0.0, 0.15205321535718605, 0.1954292877903261], 0.11582750104917071)\n",
            "(1030, [0.0, 0.4361805807022149, 0.4956588533993736], 0.3106131447005295)\n",
            "(1031, [0.0, 0.4919747116409851, 0.5634815297149094], 0.3518187471186315)\n",
            "(1032, [0.0, 0.28903676301514425, 0.5256523637608521], 0.27156304225866545)\n",
            "(1033, [0.0, 0.41322179088371414, 0.4972707300822514], 0.3034975069886552)\n",
            "(1034, [0.0, 0.09549673913718364, 0.1225383681546069], 0.07267836909726351)\n",
            "(1035, [0.0, 0.08457626494057027, 0.1428668066749938], 0.07581435720518802)\n",
            "(1036, [0.0, 0.2136210679529144, 0.22316136656405633], 0.14559414483899025)\n",
            "(1037, [0.0, 0.15663986183093564, 0.24332854663553857], 0.13332280282215808)\n",
            "(1038, [0.0, 0.10034887853418045, 0.1131265272567241], 0.07115846859696819)\n",
            "(1039, [0.0, 0.5024951510517802, 0.686614945687304], 0.3963700322463614)\n",
            "(1040, [0.0, 0.10963390283801662, 0.12067116061700772], 0.07676835448500811)\n",
            "(1041, [0.0, 0.17079089821138257, 0.32534897354149656], 0.16537995725095972)\n",
            "(1042, [0.0, 0.08000542547192348, 0.0807305198535401], 0.05357864844182119)\n",
            "(1043, [0.0, 0.07922554213913946, 0.08821549045193719], 0.05581367753035888)\n",
            "(1044, [0.0, 0.12057055141057435, 0.22284721927131557], 0.11447259022729664)\n",
            "(1045, [0.0, 0.13196814000817927, 0.24872104056948763], 0.12689639352588897)\n",
            "(1046, [0.0, 0.09960585006768526, 0.15936140638245552], 0.0863224188167136)\n",
            "(1047, [0.0, 0.03348176856379721, 0.08372207041896658], 0.03906794632758793)\n",
            "(1048, [0.0, 0.04649777859746341, 0.12544365269361335], 0.05731381043035892)\n",
            "(1049, [0.0, 0.137292359965906, 0.1806754971431789], 0.1059892857030283)\n",
            "(1050, [0.0, 0.2874272125983888, 0.34521539069842894], 0.2108808677656059)\n",
            "(1051, [0.0, 0.082598371663683, 0.11996401535300145], 0.06752079567222816)\n",
            "(1052, [0.0, 0.08248608780863102, 0.15056720357747108], 0.07768443046203403)\n",
            "(1053, [0.0, 0.12961467532826204, 0.21056911388957503], 0.1133945964059457)\n",
            "(1054, [0.0, 0.9803103013048319, 1.0275098217266199], 0.6692733743438173)\n",
            "(1055, [0.0, 0.12654276318734145, 0.16182065952573652], 0.09612114090435932)\n",
            "(1056, [0.0, 0.11648977606518299, 0.15682988163245912], 0.0911065525658807)\n",
            "(1057, [0.0, 0.23001469376196776, 0.26893574253972086], 0.16631681210056287)\n",
            "(1058, [0.0, 0.32422805716449865, 0.5116935334675272], 0.2786405302106753)\n",
            "(1059, [0.0, 0.07642801261282668, 0.12766106843702113], 0.0680296936832826)\n",
            "(1060, [0.0, 0.05313328802086643, 0.2307113470241044], 0.0946148783483236)\n",
            "(1061, [0.0, 0.15078753805113737, 0.2235841022330923], 0.1247905467614099)\n",
            "(1062, [0.0, 0.1624754626630764, 0.16987152296785457], 0.11078232854364366)\n",
            "(1063, [0.0, 0.24887387224028015, 0.26862268238605097], 0.17249885154211037)\n",
            "(1064, [0.0, 0.22419188205147214, 0.23293415409065105], 0.15237534538070774)\n",
            "(1065, [0.0, 0.22870158697515602, 0.2500372543204346], 0.1595796137651969)\n",
            "(1066, [0.0, 0.09559305548205592, 0.17315804248909844], 0.08958369932371812)\n",
            "(1067, [0.0, 0.07322790580265283, 0.17835777770277297], 0.0838618945018086)\n",
            "(1068, [0.0, 0.24901484778968713, 0.47899647536305445], 0.24267044105091387)\n",
            "(1069, [0.0, 0.16632015500952946, 0.16959653232422334], 0.11197222911125093)\n",
            "(1070, [0.0, 0.08975940136966767, 0.16344906405948548], 0.08440282180971771)\n",
            "(1071, [0.0, 0.10421044396612239, 0.16720638078003772], 0.0904722749153867)\n",
            "(1072, [0.0, 0.12368784399136137, 0.14375521255145698], 0.08914768551427278)\n",
            "(1073, [0.0, 0.3899107496049416, 0.49613334252044444], 0.295348030708462)\n",
            "(1074, [0.0, 0.27259601880403367, 0.2951628419519804], 0.18925295358533803)\n",
            "(1075, [0.0, 0.06272818760693145, 0.07229774198158345], 0.045008643196171635)\n",
            "(1076, [0.0, 0.08726449305039376, 0.1388668157923664], 0.07537710294758672)\n",
            "(1077, [0.0, 0.12986834075553974, 0.19841734211806444], 0.10942856095786806)\n",
            "(1078, [0.0, 0.06972999472704414, 0.15547885569508169], 0.07506961680737527)\n",
            "(1079, [0.0, 0.11715791967318134, 0.23902741407428957], 0.11872844458249031)\n",
            "(1080, [0.0, 0.1299915603587938, 0.22249487271308252], 0.11749547769062545)\n",
            "(1081, [0.0, 0.03409210198178815, 0.16852120832386355], 0.0675377701018839)\n",
            "(1082, [0.0, 0.10923171807899365, 0.1256938282621442], 0.07830851544704595)\n",
            "(1083, [0.0, 0.18391054217334213, 0.27509024974282115], 0.15300026397205443)\n",
            "(1084, [0.0, 0.14500369545910605, 0.21141290413745567], 0.11880553319885391)\n",
            "(1085, [0.0, 0.059844710274816706, 0.17851448165879844], 0.07945306397787172)\n",
            "(1086, [0.0, 0.08659917151737197, 0.10668541351806554], 0.0644281950118125)\n",
            "(1087, [0.0, 0.17703528859385048, 0.1861246886729136], 0.12105332575558803)\n",
            "(1088, [0.0, 0.1492813180072577, 0.19869012838375955], 0.11599048213033908)\n",
            "(1089, [0.0, 0.13579167719235075, 0.23371893900450438], 0.12317020539895171)\n",
            "(1090, [0.0, 0.07674317068754004, 0.13395862285716575], 0.07023393118156859)\n",
            "(1091, [0.0, 0.12057055141057435, 0.17794472862041227], 0.09950509334366221)\n",
            "(1092, [0.0, 0.2319403175651408, 0.24870214552457606], 0.16021415436323896)\n",
            "(1093, [0.0, 0.05313328802086643, 0.19563699445920185], 0.0829234274933561)\n",
            "(1094, [0.0, 0.1938565231152561, 0.23137681819473863], 0.1417444471033316)\n",
            "(1095, [0.0, 0.24185394945563082, 0.2703984004754224], 0.17075078331035107)\n",
            "(1096, [0.0, 0.1634306312452696, 0.28035284871861044], 0.14792782665462667)\n",
            "(1097, [0.0, 0.052730945139456156, 0.3736689664632097], 0.1421333038675553)\n",
            "(1098, [0.0, 0.02602363622076189, 0.0429720106241629], 0.022998548948308262)\n",
            "(1099, [0.0, 0.14769986507742652, 0.3089570538888779], 0.15221897298876813)\n",
            "(1100, [0.0, 0.05050397187229358, 0.14830371942940138], 0.06626923043389832)\n",
            "(1101, [0.0, 0.23533293810467348, 0.24641979646664058], 0.16058424485710468)\n",
            "(1102, [0.0, 0.04506531963921949, 0.14875868350569904], 0.06460800104830618)\n",
            "(1103, [0.0, 0.2653686178189461, 0.2880057985847248], 0.18445813880122364)\n",
            "(1104, [0.0, 0.23705021946217816, 0.2510427935917297], 0.16269767101796928)\n",
            "(1105, [0.0, 0.06881926709365149, 0.17945416062631186], 0.08275780923998778)\n",
            "(1106, [0.0, 0.054998898173905485, 0.06090983241937395], 0.03863624353109314)\n",
            "(1107, [0.0, 0.13397396261085168, 0.1656621637747784], 0.09987870879521003)\n",
            "(1108, [0.0, 0.13093891608279323, 0.19209927618439857], 0.10767939742239727)\n",
            "(1109, [0.0, 0.02918606696561946, 0.0429720106241629], 0.024052692529927453)\n",
            "(1110, [0.0, 0.11478218904558574, 0.16959653232422334], 0.0947929071232697)\n",
            "(1111, [0.0, 0.1352597403735384, 0.3687210103418632], 0.16799358357180055)\n",
            "(1112, [0.0, 0.16118631917534695, 0.19138303743997548], 0.11752311887177415)\n",
            "(1113, [0.0, 0.15408544007886452, 0.34420298573232033], 0.16609614193706163)\n",
            "(1114, [0.0, 0.1421766248330495, 0.1933090521998343], 0.11182855901096127)\n",
            "(1115, [0.0, 0.05791539857705097, 0.08261840096945498], 0.046844599848835315)\n",
            "(1116, [0.0, 0.12025140178377905, 0.18954283546050957], 0.1032647457480962)\n",
            "(1117, [0.0, 0.09631917921459886, 0.13664739586841704], 0.07765552502767196)\n",
            "(1118, [0.0, 0.07438526776044409, 0.11709230157363366], 0.06382585644469259)\n",
            "(1119, [0.0, 0.11531751400379242, 0.16510353934122798], 0.09347368444834013)\n",
            "(1120, [0.0, 0.2437401925530655, 0.25095756108056116], 0.16489925121120888)\n",
            "(1121, [0.0, 0.19183645183631443, 0.22676692639918913], 0.1395344594118345)\n",
            "(1122, [0.0, 0.12328251359959928, 0.20469160551151017], 0.10932470637036981)\n",
            "(1123, [0.0, 0.044066947417735335, 0.14252269500076886], 0.062196547472834735)\n",
            "(1124, [0.0, 0.34186424387473396, 0.3577293918059587], 0.2331978785602309)\n",
            "(1125, [0.0, 0.13294508679696948, 0.6737643649867859], 0.26890315059458514)\n",
            "(1126, [0.0, 0.14322749825334882, 0.22779046233222905], 0.12367265352852595)\n",
            "(1127, [0.0, 0.08024905130346054, 0.11578233022264488], 0.06534379384203513)\n",
            "(1128, [0.0, 0.20759808344484637, 0.30594699609279974], 0.17118169317921536)\n",
            "(1129, [0.0, 0.2703149491227391, 0.2737647524278685], 0.1813599005168692)\n",
            "(1130, [0.0, 0.11693950513182164, 0.21695835588190682], 0.11129928700457616)\n",
            "(1131, [0.0, 0.20904215630033107, 0.5775409122162178], 0.26219435617218295)\n",
            "(1132, [0.0, 0.11788396869247958, 0.19099708677007787], 0.10296035182085249)\n",
            "(1133, [0.0, 0.13294508679696948, 0.5585493948419008], 0.2304981605462901)\n",
            "(1134, [0.0, 0.06922313831472404, 0.12131609993615501], 0.06351307941695969)\n",
            "(1135, [0.0, 0.23152806071393822, 0.2856921815743779], 0.1724067474294387)\n",
            "(1136, [0.0, 0.14934869795344316, 0.21750716575092593], 0.12228528790145636)\n",
            "(1137, [0.0, 0.17395569494815347, 0.22797123241841613], 0.1339756424555232)\n",
            "(1138, [0.0, 0.021522634770720524, 0.06515611533496568], 0.0288929167018954)\n",
            "(1139, [0.0, 0.08705163756451414, 0.3120592022085836], 0.13303694659103257)\n",
            "(1140, [0.0, 0.18553737767964557, 0.23489514132659323], 0.1401441730020796)\n",
            "(1141, [0.0, 0.14444670223365585, 0.20313740974475605], 0.11586137065947064)\n",
            "(1142, [0.0, 0.191498540391101, 0.28498827840444063], 0.15882893959851388)\n",
            "(1143, [0.0, 0.25578850990112906, 0.5009393262425128], 0.2522426120478806)\n",
            "(1144, [0.0, 0.05409638950534607, 0.07593509641417828], 0.04334382863984145)\n",
            "(1145, [0.0, 0.0716418468858986, 0.3730880729353118], 0.14824330660707014)\n",
            "(1146, [0.0, 0.036792640344792245, 0.11640004766333412], 0.05106422933604212)\n",
            "(1147, [0.0, 0.07440436020842989, 0.08143303789241399], 0.05194579936694796)\n",
            "(1148, [0.0, 0.015185386868491605, 0.1341431428211807], 0.049776176563224105)\n",
            "(1149, [0.0, 0.2863779060444816, 0.31152772237163734], 0.1993018761387063)\n",
            "(1150, [0.0, 0.07988226953850915, 0.13316839047182713], 0.07101688667011209)\n",
            "(1151, [0.0, 0.33544182023518077, 0.3904602295224671], 0.24196734991921595)\n",
            "(1152, [0.0, 0.048840051696232636, 0.15594248546276893], 0.06826084571966719)\n",
            "(1153, [0.0, 0.04035716701224493, 0.09296507560002908], 0.04444074753742467)\n",
            "(1154, [0.0, 0.10368434905812055, 0.13057488169586068], 0.07808641025132708)\n",
            "(1155, [0.0, 0.3903222729737062, 0.40345638834732783], 0.26459288710701134)\n",
            "(1156, [0.0, 0.23790830519983808, 0.2797172524488056], 0.17254185254954787)\n",
            "(1157, [0.0, 0.08975940136966767, 0.24783800245131743], 0.11253246794032837)\n",
            "(1158, [0.0, 0.1662511897437797, 0.17410691452596055], 0.11345270142324675)\n",
            "(1159, [0.0, 0.06002880785982954, 0.1270831304657105], 0.06237064610851334)\n",
            "(1160, [0.0, 0.038740363516919854, 0.1487776446100856], 0.06250600270900182)\n",
            "(1161, [0.0, 0.2712920088291616, 0.37416275881784994], 0.2151515892156705)\n",
            "(1162, [0.0, 0.06735261173919965, 0.1219050436521167], 0.06308588513043878)\n",
            "(1163, [0.0, 0.20141292808931874, 0.21082630136600958], 0.13741307648510945)\n",
            "(1164, [0.0, 0.1034364665514118, 0.14828256163219508], 0.08390634272786895)\n",
            "(1165, [0.0, 0.025905217516784682, 0.1250681636000962], 0.05032446037229363)\n",
            "(1166, [0.0, 0.16210252995379967, 0.2101749190358962], 0.12409248299656529)\n",
            "(1167, [0.0, 0.1521579238213558, 0.21904716011683886], 0.12373502797939821)\n",
            "(1168, [0.0, 0.11036897236485271, 0.18594227029846014], 0.09877041422110429)\n",
            "(1169, [0.0, 0.12690885093980567, 0.16341147163368416], 0.09677344085782995)\n",
            "(1170, [0.0, 0.060622431480414074, 0.45707424577315914], 0.1725655590845244)\n",
            "(1171, [0.0, 0.16053011722637603, 0.20084920114201044], 0.12045977278946216)\n",
            "(1172, [0.0, 0.06877412508014116, 0.38325165688665724], 0.15067526065559947)\n",
            "(1173, [0.0, 0.041262041428087384, 0.0562337033676057], 0.03249858159856436)\n",
            "(1174, [0.0, 0.19639526071413707, 0.2372448374684992], 0.14454669939421208)\n",
            "(1175, [0.0, 0.05896579178409011, 0.12896968205527953], 0.06264515794645655)\n",
            "(1176, [0.0, 0.06645391942071051, 0.08372207041896658], 0.05005866327989236)\n",
            "(1177, [0.0, 0.04864337645521735, 0.11689201897368245], 0.0551784651429666)\n",
            "(1178, [0.0, 0.3698254557048826, 0.3974757458109213], 0.25576706717193465)\n",
            "(1179, [0.0, 0.06958437616602585, 0.08734306722681001], 0.052309147797611956)\n",
            "(1180, [0.0, 0.03335060893784435, 0.15169755601260168], 0.061682721650148674)\n",
            "(1181, [0.0, 0.0689577506116902, 0.09749891758884902], 0.0554855560668464)\n",
            "(1182, [0.0, 0.2233045995873009, 0.258675009322306], 0.16065986963653564)\n",
            "(1183, [0.0, 0.12387798339358479, 0.1788914567472403], 0.10092314671360836)\n",
            "(1184, [0.0, 0.0647544588031383, 0.12395098831704196], 0.06290181570672676)\n",
            "(1185, [0.0, 0.10297094243833693, 0.18140399103204732], 0.09479164449012809)\n",
            "(1186, [0.0, 0.3958267966608842, 0.4010331237583351], 0.2656199734730731)\n",
            "(1187, [0.0, 0.10705382487687173, 0.39127854082036434], 0.16611078856574535)\n",
            "(1188, [0.0, 0.27605670199367527, 0.38949232509167614], 0.22184967569511713)\n",
            "(1189, [0.0, 0.12025140178377905, 0.274654126574644], 0.13163517611947434)\n",
            "(1190, [0.0, 0.03649057198912382, 0.35557288479940385], 0.13068781892950923)\n",
            "(1191, [0.0, 0.07535509128222696, 0.21038139253480062], 0.09524549460567586)\n",
            "(1192, [0.0, 0.10037877387332078, 0.13205654101236813], 0.07747843829522964)\n",
            "(1193, [0.0, 0.07382987945037607, 0.12116897325649197], 0.06499961756895602)\n",
            "(1194, [0.0, 0.1127102856988563, 0.13854620496575998], 0.0837521635548721)\n",
            "(1195, [0.0, 0.09966294962743856, 0.15541939083330022], 0.08502744682024627)\n",
            "(1196, [0.0, 0.02962785749830414, 0.10296603073365758], 0.04419796274398724)\n",
            "(1197, [0.0, 0.4591513979868555, 0.4985144473613649], 0.3192219484494068)\n",
            "(1198, [0.0, 0.1188563310470688, 0.15257123544848222], 0.09047585549851701)\n",
            "(1199, [0.0, 0.04438141662920727, 0.14559613714231107], 0.06332585125717277)\n",
            "(1200, [0.0, 0.07275434909863454, 0.17845010106648612], 0.08373481672170689)\n",
            "(1201, [0.0, 0.13379580879235062, 0.1430338332415011], 0.09227654734461724)\n",
            "(1202, [0.0, 0.28367635718357714, 0.3165044048399321], 0.20006025400783642)\n",
            "(1203, [0.0, 0.07761573725279991, 0.1456238446542796], 0.0744131939690265)\n",
            "(1204, [0.0, 0.17551005101186798, 0.1990001088054948], 0.12483671993912092)\n",
            "(1205, [0.0, 0.06021930100593055, 0.09049351110085005], 0.05023760403559353)\n",
            "(1206, [0.0, 0.17068256840239865, 0.322254916349951], 0.1643124949174499)\n",
            "(1207, [0.0, 0.22961035378490757, 0.23487531517747662], 0.15482855632079473)\n",
            "(1208, [0.0, 0.083295522541717, 0.11960908293835641], 0.0676348684933578)\n",
            "(1209, [0.0, 0.28589357791733894, 0.28903676301514425], 0.19164344697749439)\n",
            "(1210, [0.0, 0.2801310050732071, 0.449512945837671], 0.24321465030362602)\n",
            "(1211, [0.0, 0.4867764215726735, 0.6942024988046979], 0.39365964012579047)\n",
            "(1212, [0.0, 0.02177977937782632, 0.11239420684336221], 0.04472466207372951)\n",
            "(1213, [0.0, 0.199528808784053, 0.2189861940945175], 0.1395050009595235)\n",
            "(1214, [0.0, 0.10368614257594767, 0.10973825676863293], 0.07114146644819354)\n",
            "(1215, [0.0, 0.19243820000574788, 0.21056911388957503], 0.13433577129844096)\n",
            "(1216, [0.0, 0.05041076651814924, 0.0868433994134049], 0.04575138864385138)\n",
            "(1217, [0.0, 0.05896579178409011, 0.12099808751436435], 0.05998795976615148)\n",
            "(1218, [0.0, 0.26368420297176975, 0.5482598316553218], 0.27064801154236384)\n",
            "(1219, [0.0, 0.05081759572891933, 0.21438984952706044], 0.08840248175199325)\n",
            "(1220, [0.0, 0.20559638580522044, 0.20987206767384842], 0.13848948449302295)\n",
            "(1221, [0.0, 0.10116902685771428, 0.2070644969901209], 0.10274450794927839)\n",
            "(1222, [0.0, 0.09534279276150405, 0.14829799299441626], 0.08121359525197344)\n",
            "(1223, [0.0, 0.10979619304188443, 0.1438951962381678], 0.08456379642668407)\n",
            "(1224, [0.0, 0.40047784423800736, 0.43424609470394954], 0.2782413129806523)\n",
            "(1225, [0.0, 0.338386094910498, 0.6603225852393845], 0.33290289338329415)\n",
            "(1226, [0.0, 0.10937770147182597, 0.2069929492908994], 0.10545688358757513)\n",
            "(1227, [0.0, 0.19567780308274602, 0.22424517243499809], 0.13997432517258138)\n",
            "(1228, [0.0, 0.2999770829552909, 0.7177340483514544], 0.3392370437689151)\n",
            "(1229, [0.0, 0.20581014247451904, 0.2099989050706596], 0.13860301584839288)\n",
            "(1230, [0.0, 0.18610926400559596, 0.21268941935775248], 0.13293289445444947)\n",
            "(1231, [0.0, 0.1523542201487763, 0.19238863026144892], 0.11491428347007508)\n",
            "(1232, [0.0, 0.09145621972409149, 0.1976111894646776], 0.09635580306292303)\n",
            "(1233, [0.0, 0.1872973020338522, 0.19706853700756702], 0.12812194634713975)\n",
            "(1234, [0.0, 0.19115452860473678, 0.20429693942720836], 0.1318171560106484)\n",
            "(1235, [0.0, 0.03861598840409674, 0.33801195292971103], 0.12554264711126925)\n",
            "(1236, [0.0, 0.09599716634046468, 0.1613880266246154], 0.08579506432169336)\n",
            "(1237, [0.0, 0.3468228832103961, 0.35557288479940385], 0.23413192266993332)\n",
            "(1238, [0.0, 0.1234357947370472, 0.12909965824060907], 0.08417848432588543)\n",
            "(1239, [0.0, 0.12708649500880764, 0.20344452965761406], 0.11017700822214056)\n",
            "(1240, [0.0, 0.04933590715683472, 0.16946894195714665], 0.07293494970466045)\n",
            "(1241, [0.0, 0.20749772620453924, 0.21589794838366247], 0.14113189152940056)\n",
            "(1242, [0.0, 0.05556884414506574, 0.07985251902250513], 0.045140454389190295)\n",
            "(1243, [0.0, 0.18087053017635907, 0.18874485097610882], 0.12320512705082264)\n",
            "(1244, [0.0, 0.1523542201487763, 0.17566444453059513], 0.10933955489312382)\n",
            "(1245, [0.0, 0.10506661689753045, 0.1774561743641754], 0.09417426375390195)\n",
            "(1246, [0.0, 0.2145696056632167, 0.2505208791818613], 0.155030161615026)\n",
            "(1247, [0.0, 0.23596565160924068, 0.24795906336399504], 0.1613082383244119)\n",
            "(1248, [0.0, 0.279479901829558, 0.30147082530991315], 0.19365024237982373)\n",
            "(1249, [0.0, 0.18391054217334213, 0.3147889316477508], 0.1662331579403643)\n",
            "(1250, [0.0, 0.2052564332268754, 0.22316136656405633], 0.1428059332636439)\n",
            "(1251, [0.0, 0.26356748244494793, 0.2654796235508656], 0.17634903533193783)\n",
            "(1252, [0.0, 0.1860510778033251, 0.24028500299712302], 0.1421120269334827)\n",
            "(1253, [0.0, 0.1456238446542796, 0.19066854177021794], 0.11209746214149918)\n",
            "(1254, [0.0, 0.04797453744651021, 0.12909965824060907], 0.05902473189570642)\n",
            "(1255, [0.0, 0.30147082530991315, 0.3211328777680233], 0.20753456769264547)\n",
            "(1256, [0.0, 0.0054311528369111375, 0.1933187228534879], 0.06624995856346634)\n",
            "(1257, [0.0, 0.12027529595497392, 0.16960950908725625], 0.09662826834741006)\n",
            "(1258, [0.0, 0.16048944492284506, 0.1981244902507727], 0.11953797839120592)\n",
            "(1259, [0.0, 0.08123954976671277, 0.08187455770131341], 0.05437136915600873)\n",
            "(1260, [0.0, 0.244428773058054, 0.2510371939597453], 0.1651553223392664)\n",
            "(1261, [0.0, 0.25071454974062496, 0.2894044647603262], 0.18003967150031705)\n",
            "(1262, [0.0, 0.1336833767697795, 0.2376502576840479], 0.1237778781512758)\n",
            "(1263, [0.0, 0.11002035263496858, 0.20801340645799196], 0.10601125303098685)\n",
            "(1264, [0.0, 0.2323054902347441, 0.26880686174900525], 0.16703745066124978)\n",
            "(1265, [0.0, 0.11036897236485271, 0.2917607983828286], 0.13404325691589378)\n",
            "(1266, [0.0, 0.07189829802281732, 0.2738543034177396], 0.1152508671468523)\n",
            "(1267, [0.0, 0.16991749233464504, 0.38953769465540283], 0.18648506233001597)\n",
            "(1268, [0.0, 0.20582320871086726, 0.2986306867743306], 0.16815129849506594)\n",
            "(1269, [0.0, 0.10833344907011813, 0.12133019627367846], 0.07655454844793219)\n",
            "(1270, [0.0, 0.10528573193597968, 0.21733846590654998], 0.10754139928084322)\n",
            "(1271, [0.0, 0.07275434909863454, 0.19496153744568942], 0.08923862884810799)\n",
            "(1272, [0.0, 0.10419991409837727, 0.1272405882343147], 0.07714683411089732)\n",
            "(1273, [0.0, 0.05043086137095, 0.11339459509481593], 0.05460848548858865)\n",
            "(1274, [0.0, 0.16050911426803774, 0.16349121128566305], 0.10800010851790026)\n",
            "(1275, [0.0, 0.12382875959851307, 0.3831068080595824], 0.1689785225526985)\n",
            "(1276, [0.0, 0.15870170880500475, 0.2123364967280796], 0.12367940184436145)\n",
            "(1277, [0.0, 0.027850568776083214, 0.06090983241937395], 0.02958680039848572)\n",
            "(1278, [0.0, 0.15541939083330022, 0.1787568874504238], 0.11139209276124135)\n",
            "(1279, [0.0, 0.12554223775374498, 0.26613121644369175], 0.13055781806581224)\n",
            "(1280, [0.0, 0.14322749825334882, 0.3134421340988156], 0.15222321078405482)\n",
            "(1281, [0.0, 0.018098242941432186, 0.0702515788199495], 0.02944994058712723)\n",
            "(1282, [0.0, 0.13134891937438176, 0.13811539836430278], 0.08982143924622818)\n",
            "(1283, [0.0, 0.07002678786238602, 0.5072805673301761], 0.19243578506418738)\n",
            "(1284, [0.0, 0.1511227221162941, 0.21189223902977702], 0.12100498704869038)\n",
            "(1285, [0.0, 0.09016299254284828, 0.23579428341909942], 0.10865242532064923)\n",
            "(1286, [0.0, 0.13514037743596236, 0.17523200844225473], 0.1034574619594057)\n",
            "(1287, [0.0, 0.16117164553633487, 0.21659463261380538], 0.12592209271671342)\n",
            "(1288, [0.0, 0.1604515744445351, 0.538039730073756], 0.2328304348394304)\n",
            "(1289, [0.0, 0.08385118204354186, 0.0941025329028001], 0.059317904982113985)\n",
            "(1290, [0.0, 0.1981243951915066, 0.2851109605129152], 0.16107845190147393)\n",
            "(1291, [0.0, 0.056976548173088046, 0.06358782204330611], 0.04018812340546472)\n",
            "(1292, [0.0, 0.8609825442023396, 0.939496770897162], 0.6001597716998338)\n",
            "(1293, [0.0, 0.1337904186127757, 0.2397233414921571], 0.12450458670164427)\n",
            "(1294, [0.0, 0.021070695837625678, 0.1726086554177476], 0.06455978375179108)\n",
            "(1295, [0.0, 0.16001813855957278, 0.18726686624869152], 0.11576166826942143)\n",
            "(1296, [0.0, 0.05361718608084115, 0.10254779789509219], 0.052054994658644445)\n",
            "(1297, [0.0, 0.1261957008882192, 0.14585329956532034], 0.09068300015117985)\n",
            "(1298, [0.0, 0.15076362782993052, 0.20084920114201044], 0.11720427632398032)\n",
            "(1299, [0.0, 0.09145621972409149, 0.28659502973564177], 0.12601708315324442)\n",
            "(1300, [0.0, 0.36113189125284884, 0.3923481669236014], 0.2511600193921501)\n",
            "(1301, [0.0, 0.03199131641960769, 0.20954502481836587], 0.08051211374599118)\n",
            "(1302, [0.0, 0.1772723429208921, 0.3812078917849475], 0.18616007823527989)\n",
            "(1303, [0.0, 0.11487617170106657, 0.12934798200064634], 0.08140805123390431)\n",
            "(1304, [0.0, 0.2981908737641896, 0.337713915073481], 0.2119682629458902)\n",
            "(1305, [0.0, 0.2748849044202367, 0.5371231064449773], 0.27066933695507134)\n",
            "(1306, [0.0, 0.16053011722637603, 0.19586468867302947], 0.11879826863313517)\n",
            "(1307, [0.0, 0.026964397509312697, 0.09141743386207173], 0.03946061045712814)\n",
            "(1308, [0.0, 0.07720964266845573, 0.33651683053293163], 0.13790882440046245)\n",
            "(1309, [0.0, 0.17098486953443193, 0.1911778989040751], 0.12072092281283568)\n",
            "(1310, [0.0, 0.34967194775654525, 0.35717489548265785], 0.2356156144130677)\n",
            "(1311, [0.0, 0.09620035977550744, 0.10759275692801513], 0.06793103890117419)\n",
            "(1312, [0.0, 0.03930341829248429, 0.14230974070140287], 0.06053771966462906)\n",
            "(1313, [0.0, 0.07647963980392757, 0.1901521853090389], 0.0888772750376555)\n",
            "(1314, [0.0, 0.08823111258664594, 0.088244295689213], 0.05882513609195298)\n",
            "(1315, [0.0, 0.23286428565690204, 0.2948565953803194], 0.17590696034574047)\n",
            "(1316, [0.0, 0.10223033033319001, 0.10409955785330036], 0.0687766293954968)\n",
            "(1317, [0.0, 0.09742457966865813, 0.15657023371633433], 0.08466493779499748)\n",
            "(1318, [0.0, 0.0330249777722833, 0.2179456080238441], 0.08365686193204247)\n",
            "(1319, [0.0, 0.012405030737345772, 0.20779878628441426], 0.07340127234058667)\n",
            "(1320, [0.0, 0.12903391390691354, 0.15663465181450342], 0.09522285524047232)\n",
            "(1321, [0.0, 0.22975189998220946, 0.23001469376196776], 0.15325553124805907)\n",
            "(1322, [0.0, 0.10145746776732749, 0.1151972129701485], 0.072218226912492)\n",
            "(1323, [0.0, 0.018661688019509265, 0.24361465587733808], 0.08742544796561579)\n",
            "(1324, [0.0, 0.10301514317929776, 0.2285696098174825], 0.11052825099892676)\n",
            "(1325, [0.0, 0.1587114442781164, 0.22172485145055176], 0.12681209857622272)\n",
            "(1326, [0.0, 0.28027387940961523, 0.596747980153364], 0.2923406198543264)\n",
            "(1327, [0.0, 0.16349384368793712, 0.27069218801662737], 0.14472867723485483)\n",
            "(1328, [0.0, 0.12708649500880764, 0.134192411980083], 0.08709296899629689)\n",
            "(1329, [0.0, 0.35449817148520824, 0.3793988371248873], 0.2446323362033652)\n",
            "(1330, [0.0, 0.08810471344047249, 0.17116074090360253], 0.08642181811469167)\n",
            "(1331, [0.0, 0.07163525769960334, 0.1907534262455004], 0.08746289464836791)\n",
            "(1332, [0.0, 0.06263373006026102, 0.16598438411836675], 0.07620603805954258)\n",
            "(1333, [0.0, 0.13041838535916753, 0.1889090076039341], 0.10644246432103387)\n",
            "(1334, [0.0, 0.14753554838689098, 0.19735722400378627], 0.11496425746355908)\n",
            "(1335, [0.0, 0.07373172213965583, 0.15052517994005069], 0.0747523006932355)\n",
            "(1336, [0.0, 0.04801465787342001, 0.15211800732213365], 0.06671088839851788)\n",
            "(1337, [0.0, 0.6476371182961816, 0.8734849785760402], 0.5070406989574073)\n",
            "(1338, [0.0, 0.2371353617102936, 0.40915554875378923], 0.2154303034880276)\n",
            "(1339, [0.0, 0.055612168851445314, 0.06737327032339006], 0.040995146391611795)\n",
            "(1340, [0.0, 0.09219552715529351, 0.10530870318783098], 0.06583474344770816)\n",
            "(1341, [0.0, 0.12562749618618996, 0.15659143507343398], 0.09407297708654132)\n",
            "(1342, [0.0, 0.04229739560068784, 0.08920462755954982], 0.04383400772007922)\n",
            "(1343, [0.0, 0.18106904913441627, 0.1888974714293211], 0.12332217352124579)\n",
            "(1344, [0.0, 0.3469765247407325, 0.35431046826456775], 0.23376233100176674)\n",
            "(1345, [0.0, 0.15745734792153532, 0.17540018466172955], 0.11095251086108829)\n",
            "(1346, [0.0, 0.19243820000574788, 0.19351031102370977], 0.1286495036764859)\n",
            "(1347, [0.0, 0.1256849815922156, 0.17648086228100246], 0.10072194795773935)\n",
            "(1348, [0.0, 0.24615970093157113, 0.3817190540003388], 0.20929291831063665)\n",
            "(1349, [0.0, 0.04371688971396677, 0.06515611533496568], 0.03629100168297748)\n",
            "(1350, [0.0, 0.28588127765371546, 0.28949062606680787], 0.19179063457350778)\n",
            "(1351, [0.0, 0.05043086137095, 0.10161024372090932], 0.05068036836395311)\n",
            "(1352, [0.0, 0.28510170611186936, 0.3030812344466391], 0.1960609801861695)\n",
            "(1353, [0.0, 0.08666173336824488, 0.17054551757617342], 0.0857357503148061)\n",
            "(1354, [0.0, 0.036966037283912956, 0.12043993900449676], 0.05246865876280324)\n",
            "(1355, [0.0, 0.11612298538627668, 0.12182430234177277], 0.07931576257601648)\n",
            "(1356, [0.0, 0.0788798129510129, 0.15604045491583252], 0.07830675595561513)\n",
            "(1357, [0.0, 0.39068906508405526, 0.4518504714089822], 0.2808465121643458)\n",
            "(1358, [0.0, 0.09033421309187376, 0.11220854554304655], 0.06751425287830677)\n",
            "(1359, [0.0, 0.21309837199008014, 0.2320564230221707], 0.1483849316707503)\n",
            "(1360, [0.0, 0.21871151692832289, 0.22456408619204835], 0.14775853437345707)\n",
            "(1361, [0.0, 0.13420806527155463, 0.21659463261380538], 0.11693423262845333)\n",
            "(1362, [0.0, 0.1491838274499064, 0.21326134778775876], 0.12081505841255506)\n",
            "(1363, [0.0, 0.10816016896512655, 0.32014074746680193], 0.14276697214397616)\n",
            "(1364, [0.0, 0.1210390584705207, 0.28401303775334413], 0.13501736540795495)\n",
            "(1365, [0.0, 0.19649250069244448, 0.20493967610510783], 0.1338107255991841)\n",
            "(1366, [0.0, 0.05472202712801537, 0.08821549045193719], 0.04764583919331752)\n",
            "(1367, [0.0, 0.2520490012092631, 0.30334823857883153], 0.18513241326269822)\n",
            "(1368, [0.0, 0.049850913318748004, 0.19040369878334298], 0.080084870700697)\n",
            "(1369, [0.0, 0.0717672673352707, 0.07623572432458325], 0.04933433055328465)\n",
            "(1370, [0.0, 0.12963602421749362, 0.15222244929262177], 0.09395282450337179)\n",
            "(1371, [0.0, 0.0839188840146783, 0.13224915197472234], 0.07205601199646688)\n",
            "(1372, [0.0, 0.1839639661532249, 0.32726742634001615], 0.1704104641644137)\n",
            "(1373, [0.0, 0.1974143858045373, 0.32573339244730315], 0.1743825927506135)\n",
            "(1374, [0.0, 0.16774402345550102, 0.19768641281209834], 0.12181014542253311)\n",
            "(1375, [0.0, 0.19708509748176076, 0.2858289514405028], 0.16097134964075452)\n",
            "(1376, [0.0, 0.1887238491047563, 0.2931250135430331], 0.16061628754926313)\n",
            "(1377, [0.0, 0.10476957525056879, 0.16200072648467934], 0.08892343391174938)\n",
            "(1378, [0.0, 0.036792640344792245, 0.11640990654301746], 0.0510675156292699)\n",
            "(1379, [0.0, 0.16892798101718545, 0.198992909462792], 0.12264029682665915)\n",
            "(1380, [0.0, 0.08920462755954982, 0.12271216039840807], 0.0706389293193193)\n",
            "(1381, [0.0, 0.4006173925140794, 0.517016409901467], 0.3058779341385155)\n",
            "(1382, [0.0, 0.07253234773090725, 0.20177878833643179], 0.09143704535577968)\n",
            "(1383, [0.0, 0.1116671848066753, 0.12302139153064064], 0.07822952544577198)\n",
            "(1384, [0.0, 0.059844710274816706, 0.1613411511150588], 0.07372862046329184)\n",
            "(1385, [0.0, 0.004693934906888177, 0.15362970214117833], 0.052774545682688835)\n",
            "(1386, [0.0, 0.18609449466069575, 0.2003256804440865], 0.1288067250349274)\n",
            "(1387, [0.0, 0.03797157002417016, 0.06416301281974313], 0.034044860947971094)\n",
            "(1388, [0.0, 0.12331664425170763, 0.1491838274499064], 0.09083349056720467)\n",
            "(1389, [0.0, 0.18759417258635008, 0.22140735595464453], 0.1363338428469982)\n",
            "(1390, [0.0, 0.2601892139019777, 0.3117219966242834], 0.19063707017542036)\n",
            "(1391, [0.0, 0.18672625276791863, 0.18886996121300328], 0.12519873799364065)\n",
            "(1392, [0.0, 0.29366127709593126, 0.33651683053293163], 0.21005936920962096)\n",
            "(1393, [0.0, 0.15233521110317527, 0.24640829184361665], 0.13291450098226398)\n",
            "(1394, [0.0, 0.10528272247358071, 0.11531751400379242], 0.07353341215912437)\n",
            "(1395, [0.0, 0.07253234773090725, 0.15681023440091382], 0.07644752737727369)\n",
            "(1396, [0.0, 0.0320893725147833, 0.06412550675578069], 0.03207162642352133)\n",
            "(1397, [0.0, 0.09790997371536878, 0.22992011000760018], 0.10927669457432299)\n",
            "(1398, [0.0, 0.13358648955838967, 0.2585113726332187], 0.1306992873972028)\n",
            "(1399, [0.0, 0.08830055610312189, 0.42887119701646914], 0.17239058437319701)\n",
            "(1400, [0.0, 0.10055848118894566, 0.137312367948134], 0.07929028304569322)\n",
            "(1401, [0.0, 0.20868798955744564, 0.21607077263499583], 0.14158625406414715)\n",
            "(1402, [0.0, 0.15235116411306035, 0.17239475353810654], 0.10824863921705563)\n",
            "(1403, [0.0, 0.041942971874858605, 0.13632630068441065], 0.05942309085308975)\n",
            "(1404, [0.0, 0.11239420684336221, 0.13071999530606124], 0.08103806738314115)\n",
            "(1405, [0.0, 0.15230835851116345, 0.17943925629193422], 0.11058253826769922)\n",
            "(1406, [0.0, 0.10304966196782409, 0.22643033486908365], 0.10982666561230257)\n",
            "(1407, [0.0, 0.32103614959589755, 0.3469765247407325], 0.22267089144554333)\n",
            "(1408, [0.0, 0.17344663970995566, 0.1801640345112298], 0.11787022474039516)\n",
            "(1409, [0.0, 0.31512110149004596, 0.43419826213300394], 0.2497731212076833)\n",
            "(1410, [0.0, 0.07727814543854146, 0.1507005085747163], 0.07599288467108592)\n",
            "(1411, [0.0, 0.06983542534026044, 0.10923171807899365], 0.05968904780641803)\n",
            "(1412, [0.0, 0.04124020792565964, 0.08267453674956009], 0.04130491489173991)\n",
            "(1413, [0.0, 0.21376072887530173, 0.2380180753390506], 0.15059293473811744)\n",
            "(1414, [0.0, 0.060650999059117555, 0.0984963485095621], 0.05304911585622655)\n",
            "(1415, [0.0, 0.165131884465899, 0.20340147949712564], 0.12284445465434154)\n",
            "(1416, [0.0, 0.6202432841855263, 0.7487545245240389], 0.4563326029031884)\n",
            "(1417, [0.0, 0.14260640695094867, 0.18149185827075112], 0.10803275507389994)\n",
            "(1418, [0.0, 0.2420818111311363, 0.26516640746983927], 0.16908273953365852)\n",
            "(1419, [0.0, 0.15604045491583252, 0.19795014401019143], 0.11799686630867465)\n",
            "(1420, [0.0, 0.18589780333549338, 0.19495875336921162], 0.126952185568235)\n",
            "(1421, [0.0, 0.13422927417711467, 0.1388668157923664], 0.09103202998982703)\n",
            "(1422, [0.0, 0.17761224585966148, 0.18004873041872335], 0.11922032542612827)\n",
            "(1423, [0.0, 0.13217825286610058, 0.14260640695094867], 0.09159488660568309)\n",
            "(1424, [0.0, 0.20954502481836587, 0.22954716841890277], 0.1463640644124229)\n",
            "(1425, [0.0, 0.5422967923115616, 0.5845227473638454], 0.37560651322513566)\n",
            "(1426, [0.0, 0.10501871822014282, 0.12667717605503404], 0.07723196475839228)\n",
            "(1427, [0.0, 0.14125860728477052, 0.16282047916412246], 0.10135969548296432)\n",
            "(1428, [0.0, 0.06881926709365149, 0.2352857730892749], 0.10136834672764213)\n",
            "(1429, [0.0, 0.19566055468342813, 0.2630570632596788], 0.1529058726477023)\n",
            "(1430, [0.0, 0.12951438150102473, 0.2044397960666805], 0.11131805918923508)\n",
            "(1431, [0.0, 0.25876878346403004, 0.26064088122465917], 0.17313655489622973)\n",
            "(1432, [0.0, 0.06826361238942942, 0.09412642178163232], 0.054130011390353915)\n",
            "(1433, [0.0, 0.1822838199569302, 0.3127656515346863], 0.1650164904972055)\n",
            "(1434, [0.0, 0.10445914110644204, 0.15290524853513188], 0.08578812988052464)\n",
            "(1435, [0.0, 0.1349870757102893, 0.21243535331417748], 0.11580747634148893)\n",
            "(1436, [0.0, 0.03335060893784435, 0.12296649436577661], 0.052105701101206985)\n",
            "(1437, [0.0, 0.1507005085747163, 0.226705535905759], 0.1258020148268251)\n",
            "(1438, [0.0, 0.08875370243653265, 0.11914035519863088], 0.06929801921172117)\n",
            "(1439, [0.0, 0.06884883047373713, 0.12048704503578325], 0.06311195850317346)\n",
            "(1440, [0.0, 0.10709582755649884, 0.11647798481984549], 0.0745246041254481)\n",
            "(1441, [0.0, 0.2588345345398838, 0.3930652923123035], 0.21729994228406244)\n",
            "(1442, [0.0, 0.24235244201735304, 0.26061634691332], 0.167656262976891)\n",
            "(1443, [0.0, 0.2628006722842667, 0.2858289514405028], 0.18287654124158984)\n",
            "(1444, [0.0, 0.3260413354296737, 0.32993263749654544], 0.21865799097540636)\n",
            "(1445, [0.0, 0.10150869614305817, 0.19836048068099119], 0.09995639227468311)\n",
            "(1446, [0.0, 0.521758768865961, 0.5236734288087947], 0.34847739922491855)\n",
            "(1447, [0.0, 0.16508711158038264, 0.17891950014972954], 0.11466887057670407)\n",
            "(1448, [0.0, 0.07535509128222696, 0.24321521704072518], 0.10619010277431738)\n",
            "(1449, [0.0, 0.015594959859078439, 0.041262041428087384], 0.01895233376238861)\n",
            "(1450, [0.0, 0.30625707877335384, 0.34863125247307736], 0.21829611041547706)\n",
            "(1451, [0.0, 0.2146683368583153, 0.2221747942169222], 0.14561437702507918)\n",
            "(1452, [0.0, 0.044943291517906526, 0.20974131837811397], 0.08489486996534017)\n",
            "(1453, [0.0, 0.17225530800326283, 0.20578985748660392], 0.12601505516328892)\n",
            "(1454, [0.0, 0.1811778871248153, 0.2557169521203921], 0.1456316130817358)\n",
            "(1455, [0.0, 0.08993367021129449, 0.2753422402597901], 0.12175863682369487)\n",
            "(1456, [0.0, 0.04354156326773118, 0.21555100269938035], 0.08636418865570385)\n",
            "(1457, [0.0, 0.16603402294739025, 0.22961035378490757], 0.13188145891076594)\n",
            "(1458, [0.0, 0.16429597279398447, 0.19988548330391634], 0.12139381869930027)\n",
            "(1459, [0.0, 0.09722805412952035, 0.14567190289196222], 0.08096665234049419)\n",
            "(1460, [0.0, 0.16642963820863446, 0.18333437845444409], 0.11658800555435951)\n",
            "(1461, [0.0, 0.14376383272747323, 0.14875868350569904], 0.09750750541105742)\n",
            "(1462, [0.0, 0.3958267966608842, 0.509745229051892], 0.3018573419042587)\n",
            "(1463, [0.0, 0.18759417258635008, 0.19495875336921162], 0.12751764198518722)\n",
            "(1464, [0.0, 0.12959779377278965, 0.18416737312116954], 0.10458838896465307)\n",
            "(1465, [0.0, 0.04689279476375154, 0.08427552125651076], 0.043722772006754104)\n",
            "(1466, [0.0, 0.24937216446936133, 0.3018759628689813], 0.18374937577944753)\n",
            "(1467, [0.0, 0.1329377141941377, 0.1338361216406228], 0.08892461194492017)\n",
            "(1468, [0.0, 0.16379232380509, 0.25498765346033997], 0.13959332575514333)\n",
            "(1469, [0.0, 0.15288918099520935, 0.18589780333549338], 0.11292899477690091)\n",
            "(1470, [0.0, 0.01678514714079094, 0.06553846470519975], 0.027441203948663565)\n",
            "(1471, [0.0, 0.10506661689753045, 0.2457248128830176], 0.11693047659351602)\n",
            "(1472, [0.0, 0.12614727801990125, 0.15039189653818405], 0.0921797248526951)\n",
            "(1473, [0.0, 0.06877412508014116, 0.31710092556666775], 0.12862501688226963)\n",
            "(1474, [0.0, 0.12673012212604068, 0.19895465912934837], 0.10856159375179635)\n",
            "(1475, [0.0, 0.07720964266845573, 0.29366127709593126], 0.12362363992146233)\n",
            "(1476, [0.0, 0.09966294962743856, 0.23047164359593353], 0.1100448644077907)\n",
            "(1477, [0.0, 0.06149206215093057, 0.24022051949418122], 0.1005708605483706)\n",
            "(1478, [0.0, 0.038893154741021396, 0.20340147949712564], 0.08076487807938235)\n",
            "(1479, [0.0, 0.16118631917534695, 0.18535929294002723], 0.11551520403845807)\n",
            "(1480, [0.0, 0.5496304235141263, 0.6572721680902057], 0.40230086386811065)\n",
            "(1481, [0.0, 0.08830055610312189, 0.3586330458681077], 0.14897786732374318)\n",
            "(1482, [0.0, 0.15670409526319926, 0.19941715992340703], 0.1187070850622021)\n",
            "(1483, [0.0, 0.06281853369924069, 0.0647544588031383], 0.04252433083412633)\n",
            "(1484, [0.0, 0.018661688019509265, 0.2417109764379085], 0.08679088815247259)\n",
            "(1485, [0.0, 0.11493434326897657, 0.13811539836430278], 0.08434991387775978)\n",
            "(1486, [0.0, 0.16379232380509, 0.166938804450443], 0.11024370941851101)\n",
            "(1487, [0.0, 0.3652189567464659, 0.36628263666136274], 0.2438338644692762)\n",
            "(1488, [0.0, 0.1974720274020008, 0.2618223436856716], 0.1530981236958908)\n",
            "(1489, [0.0, 0.2951128581454071, 0.30625707877335384], 0.20045664563958698)\n",
            "(1490, [0.0, 0.21207068829778294, 0.36039255748603494], 0.19082108192793928)\n",
            "(1491, [0.0, 0.11295170817245372, 0.18358316855724197], 0.09884495890989856)\n",
            "(1492, [0.0, 0.07368242589175604, 0.08659917151737197], 0.053427199136376)\n",
            "(1493, [0.0, 0.1210390584705207, 0.16555533348794862], 0.09553146398615645)\n",
            "(1494, [0.0, 0.07463722782424137, 0.09430701285292999], 0.05631474689239045)\n",
            "(1495, [0.0, 0.06358782204330611, 0.12010208921519357], 0.061229970419499895)\n",
            "(1496, [0.0, 0.22285232875953223, 0.4136538148235884], 0.21216871452770686)\n",
            "(1497, [0.0, 0.1258570288651621, 0.22978569566258347], 0.11854757484258185)\n",
            "(1498, [0.0, 0.1946078128322435, 0.3190755242917996], 0.1712277790413477)\n",
            "(1499, [0.0, 0.15286840921636458, 0.19238863026144892], 0.11508567982593783)\n",
            "(1500, [0.0, 0.2970745192784053, 0.32726742634001615], 0.20811398187280714)\n",
            "(1501, [0.0, 0.023844680159247726, 0.05409638950534607], 0.0259803565548646)\n",
            "(1502, [0.0, 0.17518338589954946, 0.22591031159319636], 0.1336978991642486)\n",
            "(1503, [0.0, 0.21092616425876815, 0.2736911635491961], 0.1615391092693214)\n",
            "(1504, [0.0, 0.3871208583148605, 0.3923481669236014], 0.25982300841282063)\n",
            "(1505, [0.0, 0.07727814543854146, 0.226705535905759], 0.10132789378143349)\n",
            "(1506, [0.0, 0.1617863105528506, 0.21122181577833812], 0.12433604211039624)\n",
            "(1507, [0.0, 0.184688140668259, 0.23505499105675245], 0.1399143772416705)\n",
            "(1508, [0.0, 0.03882281995551482, 0.1687968056338249], 0.06920654186311324)\n",
            "(1509, [0.0, 0.054230097675879704, 0.11041200912697885], 0.05488070226761952)\n",
            "(1510, [0.0, 0.05556884414506574, 0.10104453332337245], 0.05220445915614606)\n",
            "(1511, [0.0, 0.0763761928552335, 0.08611628243648822], 0.05416415843057391)\n",
            "(1512, [0.0, 0.05919026603147963, 0.11945234595306159], 0.059547537328180404)\n",
            "(1513, [0.0, 0.1933090521998343, 0.2871849578666066], 0.16016467002214696)\n",
            "(1514, [0.0, 0.18885558718874254, 0.22779046233222905], 0.13888201650699053)\n",
            "(1515, [0.0, 0.12038758228006614, 0.13664739586841704], 0.0856783260494944)\n",
            "(1516, [0.0, 0.08143303789241399, 0.09668191454708024], 0.05937165081316474)\n",
            "(1517, [0.0, 0.23029429065439713, 0.25869664389000213], 0.1629969781814664)\n",
            "(1518, [0.0, 0.22591031159319636, 0.26391831951404465], 0.16327621036908033)\n",
            "(1519, [0.0, 0.06553846470519975, 0.07218228990275873], 0.04590691820265282)\n",
            "(1520, [0.0, 0.2116101983638996, 0.22954325558739622], 0.14705115131709862)\n",
            "(1521, [0.0, 0.206158291960946, 0.23711345544628792], 0.14775724913574464)\n",
            "(1522, [0.0, 0.22818447440679082, 0.2513295424975809], 0.15983800563479056)\n",
            "(1523, [0.0, 0.14718900255940756, 0.25071454974062496], 0.13263451743334417)\n",
            "(1524, [0.0, 0.15045521513855525, 0.19552284730695013], 0.11532602081516846)\n",
            "(1525, [0.0, 0.20128603477837442, 0.258675009322306], 0.15332034803356015)\n",
            "(1526, [0.0, 0.15076362782993052, 0.23637804105910637], 0.1290472229630123)\n",
            "(1527, [0.0, 0.18936295675202416, 0.24563279673395352], 0.1449985844953259)\n",
            "(1528, [0.0, 0.11612298538627668, 0.15627990184887897], 0.09080096241171855)\n",
            "(1529, [0.0, 0.12828783131092195, 0.15591200756930168], 0.0947332796267412)\n",
            "(1530, [0.0, 0.11624073684149376, 0.40142378630963443], 0.17255484105037605)\n",
            "(1531, [0.0, 0.1805067224771796, 0.19599594957693095], 0.12550089068470352)\n",
            "(1532, [0.0, 0.15408544007886452, 0.2197499414430911], 0.12461179384065187)\n",
            "(1533, [0.0, 0.13766410494890796, 0.14272933238171978], 0.09346447911020925)\n",
            "(1534, [0.0, 0.15305887304459925, 0.15670409526319926], 0.10325432276926617)\n",
            "(1535, [0.0, 0.14559613714231107, 0.16195141121956955], 0.10251584945396021)\n",
            "(1536, [0.0, 0.049432139162217476, 0.13632630068441065], 0.06191947994887604)\n",
            "(1537, [0.0, 0.1005554698461371, 0.29334158294079143], 0.13129901759564283)\n",
            "(1538, [0.0, 0.13127240877479465, 0.1450525510322945], 0.09210831993569639)\n",
            "(1539, [0.0, 0.10010520201451208, 0.2797172524488056], 0.1266074848211059)\n",
            "(1540, [0.0, 0.13091026264339684, 0.15392892764893615], 0.094946396764111)\n",
            "(1541, [0.0, 0.11917531678807504, 0.20410448297019435], 0.10775993325275646)\n",
            "(1542, [0.0, 0.01678514714079094, 0.06961238664913308], 0.028799177929974672)\n",
            "(1543, [0.0, 0.18954283546050957, 0.2580692528547246], 0.14920402943841138)\n",
            "(1544, [0.0, 0.18103703811739813, 0.19987859526256657], 0.12697187779332156)\n",
            "(1545, [0.0, 0.10005408263625973, 0.2352857730892749], 0.11177995190851155)\n",
            "(1546, [0.0, 0.20493967610510783, 0.34414010362139397], 0.18302659324216727)\n",
            "(1547, [0.0, 0.1392873004607944, 0.21520531642853621], 0.11816420562977688)\n",
            "(1548, [0.0, 0.13666960373510645, 0.37996503720871], 0.17221154698127214)\n",
            "(1549, [0.0, 0.22910536996362804, 0.5481116940338083], 0.25907235466581213)\n",
            "(1550, [0.0, 1.0334659166560216, 1.2010850503427772], 0.7448503223329329)\n",
            "(1551, [0.0, 0.08777035987797319, 0.1803791233972768], 0.08938316109175)\n",
            "(1552, [0.0, 0.14172201025920972, 0.2086158582385271], 0.11677928949924561)\n",
            "(1553, [0.0, 0.1601781709528194, 0.2301180627951079], 0.13009874458264242)\n",
            "(1554, [0.0, 0.26144189012143026, 0.31587034986697293], 0.19243741332946773)\n",
            "(1555, [0.0, 0.14942073347437887, 0.17670573703269254], 0.10870882350235714)\n",
            "(1556, [0.0, 0.16946894195714665, 0.20502116828179426], 0.12483003674631364)\n",
            "(1557, [0.0, 0.15452803610226853, 0.15755980200851508], 0.1040292793702612)\n",
            "(1558, [0.0, 0.303047463298606, 0.307023261047951], 0.20335690811551901)\n",
            "(1559, [0.0, 0.2531289178679309, 0.3683896194988595], 0.20717284578893014)\n",
            "(1560, [0.0, 0.16117164553633487, 0.23424987797131258], 0.13180717450254914)\n",
            "(1561, [0.0, 0.04035716701224493, 0.0619616197252438], 0.03410626224582958)\n",
            "(1562, [0.0, 0.18876038980399912, 0.20787607329142077], 0.13221215436513997)\n",
            "(1563, [0.0, 0.061733074360727225, 0.09318736606992874], 0.051640146810218654)\n",
            "(1564, [0.0, 0.14753554838689098, 0.18523656881398878], 0.11092403906695993)\n",
            "(1565, [0.0, 0.12062205952407667, 0.3390562903487711], 0.1532261166242826)\n",
            "(1566, [0.0, 0.20182515711515733, 0.3540617403843108], 0.18529563249982273)\n",
            "(1567, [0.0, 0.15740329236347214, 0.22093575360237827], 0.12611301532195013)\n",
            "(1568, [0.0, 0.12368784399136137, 0.2674300717199967], 0.1303726385704527)\n",
            "(1569, [0.0, 0.1844054233072403, 0.2476163328483201], 0.14400725205185347)\n",
            "(1570, [0.0, 0.1613411511150588, 0.17851448165879844], 0.11328521092461909)\n",
            "(1571, [0.0, 0.1336833767697795, 0.1625285507130477], 0.09873730916094241)\n",
            "(1572, [0.0, 0.17551005101186798, 0.18034956041222033], 0.1186198704746961)\n",
            "(1573, [0.0, 0.09668191454708024, 0.1050221590823789], 0.06723469120981972)\n",
            "(1574, [0.0, 0.12271216039840807, 0.14862937163667908], 0.09044717734502905)\n",
            "(1575, [0.0, 0.16340302379757224, 0.20049686772533018], 0.12129996384096747)\n",
            "(1576, [0.0, 0.07859144082031312, 0.5927853117236862], 0.22379225084799978)\n",
            "(1577, [0.0, 0.1764588261047308, 0.3976856583753502], 0.19138149482669367)\n",
            "(1578, [0.0, 0.10476957525056879, 0.17301706944292722], 0.09259554823116534)\n",
            "(1579, [0.0, 0.40151215819718405, 0.4439663489982416], 0.2818261690651419)\n",
            "(1580, [0.0, 0.126554310246775, 0.206158291960946], 0.110904200735907)\n",
            "(1581, [0.0, 0.14500369545910605, 0.14672915993149283], 0.09724428513019963)\n",
            "(1582, [0.0, 0.08974924111452165, 0.21691847213811996], 0.10222257108421387)\n",
            "(1583, [0.0, 0.30254353380927307, 0.32534897354149656], 0.20929750245025655)\n",
            "(1584, [0.0, 0.10855203032638251, 0.13844257814766475], 0.08233153615801575)\n",
            "(1585, [0.0, 0.1687968056338249, 0.2042612428871225], 0.1243526828403158)\n",
            "(1586, [0.0, 0.06205528419075571, 0.11945234595306159], 0.060502543381272436)\n",
            "(1587, [0.0, 0.04513746268119399, 0.4278713527936796], 0.1576696051582912)\n",
            "(1588, [0.0, 0.29436705350011366, 0.3060197559635167], 0.2001289364878768)\n",
            "(1589, [0.0, 0.0763761928552335, 0.09614673174174629], 0.0575076415323266)\n",
            "(1590, [0.0, 0.28497918488651947, 0.2940524907220884], 0.1930105585362026)\n",
            "(1591, [0.0, 0.21791417474982608, 0.29730756285103016], 0.1717405792002854)\n",
            "(1592, [0.0, 0.11259727310024799, 0.26726380973612013], 0.12662036094545603)\n",
            "(1593, [0.0, 0.11791773352384344, 0.20801340645799196], 0.10864371332727847)\n",
            "(1594, [0.0, 0.15052517994005069, 0.15163028040657728], 0.10071848678220932)\n",
            "(1595, [0.0, 0.35905674718541125, 0.45445161739122875], 0.27116945485888)\n",
            "(1596, [0.0, 0.11941366066568043, 0.12961467532826204], 0.08300944533131416)\n",
            "(1597, [0.0, 0.21925016778486522, 0.2877412261501159], 0.16899713131166036)\n",
            "(1598, [0.0, 0.06594019586462235, 0.10709582755649884], 0.057678674473707066)\n",
            "(1599, [0.0, 0.03280272733532124, 0.056000189146564155], 0.029600972160628465)\n",
            "(1600, [0.0, 0.2538146127601857, 0.2587763035634902], 0.17086363877455862)\n",
            "(1601, [0.0, 0.050653403861530125, 0.11853531871445928], 0.056396240858663134)\n",
            "(1602, [0.0, 0.07396597543341336, 0.08684507677453822], 0.053603684069317196)\n",
            "(1603, [0.0, 0.01625023652869035, 0.03351193551087434], 0.0165873906798549)\n",
            "(1604, [0.0, 0.049171651137919097, 0.1697887875720272], 0.07298681290331543)\n",
            "(1605, [0.0, 0.1219050436521167, 0.12328251359959928], 0.08172918575057199)\n",
            "(1606, [0.0, 0.16475995060790913, 0.16897062857365858], 0.1112435263938559)\n",
            "(1607, [0.0, 0.20507076595853532, 0.240973458920389], 0.14868140829297477)\n",
            "(1608, [0.0, 0.06562000418221553, 0.1116671848066753], 0.05909572966296361)\n",
            "(1609, [0.0, 0.2078942713213438, 0.27692322675671077], 0.16160583269268486)\n",
            "(1610, [0.0, 0.021522634770720524, 0.04371688971396677], 0.02174650816156243)\n",
            "(1611, [0.0, 0.0874299590363501, 0.0925506553545394], 0.0599935381302965)\n",
            "(1612, [0.0, 0.022086994466253992, 0.1365864007857925], 0.05289113175068217)\n",
            "(1613, [0.0, 0.06735261173919965, 0.15156555255400236], 0.07297272143106734)\n",
            "(1614, [0.0, 0.11137321476465888, 0.15928047051087815], 0.09021789509184568)\n",
            "(1615, [0.0, 0.7738406761833079, 0.8262386751420058], 0.5333597837751045)\n",
            "(1616, [0.0, 0.2773266985666261, 0.28313728580221315], 0.1868213281229464)\n",
            "(1617, [0.0, 0.0917144280049312, 0.09973885480835558], 0.06381776093776226)\n",
            "(1618, [0.0, 0.12771880946258388, 0.12872395524809455], 0.08548092157022615)\n",
            "(1619, [0.0, 0.07453636903038971, 0.25530582650564837], 0.1099473985120127)\n",
            "(1620, [0.0, 0.14333753011906222, 0.16547496573761902], 0.10293749861889374)\n",
            "(1621, [0.0, 0.21964853338007811, 0.24383566033957044], 0.15449473123988286)\n",
            "(1622, [0.0, 0.07646479543530059, 0.1982438465819532], 0.0915695473390846)\n",
            "(1623, [0.0, 0.019351358123378255, 0.03355623413184586], 0.017635864085074705)\n",
            "(1624, [0.0, 0.13071566369421592, 0.15740329236347214], 0.09603965201922936)\n",
            "(1625, [0.0, 0.06419166514471568, 0.10145746776732749], 0.05521637763734772)\n",
            "(1626, [0.0, 0.0354618305510698, 0.15943835375391543], 0.06496672810166175)\n",
            "(1627, [0.0, 0.11954955020014253, 0.14054728518448112], 0.08669894512820789)\n",
            "(1628, [0.0, 0.11480826122850958, 0.1557359782973647], 0.09018141317529144)\n",
            "(1629, [0.0, 0.12036619784972688, 0.2380180753390506], 0.11946142439625916)\n",
            "(1630, [0.0, 0.08823111258664594, 0.13074417768939672], 0.07299176342534755)\n",
            "(1631, [0.0, 0.12941215972422887, 0.18272600900247696], 0.10404605624223527)\n",
            "(1632, [0.0, 0.0996874577171533, 0.10037877387332078], 0.06668874386349136)\n",
            "(1633, [0.0, 0.04391799455686618, 0.09689400268216886], 0.04693733241301168)\n",
            "(1634, [0.0, 0.05564548316491379, 0.15659143507343398], 0.07074563941278258)\n",
            "(1635, [0.0, 0.1774561743641754, 0.18002749747477656], 0.11916122394631733)\n",
            "(1636, [0.0, 0.04797453744651021, 0.1234357947370472], 0.05713677739451914)\n",
            "(1637, [0.0, 0.3652189567464659, 0.3793988371248873], 0.24820593129045107)\n",
            "(1638, [0.0, 0.06243559030470367, 0.20047719591728097], 0.08763759540732821)\n",
            "(1639, [0.0, 0.13940111586312484, 0.1428668066749938], 0.09408930751270621)\n",
            "(1640, [0.0, 0.0619616197252438, 0.09296507560002908], 0.05164223177509096)\n",
            "(1641, [0.0, 0.16950654371440718, 0.22687755700052537], 0.13212803357164418)\n",
            "(1642, [0.0, 0.0669179713536706, 0.18085054919828814], 0.08258950685065292)\n",
            "(1643, [0.0, 0.03271995787247571, 0.08875370243653265], 0.04049122010300279)\n",
            "(1644, [0.0, 0.015936601751560572, 0.040313259139367764], 0.018749953630309447)\n",
            "(1645, [0.0, 0.037159015976457356, 0.040863247348962656], 0.026007421108473337)\n",
            "(1646, [0.0, 0.16603402294739025, 0.29315760876424646], 0.15306387723721224)\n",
            "(1647, [0.0, 0.09016299254284828, 0.20410448297019435], 0.09808915850434755)\n",
            "(1648, [0.0, 0.16950654371440718, 0.18561199037371684], 0.11837284469604134)\n",
            "(1649, [0.0, 0.1349870757102893, 0.18889041664659184], 0.10795916411896038)\n",
            "(1650, [0.0, 0.3294904618081792, 0.5227267239312936], 0.2840723952464909)\n",
            "(1651, [0.0, 0.1836306635684124, 0.199297806722496], 0.1276428234303028)\n",
            "(1652, [0.0, 0.17642856893194772, 0.2224067959669076], 0.13294512163295177)\n",
            "(1653, [0.0, 0.10897074515570959, 0.1295107472688014], 0.07949383080817034)\n",
            "(1654, [0.0, 0.10501871822014282, 0.1830338489778538], 0.0960175223993322)\n",
            "(1655, [0.0, 0.1698563954387982, 0.18891259674704558], 0.11958966406194793)\n",
            "(1656, [0.0, 0.04991296117904419, 0.18103703811739813], 0.07698333309881411)\n",
            "(1657, [0.0, 0.083295522541717, 0.10336579256030659], 0.062220438367341195)\n",
            "(1658, [0.0, 0.16960950908725625, 0.20799108931831684], 0.12586686613519102)\n",
            "(1659, [0.0, 0.11624073684149376, 0.31476364138753354], 0.14366812607634244)\n",
            "(1660, [0.0, 0.29904993301263894, 0.34414010362139397], 0.21439667887801098)\n",
            "(1661, [0.0, 0.017663556222326543, 0.1420436670711485], 0.05323574109782501)\n",
            "(1662, [0.0, 0.2588345345398838, 0.31002689583980414], 0.18962047679322933)\n",
            "(1663, [0.0, 0.25734686634113607, 0.28207124525364113], 0.17980603719825908)\n",
            "(1664, [0.0, 0.11647798481984549, 0.2183440283322334], 0.11160733771735963)\n",
            "(1665, [0.0, 0.14008772262701827, 0.21002677022065042], 0.11670483094922289)\n",
            "(1666, [0.0, 0.043736567759612266, 0.0940632371506111], 0.04593326830340779)\n",
            "(1667, [0.0, 0.17823252775610715, 0.29578072129198], 0.15800441634936238)\n",
            "(1668, [0.0, 0.0912548062309275, 0.16182065952573652], 0.08435848858555467)\n",
            "(1669, [0.0, 0.07940235482691836, 0.2655546328892536], 0.1149856625720573)\n",
            "(1670, [0.0, 0.2084320764221676, 0.321217518816156], 0.1765498650794412)\n",
            "(1671, [0.0, 0.1656621637747784, 0.18889041664659184], 0.11818419347379008)\n",
            "(1672, [0.0, 0.07757089997109125, 0.07989651280460444], 0.05248913759189856)\n",
            "(1673, [0.0, 0.06412550675578069, 0.09562644059657108], 0.05325064911745059)\n",
            "(1674, [0.0, 0.0779154552407107, 0.11909937477783396], 0.06567161000618155)\n",
            "(1675, [0.0, 0.26712135340596216, 0.29436705350011366], 0.18716280230202528)\n",
            "(1676, [0.0, 0.2197499414430911, 0.2587744690931599], 0.15950813684541698)\n",
            "(1677, [0.0, 0.17823252775610715, 0.28589357791733894], 0.1547087018911487)\n",
            "(1678, [0.0, 0.21695835588190682, 0.3108826423035551], 0.17594699939515399)\n",
            "(1679, [0.0, 0.21533270135612276, 0.39665716502916554], 0.20399662212842942)\n",
            "(1680, [0.0, 0.13532471528847712, 0.16362401024676473], 0.09964957517841395)\n",
            "(1681, [0.0, 0.13074417768939672, 0.14904804252703582], 0.09326407340547752)\n",
            "(1682, [0.0, 0.19181825288744736, 0.1974143858045373], 0.1297442128973282)\n",
            "(1683, [0.0, 0.044066947417735335, 0.11898463471898656], 0.0543505273789073)\n",
            "(1684, [0.0, 0.18521044785665716, 0.20689385339597857], 0.1307014337508786)\n",
            "(1685, [0.0, 0.12686655142839737, 0.13691572986354528], 0.08792742709731421)\n",
            "(1686, [0.0, 0.09817397532779461, 0.14830371942940138], 0.08215923158573199)\n",
            "(1687, [0.0, 0.13127240877479465, 0.14526429607528696], 0.09217890161669387)\n",
            "(1688, [0.0, 0.2307854953730294, 0.2976005145860327], 0.17612866998635404)\n",
            "(1689, [0.0, 0.06737327032339006, 0.08200551891713986], 0.04979292974684331)\n",
            "(1690, [0.0, 0.12159615465520131, 0.1879961484020043], 0.10319743435240186)\n",
            "(1691, [0.0, 0.1707631474442983, 0.2075863056792687], 0.12611648437452233)\n",
            "(1692, [0.0, 0.019351358123378255, 0.037460892181897215], 0.018937416768425155)\n",
            "(1693, [0.0, 0.06906941904370506, 0.2826524796998909], 0.11724063291453198)\n",
            "(1694, [0.0, 0.18087053017635907, 0.20476801774886133], 0.12854618264174014)\n",
            "(1695, [0.0, 0.18594227029846014, 0.27869407022034154], 0.15487878017293388)\n",
            "(1696, [0.0, 0.06470064172850654, 0.10055848118894566], 0.0550863743058174)\n",
            "(1697, [0.0, 0.08757210744922624, 0.12158718850567658], 0.06971976531830094)\n",
            "(1698, [0.0, 0.11155965575499133, 0.13807118068380347], 0.0832102788129316)\n",
            "(1699, [0.0, 0.15948592910606219, 0.27354812585110144], 0.1443446849857212)\n",
            "(1700, [0.0, 0.1067704846167672, 0.1131265272567241], 0.07329900395783044)\n",
            "(1701, [0.0, 0.21045911717888388, 0.25927552158295164], 0.15657821292061183)\n",
            "(1702, [0.0, 0.14944201927203943, 0.2792118310160374], 0.1428846167626923)\n",
            "(1703, [0.0, 0.19346582227481907, 0.2431847108686744], 0.14555017771449782)\n",
            "(1704, [0.0, 0.20330062090335516, 0.21311426882732595], 0.13880496324356037)\n",
            "(1705, [0.0, 0.3535174844017239, 0.7015166901865814], 0.35167805819610176)\n",
            "(1706, [0.0, 0.09584660817982993, 0.1840163023901414], 0.09328763685665711)\n",
            "(1707, [0.0, 0.18421600322371284, 0.21591910541834214], 0.13337836954735166)\n",
            "(1708, [0.0, 0.631350364695678, 0.7092068498170273], 0.44685240483756844)\n",
            "(1709, [0.0, 0.05513079094228082, 0.0868433994134049], 0.047324730118561906)\n",
            "(1710, [0.0, 0.12232394982968466, 0.20469975869910753], 0.10900790284293073)\n",
            "(1711, [0.0, 0.13379580879235062, 0.25962454002469304], 0.1311401162723479)\n",
            "(1712, [0.0, 0.05385300318615169, 0.07808996454706908], 0.04398098924440692)\n",
            "(1713, [0.0, 0.0941025329028001, 0.09454498168785178], 0.06288250486355063)\n",
            "(1714, [0.0, 0.05046125441012141, 0.23505499105675245], 0.09517208182229128)\n",
            "(1715, [0.0, 0.11133459366553583, 0.19788401496874658], 0.1030728695447608)\n",
            "(1716, [0.0, 0.05564548316491379, 0.12562749618618996], 0.06042432645036792)\n",
            "(1717, [0.0, 0.17301139210699706, 0.19767283083083043], 0.12356140764594249)\n",
            "(1718, [0.0, 0.05714684684844267, 0.1414178431021129], 0.06618822998351852)\n",
            "(1719, [0.0, 0.03409210198178815, 0.16200084987954297], 0.06536431728711037)\n",
            "(1720, [0.0, 0.07451339145319368, 0.1601781709528194], 0.07823052080200435)\n",
            "(1721, [0.0, 0.13997184553339792, 0.15436997402797414], 0.09811393985379069)\n",
            "(1722, [0.0, 0.04693914021557983, 0.1773076972771356], 0.07474894583090515)\n",
            "(1723, [0.0, 0.2744311818516081, 0.33942564431473715], 0.20461894205544842)\n",
            "(1724, [0.0, 0.032485773121836474, 0.10419991409837727], 0.045561895740071245)\n",
            "(1725, [0.0, 0.05330919422217236, 0.10238013931684331], 0.05189644451300522)\n",
            "(1726, [0.0, 0.13046514341676982, 0.191498540391101], 0.10732122793595694)\n",
            "(1727, [0.0, 0.21680500106874334, 0.235998635890249], 0.15093454565299744)\n",
            "(1728, [0.0, 0.15477281897363465, 0.38876813024415574], 0.18118031640593013)\n",
            "(1729, [0.0, 0.10388780242931998, 0.21125049658238998], 0.10504609967056999)\n",
            "(1730, [0.0, 0.03351193551087434, 0.03467085916815427], 0.02272759822634287)\n",
            "(1731, [0.0, 0.02583469174264348, 0.11023833664765559], 0.04535767613009969)\n",
            "(1732, [0.0, 0.12156028540944339, 0.15195585544395754], 0.09117204695113364)\n",
            "(1733, [0.0, 0.37862278047201825, 0.4572427329288649], 0.27862183780029437)\n",
            "(1734, [0.0, 0.12011601450782972, 0.17147773975652808], 0.09719791808811927)\n",
            "(1735, [0.0, 0.11271338490172912, 0.15681023440091382], 0.08984120643421431)\n",
            "(1736, [0.0, 0.063397853672921, 0.2665621981727641], 0.1099866839485617)\n",
            "(1737, [0.0, 0.10848239510467968, 0.18616005054524137], 0.09821414854997368)\n",
            "(1738, [0.0, 0.06021930100593055, 0.060901681786767546], 0.04037366093089936)\n",
            "(1739, [0.0, 0.07704776510590977, 0.1351749469597771], 0.07074090402189563)\n",
            "(1740, [0.0, 0.26590200037366246, 0.2868967180319804], 0.18426623946854762)\n",
            "(1741, [0.0, 0.05472202712801537, 0.07922554213913946], 0.04464918975571828)\n",
            "(1742, [0.0, 0.10897074515570959, 0.16508711158038264], 0.09135261891203074)\n",
            "(1743, [0.0, 0.08810471344047249, 0.12207295517295029], 0.07005922287114093)\n",
            "(1744, [0.0, 0.02576524033547155, 0.16202988173855612], 0.06259837402467588)\n",
            "(1745, [0.0, 0.15205321535718605, 0.24291460873620352], 0.13165594136446318)\n",
            "(1746, [0.0, 0.1398295066087707, 0.381203941772387], 0.17367781612705255)\n",
            "(1747, [0.0, 0.3464415803135409, 0.4258495224014424], 0.2574303675716611)\n",
            "(1748, [0.0, 0.06999331276683987, 0.08439291932723567], 0.05146207736469185)\n",
            "(1749, [0.0, 0.15744884073969043, 0.2386654874497885], 0.13203810939649296)\n",
            "(1750, [0.0, 0.07704776510590977, 0.08718822882868771], 0.054745331311532495)\n",
            "(1751, [0.0, 0.1491731861222327, 0.20015036275420084], 0.11644118295881119)\n",
            "(1752, [0.0, 0.08767822911443741, 0.1256849815922156], 0.071121070235551)\n",
            "(1753, [0.0, 0.07229986413136898, 0.1491415499369296], 0.07381380468943285)\n",
            "(1754, [0.0, 0.03510181567462936, 0.19115452860473678], 0.07541878142645538)\n",
            "(1755, [0.0, 0.10278273889033715, 0.15060741181006743], 0.08446338356680153)\n",
            "(1756, [0.0, 0.1938348590064907, 0.21904716011683886], 0.13762733970777652)\n",
            "(1757, [0.0, 0.11676549237805212, 0.12449426455864693], 0.08041991897889968)\n",
            "(1758, [0.0, 0.03355623413184586, 0.037460892181897215], 0.023672375437914357)\n",
            "(1759, [0.0, 0.013394359525481866, 0.040863247348962656], 0.018085868958148173)\n",
            "(1760, [0.0, 0.05791539857705097, 0.06548752796384762], 0.04113430884696619)\n",
            "(1761, [0.0, 0.11299253088404204, 0.1717680581818138], 0.09492019635528527)\n",
            "(1762, [0.0, 0.20313740974475605, 0.20828317011473627], 0.13714019328649743)\n",
            "(1763, [0.0, 0.14230974070140287, 0.1492813180072577], 0.09719701956955352)\n",
            "(1764, [0.0, 0.2707843187320483, 0.44214526792157166], 0.23764319555120664)\n",
            "(1765, [0.0, 0.021673515290855826, 0.15664141596378595], 0.05943831041821392)\n",
            "(1766, [0.0, 0.2572138189468987, 0.26717693167423856], 0.17479691687371243)\n",
            "(1767, [0.0, 0.12036619784972688, 0.22140735595464453], 0.11392451793479047)\n",
            "(1768, [0.0, 0.019245225978709972, 0.06606223479569004], 0.028435820258133338)\n",
            "(1769, [0.0, 0.11774854418768635, 0.20469160551151017], 0.10748004989973217)\n",
            "(1770, [0.0, 0.15745734792153532, 0.16641105961419378], 0.10795613584524304)\n",
            "(1771, [0.0, 0.015936601751560572, 0.034856815039200365], 0.016931138930253647)\n",
            "(1772, [0.0, 0.2584932595445421, 0.26061634691332], 0.17303653548595402)\n",
            "(1773, [0.0, 0.2130219262219433, 0.2203598210835013], 0.1444605824351482)\n",
            "(1774, [0.0, 0.24433188161749098, 0.26893574253972086], 0.17108920805240393)\n",
            "(1775, [0.0, 0.1127102856988563, 0.16169589505282295], 0.09146872691722642)\n",
            "(1776, [0.0, 0.12941215972422887, 0.22734419991386767], 0.11891878654603218)\n",
            "(1777, [0.0, 0.030036944418601778, 0.08187455770131341], 0.03730383403997173)\n",
            "(1778, [0.0, 0.1226994773613566, 0.3258081848133872], 0.14950255405824792)\n",
            "(1779, [0.0, 0.126554310246775, 0.21750716575092593], 0.1146871586659003)\n",
            "(1780, [0.0, 0.21916827800347133, 0.30711561068652965], 0.17542796289666698)\n",
            "(1781, [0.0, 0.020581767747014507, 0.1527836847951994], 0.057788484180737974)\n",
            "(1782, [0.0, 0.07786327928349496, 0.21903505779100846], 0.09896611235816781)\n",
            "(1783, [0.0, 0.055828431002633606, 0.12766106843702113], 0.061163166479884915)\n",
            "(1784, [0.0, 0.2387974297090865, 0.24295959051541333], 0.1605856734081666)\n",
            "(1785, [0.0, 0.13192434677232606, 0.20132041592667854], 0.11108158756633486)\n",
            "(1786, [0.0, 0.315590491703224, 0.3260294704714036], 0.2138733207248759)\n",
            "(1787, [0.0, 0.331040720706782, 0.3890515630230089], 0.24003076124326364)\n",
            "(1788, [0.0, 0.07225308500971488, 0.082598371663683], 0.05161715222446596)\n",
            "(1789, [0.0, 0.10336579256030659, 0.11960908293835641], 0.07432495849955434)\n",
            "(1790, [0.0, 0.3216308739742203, 0.34433636724303124], 0.22198908040575052)\n",
            "(1791, [0.0, 0.5219138324054343, 0.5316902557430065], 0.35120136271614694)\n",
            "(1792, [0.0, 0.21376072887530173, 0.33487115153089164], 0.18287729346873113)\n",
            "(1793, [0.0, 0.18872450907300686, 0.2608892537991176], 0.14987125429070816)\n",
            "(1794, [0.0, 0.2038948752586584, 0.24810422478145452], 0.15066636668003763)\n",
            "(1795, [0.0, 0.1635632221254535, 0.22492444261520286], 0.12949588824688546)\n",
            "(1796, [0.0, 0.5607716913761445, 0.5911235105932279], 0.38396506732312413)\n",
            "(1797, [0.0, 0.1798677416195609, 0.20942933909549338], 0.12976569357168477)\n",
            "(1798, [0.0, 0.11676549237805212, 0.12182430234177277], 0.07952993157327497)\n",
            "(1799, [0.0, 0.10116902685771428, 0.18798107796569896], 0.09638336827447108)\n",
            "(1800, [0.0, 0.6357468311524125, 1.050339534385212], 0.5620287885125415)\n",
            "(1801, [0.0, 0.12754508773536719, 0.18399602706014087], 0.10384703826516935)\n",
            "(1802, [0.0, 1.1954859039395853, 1.2539329758196394], 0.8164729599197416)\n",
            "(1803, [0.0, 0.31107406833414686, 0.33684020080513244], 0.21597142304642644)\n",
            "(1804, [0.0, 0.23274973277385613, 1.1229246385008933], 0.4518914570915831)\n",
            "(1805, [0.0, 1.0349657391958278, 1.6538627115269833], 0.896276150240937)\n",
            "(1806, [0.0, 0.236299803001207, 0.5114244337375038], 0.24924141224623694)\n",
            "(1807, [0.0, 1.2116143298495274, 1.2759338419493627], 0.8291827239329633)\n",
            "(1808, [0.0, 0.8394663874427688, 1.292427378550986], 0.7106312553312516)\n",
            "(1809, [0.0, 0.5058319945259644, 1.2134031775826128], 0.573078390702859)\n",
            "(1810, [0.0, 1.3982422949555369, 1.6005419373184855], 0.9995947440913407)\n",
            "(1811, [0.0, 0.47194918382139267, 1.066546533922121], 0.5128319059145046)\n",
            "(1812, [0.0, 0.8394663874427688, 1.0135265582971944], 0.6176643152466544)\n",
            "(1813, [0.0, 1.0496216584392737, 1.1259399053038046], 0.7251871879143594)\n",
            "(1814, [0.0, 0.897631298479165, 0.9629312541476811], 0.6201875175422821)\n",
            "(1815, [0.0, 0.4886486808438444, 1.0646113677308433], 0.5177533495248959)\n",
            "(1816, [0.0, 0.5227267239312936, 0.8157347362726912], 0.4461538200679949)\n",
            "(1817, [0.0, 0.6313842195735234, 0.737653739820812], 0.4563459864647785)\n",
            "(1818, [0.0, 0.7186897832220128, 1.3189810209932213], 0.6792236014050781)\n",
            "(1819, [0.0, 0.0716288958582878, 1.1193252161815426], 0.3969847040132768)\n",
            "(1820, [0.0, 0.236299803001207, 0.31613098313757726], 0.18414359537959477)\n",
            "(1821, [0.0, 1.4510428312432346, 1.594265914158908], 1.0151029151340476)\n",
            "(1822, [0.0, 0.897631298479165, 1.0729074664010707], 0.6568462549600785)\n",
            "(1823, [0.0, 0.6139928322834189, 0.6460404799911381], 0.42001110409151904)\n",
            "(1824, [0.0, 0.9900314237773675, 1.122214525534634], 0.7040819831040005)\n",
            "(1825, [0.0, 0.2567511442310291, 0.8983223290108808], 0.38502449108063663)\n",
            "(1826, [0.0, 0.7162013941944787, 1.2621135467886926], 0.6594383136610571)\n",
            "(1827, [0.0, 0.9833026999777729, 1.042652116450653], 0.6753182721428086)\n",
            "(1828, [0.0, 0.18848425586827125, 0.31308910875000207], 0.16719112153942445)\n",
            "(1829, [0.0, 0.7881352232582659, 1.0236076709497262], 0.6039142980693307)\n",
            "(1830, [0.0, 1.0496216584392737, 1.4696738312748512], 0.8397651632380416)\n",
            "(1831, [0.0, 0.462309764180406, 0.9028317911483826], 0.4550471851095962)\n",
            "(1832, [0.0, 1.9571627749914122, 2.023007561246322], 1.326723445412578)\n",
            "(1833, [0.0, 0.09796584486911214, 0.12302139153064064], 0.07366241213325092)\n",
            "(1834, [0.0, 2.396054249862114, 2.9453939930363706], 1.7804827476328282)\n",
            "(1835, [0.0, 0.47063429502681353, 0.7445495909024618], 0.40506129530975843)\n",
            "(1836, [0.0, 0.8035170441459654, 1.0338195501324938], 0.6124455314261531)\n",
            "(1837, [0.0, 1.1539809263626863, 1.292874642904709], 0.8156185230891319)\n",
            "(1838, [0.0, 0.9896163957076115, 1.2134031775826128], 0.7343398577634082)\n",
            "(1839, [0.0, 0.602153422971353, 0.6635827866257856], 0.4219120698657129)\n",
            "(1840, [0.0, 0.3060197559635167, 0.502902998102946], 0.26964091802215423)\n",
            "(1841, [0.0, 0.29780777170269157, 0.30217417603009106], 0.1999939825775942)\n",
            "(1842, [0.0, 1.0690259897967818, 1.1768281745607918], 0.7486180547858579)\n",
            "(1843, [0.0, 0.3678954209918991, 1.5192722317878773], 0.6290558842599254)\n",
            "(1844, [0.0, 1.0610769438356706, 1.2451375361199328], 0.7687381599852011)\n",
            "(1845, [0.0, 0.31613098313757726, 0.5114244337375038], 0.27585180562502704)\n",
            "(1846, [0.0, 0.2614081989883542, 1.472107030767474], 0.5778384099186094)\n",
            "(1847, [0.0, 0.08705163756451414, 0.26391831951404465], 0.11698998569285293)\n",
            "(1848, [0.0, 0.9077158996170747, 1.2251608352990313], 0.710958911638702)\n",
            "(1849, [0.0, 0.4812739352755495, 0.9898955786114074], 0.490389837962319)\n",
            "(1850, [0.0, 0.9629312541476811, 1.3698796770092443], 0.7776036437189752)\n",
            "(1851, [0.0, 0.048840051696232636, 0.20059004262040303], 0.08314336477221189)\n",
            "(1852, [0.0, 0.9028317911483826, 1.0349657391958278], 0.6459325101147368)\n",
            "(1853, [0.0, 0.9290072431421177, 1.3129070226685453], 0.747304755270221)\n",
            "(1854, [0.0, 0.988992692764906, 1.4641460976931906], 0.8177129301526989)\n",
            "(1855, [0.0, 0.4886486808438444, 0.6247602229095229], 0.37113630125112246)\n",
            "(1856, [0.0, 1.4777318565857023, 2.1080441406278725], 1.1952586657378583)\n",
            "(1857, [0.0, 0.8533110064149867, 0.988992692764906], 0.6141012330599642)\n",
            "(1858, [0.0, 1.319665160876288, 2.0776607210653624], 1.1324419606472167)\n",
            "(1859, [0.0, 0.6891033778357362, 1.3275034330515736], 0.67220227029577)\n",
            "(1860, [0.0, 1.0691610776225846, 1.3967075627490708], 0.8219562134572185)\n",
            "(1861, [0.0, 1.4655758036348405, 1.472003743421832], 0.9791931823522242)\n",
            "(1862, [0.0, 0.6357468311524125, 1.2580094569249867], 0.6312520960257997)\n",
            "(1863, [0.0, 0.6741780696582809, 1.472107030767474], 0.7154283668085849)\n",
            "(1864, [0.0, 0.7814270426586352, 1.7688804689739983], 0.8501025038775445)\n",
            "(1865, [0.0, 0.35405321382884747, 1.4261638752106314], 0.593405696346493)\n",
            "(1866, [0.0, 1.202821835419604, 1.2621135467886926], 0.8216451274027655)\n",
            "(1867, [0.0, 0.2614081989883542, 1.4883231084222637], 0.5832437691368726)\n",
            "(1868, [0.0, 0.6313842195735234, 0.7844540404909116], 0.47194608668814503)\n",
            "(1869, [0.0, 0.6741780696582809, 2.074683726317393], 0.9162872653252246)\n",
            "(1870, [0.0, 0.596747980153364, 0.6672850585508296], 0.4213443462347312)\n",
            "(1871, [0.0, 0.2516436245704054, 0.4469290050501416], 0.232857543206849)\n",
            "(1872, [0.0, 0.5488669623063291, 0.5665196536827306], 0.3717955386630199)\n",
            "(1873, [0.0, 1.0663519354897626, 1.0727576601431434], 0.7130365318776354)\n",
            "(1874, [0.0, 0.40606917511877283, 1.2451375361199328], 0.5504022370795686)\n",
            "(1875, [0.0, 1.3737772582290408, 1.9164119631513643], 1.096729740460135)\n",
            "(1876, [0.0, 0.6250391563052742, 1.4510428312432346], 0.6920273291828363)\n",
            "(1877, [0.0, 0.07397197173452986, 0.47445347658366305], 0.18280848277273098)\n",
            "(1878, [0.0, 1.4426043686031595, 1.961724182498373], 1.1347761837005108)\n",
            "(1879, [0.0, 2.8386914165480857, 3.092678133141502], 1.9771231832298626)\n",
            "(1880, [0.0, 0.47063429502681353, 0.6247602229095229], 0.3651315059787788)\n",
            "(1881, [0.0, 0.6139928322834189, 1.230058163580665], 0.614683665288028)\n",
            "(1882, [0.0, 0.0716288958582878, 1.190793567069734], 0.42080748764267395)\n",
            "(1883, [0.0, 0.6684227057792175, 0.6959164477080977], 0.45477971782910503)\n",
            "(1884, [0.0, 0.6250391563052742, 1.594265914158908], 0.7397683568213941)\n",
            "(1885, [0.0, 1.2539329758196394, 1.5754294096460566], 0.943120795155232)\n",
            "(1886, [0.0, 0.23040745603902582, 1.0338195501324938], 0.42140900205717324)\n",
            "(1887, [0.0, 0.9896163957076115, 1.3377734199417444], 0.775796605216452)\n",
            "(1888, [0.0, 0.4783548020680299, 0.5845227473638454], 0.35429251647729176)\n",
            "(1889, [0.0, 1.0797550715799669, 1.3698796770092443], 0.8165449161964037)\n",
            "(1890, [0.0, 0.5139290254693446, 1.0571296467322477], 0.5236862240671974)\n",
            "(1891, [0.0, 1.460220643681194, 1.6997569547819555], 1.0533258661543832)\n",
            "(1892, [0.0, 1.0404594363424595, 1.066546533922121], 0.7023353234215268)\n",
            "(1893, [0.0, 0.07859144082031312, 0.5555571530526456], 0.2113828646243196)\n",
            "(1894, [0.0, 1.224539986035795, 1.5192722317878773], 0.9146040726078908)\n",
            "(1895, [0.0, 1.275575870105111, 1.3495203750911984], 0.8750320817321031)\n",
            "(1896, [0.0, 1.6506677190615866, 1.6521854046360707], 1.1009510412325525)\n",
            "(1897, [0.0, 0.873914264512578, 0.9239953761009411], 0.5993032135378397)\n",
            "(1898, [0.0, 0.1226994773613566, 0.4083384287837636], 0.17701263538170672)\n",
            "(1899, [0.0, 0.18656852149868935, 0.21630082946973417], 0.13428978365614117)\n",
            "(1900, [0.0, 1.0691610776225846, 1.438338756184182], 0.8358332779355889)\n",
            "(1901, [0.0, 0.6737643649867859, 0.7559384536535116], 0.4765676062134325)\n",
            "(1902, [0.0, 0.7023907015362286, 0.7490188526092327], 0.48380318471515377)\n",
            "(1903, [0.0, 0.23040745603902582, 0.8035170441459654], 0.3446415000616637)\n",
            "(1904, [0.0, 0.09092427692266858, 0.47409657099547176], 0.1883402826393801)\n",
            "(1905, [0.0, 0.35405321382884747, 1.7058319073899684], 0.6866283737396053)\n",
            "(1906, [0.0, 0.07397197173452986, 0.5194373602564141], 0.19780311066364797)\n",
            "(1907, [0.0, 1.4152904584343575, 1.5838934236515998], 0.9997279606953191)\n",
            "(1908, [0.0, 0.38490691017128537, 0.4578838289788172], 0.2809302463833675)\n",
            "(1909, [0.0, 0.7186897832220128, 0.9573508859778259], 0.5586802230666129)\n",
            "(1910, [0.0, 1.499574231853437, 1.7352601484769523], 1.0782781267767965)\n",
            "(1911, [0.0, 1.1966474227599286, 1.230058163580665], 0.8089018621135312)\n",
            "(1912, [0.0, 0.5058319945259644, 1.533576557852862], 0.6798028507929421)\n",
            "(1913, [0.0, 0.686614945687304, 0.9869471224146675], 0.5578540227006572)\n",
            "(1914, [0.0, 1.2975913010159983, 1.3982422949555369], 0.8986111986571784)\n",
            "(1915, [0.0, 1.228812256461244, 1.9391758276071265], 1.0559960280227902)\n",
            "(1916, [0.0, 1.450674121386411, 1.4853884865558902], 0.9786875359807671)\n",
            "(1917, [0.0, 1.8835832688123575, 2.741987148576111], 1.5418568057961561)\n",
            "(1918, [0.0, 0.3643959066207069, 0.7844540404909116], 0.3829499823705395)\n",
            "(1919, [0.0, 1.0797550715799669, 1.1548375775996331], 0.7448642163932)\n",
            "(1920, [0.0, 0.5282876309655565, 0.528510024790141], 0.35226588525189917)\n",
            "(1921, [0.0, 0.9833026999777729, 1.551199753187083], 0.844834151054952)\n",
            "(1922, [0.0, 0.6207359292088757, 0.8168786048232594], 0.47920484467737834)\n",
            "(1923, [0.0, 1.6626765034847146, 1.8192013432648497], 1.1606259489165214)\n",
            "(1924, [0.0, 0.2006513002609005, 0.26863804384578677], 0.15642978136889577)\n",
            "(1925, [0.0, 1.5376699753104215, 1.5425493406892232], 1.0267397719998816)\n",
            "(1926, [0.0, 0.43122575648478584, 0.4349786819019763], 0.2887348127955874)\n",
            "(1927, [0.0, 0.7445495909024618, 1.0621948616080055], 0.6022481508368224)\n",
            "(1928, [0.0, 0.47194918382139267, 1.0404594363424595], 0.504136206721284)\n",
            "(1929, [0.0, 0.21232385696502723, 0.2524484483348597], 0.15492410176662896)\n",
            "(1930, [0.0, 1.2986105026559853, 1.8330346023572195], 1.0438817016710682)\n",
            "(1931, [0.0, 0.42516675062610293, 1.8951835590630866], 0.7734501032297298)\n",
            "(1932, [0.0, 0.18848425586827125, 0.24582191560767436], 0.1447687238253152)\n",
            "(1933, [0.0, 0.3643959066207069, 0.737653739820812], 0.36734988214717296)\n",
            "(1934, [0.0, 0.462309764180406, 1.1953186941223144], 0.5525428194342401)\n",
            "(1935, [0.0, 0.5139290254693446, 1.1217299574607666], 0.5452196609767037)\n",
            "(1936, [0.0, 1.319665160876288, 1.6066937408419246], 0.9754529672394042)\n",
            "(1937, [0.0, 1.6864093215818816, 2.1099798539608723], 1.2654630585142512)\n",
            "(1938, [0.0, 0.7814270426586352, 2.202524757498126], 0.9946506000522537)\n",
            "(1939, [0.0, 0.5951534311028919, 1.6213112067781312], 0.738821545960341)\n",
            "(1940, [0.0, 1.0767607133686172, 1.748772114503403], 0.9418442759573401)\n",
            "(1941, [0.0, 0.23274973277385613, 0.9573508859778259], 0.3967002062505607)\n",
            "(1942, [0.0, 0.5611389049038967, 1.5936608467621267], 0.7182665838886745)\n",
            "(1943, [0.0, 1.3275034330515736, 2.0149162073234614], 1.1141398801250118)\n",
            "(1944, [0.0, 0.02962785749830414, 0.0823000608004255], 0.03730930609957655)\n",
            "(1945, [0.0, 1.507834687918091, 1.8023476407906134], 1.103394109569568)\n",
            "(1946, [0.0, 1.0729074664010707, 1.228812256461244], 0.7672399076207715)\n",
            "(1947, [0.0, 0.23541342128597784, 0.27014115247864895], 0.1685181912548756)\n",
            "(1948, [0.0, 0.6891033778357362, 1.042652116450653], 0.5772518314287964)\n",
            "(1949, [0.0, 0.05930811783508371, 0.6575616412740336], 0.23895658636970576)\n",
            "(1950, [0.0, 0.3678954209918991, 1.224539986035795], 0.5308118023425648)\n",
            "(1951, [0.0, 0.42516675062610293, 1.58684371625507], 0.6706701556270576)\n",
            "(1952, [0.0, 0.5611389049038967, 1.1548375775996331], 0.57199216083451)\n",
            "(1953, [0.0, 1.0767607133686172, 2.5694709309125567], 1.2154105480937247)\n",
            "(1954, [0.0, 0.8784436464826444, 0.9187719844852971], 0.5990718769893139)\n",
            "(1955, [0.0, 1.4777318565857023, 1.6718664104365204], 1.0498660890074076)\n",
            "(1956, [0.0, 1.0571296467322477, 1.1217299574607666], 0.7262865347310048)\n",
            "(1957, [0.0, 0.2516436245704054, 0.2755339720172874], 0.17572586552923095)\n",
            "(1958, [0.0, 0.07231563985821603, 0.15633722041303516], 0.07621762009041706)\n",
            "(1959, [0.0, 0.47445347658366305, 0.5194373602564141], 0.33129694561335904)\n",
            "(1960, [0.0, 0.9251993249021097, 1.0024242439662305], 0.6425411896227801)\n",
            "(1961, [0.0, 0.40606917511877283, 1.3632024368236189], 0.5897572039807972)\n",
            "(1962, [0.0, 1.6028625521834399, 1.8768611931762316], 1.1599079151198906)\n",
            "(1963, [0.0, 0.38405196104588424, 0.3976856583753502], 0.26057920647374483)\n",
            "(1964, [0.0, 0.18521488965587393, 0.21232385696502723], 0.1325129155403004)\n",
            "(1965, [0.0, 0.7467369205046891, 0.7902511563753722], 0.5123293589600204)\n",
            "(1966, [0.0, 0.6460404799911381, 1.232814404206579], 0.6262849613992391)\n",
            "(1967, [0.0, 0.9077158996170747, 1.3372250270247301], 0.7483136422139349)\n",
            "(1968, [0.0, 1.58684371625507, 1.9516678662971088], 1.1795038608507262)\n",
            "(1969, [0.0, 0.5555571530526456, 0.5927853117236862], 0.38278082159211063)\n",
            "(1970, [0.0, 0.7162013941944787, 1.202821835419604], 0.6396744098713609)\n",
            "(1971, [0.0, 2.396054249862114, 3.9281821317425636], 2.1080787938682257)\n",
            "(1972, [0.0, 0.5951534311028919, 1.3595619135540478], 0.6515717815523132)\n",
            "(1973, [0.0, 0.12062205952407667, 0.22870158697515602], 0.11644121549974423)\n",
            "(1974, [0.0, 0.06243559030470367, 0.15594248546276893], 0.07279269192249087)\n",
            "(1975, [0.0, 0.4812739352755495, 0.5128032376833145], 0.33135905765295465)\n",
            "(1976, [0.0, 0.7023907015362286, 0.9427670834143688], 0.5483859283168658)\n",
            "(1977, [0.0, 0.6002769899630863, 0.6320902818370473], 0.41078909060004454)\n",
            "(1978, [0.0, 1.050339534385212, 1.2580094569249867], 0.7694496637700662)\n"
          ]
        }
      ]
    },
    {
      "cell_type": "markdown",
      "source": [
        "# **Outliers**\n",
        "\n",
        "Itterated through the neighbours list and compared the mean distance of each point to the threshold valued decided. Through this, the outliers were decided upon and appended to a new list."
      ],
      "metadata": {
        "id": "jX-JgbbZbBgQ"
      }
    },
    {
      "cell_type": "code",
      "source": [
        "outliers = list()\n",
        "for i in range(len(full_set_10_1)):\n",
        "  ##distance threshold value set to 0.5\n",
        "    if(neighbors[i][2] > 0.5) :\n",
        "        outliers.append(i)\n"
      ],
      "metadata": {
        "id": "EbmhM162MqPE"
      },
      "execution_count": 95,
      "outputs": []
    },
    {
      "cell_type": "code",
      "source": [
        "outlier_values_10_1 = full_set_10_1[outliers]\n",
        "plt.scatter(full_set_10_1[:,0], full_set_10_1[:,1])\n",
        "plt.scatter(outlier_values_10_1[:,0], outlier_values_10_1[:,1], color='r')\n",
        "plt.show()"
      ],
      "metadata": {
        "colab": {
          "base_uri": "https://localhost:8080/",
          "height": 265
        },
        "id": "xtnBWwYlSNES",
        "outputId": "1f27fda4-934e-4226-959a-ef380c533115"
      },
      "execution_count": 96,
      "outputs": [
        {
          "output_type": "display_data",
          "data": {
            "image/png": "[encoded data removed]",
            "text/plain": [
              "<Figure size 432x288 with 1 Axes>"
            ]
          },
          "metadata": {
            "needs_background": "light"
          }
        }
      ]
    },
    {
      "cell_type": "markdown",
      "source": [
        "# **Calculating and concluding the precision, recall and F1- meansure for K NN**\n",
        "\n",
        "The values obtained for the required truePositive, falsePositive and falseNegative were obtained through iterating and comparing the outliers obtained to the ground truth outliers provided by the generator. They were then used for the necessary calculations to obtain the required values."
      ],
      "metadata": {
        "id": "ZKxZozFddbiG"
      }
    },
    {
      "cell_type": "code",
      "source": [
        "truePositive = 0\n",
        "falsePositive = 0\n",
        "falseNegative = 0\n",
        "match = 0\n",
        "\n",
        "for row in outlier_values_10_1:\n",
        "  if row in finalOutliers_10_1:\n",
        "    \n",
        "    match = 1\n",
        "\n",
        "  if match == 1:\n",
        "    truePositive += 1\n",
        "  else: \n",
        "    falsePositive += 1\n",
        "  match = 0\n",
        "\n",
        "print (\"truePositive: {x}\".format(x=truePositive))\n",
        "print (\"falsePositive: {x}\".format(x=falsePositive))"
      ],
      "metadata": {
        "colab": {
          "base_uri": "https://localhost:8080/"
        },
        "id": "UjQ0QWDbku9R",
        "outputId": "e8968d47-a65f-4539-d624-c9a491fca8c7"
      },
      "execution_count": 97,
      "outputs": [
        {
          "output_type": "stream",
          "name": "stdout",
          "text": [
            "truePositive: 116\n",
            "falsePositive: 10\n"
          ]
        }
      ]
    },
    {
      "cell_type": "code",
      "source": [
        "match = 0\n",
        "for row in finalOutliers_10_1:\n",
        "  if row in outlier_values_10_1:\n",
        "\n",
        "    match = 1\n",
        "\n",
        "    if match == 0:\n",
        "      falseNegative += 1\n",
        "    match = 0\n",
        "\n",
        "print (\"falseNegative: {x}\".format(x=falseNegative))"
      ],
      "metadata": {
        "colab": {
          "base_uri": "https://localhost:8080/"
        },
        "id": "YRAj4wqgVZjG",
        "outputId": "7ce79e2d-5a4b-45ce-e731-c2b89f57076a"
      },
      "execution_count": 98,
      "outputs": [
        {
          "output_type": "stream",
          "name": "stdout",
          "text": [
            "falseNegative: 0\n"
          ]
        }
      ]
    },
    {
      "cell_type": "code",
      "source": [
        "KNN_10_1Precision = truePositive/(truePositive+falsePositive)\n",
        "KNN_10_1Recall = truePositive/(truePositive+falseNegative)\n",
        "KNN_10_1F1 = 2*((KNN_10_1Precision*KNN_10_1Recall)/(KNN_10_1Precision+KNN_10_1Recall))\n",
        "print (\"KNN_10_1Precision: {x}\".format(x=KNN_10_1Precision))\n",
        "print (\"KNN_10_1Recall: {x}\".format(x=KNN_10_1Recall))\n",
        "print (\"KNN_10_1F1: {x}\".format(x=KNN_10_1F1))"
      ],
      "metadata": {
        "colab": {
          "base_uri": "https://localhost:8080/"
        },
        "id": "c7J2s1S6VgW1",
        "outputId": "e7fdec3c-a8dd-4ad4-df19-6abeb89a1da3"
      },
      "execution_count": 99,
      "outputs": [
        {
          "output_type": "stream",
          "name": "stdout",
          "text": [
            "KNN_10_1Precision: 0.9206349206349206\n",
            "KNN_10_1Recall: 1.0\n",
            "KNN_10_1F1: 0.9586776859504132\n"
          ]
        }
      ]
    },
    {
      "cell_type": "markdown",
      "source": [
        "# **Implementing K NN on Other data sets**\n",
        "\n",
        "implementing K NN on the data sets generated through varying the parameters. We will also calculate the precision, recall and F1- meansure for these implementations as well in order to clealry analyse the difference in performance."
      ],
      "metadata": {
        "id": "q7Tr-38Udl4e"
      }
    },
    {
      "cell_type": "code",
      "source": [
        "full_set_10_01.tolist()\n",
        "full_set_10_01\n",
        "neighbors = list()\n",
        "for i in range(len(full_set_10_01)):\n",
        "\n",
        "  neighbors.append((i,get_neighbors(full_set_10_01, full_set_10_01[i], 3),mean(get_neighbors(full_set_10_01, full_set_10_01[i], 3))))\n",
        "  "
      ],
      "metadata": {
        "id": "eFsoNDNxdqOG"
      },
      "execution_count": 249,
      "outputs": []
    },
    {
      "cell_type": "code",
      "source": [
        "outliers = list()\n",
        "for i in range(len(full_set_10_01)):\n",
        "    ##distance threshold value set to 0.8\n",
        "    if(neighbors[i][2] > 0.8) :\n",
        "        outliers.append(i)\n",
        "outlier_values_10_01 = full_set_10_01[outliers]\n"
      ],
      "metadata": {
        "colab": {
          "base_uri": "https://localhost:8080/",
          "height": 265
        },
        "id": "82KVkFrUe4qm",
        "outputId": "27248ece-0f05-4352-9691-30effed8cf78"
      },
      "execution_count": 266,
      "outputs": [
        {
          "output_type": "display_data",
          "data": {
            "image/png": "[encoded data removed]",
            "text/plain": [
              "<Figure size 432x288 with 1 Axes>"
            ]
          },
          "metadata": {
            "needs_background": "light"
          }
        }
      ]
    },
    {
      "cell_type": "code",
      "source": [
        "truePositive = 0\n",
        "falsePositive = 0\n",
        "falseNegative = 0\n",
        "match = 0\n",
        "\n",
        "for row in outlier_values_10_01:\n",
        "  if row in finalOutliers_10_01:\n",
        "    \n",
        "    match = 1\n",
        "\n",
        "  if match == 1:\n",
        "    truePositive += 1\n",
        "  else: \n",
        "    falsePositive += 1\n",
        "  match = 0\n",
        "\n",
        "print (\"truePositive: {x}\".format(x=truePositive))\n",
        "print (\"falsePositive: {x}\".format(x=falsePositive))"
      ],
      "metadata": {
        "colab": {
          "base_uri": "https://localhost:8080/"
        },
        "id": "n0M5TKZcfC-W",
        "outputId": "a0ab1829-25f2-4620-c14c-abf4614ddacc"
      },
      "execution_count": 267,
      "outputs": [
        {
          "output_type": "stream",
          "name": "stdout",
          "text": [
            "truePositive: 14\n",
            "falsePositive: 3\n"
          ]
        }
      ]
    },
    {
      "cell_type": "code",
      "source": [
        "match = 0\n",
        "for row in finalOutliers_10_01:\n",
        "  if row in outlier_values_10_01:\n",
        "\n",
        "    match = 1\n",
        "\n",
        "    if match == 0:\n",
        "      falseNegative += 1\n",
        "    match = 0\n",
        "\n",
        "print (\"falseNegative: {x}\".format(x=falseNegative))"
      ],
      "metadata": {
        "colab": {
          "base_uri": "https://localhost:8080/"
        },
        "id": "HTpcw6aVfmtk",
        "outputId": "09ec46c5-06d8-4c21-8755-bf944fd576fb"
      },
      "execution_count": 268,
      "outputs": [
        {
          "output_type": "stream",
          "name": "stdout",
          "text": [
            "falseNegative: 0\n"
          ]
        }
      ]
    },
    {
      "cell_type": "code",
      "source": [
        "KNN_10_01Precision = truePositive/(truePositive+falsePositive)\n",
        "KNN_10_01Recall = truePositive/(truePositive+falseNegative)\n",
        "KNN_10_01F1 = 2*((KNN_10_01Precision*KNN_10_01Recall)/(KNN_10_01Precision+KNN_10_01Recall))\n",
        "print (\"KNN_10_01Precision: {x}\".format(x=KNN_10_01Precision))\n",
        "print (\"KNN_10_01Recall: {x}\".format(x=KNN_10_01Recall))\n",
        "print (\"KNN_10_01F1: {x}\".format(x=KNN_10_01F1))"
      ],
      "metadata": {
        "colab": {
          "base_uri": "https://localhost:8080/"
        },
        "id": "iGHP6S3efuVW",
        "outputId": "11e9e09a-b753-4f5b-9745-8b6ebb0fb490"
      },
      "execution_count": 270,
      "outputs": [
        {
          "output_type": "stream",
          "name": "stdout",
          "text": [
            "KNN_10_01Precision: 0.8235294117647058\n",
            "KNN_10_01Recall: 1.0\n",
            "KNN_10_01F1: 0.9032258064516129\n"
          ]
        }
      ]
    },
    {
      "cell_type": "code",
      "source": [
        "full_set_10_05.tolist()\n",
        "neighbors = list()\n",
        "for i in range(len(full_set_10_05)):\n",
        "\n",
        "  neighbors.append((i,get_neighbors(full_set_10_05, full_set_10_05[i], 3),mean(get_neighbors(full_set_10_05, full_set_10_05[i], 3))))\n",
        "  "
      ],
      "metadata": {
        "id": "eWramxWtgP61"
      },
      "execution_count": 278,
      "outputs": []
    },
    {
      "cell_type": "code",
      "source": [
        "outliers = list()\n",
        "for i in range(len(full_set_10_05)):\n",
        "    ##distance threshold value set to 0.8\n",
        "    if(neighbors[i][2] > 0.8) :\n",
        "        outliers.append(i)\n",
        "outlier_values_10_05 = full_set_10_05[outliers]\n"
      ],
      "metadata": {
        "id": "VHj87Zw-A4qw"
      },
      "execution_count": 285,
      "outputs": []
    },
    {
      "cell_type": "code",
      "source": [
        "truePositive = 0\n",
        "falsePositive = 0\n",
        "falseNegative = 0\n",
        "match = 0\n",
        "\n",
        "for row in outlier_values_10_05:\n",
        "  if row in finalOutliers_10_05:\n",
        "    \n",
        "    match = 1\n",
        "\n",
        "  if match == 1:\n",
        "    truePositive += 1\n",
        "  else: \n",
        "    falsePositive += 1\n",
        "  match = 0\n",
        "\n",
        "print (\"truePositive: {x}\".format(x=truePositive))\n",
        "print (\"falsePositive: {x}\".format(x=falsePositive))"
      ],
      "metadata": {
        "colab": {
          "base_uri": "https://localhost:8080/"
        },
        "id": "a0QGy7aNBVMJ",
        "outputId": "36bee9a0-54f1-45fd-80ff-707c10e2f29a"
      },
      "execution_count": 286,
      "outputs": [
        {
          "output_type": "stream",
          "name": "stdout",
          "text": [
            "truePositive: 12\n",
            "falsePositive: 8\n"
          ]
        }
      ]
    },
    {
      "cell_type": "code",
      "source": [
        "match = 0\n",
        "for row in finalOutliers_10_05:\n",
        "  if row in outlier_values_10_05:\n",
        "\n",
        "    match = 1\n",
        "\n",
        "    if match == 0:\n",
        "      falseNegative += 1\n",
        "    match = 0\n",
        "\n",
        "print (\"falseNegative: {x}\".format(x=falseNegative))"
      ],
      "metadata": {
        "colab": {
          "base_uri": "https://localhost:8080/"
        },
        "id": "MVvpm-rjBYcS",
        "outputId": "20a4c423-2c9d-439e-cd69-103747503ac3"
      },
      "execution_count": 281,
      "outputs": [
        {
          "output_type": "stream",
          "name": "stdout",
          "text": [
            "falseNegative: 0\n"
          ]
        }
      ]
    },
    {
      "cell_type": "code",
      "source": [
        "KNN_10_05Precision = truePositive/(truePositive+falsePositive)\n",
        "KNN_10_05Recall = truePositive/(truePositive+falseNegative)\n",
        "KNN_10_05F1 = 2*((KNN_10_05Precision*KNN_10_05Recall)/(KNN_10_05Precision+KNN_10_05Recall))\n",
        "print (\"KNN_10_05Precision: {x}\".format(x=KNN_10_05Precision))\n",
        "print (\"KNN_10_05Recall: {x}\".format(x=KNN_10_05Recall))\n",
        "print (\"KNN_10_05F1: {x}\".format(x=KNN_10_05F1))"
      ],
      "metadata": {
        "colab": {
          "base_uri": "https://localhost:8080/"
        },
        "id": "4JpSp7zBBeM7",
        "outputId": "0ce95028-2e71-4c8f-c4a4-66ce90dfceb6"
      },
      "execution_count": 282,
      "outputs": [
        {
          "output_type": "stream",
          "name": "stdout",
          "text": [
            "KNN_10_05Precision: 0.9523809523809523\n",
            "KNN_10_05Recall: 1.0\n",
            "KNN_10_05F1: 0.975609756097561\n"
          ]
        }
      ]
    },
    {
      "cell_type": "code",
      "source": [
        "full_set_5_1.tolist()\n",
        "neighbors = list()\n",
        "for i in range(len(full_set_5_1)):\n",
        "\n",
        "  neighbors.append((i,get_neighbors(full_set_5_1, full_set_5_1[i], 3),mean(get_neighbors(full_set_5_1, full_set_5_1[i], 3))))"
      ],
      "metadata": {
        "id": "XNNohVWDBrlx"
      },
      "execution_count": 287,
      "outputs": []
    },
    {
      "cell_type": "code",
      "source": [
        "outliers = list()\n",
        "for i in range(len(full_set_5_1)):\n",
        "    ##distance threshold value set to 0.7\n",
        "    if(neighbors[i][2] > 0.7) :\n",
        "        outliers.append(i)\n",
        "outlier_values_5_1 = full_set_5_1[outliers]"
      ],
      "metadata": {
        "colab": {
          "base_uri": "https://localhost:8080/",
          "height": 268
        },
        "id": "i2fgt-KHCN4y",
        "outputId": "f17055e2-bf68-4085-e9a4-7f74eed5a0c0"
      },
      "execution_count": 290,
      "outputs": [
        {
          "output_type": "display_data",
          "data": {
            "image/png": "[encoded data removed]",
            "text/plain": [
              "<Figure size 432x288 with 1 Axes>"
            ]
          },
          "metadata": {
            "needs_background": "light"
          }
        }
      ]
    },
    {
      "cell_type": "code",
      "source": [
        "truePositive = 0\n",
        "falsePositive = 0\n",
        "falseNegative = 0\n",
        "match = 0\n",
        "\n",
        "for row in outlier_values_5_1:\n",
        "  if row in finalOutliers_5_1:\n",
        "    \n",
        "    match = 1\n",
        "\n",
        "  if match == 1:\n",
        "    truePositive += 1\n",
        "  else: \n",
        "    falsePositive += 1\n",
        "  match = 0\n",
        "\n",
        "print (\"truePositive: {x}\".format(x=truePositive))\n",
        "print (\"falsePositive: {x}\".format(x=falsePositive))"
      ],
      "metadata": {
        "colab": {
          "base_uri": "https://localhost:8080/"
        },
        "id": "vXEwPUAGCjyX",
        "outputId": "984d79d3-44fe-4db7-8507-af8d6502d5e9"
      },
      "execution_count": 291,
      "outputs": [
        {
          "output_type": "stream",
          "name": "stdout",
          "text": [
            "truePositive: 39\n",
            "falsePositive: 1\n"
          ]
        }
      ]
    },
    {
      "cell_type": "code",
      "source": [
        "match = 0\n",
        "for row in finalOutliers_5_1:\n",
        "  if row in outlier_values_5_1:\n",
        "\n",
        "    match = 1\n",
        "\n",
        "    if match == 0:\n",
        "      falseNegative += 1\n",
        "    match = 0\n",
        "\n",
        "print (\"falseNegative: {x}\".format(x=falseNegative))"
      ],
      "metadata": {
        "colab": {
          "base_uri": "https://localhost:8080/"
        },
        "id": "SuxMzHHHCxr_",
        "outputId": "22abbf91-1be4-401b-cbd0-64ed6b94eea2"
      },
      "execution_count": 292,
      "outputs": [
        {
          "output_type": "stream",
          "name": "stdout",
          "text": [
            "falseNegative: 0\n"
          ]
        }
      ]
    },
    {
      "cell_type": "code",
      "source": [
        "KNN_5_1Precision = truePositive/(truePositive+falsePositive)\n",
        "KNN_5_1Recall = truePositive/(truePositive+falseNegative)\n",
        "KNN_5_1F1 = 2*((KNN_5_1Precision*KNN_5_1Recall)/(KNN_5_1Precision+KNN_5_1Recall))\n",
        "print (\"KNN_5_1Precision: {x}\".format(x=KNN_5_1Precision))\n",
        "print (\"KNN_5_1Recall: {x}\".format(x=KNN_5_1Recall))\n",
        "print (\"KNN_5_1F1: {x}\".format(x=KNN_5_1F1))"
      ],
      "metadata": {
        "colab": {
          "base_uri": "https://localhost:8080/"
        },
        "id": "ix9-PGWeC2um",
        "outputId": "1d6b6f27-d3af-42f6-cb24-db76e0e3e09a"
      },
      "execution_count": 293,
      "outputs": [
        {
          "output_type": "stream",
          "name": "stdout",
          "text": [
            "KNN_5_1Precision: 0.975\n",
            "KNN_5_1Recall: 1.0\n",
            "KNN_5_1F1: 0.9873417721518987\n"
          ]
        }
      ]
    },
    {
      "cell_type": "code",
      "source": [
        "full_set_5_01.tolist()\n",
        "neighbors = list()\n",
        "for i in range(len(full_set_5_01)):\n",
        "\n",
        "  neighbors.append((i,get_neighbors(full_set_5_01, full_set_5_01[i], 3),mean(get_neighbors(full_set_5_01, full_set_5_01[i], 3))))"
      ],
      "metadata": {
        "id": "v80iTei0DD82"
      },
      "execution_count": 294,
      "outputs": []
    },
    {
      "cell_type": "code",
      "source": [
        "outliers = list()\n",
        "for i in range(len(full_set_5_01)):\n",
        "    ##distance threshold value set to 0.7\n",
        "    if(neighbors[i][2] > 0.7) :\n",
        "        outliers.append(i)\n",
        "outlier_values_5_01 = full_set_5_01[outliers]\n"
      ],
      "metadata": {
        "colab": {
          "base_uri": "https://localhost:8080/",
          "height": 265
        },
        "id": "yCtierjGDJAw",
        "outputId": "e66d72c1-333a-4b7a-9ebf-dff4abc50458"
      },
      "execution_count": 303,
      "outputs": [
        {
          "output_type": "display_data",
          "data": {
            "image/png": "[encoded data removed]",
            "text/plain": [
              "<Figure size 432x288 with 1 Axes>"
            ]
          },
          "metadata": {
            "needs_background": "light"
          }
        }
      ]
    },
    {
      "cell_type": "code",
      "source": [
        "truePositive = 0\n",
        "falsePositive = 0\n",
        "falseNegative = 0\n",
        "match = 0\n",
        "\n",
        "for row in outlier_values_5_01:\n",
        "  if row in finalOutliers_5_01:\n",
        "    \n",
        "    match = 1\n",
        "\n",
        "  if match == 1:\n",
        "    truePositive += 1\n",
        "  else: \n",
        "    falsePositive += 1\n",
        "  match = 0\n",
        "\n",
        "print (\"truePositive: {x}\".format(x=truePositive))\n",
        "print (\"falsePositive: {x}\".format(x=falsePositive))"
      ],
      "metadata": {
        "colab": {
          "base_uri": "https://localhost:8080/"
        },
        "id": "XZBy-fJsDYXp",
        "outputId": "541a3857-b70e-4cdc-8c9c-17f441cbffe8"
      },
      "execution_count": 304,
      "outputs": [
        {
          "output_type": "stream",
          "name": "stdout",
          "text": [
            "truePositive: 13\n",
            "falsePositive: 4\n"
          ]
        }
      ]
    },
    {
      "cell_type": "code",
      "source": [
        "match = 0\n",
        "for row in finalOutliers_5_01:\n",
        "  if row in outlier_values_5_01:\n",
        "\n",
        "    match = 1\n",
        "\n",
        "    if match == 0:\n",
        "      falseNegative += 1\n",
        "    match = 0\n",
        "\n",
        "print (\"falseNegative: {x}\".format(x=falseNegative))"
      ],
      "metadata": {
        "colab": {
          "base_uri": "https://localhost:8080/"
        },
        "id": "Ejiy8fVxDdl1",
        "outputId": "0d46d3e0-6346-4053-9554-cb49f53f1dd9"
      },
      "execution_count": 305,
      "outputs": [
        {
          "output_type": "stream",
          "name": "stdout",
          "text": [
            "falseNegative: 0\n"
          ]
        }
      ]
    },
    {
      "cell_type": "code",
      "source": [
        "KNN_5_01Precision = truePositive/(truePositive+falsePositive)\n",
        "KNN_5_01Recall = truePositive/(truePositive+falseNegative)\n",
        "KNN_5_01F1 = 2*((KNN_5_01Precision*KNN_5_01Recall)/(KNN_5_01Precision+KNN_5_01Recall))\n",
        "print (\"KNN_5_01Precision: {x}\".format(x=KNN_5_01Precision))\n",
        "print (\"KNN_5_01Recall: {x}\".format(x=KNN_5_01Recall))\n",
        "print (\"KNN_5_01F1: {x}\".format(x=KNN_5_01F1))"
      ],
      "metadata": {
        "colab": {
          "base_uri": "https://localhost:8080/"
        },
        "id": "U7wK4LLzDhIR",
        "outputId": "49c448cb-6844-4946-a18f-873f46954203"
      },
      "execution_count": 306,
      "outputs": [
        {
          "output_type": "stream",
          "name": "stdout",
          "text": [
            "KNN_5_01Precision: 0.7647058823529411\n",
            "KNN_5_01Recall: 1.0\n",
            "KNN_5_01F1: 0.8666666666666666\n"
          ]
        }
      ]
    },
    {
      "cell_type": "code",
      "source": [
        "full_set_5_05.tolist()\n",
        "neighbors = list()\n",
        "for i in range(len(full_set_5_05)):\n",
        "\n",
        "  neighbors.append((i,get_neighbors(full_set_5_05, full_set_5_05[i], 3),mean(get_neighbors(full_set_5_05, full_set_5_05[i], 3))))"
      ],
      "metadata": {
        "id": "3lKOLdFrD0Fv"
      },
      "execution_count": 307,
      "outputs": []
    },
    {
      "cell_type": "code",
      "source": [
        "outliers = list()\n",
        "for i in range(len(full_set_5_05)):\n",
        "    ##distance threshold value set to 0.5\n",
        "    if(neighbors[i][2] > 0.7) :\n",
        "        outliers.append(i)\n",
        "outlier_values_5_05 = full_set_5_05[outliers]\n"
      ],
      "metadata": {
        "colab": {
          "base_uri": "https://localhost:8080/",
          "height": 268
        },
        "id": "kZDrYg5bD_mN",
        "outputId": "23e6de65-920f-4ddc-fd1a-5ea575a356c4"
      },
      "execution_count": 308,
      "outputs": [
        {
          "output_type": "display_data",
          "data": {
            "image/png": "[encoded data removed]",
            "text/plain": [
              "<Figure size 432x288 with 1 Axes>"
            ]
          },
          "metadata": {
            "needs_background": "light"
          }
        }
      ]
    },
    {
      "cell_type": "code",
      "source": [
        "truePositive = 0\n",
        "falsePositive = 0\n",
        "falseNegative = 0\n",
        "match = 0\n",
        "\n",
        "for row in outlier_values_5_05:\n",
        "  if row in finalOutliers_5_05:\n",
        "    \n",
        "    match = 1\n",
        "\n",
        "  if match == 1:\n",
        "    truePositive += 1\n",
        "  else: \n",
        "    falsePositive += 1\n",
        "  match = 0\n",
        "\n",
        "print (\"truePositive: {x}\".format(x=truePositive))\n",
        "print (\"falsePositive: {x}\".format(x=falsePositive))"
      ],
      "metadata": {
        "colab": {
          "base_uri": "https://localhost:8080/"
        },
        "id": "gU7y1jMDEkSG",
        "outputId": "d51e1c1a-5581-4953-9fdc-d906caa19141"
      },
      "execution_count": 309,
      "outputs": [
        {
          "output_type": "stream",
          "name": "stdout",
          "text": [
            "truePositive: 48\n",
            "falsePositive: 2\n"
          ]
        }
      ]
    },
    {
      "cell_type": "code",
      "source": [
        "match = 0\n",
        "for row in finalOutliers_5_05:\n",
        "  if row in outlier_values_5_05:\n",
        "\n",
        "    match = 1\n",
        "\n",
        "    if match == 0:\n",
        "      falseNegative += 1\n",
        "    match = 0\n",
        "\n",
        "print (\"falseNegative: {x}\".format(x=falseNegative))"
      ],
      "metadata": {
        "colab": {
          "base_uri": "https://localhost:8080/"
        },
        "id": "Jp5rIgAWEpZQ",
        "outputId": "14dd0d88-614d-4306-fbc2-dba5be565153"
      },
      "execution_count": 310,
      "outputs": [
        {
          "output_type": "stream",
          "name": "stdout",
          "text": [
            "falseNegative: 0\n"
          ]
        }
      ]
    },
    {
      "cell_type": "code",
      "source": [
        "KNN_5_05Precision = truePositive/(truePositive+falsePositive)\n",
        "KNN_5_05Recall = truePositive/(truePositive+falseNegative)\n",
        "KNN_5_05F1 = 2*((KNN_5_05Precision*KNN_5_05Recall)/(KNN_5_05Precision+KNN_5_05Recall))\n",
        "print (\"KNN_5_05Precision: {x}\".format(x=KNN_5_05Precision))\n",
        "print (\"KNN_5_05Recall: {x}\".format(x=KNN_5_05Recall))\n",
        "print (\"KNN_5_05F1: {x}\".format(x=KNN_5_05F1))"
      ],
      "metadata": {
        "colab": {
          "base_uri": "https://localhost:8080/"
        },
        "id": "5dNcnbooEu9V",
        "outputId": "76c44b93-a7e8-4eab-c404-52def515dc8c"
      },
      "execution_count": 311,
      "outputs": [
        {
          "output_type": "stream",
          "name": "stdout",
          "text": [
            "KNN_5_05Precision: 0.96\n",
            "KNN_5_05Recall: 1.0\n",
            "KNN_5_05F1: 0.9795918367346939\n"
          ]
        }
      ]
    },
    {
      "cell_type": "markdown",
      "source": [
        "# **Results**\n",
        "\n",
        "The results for both the OneClass SVM implementation and K NN implementation are displayed below. "
      ],
      "metadata": {
        "id": "mOtoWTMqFJj_"
      }
    },
    {
      "cell_type": "markdown",
      "source": [
        "**SVM**"
      ],
      "metadata": {
        "id": "W_xEadvgGNvb"
      }
    },
    {
      "cell_type": "code",
      "source": [
        "print (\"SVM_10_1Precision: {x}\".format(x=SVM_10_1Precision))\n",
        "print (\"SVM_10_1Recall: {x}\".format(x=SVM_10_1Recall))\n",
        "print (\"SVM_10_1F1: {x}\".format(x=SVM_10_1F1))\n",
        "print(\"\\n\")\n",
        "print (\"SVM_10_01Precision: {x}\".format(x=SVM_10_01Precision))\n",
        "print (\"SVM_10_01Recall: {x}\".format(x=SVM_10_01Recall))\n",
        "print (\"SVM_10_01F1: {x}\".format(x=SVM_10_01F1))\n",
        "print(\"\\n\")\n",
        "print (\"SVM_10_05Precision: {x}\".format(x=SVM_10_05Precision))\n",
        "print (\"SVM_10_05Recall: {x}\".format(x=SVM_10_05Recall))\n",
        "print (\"SVM_10_05F1: {x}\".format(x=SVM_10_05F1))\n",
        "print(\"\\n\")\n",
        "print (\"SVM_5_1Precision: {x}\".format(x=SVM_5_1Precision))\n",
        "print (\"SVM_5_1Recall: {x}\".format(x=SVM_5_1Recall))\n",
        "print (\"SVM_5_1F1: {x}\".format(x=SVM_5_1F1))\n",
        "print(\"\\n\")\n",
        "print (\"SVM_5_01Precision: {x}\".format(x=SVM_5_01Precision))\n",
        "print (\"SVM_5_01Recall: {x}\".format(x=SVM_5_01Recall))\n",
        "print (\"SVM_5_01F1: {x}\".format(x=SVM_5_01F1))\n",
        "print(\"\\n\")\n",
        "print (\"SVM_5_05Precision: {x}\".format(x=SVM_5_05Precision))\n",
        "print (\"SVM_5_05Recall: {x}\".format(x=SVM_5_05Recall))\n",
        "print (\"SVM_5_05F1: {x}\".format(x=SVM_5_05F1))"
      ],
      "metadata": {
        "colab": {
          "base_uri": "https://localhost:8080/"
        },
        "id": "ud3TQyM7FfzE",
        "outputId": "05542818-5166-44c8-93aa-e18c64de2425"
      },
      "execution_count": 312,
      "outputs": [
        {
          "output_type": "stream",
          "name": "stdout",
          "text": [
            "SVM_10_1Precision: 0.8166666666666667\n",
            "SVM_10_1Recall: 1.0\n",
            "SVM_10_1F1: 0.8990825688073394\n",
            "\n",
            "\n",
            "SVM_10_01Precision: 0.625\n",
            "SVM_10_01Recall: 1.0\n",
            "SVM_10_01F1: 0.7692307692307693\n",
            "\n",
            "\n",
            "SVM_10_05Precision: 0.95\n",
            "SVM_10_05Recall: 1.0\n",
            "SVM_10_05F1: 0.9743589743589743\n",
            "\n",
            "\n",
            "SVM_5_1Precision: 0.875\n",
            "SVM_5_1Recall: 1.0\n",
            "SVM_5_1F1: 0.9333333333333333\n",
            "\n",
            "\n",
            "SVM_5_01Precision: 0.75\n",
            "SVM_5_01Recall: 1.0\n",
            "SVM_5_01F1: 0.8571428571428571\n",
            "\n",
            "\n",
            "SVM_5_05Precision: 0.95\n",
            "SVM_5_05Recall: 1.0\n",
            "SVM_5_05F1: 0.9743589743589743\n"
          ]
        }
      ]
    },
    {
      "cell_type": "markdown",
      "source": [
        "**K NN**"
      ],
      "metadata": {
        "id": "RiDi5rO_GTHN"
      }
    },
    {
      "cell_type": "code",
      "source": [
        "print (\"KNN_10_1Precision: {x}\".format(x=KNN_10_1Precision))\n",
        "print (\"KNN_10_1Recall: {x}\".format(x=KNN_10_1Recall))\n",
        "print (\"KNN_10_1F1: {x}\".format(x=KNN_10_1F1))\n",
        "print(\"\\n\")\n",
        "print (\"KNN_10_01Precision: {x}\".format(x=KNN_10_01Precision))\n",
        "print (\"KNN_10_01Recall: {x}\".format(x=KNN_10_01Recall))\n",
        "print (\"KNN_10_01F1: {x}\".format(x=KNN_10_01F1))\n",
        "print(\"\\n\")\n",
        "print (\"KNN_10_05Precision: {x}\".format(x=KNN_10_05Precision))\n",
        "print (\"KNN_10_05Recall: {x}\".format(x=KNN_10_05Recall))\n",
        "print (\"KNN_10_05F1: {x}\".format(x=KNN_10_05F1))\n",
        "print(\"\\n\")\n",
        "print (\"KNN_5_1Precision: {x}\".format(x=KNN_5_1Precision))\n",
        "print (\"KNN_5_1Recall: {x}\".format(x=KNN_5_1Recall))\n",
        "print (\"KNN_5_1F1: {x}\".format(x=KNN_5_1F1))\n",
        "print(\"\\n\")\n",
        "print (\"KNN_5_01Precision: {x}\".format(x=KNN_5_01Precision))\n",
        "print (\"KNN_5_01Recall: {x}\".format(x=KNN_5_01Recall))\n",
        "print (\"KNN_5_01F1: {x}\".format(x=KNN_5_01F1))\n",
        "print(\"\\n\")\n",
        "print (\"KNN_5_05Precision: {x}\".format(x=KNN_5_05Precision))\n",
        "print (\"KNN_5_05Recall: {x}\".format(x=KNN_5_05Recall))\n",
        "print (\"KNN_5_05F1: {x}\".format(x=KNN_5_05F1))\n",
        "print(\"\\n\")"
      ],
      "metadata": {
        "colab": {
          "base_uri": "https://localhost:8080/"
        },
        "id": "JOm8-qOPGVxi",
        "outputId": "d9353f50-93d2-40e8-a0d3-09bc6a974b79"
      },
      "execution_count": 313,
      "outputs": [
        {
          "output_type": "stream",
          "name": "stdout",
          "text": [
            "KNN_10_1Precision: 0.9206349206349206\n",
            "KNN_10_1Recall: 1.0\n",
            "KNN_10_1F1: 0.9586776859504132\n",
            "\n",
            "\n",
            "KNN_10_01Precision: 0.8235294117647058\n",
            "KNN_10_01Recall: 1.0\n",
            "KNN_10_01F1: 0.9032258064516129\n",
            "\n",
            "\n",
            "KNN_10_05Precision: 0.9523809523809523\n",
            "KNN_10_05Recall: 1.0\n",
            "KNN_10_05F1: 0.975609756097561\n",
            "\n",
            "\n",
            "KNN_5_1Precision: 0.975\n",
            "KNN_5_1Recall: 1.0\n",
            "KNN_5_1F1: 0.9873417721518987\n",
            "\n",
            "\n",
            "KNN_5_01Precision: 0.7647058823529411\n",
            "KNN_5_01Recall: 1.0\n",
            "KNN_5_01F1: 0.8666666666666666\n",
            "\n",
            "\n",
            "KNN_5_05Precision: 0.96\n",
            "KNN_5_05Recall: 1.0\n",
            "KNN_5_05F1: 0.9795918367346939\n",
            "\n",
            "\n"
          ]
        }
      ]
    },
    {
      "cell_type": "markdown",
      "source": [
        "# **Comparison of Results**\n",
        "\n",
        "Displayed above are the precision, recall and f1 measure for the implementation of OneClass SVM and K NN on all 6 variations of the generated data set. The threshold values for both implementations were decided upon after some messing around with values. This was in order to maximize the resulting values and produce high quality outlier detection. We can see from above, that the K NN outlier detection has overall higher scores for most cases compared to the OneClass SVM implementation. We also can notice in the scatter plots that the OneClass SVm method neglects the outliers between the clusters of points and only takes into account outliers around the edges. On the other hand, the K NN implementation does not do this and therefore has higher values. The threshold values could have been adjusted abit more in order to produce better results. The K-NN script written could have been written to be more accurate to the ground truth and instead of the mean values being considered, a value more robust could have been chosen, for example z score.\n",
        "\n"
      ],
      "metadata": {
        "id": "JZ_j5-yjHC26"
      }
    }
  ]
}