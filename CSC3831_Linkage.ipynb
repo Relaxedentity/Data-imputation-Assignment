{
  "nbformat": 4,
  "nbformat_minor": 0,
  "metadata": {
    "colab": {
      "name": "CSC3831_Linkage.ipynb",
      "provenance": [],
      "collapsed_sections": []
    },
    "kernelspec": {
      "name": "python3",
      "display_name": "Python 3"
    },
    "language_info": {
      "name": "python"
    }
  },
  "cells": [
    {
      "cell_type": "markdown",
      "source": [
        "# **Data Linkage using of Record Linkage and Fuzzy Matching**\n",
        "\n",
        "This notebook goes through the data linkage of authors across two provided data sources using both Record Linkage and Fuzzy Matching, as well as concluding their precision, recall and F1- meansure."
      ],
      "metadata": {
        "id": "KnMOldOjvUuK"
      }
    },
    {
      "cell_type": "code",
      "metadata": {
        "colab": {
          "base_uri": "https://localhost:8080/"
        },
        "id": "GRjxIi8XVgsl",
        "outputId": "1e9e286b-39ef-452e-fad5-44266b1df4b7"
      },
      "source": [
        "!pip install fuzzymatcher"
      ],
      "execution_count": 2,
      "outputs": [
        {
          "output_type": "stream",
          "name": "stdout",
          "text": [
            "Collecting fuzzymatcher\n",
            "  Downloading fuzzymatcher-0.0.5-py3-none-any.whl (15 kB)\n",
            "Requirement already satisfied: pandas in /usr/local/lib/python3.7/dist-packages (from fuzzymatcher) (1.1.5)\n",
            "Collecting python-Levenshtein\n",
            "  Downloading python-Levenshtein-0.12.2.tar.gz (50 kB)\n",
            "\u001b[?25l\r\u001b[K     |██████▌                         | 10 kB 18.4 MB/s eta 0:00:01\r\u001b[K     |█████████████                   | 20 kB 20.2 MB/s eta 0:00:01\r\u001b[K     |███████████████████▌            | 30 kB 16.7 MB/s eta 0:00:01\r\u001b[K     |██████████████████████████      | 40 kB 13.3 MB/s eta 0:00:01\r\u001b[K     |████████████████████████████████| 50 kB 2.9 MB/s \n",
            "\u001b[?25hCollecting metaphone\n",
            "  Downloading Metaphone-0.6.tar.gz (14 kB)\n",
            "Collecting fuzzywuzzy\n",
            "  Downloading fuzzywuzzy-0.18.0-py2.py3-none-any.whl (18 kB)\n",
            "Requirement already satisfied: python-dateutil in /usr/local/lib/python3.7/dist-packages (from fuzzymatcher) (2.8.2)\n",
            "Requirement already satisfied: pytz>=2017.2 in /usr/local/lib/python3.7/dist-packages (from pandas->fuzzymatcher) (2018.9)\n",
            "Requirement already satisfied: numpy>=1.15.4 in /usr/local/lib/python3.7/dist-packages (from pandas->fuzzymatcher) (1.19.5)\n",
            "Requirement already satisfied: six>=1.5 in /usr/local/lib/python3.7/dist-packages (from python-dateutil->fuzzymatcher) (1.15.0)\n",
            "Requirement already satisfied: setuptools in /usr/local/lib/python3.7/dist-packages (from python-Levenshtein->fuzzymatcher) (57.4.0)\n",
            "Building wheels for collected packages: metaphone, python-Levenshtein\n",
            "  Building wheel for metaphone (setup.py) ... \u001b[?25l\u001b[?25hdone\n",
            "  Created wheel for metaphone: filename=Metaphone-0.6-py3-none-any.whl size=13919 sha256=5ee5f4271ed1226143309410b5daadfbe8f5b38c3490b526f890f60a7525e65d\n",
            "  Stored in directory: /root/.cache/pip/wheels/1d/a8/cb/6f8902aa5457bd71344e00665c230e9c45255b3f57f2194a0f\n",
            "  Building wheel for python-Levenshtein (setup.py) ... \u001b[?25l\u001b[?25hdone\n",
            "  Created wheel for python-Levenshtein: filename=python_Levenshtein-0.12.2-cp37-cp37m-linux_x86_64.whl size=149868 sha256=5007a7ccfc66520c6d61e39f7e2ff1d16ae016884c445d3061a067df7d00041b\n",
            "  Stored in directory: /root/.cache/pip/wheels/05/5f/ca/7c4367734892581bb5ff896f15027a932c551080b2abd3e00d\n",
            "Successfully built metaphone python-Levenshtein\n",
            "Installing collected packages: python-Levenshtein, metaphone, fuzzywuzzy, fuzzymatcher\n",
            "Successfully installed fuzzymatcher-0.0.5 fuzzywuzzy-0.18.0 metaphone-0.6 python-Levenshtein-0.12.2\n"
          ]
        }
      ]
    },
    {
      "cell_type": "code",
      "metadata": {
        "colab": {
          "base_uri": "https://localhost:8080/"
        },
        "id": "52IITOoOXVnI",
        "outputId": "2038a8d3-d323-416e-cf1d-bf62f02a9136"
      },
      "source": [
        "!pip install recordlinkage"
      ],
      "execution_count": 3,
      "outputs": [
        {
          "output_type": "stream",
          "name": "stdout",
          "text": [
            "Collecting recordlinkage\n",
            "  Downloading recordlinkage-0.14-py3-none-any.whl (944 kB)\n",
            "\u001b[K     |████████████████████████████████| 944 kB 5.9 MB/s \n",
            "\u001b[?25hCollecting jellyfish>=0.5.4\n",
            "  Downloading jellyfish-0.8.9.tar.gz (137 kB)\n",
            "\u001b[K     |████████████████████████████████| 137 kB 41.8 MB/s \n",
            "\u001b[?25hRequirement already satisfied: numpy>=1.13.0 in /usr/local/lib/python3.7/dist-packages (from recordlinkage) (1.19.5)\n",
            "Requirement already satisfied: joblib in /usr/local/lib/python3.7/dist-packages (from recordlinkage) (1.1.0)\n",
            "Requirement already satisfied: scipy>=1 in /usr/local/lib/python3.7/dist-packages (from recordlinkage) (1.4.1)\n",
            "Requirement already satisfied: pandas>=0.23 in /usr/local/lib/python3.7/dist-packages (from recordlinkage) (1.1.5)\n",
            "Requirement already satisfied: scikit-learn>=0.19.0 in /usr/local/lib/python3.7/dist-packages (from recordlinkage) (1.0.1)\n",
            "Requirement already satisfied: python-dateutil>=2.7.3 in /usr/local/lib/python3.7/dist-packages (from pandas>=0.23->recordlinkage) (2.8.2)\n",
            "Requirement already satisfied: pytz>=2017.2 in /usr/local/lib/python3.7/dist-packages (from pandas>=0.23->recordlinkage) (2018.9)\n",
            "Requirement already satisfied: six>=1.5 in /usr/local/lib/python3.7/dist-packages (from python-dateutil>=2.7.3->pandas>=0.23->recordlinkage) (1.15.0)\n",
            "Requirement already satisfied: threadpoolctl>=2.0.0 in /usr/local/lib/python3.7/dist-packages (from scikit-learn>=0.19.0->recordlinkage) (3.0.0)\n",
            "Building wheels for collected packages: jellyfish\n",
            "  Building wheel for jellyfish (setup.py) ... \u001b[?25l\u001b[?25hdone\n",
            "  Created wheel for jellyfish: filename=jellyfish-0.8.9-cp37-cp37m-linux_x86_64.whl size=73224 sha256=41876d3a325ed56ac64db8d0ec2822a434ec592b30c95d5bef02671054f88aa6\n",
            "  Stored in directory: /root/.cache/pip/wheels/32/a9/ef/5d8742e72deaf0d1de327a180d008c2c0299367581800ea73f\n",
            "Successfully built jellyfish\n",
            "Installing collected packages: jellyfish, recordlinkage\n",
            "Successfully installed jellyfish-0.8.9 recordlinkage-0.14\n"
          ]
        }
      ]
    },
    {
      "cell_type": "code",
      "metadata": {
        "id": "KacrbNijXZwA"
      },
      "source": [
        "import pandas as pd\n",
        "from pathlib import Path\n",
        "import fuzzymatcher\n",
        "import recordlinkage"
      ],
      "execution_count": 4,
      "outputs": []
    },
    {
      "cell_type": "markdown",
      "source": [
        "# **Utilizing FuzzyMatcher** \n",
        "\n",
        "This section involves performing performing fuzzy matching on the two data sets and finally comparing with the ground truth set provided to confirm  precision, recall and F1- meansure."
      ],
      "metadata": {
        "id": "HebtGzh7xKbn"
      }
    },
    {
      "cell_type": "code",
      "metadata": {
        "id": "whm0JFRTXbt5"
      },
      "source": [
        "ACM = pd.read_csv( 'https://raw.githubusercontent.com/PaoloMissier/CSC3831-2021-22/main/LINKAGE/DATASETS/ACM.csv')\n",
        "DBLP = pd.read_csv( 'https://raw.githubusercontent.com/PaoloMissier/CSC3831-2021-22/main/LINKAGE/DATASETS/dblp.csv')"
      ],
      "execution_count": 5,
      "outputs": []
    },
    {
      "cell_type": "code",
      "metadata": {
        "colab": {
          "base_uri": "https://localhost:8080/",
          "height": 206
        },
        "id": "yrz6fRxdXsUx",
        "outputId": "253ad63b-e267-46e4-a064-7845a4a87a8f"
      },
      "source": [
        "## rename columns of the dataset for personal convenience\n",
        "ACM.rename(columns = {'id':'ACM_id', 'title':'ACM_title', 'authors':'ACM_authors',\n",
        "                              'venue':'ACM_venue', 'year':'ACM_year'}, inplace = True)\n",
        "ACM.head()"
      ],
      "execution_count": 6,
      "outputs": [
        {
          "output_type": "execute_result",
          "data": {
            "text/html": [
              "<div>\n",
              "<style scoped>\n",
              "    .dataframe tbody tr th:only-of-type {\n",
              "        vertical-align: middle;\n",
              "    }\n",
              "\n",
              "    .dataframe tbody tr th {\n",
              "        vertical-align: top;\n",
              "    }\n",
              "\n",
              "    .dataframe thead th {\n",
              "        text-align: right;\n",
              "    }\n",
              "</style>\n",
              "<table border=\"1\" class=\"dataframe\">\n",
              "  <thead>\n",
              "    <tr style=\"text-align: right;\">\n",
              "      <th></th>\n",
              "      <th>Unnamed: 0</th>\n",
              "      <th>ACM_id</th>\n",
              "      <th>ACM_title</th>\n",
              "      <th>ACM_authors</th>\n",
              "      <th>ACM_venue</th>\n",
              "      <th>ACM_year</th>\n",
              "    </tr>\n",
              "  </thead>\n",
              "  <tbody>\n",
              "    <tr>\n",
              "      <th>0</th>\n",
              "      <td>0</td>\n",
              "      <td>304586</td>\n",
              "      <td>The WASA2 object-oriented workflow management ...</td>\n",
              "      <td>Gottfried Vossen, Mathias Weske</td>\n",
              "      <td>International Conference on Management of Data</td>\n",
              "      <td>1999</td>\n",
              "    </tr>\n",
              "    <tr>\n",
              "      <th>1</th>\n",
              "      <td>1</td>\n",
              "      <td>304587</td>\n",
              "      <td>A user-centered interface for querying distrib...</td>\n",
              "      <td>Isabel F. Cruz, Kimberly M. James</td>\n",
              "      <td>International Conference on Management of Data</td>\n",
              "      <td>1999</td>\n",
              "    </tr>\n",
              "    <tr>\n",
              "      <th>2</th>\n",
              "      <td>2</td>\n",
              "      <td>304589</td>\n",
              "      <td>World Wide Database-integrating the Web, CORBA...</td>\n",
              "      <td>Athman Bouguettaya, Boualem Benatallah, Lily H...</td>\n",
              "      <td>International Conference on Management of Data</td>\n",
              "      <td>1999</td>\n",
              "    </tr>\n",
              "    <tr>\n",
              "      <th>3</th>\n",
              "      <td>3</td>\n",
              "      <td>304590</td>\n",
              "      <td>XML-based information mediation with MIX</td>\n",
              "      <td>Chaitan Baru, Amarnath Gupta, Bertram Lud&amp;#228...</td>\n",
              "      <td>International Conference on Management of Data</td>\n",
              "      <td>1999</td>\n",
              "    </tr>\n",
              "    <tr>\n",
              "      <th>4</th>\n",
              "      <td>4</td>\n",
              "      <td>304582</td>\n",
              "      <td>The CCUBE constraint object-oriented database ...</td>\n",
              "      <td>Alexander Brodsky, Victor E. Segal, Jia Chen, ...</td>\n",
              "      <td>International Conference on Management of Data</td>\n",
              "      <td>1999</td>\n",
              "    </tr>\n",
              "  </tbody>\n",
              "</table>\n",
              "</div>"
            ],
            "text/plain": [
              "   Unnamed: 0  ACM_id  ...                                       ACM_venue ACM_year\n",
              "0           0  304586  ...  International Conference on Management of Data     1999\n",
              "1           1  304587  ...  International Conference on Management of Data     1999\n",
              "2           2  304589  ...  International Conference on Management of Data     1999\n",
              "3           3  304590  ...  International Conference on Management of Data     1999\n",
              "4           4  304582  ...  International Conference on Management of Data     1999\n",
              "\n",
              "[5 rows x 6 columns]"
            ]
          },
          "metadata": {},
          "execution_count": 6
        }
      ]
    },
    {
      "cell_type": "code",
      "metadata": {
        "colab": {
          "base_uri": "https://localhost:8080/",
          "height": 206
        },
        "id": "Gs1McKICX4KQ",
        "outputId": "6bc00f4a-4f95-4354-c23f-475a9d00c269"
      },
      "source": [
        "DBLP.rename(columns = {'id':'DBLP_id', 'title':'DBLP_title', 'authors':'DBLP_authors',\n",
        "                              'venue':'DBLP_venue', 'year':'DBLP_year'}, inplace = True)\n",
        "DBLP.head()"
      ],
      "execution_count": 7,
      "outputs": [
        {
          "output_type": "execute_result",
          "data": {
            "text/html": [
              "<div>\n",
              "<style scoped>\n",
              "    .dataframe tbody tr th:only-of-type {\n",
              "        vertical-align: middle;\n",
              "    }\n",
              "\n",
              "    .dataframe tbody tr th {\n",
              "        vertical-align: top;\n",
              "    }\n",
              "\n",
              "    .dataframe thead th {\n",
              "        text-align: right;\n",
              "    }\n",
              "</style>\n",
              "<table border=\"1\" class=\"dataframe\">\n",
              "  <thead>\n",
              "    <tr style=\"text-align: right;\">\n",
              "      <th></th>\n",
              "      <th>Unnamed: 0</th>\n",
              "      <th>DBLP_id</th>\n",
              "      <th>DBLP_title</th>\n",
              "      <th>DBLP_authors</th>\n",
              "      <th>DBLP_venue</th>\n",
              "      <th>DBLP_year</th>\n",
              "    </tr>\n",
              "  </thead>\n",
              "  <tbody>\n",
              "    <tr>\n",
              "      <th>0</th>\n",
              "      <td>0</td>\n",
              "      <td>journals/sigmod/Mackay99</td>\n",
              "      <td>Semantic Integration of Environmental Models f...</td>\n",
              "      <td>D. Scott Mackay</td>\n",
              "      <td>SIGMOD Record</td>\n",
              "      <td>1999</td>\n",
              "    </tr>\n",
              "    <tr>\n",
              "      <th>1</th>\n",
              "      <td>1</td>\n",
              "      <td>conf/vldb/PoosalaI96</td>\n",
              "      <td>Estimation of Query-Result Distribution and it...</td>\n",
              "      <td>Viswanath Poosala, Yannis E. Ioannidis</td>\n",
              "      <td>VLDB</td>\n",
              "      <td>1996</td>\n",
              "    </tr>\n",
              "    <tr>\n",
              "      <th>2</th>\n",
              "      <td>2</td>\n",
              "      <td>conf/vldb/PalpanasSCP02</td>\n",
              "      <td>Incremental Maintenance for Non-Distributive A...</td>\n",
              "      <td>Themistoklis Palpanas, Richard Sidle, Hamid Pi...</td>\n",
              "      <td>VLDB</td>\n",
              "      <td>2002</td>\n",
              "    </tr>\n",
              "    <tr>\n",
              "      <th>3</th>\n",
              "      <td>3</td>\n",
              "      <td>conf/vldb/GardarinGT96</td>\n",
              "      <td>Cost-based Selection of Path Expression Proces...</td>\n",
              "      <td>Zhao-Hui Tang, Georges Gardarin, Jean-Robert G...</td>\n",
              "      <td>VLDB</td>\n",
              "      <td>1996</td>\n",
              "    </tr>\n",
              "    <tr>\n",
              "      <th>4</th>\n",
              "      <td>4</td>\n",
              "      <td>conf/vldb/HoelS95</td>\n",
              "      <td>Benchmarking Spatial Join Operations with Spat...</td>\n",
              "      <td>Erik G. Hoel, Hanan Samet</td>\n",
              "      <td>VLDB</td>\n",
              "      <td>1995</td>\n",
              "    </tr>\n",
              "  </tbody>\n",
              "</table>\n",
              "</div>"
            ],
            "text/plain": [
              "   Unnamed: 0                   DBLP_id  ...     DBLP_venue DBLP_year\n",
              "0           0  journals/sigmod/Mackay99  ...  SIGMOD Record      1999\n",
              "1           1      conf/vldb/PoosalaI96  ...           VLDB      1996\n",
              "2           2   conf/vldb/PalpanasSCP02  ...           VLDB      2002\n",
              "3           3    conf/vldb/GardarinGT96  ...           VLDB      1996\n",
              "4           4         conf/vldb/HoelS95  ...           VLDB      1995\n",
              "\n",
              "[5 rows x 6 columns]"
            ]
          },
          "metadata": {},
          "execution_count": 7
        }
      ]
    },
    {
      "cell_type": "code",
      "metadata": {
        "colab": {
          "base_uri": "https://localhost:8080/"
        },
        "id": "jHEgH463YDaJ",
        "outputId": "306c929f-63a6-41a1-cca2-9d2af946b419"
      },
      "source": [
        "## printing the dataframe sizes\n",
        "\n",
        "print(\"raw dataframe number of records:\")\n",
        "print(\"ACM_id count:  {x}\".format(x=ACM['ACM_id'].count()))\n",
        "print(\"DBLP_id count:  {x}\".format(x=DBLP['DBLP_id'].count()))"
      ],
      "execution_count": 8,
      "outputs": [
        {
          "output_type": "stream",
          "name": "stdout",
          "text": [
            "raw dataframe number of records:\n",
            "ACM_id count:  2294\n",
            "DBLP_id count:  2616\n"
          ]
        }
      ]
    },
    {
      "cell_type": "markdown",
      "source": [
        "# **Choosing to focus on \"ACM_authors\" and \"ACM_title and comparing the top few rows of the data\"**"
      ],
      "metadata": {
        "id": "in2RJRjxxx-e"
      }
    },
    {
      "cell_type": "code",
      "metadata": {
        "colab": {
          "base_uri": "https://localhost:8080/",
          "height": 677
        },
        "id": "fC3bGct_aD3r",
        "outputId": "606d6f3c-b3ea-41c3-ebc2-0c8b3ab880c5"
      },
      "source": [
        "cond = ACM['ACM_authors'].str.startswith('A')\n",
        "ACM.sort_values(by=['ACM_authors'], ascending=True)[['ACM_authors', 'ACM_title']].head(20)"
      ],
      "execution_count": 9,
      "outputs": [
        {
          "output_type": "execute_result",
          "data": {
            "text/html": [
              "<div>\n",
              "<style scoped>\n",
              "    .dataframe tbody tr th:only-of-type {\n",
              "        vertical-align: middle;\n",
              "    }\n",
              "\n",
              "    .dataframe tbody tr th {\n",
              "        vertical-align: top;\n",
              "    }\n",
              "\n",
              "    .dataframe thead th {\n",
              "        text-align: right;\n",
              "    }\n",
              "</style>\n",
              "<table border=\"1\" class=\"dataframe\">\n",
              "  <thead>\n",
              "    <tr style=\"text-align: right;\">\n",
              "      <th></th>\n",
              "      <th>ACM_authors</th>\n",
              "      <th>ACM_title</th>\n",
              "    </tr>\n",
              "  </thead>\n",
              "  <tbody>\n",
              "    <tr>\n",
              "      <th>2135</th>\n",
              "      <td>Objectivity</td>\n",
              "      <td>Objectivity Industrial Exhibit</td>\n",
              "    </tr>\n",
              "    <tr>\n",
              "      <th>725</th>\n",
              "      <td>The TimesTen Team</td>\n",
              "      <td>Mid-tier caching: the TimesTen approach</td>\n",
              "    </tr>\n",
              "    <tr>\n",
              "      <th>1614</th>\n",
              "      <td>&amp;#214;zg&amp;#252;r Ulusoy</td>\n",
              "      <td>An annotated bibliography on real-time databas...</td>\n",
              "    </tr>\n",
              "    <tr>\n",
              "      <th>376</th>\n",
              "      <td>&amp;#214;zg&amp;#252;r Ulusoy, Alejandro Buchmann</td>\n",
              "      <td>Exploiting main memory DBMS features to improv...</td>\n",
              "    </tr>\n",
              "    <tr>\n",
              "      <th>1017</th>\n",
              "      <td>&amp;#216;ystein Gr&amp;#248;vlen, Svein-Olaf Hvasshov...</td>\n",
              "      <td>Low-Cost Compensation-Based Query Processing</td>\n",
              "    </tr>\n",
              "    <tr>\n",
              "      <th>1054</th>\n",
              "      <td>A. A. Diwan, Sanjeeva Rane, S. Seshadri, S. Su...</td>\n",
              "      <td>Clustering Techniques for Minimizing External ...</td>\n",
              "    </tr>\n",
              "    <tr>\n",
              "      <th>1741</th>\n",
              "      <td>A. Biliris, S. Dar, N. Gehani, H. V. Jagadish,...</td>\n",
              "      <td>ASSET: a system for supporting extended transa...</td>\n",
              "    </tr>\n",
              "    <tr>\n",
              "      <th>235</th>\n",
              "      <td>A. Biliris, T. A. Funkhouser, W. O'Connell, E....</td>\n",
              "      <td>BeSS: storage support for interactive visualiz...</td>\n",
              "    </tr>\n",
              "    <tr>\n",
              "      <th>1565</th>\n",
              "      <td>A. Dogac, C. Dengi, E. Kilic, G. Ozhan, F. Ozc...</td>\n",
              "      <td>METU interoperable database system</td>\n",
              "    </tr>\n",
              "    <tr>\n",
              "      <th>218</th>\n",
              "      <td>A. Formica, H. D. Groger, M. Missikoff</td>\n",
              "      <td>An efficient method for checking object-orient...</td>\n",
              "    </tr>\n",
              "    <tr>\n",
              "      <th>1632</th>\n",
              "      <td>A. Kemper, G. Moerkotte, K. Peithner, M. Stein...</td>\n",
              "      <td>Optimizing disjunctive queries with expensive ...</td>\n",
              "    </tr>\n",
              "    <tr>\n",
              "      <th>118</th>\n",
              "      <td>A. M. Ouksel, A. Sheth</td>\n",
              "      <td>Semantic interoperability in global informatio...</td>\n",
              "    </tr>\n",
              "    <tr>\n",
              "      <th>2186</th>\n",
              "      <td>A. Maedche, B. Motik, L. Stojanovic</td>\n",
              "      <td>Managing multiple and distributed ontologies o...</td>\n",
              "    </tr>\n",
              "    <tr>\n",
              "      <th>1529</th>\n",
              "      <td>A. P. Buchmann, A. Deutsch, J. Zimmermann, M. ...</td>\n",
              "      <td>The REACH active OODBMS</td>\n",
              "    </tr>\n",
              "    <tr>\n",
              "      <th>1439</th>\n",
              "      <td>A. Prasad Sistla, Clement T. Yu, Chengwen Liu,...</td>\n",
              "      <td>Similarity based Retrieval of Pictures Using I...</td>\n",
              "    </tr>\n",
              "    <tr>\n",
              "      <th>2221</th>\n",
              "      <td>A. Prasad Sistla, Clement T. Yu, R. Haddad</td>\n",
              "      <td>Reasoning About Spatial Relationships in Pictu...</td>\n",
              "    </tr>\n",
              "    <tr>\n",
              "      <th>1511</th>\n",
              "      <td>A. Prasad Sistla, Ouri Wolfson</td>\n",
              "      <td>Temporal conditions and integrity constraints ...</td>\n",
              "    </tr>\n",
              "    <tr>\n",
              "      <th>134</th>\n",
              "      <td>A. Prasad Sistla, Ouri Wolfson, Yelena Yesha, ...</td>\n",
              "      <td>Towards a theory of cost management for digita...</td>\n",
              "    </tr>\n",
              "    <tr>\n",
              "      <th>2155</th>\n",
              "      <td>A. R. Dasgupta</td>\n",
              "      <td>Large Databases for Remote Sensing and GIS</td>\n",
              "    </tr>\n",
              "    <tr>\n",
              "      <th>2113</th>\n",
              "      <td>A. Sheth, S. Thacker, S. Patel</td>\n",
              "      <td>Complex relationships and knowledge discovery ...</td>\n",
              "    </tr>\n",
              "  </tbody>\n",
              "</table>\n",
              "</div>"
            ],
            "text/plain": [
              "                                            ACM_authors                                          ACM_title\n",
              "2135                                        Objectivity                     Objectivity Industrial Exhibit\n",
              "725                                   The TimesTen Team            Mid-tier caching: the TimesTen approach\n",
              "1614                             &#214;zg&#252;r Ulusoy  An annotated bibliography on real-time databas...\n",
              "376          &#214;zg&#252;r Ulusoy, Alejandro Buchmann  Exploiting main memory DBMS features to improv...\n",
              "1017  &#216;ystein Gr&#248;vlen, Svein-Olaf Hvasshov...       Low-Cost Compensation-Based Query Processing\n",
              "1054  A. A. Diwan, Sanjeeva Rane, S. Seshadri, S. Su...  Clustering Techniques for Minimizing External ...\n",
              "1741  A. Biliris, S. Dar, N. Gehani, H. V. Jagadish,...  ASSET: a system for supporting extended transa...\n",
              "235   A. Biliris, T. A. Funkhouser, W. O'Connell, E....  BeSS: storage support for interactive visualiz...\n",
              "1565  A. Dogac, C. Dengi, E. Kilic, G. Ozhan, F. Ozc...                 METU interoperable database system\n",
              "218              A. Formica, H. D. Groger, M. Missikoff  An efficient method for checking object-orient...\n",
              "1632  A. Kemper, G. Moerkotte, K. Peithner, M. Stein...  Optimizing disjunctive queries with expensive ...\n",
              "118                              A. M. Ouksel, A. Sheth  Semantic interoperability in global informatio...\n",
              "2186                A. Maedche, B. Motik, L. Stojanovic  Managing multiple and distributed ontologies o...\n",
              "1529  A. P. Buchmann, A. Deutsch, J. Zimmermann, M. ...                            The REACH active OODBMS\n",
              "1439  A. Prasad Sistla, Clement T. Yu, Chengwen Liu,...  Similarity based Retrieval of Pictures Using I...\n",
              "2221         A. Prasad Sistla, Clement T. Yu, R. Haddad  Reasoning About Spatial Relationships in Pictu...\n",
              "1511                     A. Prasad Sistla, Ouri Wolfson  Temporal conditions and integrity constraints ...\n",
              "134   A. Prasad Sistla, Ouri Wolfson, Yelena Yesha, ...  Towards a theory of cost management for digita...\n",
              "2155                                     A. R. Dasgupta         Large Databases for Remote Sensing and GIS\n",
              "2113                     A. Sheth, S. Thacker, S. Patel  Complex relationships and knowledge discovery ..."
            ]
          },
          "metadata": {},
          "execution_count": 9
        }
      ]
    },
    {
      "cell_type": "code",
      "metadata": {
        "colab": {
          "base_uri": "https://localhost:8080/",
          "height": 677
        },
        "id": "4PzafS9_dOAe",
        "outputId": "9e87ed30-f421-4830-d462-fddeef1e40d0"
      },
      "source": [
        "cond = DBLP['DBLP_authors'].str.startswith('A')\n",
        "DBLP.sort_values(by=['DBLP_authors'], ascending=True)[['DBLP_authors', 'DBLP_title']].head(20)"
      ],
      "execution_count": 10,
      "outputs": [
        {
          "output_type": "execute_result",
          "data": {
            "text/html": [
              "<div>\n",
              "<style scoped>\n",
              "    .dataframe tbody tr th:only-of-type {\n",
              "        vertical-align: middle;\n",
              "    }\n",
              "\n",
              "    .dataframe tbody tr th {\n",
              "        vertical-align: top;\n",
              "    }\n",
              "\n",
              "    .dataframe thead th {\n",
              "        text-align: right;\n",
              "    }\n",
              "</style>\n",
              "<table border=\"1\" class=\"dataframe\">\n",
              "  <thead>\n",
              "    <tr style=\"text-align: right;\">\n",
              "      <th></th>\n",
              "      <th>DBLP_authors</th>\n",
              "      <th>DBLP_title</th>\n",
              "    </tr>\n",
              "  </thead>\n",
              "  <tbody>\n",
              "    <tr>\n",
              "      <th>1888</th>\n",
              "      <td>?</td>\n",
              "      <td>Title, Announcement</td>\n",
              "    </tr>\n",
              "    <tr>\n",
              "      <th>1913</th>\n",
              "      <td>?</td>\n",
              "      <td>Title, Foreword</td>\n",
              "    </tr>\n",
              "    <tr>\n",
              "      <th>1925</th>\n",
              "      <td>?</td>\n",
              "      <td>The Active Database Central, ER2000, VLDB 2000...</td>\n",
              "    </tr>\n",
              "    <tr>\n",
              "      <th>1946</th>\n",
              "      <td>?</td>\n",
              "      <td>Title, Preface to the Special Issue on Persist...</td>\n",
              "    </tr>\n",
              "    <tr>\n",
              "      <th>1873</th>\n",
              "      <td>?</td>\n",
              "      <td>Title, Foreword</td>\n",
              "    </tr>\n",
              "    <tr>\n",
              "      <th>2458</th>\n",
              "      <td>?</td>\n",
              "      <td>Title, Foreword, Special Issue Editorial</td>\n",
              "    </tr>\n",
              "    <tr>\n",
              "      <th>666</th>\n",
              "      <td>?</td>\n",
              "      <td>Title, Foreword, Preface to the Special Issue ...</td>\n",
              "    </tr>\n",
              "    <tr>\n",
              "      <th>451</th>\n",
              "      <td>?</td>\n",
              "      <td>Calls for Papers / Announcements</td>\n",
              "    </tr>\n",
              "    <tr>\n",
              "      <th>2437</th>\n",
              "      <td>?</td>\n",
              "      <td>Title</td>\n",
              "    </tr>\n",
              "    <tr>\n",
              "      <th>454</th>\n",
              "      <td>?</td>\n",
              "      <td>Proceedings of the 2003 ACM SIGMOD Internation...</td>\n",
              "    </tr>\n",
              "    <tr>\n",
              "      <th>954</th>\n",
              "      <td>?</td>\n",
              "      <td>High-Performance and Scalability through Appli...</td>\n",
              "    </tr>\n",
              "    <tr>\n",
              "      <th>914</th>\n",
              "      <td>?</td>\n",
              "      <td>Title, Foreword, VLDB Journal to be published ...</td>\n",
              "    </tr>\n",
              "    <tr>\n",
              "      <th>1640</th>\n",
              "      <td>?</td>\n",
              "      <td>Calls for Papers and Announcements</td>\n",
              "    </tr>\n",
              "    <tr>\n",
              "      <th>597</th>\n",
              "      <td>?</td>\n",
              "      <td>MineSet(tm): A System for High-End Data Mining...</td>\n",
              "    </tr>\n",
              "    <tr>\n",
              "      <th>1612</th>\n",
              "      <td>?</td>\n",
              "      <td>Proceedings of the 2002 ACM SIGMOD Internation...</td>\n",
              "    </tr>\n",
              "    <tr>\n",
              "      <th>1574</th>\n",
              "      <td>?</td>\n",
              "      <td>MQSeries and CICS Link for Lotus Notes</td>\n",
              "    </tr>\n",
              "    <tr>\n",
              "      <th>2064</th>\n",
              "      <td>?</td>\n",
              "      <td>Calls for Papers / Announcements</td>\n",
              "    </tr>\n",
              "    <tr>\n",
              "      <th>1544</th>\n",
              "      <td>?</td>\n",
              "      <td>Proceedings of the 2000 ACM SIGMOD Internation...</td>\n",
              "    </tr>\n",
              "    <tr>\n",
              "      <th>1110</th>\n",
              "      <td>?</td>\n",
              "      <td>Calls for Papers and Announcements</td>\n",
              "    </tr>\n",
              "    <tr>\n",
              "      <th>521</th>\n",
              "      <td>?</td>\n",
              "      <td>Ordering Information, Conference Organizers, P...</td>\n",
              "    </tr>\n",
              "  </tbody>\n",
              "</table>\n",
              "</div>"
            ],
            "text/plain": [
              "     DBLP_authors                                         DBLP_title\n",
              "1888            ?                                Title, Announcement\n",
              "1913            ?                                    Title, Foreword\n",
              "1925            ?  The Active Database Central, ER2000, VLDB 2000...\n",
              "1946            ?  Title, Preface to the Special Issue on Persist...\n",
              "1873            ?                                    Title, Foreword\n",
              "2458            ?           Title, Foreword, Special Issue Editorial\n",
              "666             ?  Title, Foreword, Preface to the Special Issue ...\n",
              "451             ?                   Calls for Papers / Announcements\n",
              "2437            ?                                              Title\n",
              "454             ?  Proceedings of the 2003 ACM SIGMOD Internation...\n",
              "954             ?  High-Performance and Scalability through Appli...\n",
              "914             ?  Title, Foreword, VLDB Journal to be published ...\n",
              "1640            ?                 Calls for Papers and Announcements\n",
              "597             ?  MineSet(tm): A System for High-End Data Mining...\n",
              "1612            ?  Proceedings of the 2002 ACM SIGMOD Internation...\n",
              "1574            ?             MQSeries and CICS Link for Lotus Notes\n",
              "2064            ?                   Calls for Papers / Announcements\n",
              "1544            ?  Proceedings of the 2000 ACM SIGMOD Internation...\n",
              "1110            ?                 Calls for Papers and Announcements\n",
              "521             ?  Ordering Information, Conference Organizers, P..."
            ]
          },
          "metadata": {},
          "execution_count": 10
        }
      ]
    },
    {
      "cell_type": "code",
      "metadata": {
        "id": "IHMnScwbdnV-"
      },
      "source": [
        "## defining columns for the left and right of the DataFrame\n",
        "left_on = [\"ACM_authors\", \"ACM_title\", \"ACM_venue\", \"ACM_year\"]\n",
        "right_on = [\"DBLP_authors\", \"DBLP_title\", \"DBLP_venue\", \"DBLP_year\"]"
      ],
      "execution_count": 11,
      "outputs": []
    },
    {
      "cell_type": "markdown",
      "source": [
        "# **Using the Fuzzymatcher to attempt to Find matches**\n",
        "\n",
        "utilizing the fuzzy_left_join method in order to uncover matches among the two data sets"
      ],
      "metadata": {
        "id": "4PMkV5Jty5y4"
      }
    },
    {
      "cell_type": "code",
      "metadata": {
        "id": "8P346VVMes2E"
      },
      "source": [
        "matched_results = fuzzymatcher.fuzzy_left_join(ACM,\n",
        "                                            DBLP,\n",
        "                                            left_on,\n",
        "                                            right_on,\n",
        "                                            left_id_col='ACM_id',\n",
        "                                            right_id_col='DBLP_id')"
      ],
      "execution_count": 12,
      "outputs": []
    },
    {
      "cell_type": "code",
      "metadata": {
        "colab": {
          "base_uri": "https://localhost:8080/",
          "height": 520
        },
        "id": "e8nXWa_GmSqq",
        "outputId": "dc7c78d5-c264-44cf-f101-1e8a13b70575"
      },
      "source": [
        "## Reorder and display the best matches in a more readable format\n",
        "cols = [\n",
        "    \"best_match_score\", \"ACM_authors\", \"DBLP_authors\", \"ACM_venue\", \"DBLP_venue\",\n",
        "    \"ACM_year\", \"DBLP_year\",\"ACM_id\",\"DBLP_id\"\n",
        "]\n",
        "pd.set_option('display.max_columns', None)\n",
        "compression_opts = dict(method='zip',\n",
        "                        archive_name='matched_results.csv')  \n",
        "matched_results.to_csv('matched_results.zip', index=False,\n",
        "          compression=compression_opts)\n",
        "matched_results[cols].sort_values(by=['best_match_score'], ascending=False).head(15)\n"
      ],
      "execution_count": 67,
      "outputs": [
        {
          "output_type": "execute_result",
          "data": {
            "text/html": [
              "<div>\n",
              "<style scoped>\n",
              "    .dataframe tbody tr th:only-of-type {\n",
              "        vertical-align: middle;\n",
              "    }\n",
              "\n",
              "    .dataframe tbody tr th {\n",
              "        vertical-align: top;\n",
              "    }\n",
              "\n",
              "    .dataframe thead th {\n",
              "        text-align: right;\n",
              "    }\n",
              "</style>\n",
              "<table border=\"1\" class=\"dataframe\">\n",
              "  <thead>\n",
              "    <tr style=\"text-align: right;\">\n",
              "      <th></th>\n",
              "      <th>best_match_score</th>\n",
              "      <th>ACM_authors</th>\n",
              "      <th>DBLP_authors</th>\n",
              "      <th>ACM_venue</th>\n",
              "      <th>DBLP_venue</th>\n",
              "      <th>ACM_year</th>\n",
              "      <th>DBLP_year</th>\n",
              "      <th>ACM_id</th>\n",
              "      <th>DBLP_id</th>\n",
              "    </tr>\n",
              "  </thead>\n",
              "  <tbody>\n",
              "    <tr>\n",
              "      <th>25282</th>\n",
              "      <td>9.284360</td>\n",
              "      <td>Michael J. Carey, Steve Kirsch, Mary Roth, Ber...</td>\n",
              "      <td>Runping Qi, Kuan Yee, Brian Sterling, Nicolas ...</td>\n",
              "      <td>Very Large Data Bases</td>\n",
              "      <td>VLDB</td>\n",
              "      <td>2001</td>\n",
              "      <td>2001</td>\n",
              "      <td>672199</td>\n",
              "      <td>conf/vldb/CareyKRLABFLOPQRSSUVWY01</td>\n",
              "    </tr>\n",
              "    <tr>\n",
              "      <th>34637</th>\n",
              "      <td>9.233475</td>\n",
              "      <td>Eugene Inseok Chong, Jagannathan Srinivasan, S...</td>\n",
              "      <td>Mahesh Jagannath, Eugene Inseok Chong, Aravind...</td>\n",
              "      <td>ACM SIGMOD Record</td>\n",
              "      <td>SIGMOD Record</td>\n",
              "      <td>2003</td>\n",
              "      <td>2003</td>\n",
              "      <td>777000</td>\n",
              "      <td>journals/sigmod/ChongFTSYKDJJ03</td>\n",
              "    </tr>\n",
              "    <tr>\n",
              "      <th>29328</th>\n",
              "      <td>9.165616</td>\n",
              "      <td>Richard Thomas Snodgrass, Ilsoo Ahn, Gadi Aria...</td>\n",
              "      <td>Wolfgang Käfer, Curtis E. Dyreson, Arie Segev,...</td>\n",
              "      <td>ACM SIGMOD Record</td>\n",
              "      <td>SIGMOD Record</td>\n",
              "      <td>1994</td>\n",
              "      <td>1994</td>\n",
              "      <td>181562</td>\n",
              "      <td>journals/sigmod/SnodgrassAABCDEGJKKKLLRSSS94</td>\n",
              "    </tr>\n",
              "    <tr>\n",
              "      <th>28664</th>\n",
              "      <td>9.091821</td>\n",
              "      <td>Richard Thomas Snodgrass, Ilsoo Ahn, Gad Ariav...</td>\n",
              "      <td>James Clifford, Ramez Elmasri, Michael D. Soo,...</td>\n",
              "      <td>ACM SIGMOD Record</td>\n",
              "      <td>SIGMOD Record</td>\n",
              "      <td>1994</td>\n",
              "      <td>1994</td>\n",
              "      <td>187449</td>\n",
              "      <td>journals/sigmod/SnodgrassAABCDEGJKKKLLRSSS94a</td>\n",
              "    </tr>\n",
              "    <tr>\n",
              "      <th>427</th>\n",
              "      <td>8.605440</td>\n",
              "      <td>Wen-Syan Li, Quoc Vu, Edward Chang, Divyakant ...</td>\n",
              "      <td>Kazuyuki Shimazu, Sougata Mukherjea, Yi-Leh Wu...</td>\n",
              "      <td>International Conference on Management of Data</td>\n",
              "      <td>SIGMOD Conference</td>\n",
              "      <td>1999</td>\n",
              "      <td>1999</td>\n",
              "      <td>304578</td>\n",
              "      <td>conf/sigmod/LiVCAHMWBCHIKSS99</td>\n",
              "    </tr>\n",
              "    <tr>\n",
              "      <th>28614</th>\n",
              "      <td>8.339831</td>\n",
              "      <td>Richard Thomas Snodgrass, Ilsoo Ahn, Gad Ariav...</td>\n",
              "      <td>Wolfgang Käfer, Curtis E. Dyreson, Arie Segev,...</td>\n",
              "      <td>ACM SIGMOD Record</td>\n",
              "      <td>SIGMOD Record</td>\n",
              "      <td>1994</td>\n",
              "      <td>1994</td>\n",
              "      <td>187454</td>\n",
              "      <td>journals/sigmod/SnodgrassAABCDEGJKKKLLRSSS94</td>\n",
              "    </tr>\n",
              "    <tr>\n",
              "      <th>7255</th>\n",
              "      <td>7.955609</td>\n",
              "      <td>John F. Roddick, Lina Al-Jadir, Leopoldo Berto...</td>\n",
              "      <td>Kathleen Hornsby, Heidi Gregersen, Lex Wedemei...</td>\n",
              "      <td>ACM SIGMOD Record</td>\n",
              "      <td>SIGMOD Record</td>\n",
              "      <td>2000</td>\n",
              "      <td>2000</td>\n",
              "      <td>344789</td>\n",
              "      <td>journals/sigmod/RoddickABDEGHLMMMW00</td>\n",
              "    </tr>\n",
              "    <tr>\n",
              "      <th>25375</th>\n",
              "      <td>7.756953</td>\n",
              "      <td>Jagannathan Srinivasan, Souripriya Das, Chuck ...</td>\n",
              "      <td>Anh-Tuan Tran, Chuck Freiwald, Aravind Yalaman...</td>\n",
              "      <td>Very Large Data Bases</td>\n",
              "      <td>VLDB</td>\n",
              "      <td>2000</td>\n",
              "      <td>2000</td>\n",
              "      <td>672004</td>\n",
              "      <td>conf/vldb/SrinivasanDFCJYKTDB00</td>\n",
              "    </tr>\n",
              "    <tr>\n",
              "      <th>794</th>\n",
              "      <td>7.620859</td>\n",
              "      <td>Andrew Frank, Stephane Grumbach, Ralf Hartmut ...</td>\n",
              "      <td>Enrico Nardelli, Timos K. Sellis, Andrew U. Fr...</td>\n",
              "      <td>ACM SIGMOD Record</td>\n",
              "      <td>SIGMOD Record</td>\n",
              "      <td>1999</td>\n",
              "      <td>1999</td>\n",
              "      <td>333609</td>\n",
              "      <td>journals/sigmod/FrankGGJKLMNPSSSTW99</td>\n",
              "    </tr>\n",
              "    <tr>\n",
              "      <th>27871</th>\n",
              "      <td>7.578288</td>\n",
              "      <td>Dean Daniels, Lip Boon Doo, Alan Downing, Curt...</td>\n",
              "      <td>Benny Souder, Bob Jenkins, Lip Boon Doo, Peter...</td>\n",
              "      <td>International Conference on Management of Data</td>\n",
              "      <td>SIGMOD Conference</td>\n",
              "      <td>1994</td>\n",
              "      <td>1994</td>\n",
              "      <td>191930</td>\n",
              "      <td>conf/sigmod/DanielsDDEHJJLSSS94</td>\n",
              "    </tr>\n",
              "    <tr>\n",
              "      <th>31727</th>\n",
              "      <td>7.298456</td>\n",
              "      <td>Jignesh Patel, JieBing Yu, Navin Kabra, Kristi...</td>\n",
              "      <td>Curt Ellmann, Roger Lueder, Jignesh M. Patel, ...</td>\n",
              "      <td>International Conference on Management of Data</td>\n",
              "      <td>SIGMOD Conference</td>\n",
              "      <td>1997</td>\n",
              "      <td>1997</td>\n",
              "      <td>253342</td>\n",
              "      <td>conf/sigmod/PatelYKTNBHRLEKGDN97</td>\n",
              "    </tr>\n",
              "    <tr>\n",
              "      <th>24251</th>\n",
              "      <td>7.273196</td>\n",
              "      <td>Jerry Baulier, Philip Bohannon, S. Gogate, S. ...</td>\n",
              "      <td>P. P. S. Narayan, S. Joshi, M. Nemeth, Abraham...</td>\n",
              "      <td>Very Large Data Bases</td>\n",
              "      <td>VLDB</td>\n",
              "      <td>1998</td>\n",
              "      <td>1998</td>\n",
              "      <td>671175</td>\n",
              "      <td>conf/vldb/BaulierBGJGKKMMNNRSS98</td>\n",
              "    </tr>\n",
              "    <tr>\n",
              "      <th>24508</th>\n",
              "      <td>7.134105</td>\n",
              "      <td>Amit P. Sheth, Krys Kochut, John A. Miller, De...</td>\n",
              "      <td>Devashish Worah, Souvik Das, Ivan Shevchenko, ...</td>\n",
              "      <td>Very Large Data Bases</td>\n",
              "      <td>VLDB</td>\n",
              "      <td>1996</td>\n",
              "      <td>1996</td>\n",
              "      <td>673468</td>\n",
              "      <td>conf/vldb/ShethKMWDLPLS96</td>\n",
              "    </tr>\n",
              "    <tr>\n",
              "      <th>5382</th>\n",
              "      <td>7.098873</td>\n",
              "      <td>Zachary Ives, Alon Levy, Jayant Madhavan, Rach...</td>\n",
              "      <td>Igor Tatarinov, Wai Tak Theodora Yeung, Shiori...</td>\n",
              "      <td>International Conference on Management of Data</td>\n",
              "      <td>SIGMOD Conference</td>\n",
              "      <td>2000</td>\n",
              "      <td>2000</td>\n",
              "      <td>335492</td>\n",
              "      <td>conf/sigmod/IvesLPST00</td>\n",
              "    </tr>\n",
              "    <tr>\n",
              "      <th>20618</th>\n",
              "      <td>6.772004</td>\n",
              "      <td>Serge Abiteboul, Vincent Aguilera, S&amp;#233;bast...</td>\n",
              "      <td>Bruno Tessier, Amélie Marian, Brendan Hills, S...</td>\n",
              "      <td>Very Large Data Bases</td>\n",
              "      <td>VLDB</td>\n",
              "      <td>1999</td>\n",
              "      <td>1999</td>\n",
              "      <td>671497</td>\n",
              "      <td>conf/vldb/AbiteboulAAACHHMMMMSTV99</td>\n",
              "    </tr>\n",
              "  </tbody>\n",
              "</table>\n",
              "</div>"
            ],
            "text/plain": [
              "       best_match_score                                        ACM_authors  \\\n",
              "25282          9.284360  Michael J. Carey, Steve Kirsch, Mary Roth, Ber...   \n",
              "34637          9.233475  Eugene Inseok Chong, Jagannathan Srinivasan, S...   \n",
              "29328          9.165616  Richard Thomas Snodgrass, Ilsoo Ahn, Gadi Aria...   \n",
              "28664          9.091821  Richard Thomas Snodgrass, Ilsoo Ahn, Gad Ariav...   \n",
              "427            8.605440  Wen-Syan Li, Quoc Vu, Edward Chang, Divyakant ...   \n",
              "28614          8.339831  Richard Thomas Snodgrass, Ilsoo Ahn, Gad Ariav...   \n",
              "7255           7.955609  John F. Roddick, Lina Al-Jadir, Leopoldo Berto...   \n",
              "25375          7.756953  Jagannathan Srinivasan, Souripriya Das, Chuck ...   \n",
              "794            7.620859  Andrew Frank, Stephane Grumbach, Ralf Hartmut ...   \n",
              "27871          7.578288  Dean Daniels, Lip Boon Doo, Alan Downing, Curt...   \n",
              "31727          7.298456  Jignesh Patel, JieBing Yu, Navin Kabra, Kristi...   \n",
              "24251          7.273196  Jerry Baulier, Philip Bohannon, S. Gogate, S. ...   \n",
              "24508          7.134105  Amit P. Sheth, Krys Kochut, John A. Miller, De...   \n",
              "5382           7.098873  Zachary Ives, Alon Levy, Jayant Madhavan, Rach...   \n",
              "20618          6.772004  Serge Abiteboul, Vincent Aguilera, S&#233;bast...   \n",
              "\n",
              "                                            DBLP_authors  \\\n",
              "25282  Runping Qi, Kuan Yee, Brian Sterling, Nicolas ...   \n",
              "34637  Mahesh Jagannath, Eugene Inseok Chong, Aravind...   \n",
              "29328  Wolfgang Käfer, Curtis E. Dyreson, Arie Segev,...   \n",
              "28664  James Clifford, Ramez Elmasri, Michael D. Soo,...   \n",
              "427    Kazuyuki Shimazu, Sougata Mukherjea, Yi-Leh Wu...   \n",
              "28614  Wolfgang Käfer, Curtis E. Dyreson, Arie Segev,...   \n",
              "7255   Kathleen Hornsby, Heidi Gregersen, Lex Wedemei...   \n",
              "25375  Anh-Tuan Tran, Chuck Freiwald, Aravind Yalaman...   \n",
              "794    Enrico Nardelli, Timos K. Sellis, Andrew U. Fr...   \n",
              "27871  Benny Souder, Bob Jenkins, Lip Boon Doo, Peter...   \n",
              "31727  Curt Ellmann, Roger Lueder, Jignesh M. Patel, ...   \n",
              "24251  P. P. S. Narayan, S. Joshi, M. Nemeth, Abraham...   \n",
              "24508  Devashish Worah, Souvik Das, Ivan Shevchenko, ...   \n",
              "5382   Igor Tatarinov, Wai Tak Theodora Yeung, Shiori...   \n",
              "20618  Bruno Tessier, Amélie Marian, Brendan Hills, S...   \n",
              "\n",
              "                                            ACM_venue         DBLP_venue  \\\n",
              "25282                           Very Large Data Bases               VLDB   \n",
              "34637                              ACM SIGMOD Record       SIGMOD Record   \n",
              "29328                              ACM SIGMOD Record       SIGMOD Record   \n",
              "28664                              ACM SIGMOD Record       SIGMOD Record   \n",
              "427    International Conference on Management of Data  SIGMOD Conference   \n",
              "28614                              ACM SIGMOD Record       SIGMOD Record   \n",
              "7255                               ACM SIGMOD Record       SIGMOD Record   \n",
              "25375                           Very Large Data Bases               VLDB   \n",
              "794                                ACM SIGMOD Record       SIGMOD Record   \n",
              "27871  International Conference on Management of Data  SIGMOD Conference   \n",
              "31727  International Conference on Management of Data  SIGMOD Conference   \n",
              "24251                           Very Large Data Bases               VLDB   \n",
              "24508                           Very Large Data Bases               VLDB   \n",
              "5382   International Conference on Management of Data  SIGMOD Conference   \n",
              "20618                           Very Large Data Bases               VLDB   \n",
              "\n",
              "       ACM_year  DBLP_year  ACM_id  \\\n",
              "25282      2001       2001  672199   \n",
              "34637      2003       2003  777000   \n",
              "29328      1994       1994  181562   \n",
              "28664      1994       1994  187449   \n",
              "427        1999       1999  304578   \n",
              "28614      1994       1994  187454   \n",
              "7255       2000       2000  344789   \n",
              "25375      2000       2000  672004   \n",
              "794        1999       1999  333609   \n",
              "27871      1994       1994  191930   \n",
              "31727      1997       1997  253342   \n",
              "24251      1998       1998  671175   \n",
              "24508      1996       1996  673468   \n",
              "5382       2000       2000  335492   \n",
              "20618      1999       1999  671497   \n",
              "\n",
              "                                             DBLP_id  \n",
              "25282             conf/vldb/CareyKRLABFLOPQRSSUVWY01  \n",
              "34637                journals/sigmod/ChongFTSYKDJJ03  \n",
              "29328   journals/sigmod/SnodgrassAABCDEGJKKKLLRSSS94  \n",
              "28664  journals/sigmod/SnodgrassAABCDEGJKKKLLRSSS94a  \n",
              "427                    conf/sigmod/LiVCAHMWBCHIKSS99  \n",
              "28614   journals/sigmod/SnodgrassAABCDEGJKKKLLRSSS94  \n",
              "7255            journals/sigmod/RoddickABDEGHLMMMW00  \n",
              "25375                conf/vldb/SrinivasanDFCJYKTDB00  \n",
              "794             journals/sigmod/FrankGGJKLMNPSSSTW99  \n",
              "27871                conf/sigmod/DanielsDDEHJJLSSS94  \n",
              "31727               conf/sigmod/PatelYKTNBHRLEKGDN97  \n",
              "24251               conf/vldb/BaulierBGJGKKMMNNRSS98  \n",
              "24508                      conf/vldb/ShethKMWDLPLS96  \n",
              "5382                          conf/sigmod/IvesLPST00  \n",
              "20618             conf/vldb/AbiteboulAAACHHMMMMSTV99  "
            ]
          },
          "metadata": {},
          "execution_count": 67
        }
      ]
    },
    {
      "cell_type": "markdown",
      "source": [
        "# **Comparing the results of our Fuzzy Matching to Ground Truth**\n",
        "\n",
        "This segment involves comparing the data set achieved through using the fuzzymatcher with the ground truth data set provided to us. This will allow us to conclude the precision, recall and F1- meansure."
      ],
      "metadata": {
        "id": "iWMKjUEj0dYT"
      }
    },
    {
      "cell_type": "code",
      "source": [
        "perfectMapping = pd.read_csv( 'https://raw.githubusercontent.com/PaoloMissier/CSC3831-2021-22/main/LINKAGE/DATASETS/DBLP-ACM_perfectMapping.csv')"
      ],
      "metadata": {
        "id": "1oyEbSfQFhNE"
      },
      "execution_count": 14,
      "outputs": []
    },
    {
      "cell_type": "code",
      "source": [
        "perfectMapping.head()"
      ],
      "metadata": {
        "colab": {
          "base_uri": "https://localhost:8080/",
          "height": 206
        },
        "id": "63BLIB9IFtLK",
        "outputId": "d99908a0-d799-4f45-dbe4-aa6318907dc9"
      },
      "execution_count": 15,
      "outputs": [
        {
          "output_type": "execute_result",
          "data": {
            "text/html": [
              "<div>\n",
              "<style scoped>\n",
              "    .dataframe tbody tr th:only-of-type {\n",
              "        vertical-align: middle;\n",
              "    }\n",
              "\n",
              "    .dataframe tbody tr th {\n",
              "        vertical-align: top;\n",
              "    }\n",
              "\n",
              "    .dataframe thead th {\n",
              "        text-align: right;\n",
              "    }\n",
              "</style>\n",
              "<table border=\"1\" class=\"dataframe\">\n",
              "  <thead>\n",
              "    <tr style=\"text-align: right;\">\n",
              "      <th></th>\n",
              "      <th>idDBLP</th>\n",
              "      <th>idACM</th>\n",
              "    </tr>\n",
              "  </thead>\n",
              "  <tbody>\n",
              "    <tr>\n",
              "      <th>0</th>\n",
              "      <td>conf/sigmod/SlivinskasJS01</td>\n",
              "      <td>375678</td>\n",
              "    </tr>\n",
              "    <tr>\n",
              "      <th>1</th>\n",
              "      <td>conf/sigmod/ChaudhuriDN01</td>\n",
              "      <td>375694</td>\n",
              "    </tr>\n",
              "    <tr>\n",
              "      <th>2</th>\n",
              "      <td>conf/sigmod/RinfretOO01</td>\n",
              "      <td>375669</td>\n",
              "    </tr>\n",
              "    <tr>\n",
              "      <th>3</th>\n",
              "      <td>conf/sigmod/BreunigKKS01</td>\n",
              "      <td>375672</td>\n",
              "    </tr>\n",
              "    <tr>\n",
              "      <th>4</th>\n",
              "      <td>conf/sigmod/JagadishJOT01</td>\n",
              "      <td>375687</td>\n",
              "    </tr>\n",
              "  </tbody>\n",
              "</table>\n",
              "</div>"
            ],
            "text/plain": [
              "                       idDBLP   idACM\n",
              "0  conf/sigmod/SlivinskasJS01  375678\n",
              "1   conf/sigmod/ChaudhuriDN01  375694\n",
              "2     conf/sigmod/RinfretOO01  375669\n",
              "3    conf/sigmod/BreunigKKS01  375672\n",
              "4   conf/sigmod/JagadishJOT01  375687"
            ]
          },
          "metadata": {},
          "execution_count": 15
        }
      ]
    },
    {
      "cell_type": "code",
      "source": [
        "cols = ['DBLP_id', 'ACM_id']\n",
        "fuzzy = matched_results[cols]\n",
        "fuzzy.head()"
      ],
      "metadata": {
        "colab": {
          "base_uri": "https://localhost:8080/",
          "height": 206
        },
        "id": "9kJqbfg_H4zq",
        "outputId": "8117130e-34e3-48b5-b7e9-c956aa9315e8"
      },
      "execution_count": 16,
      "outputs": [
        {
          "output_type": "execute_result",
          "data": {
            "text/html": [
              "<div>\n",
              "<style scoped>\n",
              "    .dataframe tbody tr th:only-of-type {\n",
              "        vertical-align: middle;\n",
              "    }\n",
              "\n",
              "    .dataframe tbody tr th {\n",
              "        vertical-align: top;\n",
              "    }\n",
              "\n",
              "    .dataframe thead th {\n",
              "        text-align: right;\n",
              "    }\n",
              "</style>\n",
              "<table border=\"1\" class=\"dataframe\">\n",
              "  <thead>\n",
              "    <tr style=\"text-align: right;\">\n",
              "      <th></th>\n",
              "      <th>DBLP_id</th>\n",
              "      <th>ACM_id</th>\n",
              "    </tr>\n",
              "  </thead>\n",
              "  <tbody>\n",
              "    <tr>\n",
              "      <th>0</th>\n",
              "      <td>conf/sigmod/VossenW99</td>\n",
              "      <td>304586</td>\n",
              "    </tr>\n",
              "    <tr>\n",
              "      <th>1</th>\n",
              "      <td>conf/sigmod/CruzJ99</td>\n",
              "      <td>304587</td>\n",
              "    </tr>\n",
              "    <tr>\n",
              "      <th>2</th>\n",
              "      <td>conf/sigmod/BouguettayaBH99</td>\n",
              "      <td>304589</td>\n",
              "    </tr>\n",
              "    <tr>\n",
              "      <th>3</th>\n",
              "      <td>conf/sigmod/BaruGLMPVC99</td>\n",
              "      <td>304590</td>\n",
              "    </tr>\n",
              "    <tr>\n",
              "      <th>4</th>\n",
              "      <td>conf/sigmod/BrodskySCE99</td>\n",
              "      <td>304582</td>\n",
              "    </tr>\n",
              "  </tbody>\n",
              "</table>\n",
              "</div>"
            ],
            "text/plain": [
              "                       DBLP_id  ACM_id\n",
              "0        conf/sigmod/VossenW99  304586\n",
              "1          conf/sigmod/CruzJ99  304587\n",
              "2  conf/sigmod/BouguettayaBH99  304589\n",
              "3     conf/sigmod/BaruGLMPVC99  304590\n",
              "4     conf/sigmod/BrodskySCE99  304582"
            ]
          },
          "metadata": {},
          "execution_count": 16
        }
      ]
    },
    {
      "cell_type": "code",
      "source": [
        "## utilizing itertuples in order to compare the corresponding colums for both data sets\n",
        "truePositive = 0\n",
        "falsePositive = 0\n",
        "falseNegative = 0\n",
        "\n",
        "for row in fuzzy.itertuples():\n",
        "  hit = perfectMapping.loc[(perfectMapping['idACM'] == row.ACM_id) & (perfectMapping['idDBLP'] == row.DBLP_id\t)]\n",
        "  match = hit['idDBLP'].count()\n",
        "\n",
        "  if match == 1:\n",
        "    truePositive += 1\n",
        "  else: \n",
        "    falsePositive += 1\n",
        "\n",
        "print (\"truePositive: {x}\".format(x=truePositive))\n",
        "print (\"falsePositive: {x}\".format(x=falsePositive))"
      ],
      "metadata": {
        "colab": {
          "base_uri": "https://localhost:8080/"
        },
        "id": "I8nxHqEXPKqk",
        "outputId": "dc5206dd-ebe1-4080-8a37-d84e043c783d"
      },
      "execution_count": 17,
      "outputs": [
        {
          "output_type": "stream",
          "name": "stdout",
          "text": [
            "truePositive: 2205\n",
            "falsePositive: 89\n"
          ]
        }
      ]
    },
    {
      "cell_type": "code",
      "source": [
        "for row in perfectMapping.itertuples():\n",
        "  hit = fuzzy.loc[(fuzzy['ACM_id'] == row.idACM) & (fuzzy['DBLP_id'] == row.idDBLP)]\n",
        "  match = hit['DBLP_id'].count()\n",
        "  if match == 0:\n",
        "    falseNegative += 1\n",
        "print (\"falseNegative: {x}\".format(x=falseNegative))"
      ],
      "metadata": {
        "colab": {
          "base_uri": "https://localhost:8080/"
        },
        "id": "8z07Nw_t5246",
        "outputId": "c1315e42-d61e-4dfc-dee7-1f55d4f83a4c"
      },
      "execution_count": 18,
      "outputs": [
        {
          "output_type": "stream",
          "name": "stdout",
          "text": [
            "falseNegative: 19\n"
          ]
        }
      ]
    },
    {
      "cell_type": "markdown",
      "source": [
        "# **Calculating and concluding the precision, recall and F1- meansure from the values we got through using itertuples to compare the data sets**"
      ],
      "metadata": {
        "id": "ltpI24u43fBM"
      }
    },
    {
      "cell_type": "code",
      "source": [
        "FuzzyMatcherPrecision = truePositive/(truePositive+falsePositive)\n",
        "FuzzyMatcherRecall = truePositive/(truePositive+falseNegative)\n",
        "FuzzyMatcherF1 = 2*((FuzzyMatcherPrecision*FuzzyMatcherRecall)/(FuzzyMatcherPrecision+FuzzyMatcherRecall))\n",
        "print (\"FuzzyMatcherPrecision: {x}\".format(x=FuzzyMatcherPrecision))\n",
        "print (\"FuzzyMatcherRecall: {x}\".format(x=FuzzyMatcherRecall))\n",
        "print (\"FuzzyMatcherF1: {x}\".format(x=FuzzyMatcherF1))"
      ],
      "metadata": {
        "colab": {
          "base_uri": "https://localhost:8080/"
        },
        "id": "rcHCUz6w7xAB",
        "outputId": "0ac20b46-2d23-40be-afd6-6d2b4e1ae381"
      },
      "execution_count": 19,
      "outputs": [
        {
          "output_type": "stream",
          "name": "stdout",
          "text": [
            "FuzzyMatcherPrecision: 0.9612031386224935\n",
            "FuzzyMatcherRecall: 0.9914568345323741\n",
            "FuzzyMatcherF1: 0.9760956175298806\n"
          ]
        }
      ]
    },
    {
      "cell_type": "markdown",
      "source": [
        "# **Utilizing RecordLinkage** \n",
        "\n",
        "This section involves performing performing Record Linkage with and without blocking on the two data sets and finally comparing with the ground truth set provided to confirm  precision, recall and F1- meansure."
      ],
      "metadata": {
        "id": "Z_LY5fkG30VQ"
      }
    },
    {
      "cell_type": "code",
      "source": [
        "import recordlinkage"
      ],
      "metadata": {
        "id": "jSUssgYznUHw"
      },
      "execution_count": 20,
      "outputs": []
    },
    {
      "cell_type": "code",
      "source": [
        "ACM = pd.read_csv( 'https://raw.githubusercontent.com/PaoloMissier/CSC3831-2021-22/main/LINKAGE/DATASETS/ACM.csv', index_col='id')\n",
        "DBLP = pd.read_csv( 'https://raw.githubusercontent.com/PaoloMissier/CSC3831-2021-22/main/LINKAGE/DATASETS/dblp.csv', index_col= 'id')\n",
        "ACM.rename(columns = {'id':'ACM_id', 'title':'ACM_title', 'authors':'ACM_authors',\n",
        "                              'venue':'ACM_venue', 'year':'ACM_year'}, inplace = True)\n",
        "DBLP.rename(columns = {'id':'DBLP_id', 'title':'DBLP_title', 'authors':'DBLP_authors',\n",
        "                              'venue':'DBLP_venue', 'year':'DBLP_year'}, inplace = True)\n",
        "ACM = ACM.drop('Unnamed: 0',1)\n",
        "DBLP = DBLP.drop('Unnamed: 0',1)\n",
        "ACM"
      ],
      "metadata": {
        "id": "zTvHpp28nmFc",
        "colab": {
          "base_uri": "https://localhost:8080/",
          "height": 454
        },
        "outputId": "aa2f8ef6-96df-44be-f123-b9d5d42135dd"
      },
      "execution_count": 23,
      "outputs": [
        {
          "output_type": "execute_result",
          "data": {
            "text/html": [
              "<div>\n",
              "<style scoped>\n",
              "    .dataframe tbody tr th:only-of-type {\n",
              "        vertical-align: middle;\n",
              "    }\n",
              "\n",
              "    .dataframe tbody tr th {\n",
              "        vertical-align: top;\n",
              "    }\n",
              "\n",
              "    .dataframe thead th {\n",
              "        text-align: right;\n",
              "    }\n",
              "</style>\n",
              "<table border=\"1\" class=\"dataframe\">\n",
              "  <thead>\n",
              "    <tr style=\"text-align: right;\">\n",
              "      <th></th>\n",
              "      <th>ACM_title</th>\n",
              "      <th>ACM_authors</th>\n",
              "      <th>ACM_venue</th>\n",
              "      <th>ACM_year</th>\n",
              "    </tr>\n",
              "    <tr>\n",
              "      <th>id</th>\n",
              "      <th></th>\n",
              "      <th></th>\n",
              "      <th></th>\n",
              "      <th></th>\n",
              "    </tr>\n",
              "  </thead>\n",
              "  <tbody>\n",
              "    <tr>\n",
              "      <th>304586</th>\n",
              "      <td>The WASA2 object-oriented workflow management ...</td>\n",
              "      <td>Gottfried Vossen, Mathias Weske</td>\n",
              "      <td>International Conference on Management of Data</td>\n",
              "      <td>1999</td>\n",
              "    </tr>\n",
              "    <tr>\n",
              "      <th>304587</th>\n",
              "      <td>A user-centered interface for querying distrib...</td>\n",
              "      <td>Isabel F. Cruz, Kimberly M. James</td>\n",
              "      <td>International Conference on Management of Data</td>\n",
              "      <td>1999</td>\n",
              "    </tr>\n",
              "    <tr>\n",
              "      <th>304589</th>\n",
              "      <td>World Wide Database-integrating the Web, CORBA...</td>\n",
              "      <td>Athman Bouguettaya, Boualem Benatallah, Lily H...</td>\n",
              "      <td>International Conference on Management of Data</td>\n",
              "      <td>1999</td>\n",
              "    </tr>\n",
              "    <tr>\n",
              "      <th>304590</th>\n",
              "      <td>XML-based information mediation with MIX</td>\n",
              "      <td>Chaitan Baru, Amarnath Gupta, Bertram Lud&amp;#228...</td>\n",
              "      <td>International Conference on Management of Data</td>\n",
              "      <td>1999</td>\n",
              "    </tr>\n",
              "    <tr>\n",
              "      <th>304582</th>\n",
              "      <td>The CCUBE constraint object-oriented database ...</td>\n",
              "      <td>Alexander Brodsky, Victor E. Segal, Jia Chen, ...</td>\n",
              "      <td>International Conference on Management of Data</td>\n",
              "      <td>1999</td>\n",
              "    </tr>\n",
              "    <tr>\n",
              "      <th>...</th>\n",
              "      <td>...</td>\n",
              "      <td>...</td>\n",
              "      <td>...</td>\n",
              "      <td>...</td>\n",
              "    </tr>\n",
              "    <tr>\n",
              "      <th>672977</th>\n",
              "      <td>Dual-Buffering Strategies in Object Bases</td>\n",
              "      <td>Alfons Kemper, Donald Kossmann</td>\n",
              "      <td>Very Large Data Bases</td>\n",
              "      <td>1994</td>\n",
              "    </tr>\n",
              "    <tr>\n",
              "      <th>950482</th>\n",
              "      <td>Guest editorial</td>\n",
              "      <td>Philip A. Bernstein, Yannis Ioannidis, Raghu R...</td>\n",
              "      <td>The VLDB Journal &amp;mdash; The International Jou...</td>\n",
              "      <td>2003</td>\n",
              "    </tr>\n",
              "    <tr>\n",
              "      <th>672980</th>\n",
              "      <td>GraphDB: Modeling and Querying Graphs in Datab...</td>\n",
              "      <td>Ralf Hartmut G&amp;#252;ting</td>\n",
              "      <td>Very Large Data Bases</td>\n",
              "      <td>1994</td>\n",
              "    </tr>\n",
              "    <tr>\n",
              "      <th>945741</th>\n",
              "      <td>Review of The data warehouse toolkit: the comp...</td>\n",
              "      <td>Alexander A. Anisimov</td>\n",
              "      <td>ACM SIGMOD Record</td>\n",
              "      <td>2003</td>\n",
              "    </tr>\n",
              "    <tr>\n",
              "      <th>672979</th>\n",
              "      <td>Bulk Loading into an OODB: A Performance Study</td>\n",
              "      <td>Janet L. Wiener, Jeffrey F. Naughton</td>\n",
              "      <td>Very Large Data Bases</td>\n",
              "      <td>1994</td>\n",
              "    </tr>\n",
              "  </tbody>\n",
              "</table>\n",
              "<p>2294 rows × 4 columns</p>\n",
              "</div>"
            ],
            "text/plain": [
              "                                                ACM_title  \\\n",
              "id                                                          \n",
              "304586  The WASA2 object-oriented workflow management ...   \n",
              "304587  A user-centered interface for querying distrib...   \n",
              "304589  World Wide Database-integrating the Web, CORBA...   \n",
              "304590           XML-based information mediation with MIX   \n",
              "304582  The CCUBE constraint object-oriented database ...   \n",
              "...                                                   ...   \n",
              "672977          Dual-Buffering Strategies in Object Bases   \n",
              "950482                                    Guest editorial   \n",
              "672980  GraphDB: Modeling and Querying Graphs in Datab...   \n",
              "945741  Review of The data warehouse toolkit: the comp...   \n",
              "672979     Bulk Loading into an OODB: A Performance Study   \n",
              "\n",
              "                                              ACM_authors  \\\n",
              "id                                                          \n",
              "304586                    Gottfried Vossen, Mathias Weske   \n",
              "304587                  Isabel F. Cruz, Kimberly M. James   \n",
              "304589  Athman Bouguettaya, Boualem Benatallah, Lily H...   \n",
              "304590  Chaitan Baru, Amarnath Gupta, Bertram Lud&#228...   \n",
              "304582  Alexander Brodsky, Victor E. Segal, Jia Chen, ...   \n",
              "...                                                   ...   \n",
              "672977                     Alfons Kemper, Donald Kossmann   \n",
              "950482  Philip A. Bernstein, Yannis Ioannidis, Raghu R...   \n",
              "672980                           Ralf Hartmut G&#252;ting   \n",
              "945741                              Alexander A. Anisimov   \n",
              "672979               Janet L. Wiener, Jeffrey F. Naughton   \n",
              "\n",
              "                                                ACM_venue  ACM_year  \n",
              "id                                                                   \n",
              "304586     International Conference on Management of Data      1999  \n",
              "304587     International Conference on Management of Data      1999  \n",
              "304589     International Conference on Management of Data      1999  \n",
              "304590     International Conference on Management of Data      1999  \n",
              "304582     International Conference on Management of Data      1999  \n",
              "...                                                   ...       ...  \n",
              "672977                              Very Large Data Bases      1994  \n",
              "950482  The VLDB Journal &mdash; The International Jou...      2003  \n",
              "672980                              Very Large Data Bases      1994  \n",
              "945741                                 ACM SIGMOD Record       2003  \n",
              "672979                              Very Large Data Bases      1994  \n",
              "\n",
              "[2294 rows x 4 columns]"
            ]
          },
          "metadata": {},
          "execution_count": 23
        }
      ]
    },
    {
      "cell_type": "markdown",
      "source": [
        "# **Full Index**\n",
        "\n",
        "First we build the index. We will go through both full and block and compare their differenc in performance."
      ],
      "metadata": {
        "id": "IkshYhg26pIO"
      }
    },
    {
      "cell_type": "code",
      "source": [
        "indexer = recordlinkage.Index()\n",
        "indexer.full()"
      ],
      "metadata": {
        "colab": {
          "base_uri": "https://localhost:8080/"
        },
        "id": "-NMi7hv8oW0b",
        "outputId": "bcc4bc99-1a32-4269-b585-cdbba157eca4"
      },
      "execution_count": 24,
      "outputs": [
        {
          "output_type": "stream",
          "name": "stdout",
          "text": [
            "WARNING:recordlinkage:indexing - performance warning - A full index can result in large number of record pairs.\n"
          ]
        },
        {
          "output_type": "execute_result",
          "data": {
            "text/plain": [
              "<Index>"
            ]
          },
          "metadata": {},
          "execution_count": 24
        }
      ]
    },
    {
      "cell_type": "code",
      "source": [
        "## checking the number of matches we ant to perform\n",
        "candidates = indexer.index(ACM, DBLP)\n",
        "print(len(candidates))"
      ],
      "metadata": {
        "colab": {
          "base_uri": "https://localhost:8080/"
        },
        "id": "5jOjYZ9ZodhU",
        "outputId": "b18d4011-c02f-4304-e350-af7e2d0dbf5d"
      },
      "execution_count": 25,
      "outputs": [
        {
          "output_type": "stream",
          "name": "stdout",
          "text": [
            "6001104\n"
          ]
        }
      ]
    },
    {
      "cell_type": "code",
      "source": [
        "## perform comparison logic\n",
        "## takes 5 minutes 4s to execute using full index on my system\n",
        "compare = recordlinkage.Compare()\n",
        "compare.exact('ACM_year', 'DBLP_year', label='Year')\n",
        "compare.string('ACM_title',\n",
        "            'DBLP_title',\n",
        "            threshold=0.85,\n",
        "            label='Title')\n",
        "compare.string('ACM_authors',\n",
        "            'DBLP_authors',\n",
        "            threshold=0.85,\n",
        "            label='Authors')\n",
        "features = compare.compute(candidates, ACM,\n",
        "                        DBLP)"
      ],
      "metadata": {
        "id": "nynk_qEipIlk"
      },
      "execution_count": 26,
      "outputs": []
    },
    {
      "cell_type": "code",
      "source": [
        "features.describe()"
      ],
      "metadata": {
        "colab": {
          "base_uri": "https://localhost:8080/",
          "height": 300
        },
        "id": "hr4bGuWMpYPN",
        "outputId": "9a791d67-fe9b-4d14-973a-1c80055f6aab"
      },
      "execution_count": 27,
      "outputs": [
        {
          "output_type": "execute_result",
          "data": {
            "text/html": [
              "<div>\n",
              "<style scoped>\n",
              "    .dataframe tbody tr th:only-of-type {\n",
              "        vertical-align: middle;\n",
              "    }\n",
              "\n",
              "    .dataframe tbody tr th {\n",
              "        vertical-align: top;\n",
              "    }\n",
              "\n",
              "    .dataframe thead th {\n",
              "        text-align: right;\n",
              "    }\n",
              "</style>\n",
              "<table border=\"1\" class=\"dataframe\">\n",
              "  <thead>\n",
              "    <tr style=\"text-align: right;\">\n",
              "      <th></th>\n",
              "      <th>Year</th>\n",
              "      <th>Title</th>\n",
              "      <th>Authors</th>\n",
              "    </tr>\n",
              "  </thead>\n",
              "  <tbody>\n",
              "    <tr>\n",
              "      <th>count</th>\n",
              "      <td>6.001104e+06</td>\n",
              "      <td>6.001104e+06</td>\n",
              "      <td>6.001104e+06</td>\n",
              "    </tr>\n",
              "    <tr>\n",
              "      <th>mean</th>\n",
              "      <td>1.001956e-01</td>\n",
              "      <td>3.957605e-04</td>\n",
              "      <td>2.796152e-04</td>\n",
              "    </tr>\n",
              "    <tr>\n",
              "      <th>std</th>\n",
              "      <td>3.002606e-01</td>\n",
              "      <td>1.988980e-02</td>\n",
              "      <td>1.671936e-02</td>\n",
              "    </tr>\n",
              "    <tr>\n",
              "      <th>min</th>\n",
              "      <td>0.000000e+00</td>\n",
              "      <td>0.000000e+00</td>\n",
              "      <td>0.000000e+00</td>\n",
              "    </tr>\n",
              "    <tr>\n",
              "      <th>25%</th>\n",
              "      <td>0.000000e+00</td>\n",
              "      <td>0.000000e+00</td>\n",
              "      <td>0.000000e+00</td>\n",
              "    </tr>\n",
              "    <tr>\n",
              "      <th>50%</th>\n",
              "      <td>0.000000e+00</td>\n",
              "      <td>0.000000e+00</td>\n",
              "      <td>0.000000e+00</td>\n",
              "    </tr>\n",
              "    <tr>\n",
              "      <th>75%</th>\n",
              "      <td>0.000000e+00</td>\n",
              "      <td>0.000000e+00</td>\n",
              "      <td>0.000000e+00</td>\n",
              "    </tr>\n",
              "    <tr>\n",
              "      <th>max</th>\n",
              "      <td>1.000000e+00</td>\n",
              "      <td>1.000000e+00</td>\n",
              "      <td>1.000000e+00</td>\n",
              "    </tr>\n",
              "  </tbody>\n",
              "</table>\n",
              "</div>"
            ],
            "text/plain": [
              "               Year         Title       Authors\n",
              "count  6.001104e+06  6.001104e+06  6.001104e+06\n",
              "mean   1.001956e-01  3.957605e-04  2.796152e-04\n",
              "std    3.002606e-01  1.988980e-02  1.671936e-02\n",
              "min    0.000000e+00  0.000000e+00  0.000000e+00\n",
              "25%    0.000000e+00  0.000000e+00  0.000000e+00\n",
              "50%    0.000000e+00  0.000000e+00  0.000000e+00\n",
              "75%    0.000000e+00  0.000000e+00  0.000000e+00\n",
              "max    1.000000e+00  1.000000e+00  1.000000e+00"
            ]
          },
          "metadata": {},
          "execution_count": 27
        }
      ]
    },
    {
      "cell_type": "code",
      "source": [
        "## check the quality of matches\n",
        "features.sum(axis=1).value_counts().sort_index(ascending=False)"
      ],
      "metadata": {
        "colab": {
          "base_uri": "https://localhost:8080/"
        },
        "id": "puFiLWdoxW3X",
        "outputId": "e1ba0532-98a5-4213-c9b5-1f9e82b8c44e"
      },
      "execution_count": 28,
      "outputs": [
        {
          "output_type": "execute_result",
          "data": {
            "text/plain": [
              "3.0        669\n",
              "2.0       1715\n",
              "1.0     599900\n",
              "0.0    5398820\n",
              "dtype: int64"
            ]
          },
          "metadata": {},
          "execution_count": 28
        }
      ]
    },
    {
      "cell_type": "code",
      "source": [
        "## taking all the records with more than 1 match as the potential matches\n",
        "potential_matches = features[features.sum(axis=1) > 1].reset_index()\n",
        "potential_matches['Score'] = potential_matches.loc[:, 'Year':'Title'].sum(axis=1)\n",
        "potential_matches.rename(columns ={'id_1':'ACM_id','id_2':'DBLP_id'}, inplace = True)\n",
        "potential_matches.head()"
      ],
      "metadata": {
        "colab": {
          "base_uri": "https://localhost:8080/",
          "height": 206
        },
        "id": "wR-T_bXIzxKT",
        "outputId": "f56c8f27-3c1c-4627-b3a4-7f2ebecca0d9"
      },
      "execution_count": 29,
      "outputs": [
        {
          "output_type": "execute_result",
          "data": {
            "text/html": [
              "<div>\n",
              "<style scoped>\n",
              "    .dataframe tbody tr th:only-of-type {\n",
              "        vertical-align: middle;\n",
              "    }\n",
              "\n",
              "    .dataframe tbody tr th {\n",
              "        vertical-align: top;\n",
              "    }\n",
              "\n",
              "    .dataframe thead th {\n",
              "        text-align: right;\n",
              "    }\n",
              "</style>\n",
              "<table border=\"1\" class=\"dataframe\">\n",
              "  <thead>\n",
              "    <tr style=\"text-align: right;\">\n",
              "      <th></th>\n",
              "      <th>ACM_id</th>\n",
              "      <th>DBLP_id</th>\n",
              "      <th>Year</th>\n",
              "      <th>Title</th>\n",
              "      <th>Authors</th>\n",
              "      <th>Score</th>\n",
              "    </tr>\n",
              "  </thead>\n",
              "  <tbody>\n",
              "    <tr>\n",
              "      <th>0</th>\n",
              "      <td>304586</td>\n",
              "      <td>conf/sigmod/VossenW99</td>\n",
              "      <td>1</td>\n",
              "      <td>1.0</td>\n",
              "      <td>0.0</td>\n",
              "      <td>2.0</td>\n",
              "    </tr>\n",
              "    <tr>\n",
              "      <th>1</th>\n",
              "      <td>304587</td>\n",
              "      <td>conf/sigmod/CruzJ99</td>\n",
              "      <td>1</td>\n",
              "      <td>1.0</td>\n",
              "      <td>0.0</td>\n",
              "      <td>2.0</td>\n",
              "    </tr>\n",
              "    <tr>\n",
              "      <th>2</th>\n",
              "      <td>304589</td>\n",
              "      <td>conf/sigmod/BouguettayaBH99</td>\n",
              "      <td>1</td>\n",
              "      <td>1.0</td>\n",
              "      <td>0.0</td>\n",
              "      <td>2.0</td>\n",
              "    </tr>\n",
              "    <tr>\n",
              "      <th>3</th>\n",
              "      <td>304590</td>\n",
              "      <td>conf/sigmod/BaruGLMPVC99</td>\n",
              "      <td>1</td>\n",
              "      <td>1.0</td>\n",
              "      <td>0.0</td>\n",
              "      <td>2.0</td>\n",
              "    </tr>\n",
              "    <tr>\n",
              "      <th>4</th>\n",
              "      <td>304582</td>\n",
              "      <td>conf/sigmod/BrodskySCE99</td>\n",
              "      <td>1</td>\n",
              "      <td>1.0</td>\n",
              "      <td>0.0</td>\n",
              "      <td>2.0</td>\n",
              "    </tr>\n",
              "  </tbody>\n",
              "</table>\n",
              "</div>"
            ],
            "text/plain": [
              "   ACM_id                      DBLP_id  Year  Title  Authors  Score\n",
              "0  304586        conf/sigmod/VossenW99     1    1.0      0.0    2.0\n",
              "1  304587          conf/sigmod/CruzJ99     1    1.0      0.0    2.0\n",
              "2  304589  conf/sigmod/BouguettayaBH99     1    1.0      0.0    2.0\n",
              "3  304590     conf/sigmod/BaruGLMPVC99     1    1.0      0.0    2.0\n",
              "4  304582     conf/sigmod/BrodskySCE99     1    1.0      0.0    2.0"
            ]
          },
          "metadata": {},
          "execution_count": 29
        }
      ]
    },
    {
      "cell_type": "markdown",
      "source": [
        "# **Manually looking at a match to check the accuracy**"
      ],
      "metadata": {
        "id": "WlbDH0cGCmEC"
      }
    },
    {
      "cell_type": "code",
      "source": [
        "ACM.loc[304586,:]"
      ],
      "metadata": {
        "colab": {
          "base_uri": "https://localhost:8080/"
        },
        "id": "8Uil3Hpq0Np7",
        "outputId": "e61a23dd-cc8e-4942-9dc4-7da5e8543d83"
      },
      "execution_count": 30,
      "outputs": [
        {
          "output_type": "execute_result",
          "data": {
            "text/plain": [
              "ACM_title      The WASA2 object-oriented workflow management ...\n",
              "ACM_authors                      Gottfried Vossen, Mathias Weske\n",
              "ACM_venue         International Conference on Management of Data\n",
              "ACM_year                                                    1999\n",
              "Name: 304586, dtype: object"
            ]
          },
          "metadata": {},
          "execution_count": 30
        }
      ]
    },
    {
      "cell_type": "code",
      "source": [
        "DBLP.loc[\"conf/sigmod/VossenW99\",:]"
      ],
      "metadata": {
        "colab": {
          "base_uri": "https://localhost:8080/"
        },
        "id": "3atryp1f0Uzh",
        "outputId": "8845aff2-07ef-4a63-86ed-3cb1e65f1fa5"
      },
      "execution_count": 31,
      "outputs": [
        {
          "output_type": "execute_result",
          "data": {
            "text/plain": [
              "DBLP_title      The WASA2 Object-Oriented Workflow Management ...\n",
              "DBLP_authors                      Mathias Weske, Gottfried Vossen\n",
              "DBLP_venue                                      SIGMOD Conference\n",
              "DBLP_year                                                    1999\n",
              "Name: conf/sigmod/VossenW99, dtype: object"
            ]
          },
          "metadata": {},
          "execution_count": 31
        }
      ]
    },
    {
      "cell_type": "markdown",
      "source": [
        "# **Wrangling Data**\n",
        "\n",
        "Making the data easier to review after confirming that we obtain the matches. Concatenate the data to make it wasier to look up."
      ],
      "metadata": {
        "id": "wr40WeCXC4o6"
      }
    },
    {
      "cell_type": "code",
      "source": [
        "ACM['ACM_Name_Lookup'] = ACM[[\n",
        "    'ACM_authors', 'ACM_title', 'ACM_year', 'ACM_venue'\n",
        "]].apply(lambda x: '_'.join(x.dropna().astype(str)), axis=1)\n",
        "\n",
        "DBLP['DBLP_Name_Lookup'] = DBLP[[\n",
        "    'DBLP_authors', 'DBLP_title', 'DBLP_year', 'DBLP_venue'\n",
        "]].apply(lambda x: '_'.join(x.dropna().astype(str)), axis=1)\n",
        "\n",
        "ACM_lookup = ACM[['ACM_Name_Lookup']].reset_index()\n",
        "ACM_lookup.rename(columns ={'id':'ACM_id'}, inplace = True)\n",
        "DBLP_lookup = DBLP[['DBLP_Name_Lookup']].reset_index()\n",
        "DBLP_lookup.rename(columns ={'id':'DBLP_id'}, inplace = True)\n"
      ],
      "metadata": {
        "id": "cyyo5yxE3MQY"
      },
      "execution_count": 32,
      "outputs": []
    },
    {
      "cell_type": "code",
      "source": [
        "ACM_lookup.head()"
      ],
      "metadata": {
        "colab": {
          "base_uri": "https://localhost:8080/",
          "height": 206
        },
        "id": "CqAw4yYT5gmR",
        "outputId": "9d72800a-4ee6-4152-e067-9bd6255b1897"
      },
      "execution_count": 33,
      "outputs": [
        {
          "output_type": "execute_result",
          "data": {
            "text/html": [
              "<div>\n",
              "<style scoped>\n",
              "    .dataframe tbody tr th:only-of-type {\n",
              "        vertical-align: middle;\n",
              "    }\n",
              "\n",
              "    .dataframe tbody tr th {\n",
              "        vertical-align: top;\n",
              "    }\n",
              "\n",
              "    .dataframe thead th {\n",
              "        text-align: right;\n",
              "    }\n",
              "</style>\n",
              "<table border=\"1\" class=\"dataframe\">\n",
              "  <thead>\n",
              "    <tr style=\"text-align: right;\">\n",
              "      <th></th>\n",
              "      <th>ACM_id</th>\n",
              "      <th>ACM_Name_Lookup</th>\n",
              "    </tr>\n",
              "  </thead>\n",
              "  <tbody>\n",
              "    <tr>\n",
              "      <th>0</th>\n",
              "      <td>304586</td>\n",
              "      <td>Gottfried Vossen, Mathias Weske_The WASA2 obje...</td>\n",
              "    </tr>\n",
              "    <tr>\n",
              "      <th>1</th>\n",
              "      <td>304587</td>\n",
              "      <td>Isabel F. Cruz, Kimberly M. James_A user-cente...</td>\n",
              "    </tr>\n",
              "    <tr>\n",
              "      <th>2</th>\n",
              "      <td>304589</td>\n",
              "      <td>Athman Bouguettaya, Boualem Benatallah, Lily H...</td>\n",
              "    </tr>\n",
              "    <tr>\n",
              "      <th>3</th>\n",
              "      <td>304590</td>\n",
              "      <td>Chaitan Baru, Amarnath Gupta, Bertram Lud&amp;#228...</td>\n",
              "    </tr>\n",
              "    <tr>\n",
              "      <th>4</th>\n",
              "      <td>304582</td>\n",
              "      <td>Alexander Brodsky, Victor E. Segal, Jia Chen, ...</td>\n",
              "    </tr>\n",
              "  </tbody>\n",
              "</table>\n",
              "</div>"
            ],
            "text/plain": [
              "   ACM_id                                    ACM_Name_Lookup\n",
              "0  304586  Gottfried Vossen, Mathias Weske_The WASA2 obje...\n",
              "1  304587  Isabel F. Cruz, Kimberly M. James_A user-cente...\n",
              "2  304589  Athman Bouguettaya, Boualem Benatallah, Lily H...\n",
              "3  304590  Chaitan Baru, Amarnath Gupta, Bertram Lud&#228...\n",
              "4  304582  Alexander Brodsky, Victor E. Segal, Jia Chen, ..."
            ]
          },
          "metadata": {},
          "execution_count": 33
        }
      ]
    },
    {
      "cell_type": "code",
      "source": [
        "DBLP_lookup.head()"
      ],
      "metadata": {
        "colab": {
          "base_uri": "https://localhost:8080/",
          "height": 206
        },
        "id": "zExFQiLx5jdw",
        "outputId": "7241c2e5-27eb-4308-c79f-b86d7fb644a4"
      },
      "execution_count": 34,
      "outputs": [
        {
          "output_type": "execute_result",
          "data": {
            "text/html": [
              "<div>\n",
              "<style scoped>\n",
              "    .dataframe tbody tr th:only-of-type {\n",
              "        vertical-align: middle;\n",
              "    }\n",
              "\n",
              "    .dataframe tbody tr th {\n",
              "        vertical-align: top;\n",
              "    }\n",
              "\n",
              "    .dataframe thead th {\n",
              "        text-align: right;\n",
              "    }\n",
              "</style>\n",
              "<table border=\"1\" class=\"dataframe\">\n",
              "  <thead>\n",
              "    <tr style=\"text-align: right;\">\n",
              "      <th></th>\n",
              "      <th>DBLP_id</th>\n",
              "      <th>DBLP_Name_Lookup</th>\n",
              "    </tr>\n",
              "  </thead>\n",
              "  <tbody>\n",
              "    <tr>\n",
              "      <th>0</th>\n",
              "      <td>journals/sigmod/Mackay99</td>\n",
              "      <td>D. Scott Mackay_Semantic Integration of Enviro...</td>\n",
              "    </tr>\n",
              "    <tr>\n",
              "      <th>1</th>\n",
              "      <td>conf/vldb/PoosalaI96</td>\n",
              "      <td>Viswanath Poosala, Yannis E. Ioannidis_Estimat...</td>\n",
              "    </tr>\n",
              "    <tr>\n",
              "      <th>2</th>\n",
              "      <td>conf/vldb/PalpanasSCP02</td>\n",
              "      <td>Themistoklis Palpanas, Richard Sidle, Hamid Pi...</td>\n",
              "    </tr>\n",
              "    <tr>\n",
              "      <th>3</th>\n",
              "      <td>conf/vldb/GardarinGT96</td>\n",
              "      <td>Zhao-Hui Tang, Georges Gardarin, Jean-Robert G...</td>\n",
              "    </tr>\n",
              "    <tr>\n",
              "      <th>4</th>\n",
              "      <td>conf/vldb/HoelS95</td>\n",
              "      <td>Erik G. Hoel, Hanan Samet_Benchmarking Spatial...</td>\n",
              "    </tr>\n",
              "  </tbody>\n",
              "</table>\n",
              "</div>"
            ],
            "text/plain": [
              "                    DBLP_id                                   DBLP_Name_Lookup\n",
              "0  journals/sigmod/Mackay99  D. Scott Mackay_Semantic Integration of Enviro...\n",
              "1      conf/vldb/PoosalaI96  Viswanath Poosala, Yannis E. Ioannidis_Estimat...\n",
              "2   conf/vldb/PalpanasSCP02  Themistoklis Palpanas, Richard Sidle, Hamid Pi...\n",
              "3    conf/vldb/GardarinGT96  Zhao-Hui Tang, Georges Gardarin, Jean-Robert G...\n",
              "4         conf/vldb/HoelS95  Erik G. Hoel, Hanan Samet_Benchmarking Spatial..."
            ]
          },
          "metadata": {},
          "execution_count": 34
        }
      ]
    },
    {
      "cell_type": "code",
      "source": [
        "## merge with the ACM data\n",
        "ACM_merge = potential_matches.merge(ACM_lookup, how='left')\n",
        "ACM_merge.head()"
      ],
      "metadata": {
        "colab": {
          "base_uri": "https://localhost:8080/",
          "height": 206
        },
        "id": "ph6Z787b5u2X",
        "outputId": "cf02e14d-3fda-4fb2-b3fa-60bd726e46ab"
      },
      "execution_count": 35,
      "outputs": [
        {
          "output_type": "execute_result",
          "data": {
            "text/html": [
              "<div>\n",
              "<style scoped>\n",
              "    .dataframe tbody tr th:only-of-type {\n",
              "        vertical-align: middle;\n",
              "    }\n",
              "\n",
              "    .dataframe tbody tr th {\n",
              "        vertical-align: top;\n",
              "    }\n",
              "\n",
              "    .dataframe thead th {\n",
              "        text-align: right;\n",
              "    }\n",
              "</style>\n",
              "<table border=\"1\" class=\"dataframe\">\n",
              "  <thead>\n",
              "    <tr style=\"text-align: right;\">\n",
              "      <th></th>\n",
              "      <th>ACM_id</th>\n",
              "      <th>DBLP_id</th>\n",
              "      <th>Year</th>\n",
              "      <th>Title</th>\n",
              "      <th>Authors</th>\n",
              "      <th>Score</th>\n",
              "      <th>ACM_Name_Lookup</th>\n",
              "    </tr>\n",
              "  </thead>\n",
              "  <tbody>\n",
              "    <tr>\n",
              "      <th>0</th>\n",
              "      <td>304586</td>\n",
              "      <td>conf/sigmod/VossenW99</td>\n",
              "      <td>1</td>\n",
              "      <td>1.0</td>\n",
              "      <td>0.0</td>\n",
              "      <td>2.0</td>\n",
              "      <td>Gottfried Vossen, Mathias Weske_The WASA2 obje...</td>\n",
              "    </tr>\n",
              "    <tr>\n",
              "      <th>1</th>\n",
              "      <td>304587</td>\n",
              "      <td>conf/sigmod/CruzJ99</td>\n",
              "      <td>1</td>\n",
              "      <td>1.0</td>\n",
              "      <td>0.0</td>\n",
              "      <td>2.0</td>\n",
              "      <td>Isabel F. Cruz, Kimberly M. James_A user-cente...</td>\n",
              "    </tr>\n",
              "    <tr>\n",
              "      <th>2</th>\n",
              "      <td>304589</td>\n",
              "      <td>conf/sigmod/BouguettayaBH99</td>\n",
              "      <td>1</td>\n",
              "      <td>1.0</td>\n",
              "      <td>0.0</td>\n",
              "      <td>2.0</td>\n",
              "      <td>Athman Bouguettaya, Boualem Benatallah, Lily H...</td>\n",
              "    </tr>\n",
              "    <tr>\n",
              "      <th>3</th>\n",
              "      <td>304590</td>\n",
              "      <td>conf/sigmod/BaruGLMPVC99</td>\n",
              "      <td>1</td>\n",
              "      <td>1.0</td>\n",
              "      <td>0.0</td>\n",
              "      <td>2.0</td>\n",
              "      <td>Chaitan Baru, Amarnath Gupta, Bertram Lud&amp;#228...</td>\n",
              "    </tr>\n",
              "    <tr>\n",
              "      <th>4</th>\n",
              "      <td>304582</td>\n",
              "      <td>conf/sigmod/BrodskySCE99</td>\n",
              "      <td>1</td>\n",
              "      <td>1.0</td>\n",
              "      <td>0.0</td>\n",
              "      <td>2.0</td>\n",
              "      <td>Alexander Brodsky, Victor E. Segal, Jia Chen, ...</td>\n",
              "    </tr>\n",
              "  </tbody>\n",
              "</table>\n",
              "</div>"
            ],
            "text/plain": [
              "   ACM_id                      DBLP_id  Year  Title  Authors  Score  \\\n",
              "0  304586        conf/sigmod/VossenW99     1    1.0      0.0    2.0   \n",
              "1  304587          conf/sigmod/CruzJ99     1    1.0      0.0    2.0   \n",
              "2  304589  conf/sigmod/BouguettayaBH99     1    1.0      0.0    2.0   \n",
              "3  304590     conf/sigmod/BaruGLMPVC99     1    1.0      0.0    2.0   \n",
              "4  304582     conf/sigmod/BrodskySCE99     1    1.0      0.0    2.0   \n",
              "\n",
              "                                     ACM_Name_Lookup  \n",
              "0  Gottfried Vossen, Mathias Weske_The WASA2 obje...  \n",
              "1  Isabel F. Cruz, Kimberly M. James_A user-cente...  \n",
              "2  Athman Bouguettaya, Boualem Benatallah, Lily H...  \n",
              "3  Chaitan Baru, Amarnath Gupta, Bertram Lud&#228...  \n",
              "4  Alexander Brodsky, Victor E. Segal, Jia Chen, ...  "
            ]
          },
          "metadata": {},
          "execution_count": 35
        }
      ]
    },
    {
      "cell_type": "code",
      "source": [
        "##final merge with the DBLP data\n",
        "final_merge = ACM_merge.merge(DBLP_lookup, how='left')"
      ],
      "metadata": {
        "id": "b49_yqhx8ew1"
      },
      "execution_count": 36,
      "outputs": []
    },
    {
      "cell_type": "code",
      "source": [
        "cols = ['ACM_id', 'DBLP_id', 'Score',\n",
        "        'ACM_Name_Lookup', 'DBLP_Name_Lookup']\n",
        "\n",
        "final_merge[cols].sort_values(by=['ACM_id', 'Score'], ascending=False)"
      ],
      "metadata": {
        "colab": {
          "base_uri": "https://localhost:8080/",
          "height": 424
        },
        "id": "Su10lNQS8x6F",
        "outputId": "6e35ff5d-4ca3-4c54-b562-129c4dbe83ed"
      },
      "execution_count": 37,
      "outputs": [
        {
          "output_type": "execute_result",
          "data": {
            "text/html": [
              "<div>\n",
              "<style scoped>\n",
              "    .dataframe tbody tr th:only-of-type {\n",
              "        vertical-align: middle;\n",
              "    }\n",
              "\n",
              "    .dataframe tbody tr th {\n",
              "        vertical-align: top;\n",
              "    }\n",
              "\n",
              "    .dataframe thead th {\n",
              "        text-align: right;\n",
              "    }\n",
              "</style>\n",
              "<table border=\"1\" class=\"dataframe\">\n",
              "  <thead>\n",
              "    <tr style=\"text-align: right;\">\n",
              "      <th></th>\n",
              "      <th>ACM_id</th>\n",
              "      <th>DBLP_id</th>\n",
              "      <th>Score</th>\n",
              "      <th>ACM_Name_Lookup</th>\n",
              "      <th>DBLP_Name_Lookup</th>\n",
              "    </tr>\n",
              "  </thead>\n",
              "  <tbody>\n",
              "    <tr>\n",
              "      <th>2220</th>\n",
              "      <td>959087</td>\n",
              "      <td>journals/sigmod/Hainaut03</td>\n",
              "      <td>2.0</td>\n",
              "      <td>Jean-Luc Hainaut_Research in database engineer...</td>\n",
              "      <td>Jean-Luc Hainaut_Research in database engineer...</td>\n",
              "    </tr>\n",
              "    <tr>\n",
              "      <th>2219</th>\n",
              "      <td>959086</td>\n",
              "      <td>journals/sigmod/KambhampatiK03</td>\n",
              "      <td>2.0</td>\n",
              "      <td>Subbarao Kambhampati, Craig A. Knoblock_Inform...</td>\n",
              "      <td>Subbarao Kambhampati, Craig A. Knoblock_Inform...</td>\n",
              "    </tr>\n",
              "    <tr>\n",
              "      <th>2222</th>\n",
              "      <td>959085</td>\n",
              "      <td>journals/sigmod/MotroA03</td>\n",
              "      <td>2.0</td>\n",
              "      <td>Amihai Motro, Troels Andreasen_Report on FQAS ...</td>\n",
              "      <td>Amihai Motro, Troels Andreasen_Report on FQAS ...</td>\n",
              "    </tr>\n",
              "    <tr>\n",
              "      <th>2221</th>\n",
              "      <td>959084</td>\n",
              "      <td>journals/sigmod/Giorgini03</td>\n",
              "      <td>2.0</td>\n",
              "      <td>Paolo Giorgini_Agent-Oriented software enginee...</td>\n",
              "      <td>Paolo Giorgini_Agent-Oriented software enginee...</td>\n",
              "    </tr>\n",
              "    <tr>\n",
              "      <th>2292</th>\n",
              "      <td>959083</td>\n",
              "      <td>journals/sigmod/LenzVJS03</td>\n",
              "      <td>2.0</td>\n",
              "      <td>Hans J. Lenz, Panos Vassiliadis, Manfred Jeusf...</td>\n",
              "      <td>Manfred A. Jeusfeld, Hans-Joachim Lenz, Panos ...</td>\n",
              "    </tr>\n",
              "    <tr>\n",
              "      <th>...</th>\n",
              "      <td>...</td>\n",
              "      <td>...</td>\n",
              "      <td>...</td>\n",
              "      <td>...</td>\n",
              "      <td>...</td>\n",
              "    </tr>\n",
              "    <tr>\n",
              "      <th>1377</th>\n",
              "      <td>176568</td>\n",
              "      <td>journals/tods/RosenthalR94</td>\n",
              "      <td>2.0</td>\n",
              "      <td>Arnon Rosenthal, David Reiner_Tools and transf...</td>\n",
              "      <td>David S. Reiner, Arnon Rosenthal_Tools and Tra...</td>\n",
              "    </tr>\n",
              "    <tr>\n",
              "      <th>1375</th>\n",
              "      <td>174642</td>\n",
              "      <td>journals/tods/CliffordC94</td>\n",
              "      <td>2.0</td>\n",
              "      <td>James Clifford, Albert Croker, Alexander Tuzhi...</td>\n",
              "      <td>James Clifford, Albert Croker, Alexander Tuzhi...</td>\n",
              "    </tr>\n",
              "    <tr>\n",
              "      <th>1395</th>\n",
              "      <td>174641</td>\n",
              "      <td>journals/tods/TendickM94</td>\n",
              "      <td>2.0</td>\n",
              "      <td>Patrick Tendick, Norman Matloff_A modified ran...</td>\n",
              "      <td>Norman S. Matloff, Patrick Tendick_A Modified ...</td>\n",
              "    </tr>\n",
              "    <tr>\n",
              "      <th>1393</th>\n",
              "      <td>174640</td>\n",
              "      <td>journals/tods/OliverS94</td>\n",
              "      <td>2.0</td>\n",
              "      <td>Martin S. Olivier, Sebastiaan H. von Solms_A t...</td>\n",
              "      <td>Sebastiaan H. von Solms, Martin S. Olivier_A T...</td>\n",
              "    </tr>\n",
              "    <tr>\n",
              "      <th>1398</th>\n",
              "      <td>174639</td>\n",
              "      <td>journals/tods/SalemGS94</td>\n",
              "      <td>2.0</td>\n",
              "      <td>Kenneth Salem, H&amp;#233;ctor Garc&amp;#237;a-Molina,...</td>\n",
              "      <td>Jeannie Shands, Kenneth Salem, Hector Garcia-M...</td>\n",
              "    </tr>\n",
              "  </tbody>\n",
              "</table>\n",
              "<p>2384 rows × 5 columns</p>\n",
              "</div>"
            ],
            "text/plain": [
              "      ACM_id                         DBLP_id  Score  \\\n",
              "2220  959087       journals/sigmod/Hainaut03    2.0   \n",
              "2219  959086  journals/sigmod/KambhampatiK03    2.0   \n",
              "2222  959085        journals/sigmod/MotroA03    2.0   \n",
              "2221  959084      journals/sigmod/Giorgini03    2.0   \n",
              "2292  959083       journals/sigmod/LenzVJS03    2.0   \n",
              "...      ...                             ...    ...   \n",
              "1377  176568      journals/tods/RosenthalR94    2.0   \n",
              "1375  174642       journals/tods/CliffordC94    2.0   \n",
              "1395  174641        journals/tods/TendickM94    2.0   \n",
              "1393  174640         journals/tods/OliverS94    2.0   \n",
              "1398  174639         journals/tods/SalemGS94    2.0   \n",
              "\n",
              "                                        ACM_Name_Lookup  \\\n",
              "2220  Jean-Luc Hainaut_Research in database engineer...   \n",
              "2219  Subbarao Kambhampati, Craig A. Knoblock_Inform...   \n",
              "2222  Amihai Motro, Troels Andreasen_Report on FQAS ...   \n",
              "2221  Paolo Giorgini_Agent-Oriented software enginee...   \n",
              "2292  Hans J. Lenz, Panos Vassiliadis, Manfred Jeusf...   \n",
              "...                                                 ...   \n",
              "1377  Arnon Rosenthal, David Reiner_Tools and transf...   \n",
              "1375  James Clifford, Albert Croker, Alexander Tuzhi...   \n",
              "1395  Patrick Tendick, Norman Matloff_A modified ran...   \n",
              "1393  Martin S. Olivier, Sebastiaan H. von Solms_A t...   \n",
              "1398  Kenneth Salem, H&#233;ctor Garc&#237;a-Molina,...   \n",
              "\n",
              "                                       DBLP_Name_Lookup  \n",
              "2220  Jean-Luc Hainaut_Research in database engineer...  \n",
              "2219  Subbarao Kambhampati, Craig A. Knoblock_Inform...  \n",
              "2222  Amihai Motro, Troels Andreasen_Report on FQAS ...  \n",
              "2221  Paolo Giorgini_Agent-Oriented software enginee...  \n",
              "2292  Manfred A. Jeusfeld, Hans-Joachim Lenz, Panos ...  \n",
              "...                                                 ...  \n",
              "1377  David S. Reiner, Arnon Rosenthal_Tools and Tra...  \n",
              "1375  James Clifford, Albert Croker, Alexander Tuzhi...  \n",
              "1395  Norman S. Matloff, Patrick Tendick_A Modified ...  \n",
              "1393  Sebastiaan H. von Solms, Martin S. Olivier_A T...  \n",
              "1398  Jeannie Shands, Kenneth Salem, Hector Garcia-M...  \n",
              "\n",
              "[2384 rows x 5 columns]"
            ]
          },
          "metadata": {},
          "execution_count": 37
        }
      ]
    },
    {
      "cell_type": "markdown",
      "source": [
        "# **Comparing the results of our full Index Record Linkage to Ground Truth**\n",
        "\n",
        "This segment involves comparing the data set achieved through using the full index Record Linkage with the ground truth data set provided to us. This will allow us to conclude the precision, recall and F1- meansure.**"
      ],
      "metadata": {
        "id": "-Vg4aBkqDpfq"
      }
    },
    {
      "cell_type": "code",
      "source": [
        "cols = ['ACM_id','DBLP_id']\n",
        "recordLinkage_NB = final_merge[cols]\n",
        "recordLinkage_NB.head()"
      ],
      "metadata": {
        "colab": {
          "base_uri": "https://localhost:8080/",
          "height": 206
        },
        "id": "3oPfBmaA907i",
        "outputId": "a0d55c7a-b8c8-485e-ab29-9c2e7dfd6bb8"
      },
      "execution_count": 38,
      "outputs": [
        {
          "output_type": "execute_result",
          "data": {
            "text/html": [
              "<div>\n",
              "<style scoped>\n",
              "    .dataframe tbody tr th:only-of-type {\n",
              "        vertical-align: middle;\n",
              "    }\n",
              "\n",
              "    .dataframe tbody tr th {\n",
              "        vertical-align: top;\n",
              "    }\n",
              "\n",
              "    .dataframe thead th {\n",
              "        text-align: right;\n",
              "    }\n",
              "</style>\n",
              "<table border=\"1\" class=\"dataframe\">\n",
              "  <thead>\n",
              "    <tr style=\"text-align: right;\">\n",
              "      <th></th>\n",
              "      <th>ACM_id</th>\n",
              "      <th>DBLP_id</th>\n",
              "    </tr>\n",
              "  </thead>\n",
              "  <tbody>\n",
              "    <tr>\n",
              "      <th>0</th>\n",
              "      <td>304586</td>\n",
              "      <td>conf/sigmod/VossenW99</td>\n",
              "    </tr>\n",
              "    <tr>\n",
              "      <th>1</th>\n",
              "      <td>304587</td>\n",
              "      <td>conf/sigmod/CruzJ99</td>\n",
              "    </tr>\n",
              "    <tr>\n",
              "      <th>2</th>\n",
              "      <td>304589</td>\n",
              "      <td>conf/sigmod/BouguettayaBH99</td>\n",
              "    </tr>\n",
              "    <tr>\n",
              "      <th>3</th>\n",
              "      <td>304590</td>\n",
              "      <td>conf/sigmod/BaruGLMPVC99</td>\n",
              "    </tr>\n",
              "    <tr>\n",
              "      <th>4</th>\n",
              "      <td>304582</td>\n",
              "      <td>conf/sigmod/BrodskySCE99</td>\n",
              "    </tr>\n",
              "  </tbody>\n",
              "</table>\n",
              "</div>"
            ],
            "text/plain": [
              "   ACM_id                      DBLP_id\n",
              "0  304586        conf/sigmod/VossenW99\n",
              "1  304587          conf/sigmod/CruzJ99\n",
              "2  304589  conf/sigmod/BouguettayaBH99\n",
              "3  304590     conf/sigmod/BaruGLMPVC99\n",
              "4  304582     conf/sigmod/BrodskySCE99"
            ]
          },
          "metadata": {},
          "execution_count": 38
        }
      ]
    },
    {
      "cell_type": "code",
      "source": [
        "## utilizing itertuples in order to compare the corresponding colums for both data sets\n",
        "truePositive = 0\n",
        "falsePositive = 0\n",
        "falseNegative = 0\n",
        "\n",
        "for row in recordLinkage_NB.itertuples():\n",
        "  hit = perfectMapping.loc[(perfectMapping['idACM'] == row.ACM_id) & (perfectMapping['idDBLP'] == row.DBLP_id\t)]\n",
        "  match = hit['idDBLP'].count()\n",
        "\n",
        "  if match == 1:\n",
        "    truePositive += 1\n",
        "  else: \n",
        "    falsePositive += 1\n",
        "\n",
        "print (\"truePositive: {x}\".format(x=truePositive))\n",
        "print (\"falsePositive: {x}\".format(x=falsePositive))"
      ],
      "metadata": {
        "colab": {
          "base_uri": "https://localhost:8080/"
        },
        "id": "VZTnL395_Rgt",
        "outputId": "c3ec38d3-a350-49c2-86d5-915d5b873cfc"
      },
      "execution_count": 39,
      "outputs": [
        {
          "output_type": "stream",
          "name": "stdout",
          "text": [
            "truePositive: 2132\n",
            "falsePositive: 252\n"
          ]
        }
      ]
    },
    {
      "cell_type": "code",
      "source": [
        "for row in perfectMapping.itertuples():\n",
        "  hit = recordLinkage_NB.loc[(recordLinkage_NB['ACM_id'] == row.idACM) & (recordLinkage_NB['DBLP_id'] == row.idDBLP)]\n",
        "  match = hit['DBLP_id'].count()\n",
        "  if match == 0:\n",
        "    falseNegative += 1\n",
        "print (\"falseNegative: {x}\".format(x=falseNegative))"
      ],
      "metadata": {
        "colab": {
          "base_uri": "https://localhost:8080/"
        },
        "id": "NJGQbnhd_lCd",
        "outputId": "ac0eae6a-01f6-42b1-ad44-f7d45f8596f0"
      },
      "execution_count": 40,
      "outputs": [
        {
          "output_type": "stream",
          "name": "stdout",
          "text": [
            "falseNegative: 92\n"
          ]
        }
      ]
    },
    {
      "cell_type": "markdown",
      "source": [
        "# **Calculating and concluding the precision, recall and F1- meansure from the values we got through using itertuples to compare the data sets**"
      ],
      "metadata": {
        "id": "3b2ctxlVETsY"
      }
    },
    {
      "cell_type": "code",
      "source": [
        "recordLinkage_NBPrecision = truePositive/(truePositive+falsePositive)\n",
        "recordLinkage_NBRecall = truePositive/(truePositive+falseNegative)\n",
        "recordLinkage_NBF1 = 2*((recordLinkage_NBPrecision*recordLinkage_NBRecall)/(recordLinkage_NBPrecision+recordLinkage_NBRecall))\n",
        "print (\"recordLinkage_NBPrecision: {x}\".format(x=recordLinkage_NBPrecision))\n",
        "print (\"recordLinkage_NBRecall: {x}\".format(x=recordLinkage_NBRecall))\n",
        "print (\"recordLinkage_NBF1: {x}\".format(x=recordLinkage_NBF1))"
      ],
      "metadata": {
        "colab": {
          "base_uri": "https://localhost:8080/"
        },
        "id": "5ad4chKxAEZi",
        "outputId": "625f4809-d0be-4b98-a641-54a985542472"
      },
      "execution_count": 41,
      "outputs": [
        {
          "output_type": "stream",
          "name": "stdout",
          "text": [
            "recordLinkage_NBPrecision: 0.8942953020134228\n",
            "recordLinkage_NBRecall: 0.9586330935251799\n",
            "recordLinkage_NBF1: 0.9253472222222222\n"
          ]
        }
      ]
    },
    {
      "cell_type": "markdown",
      "source": [
        "# **Blocking**\n",
        "\n",
        "now we build an index using blocking to compare the difference in performance to the record linkage with full index. We choose to block the year feature and not consider matches with different years. This results in a significant upgrade in performance, causing the processing time to greatly decrease. later on, it will aslo be revealed that the there is no drop in quality of matches as a consequence to the increase in performance."
      ],
      "metadata": {
        "id": "k3Y1CIhPEnL4"
      }
    },
    {
      "cell_type": "code",
      "source": [
        "indexer = recordlinkage.Index()\n",
        "indexer.block(left_on='ACM_year', right_on='DBLP_year')\n",
        "## checking the number of matches we ant to perform\n",
        "candidates = indexer.index(ACM, DBLP)\n",
        "print(len(candidates))"
      ],
      "metadata": {
        "colab": {
          "base_uri": "https://localhost:8080/"
        },
        "id": "wj965uUiE6MD",
        "outputId": "8b2bb0da-27fe-467b-e6a4-7823857f00f6"
      },
      "execution_count": 42,
      "outputs": [
        {
          "output_type": "stream",
          "name": "stdout",
          "text": [
            "601284\n"
          ]
        }
      ]
    },
    {
      "cell_type": "code",
      "source": [
        "## perform comparison logic\n",
        "## takes 38s to execute using blocked index on my system\n",
        "compare = recordlinkage.Compare()\n",
        "compare.string('ACM_title',\n",
        "            'DBLP_title',\n",
        "            threshold=0.85,\n",
        "            label='Title')\n",
        "compare.string('ACM_authors',\n",
        "            'DBLP_authors',\n",
        "            threshold=0.85,\n",
        "            label='Authors')\n",
        "features = compare.compute(candidates, ACM,\n",
        "                        DBLP)"
      ],
      "metadata": {
        "id": "8SGdKluLFnDj"
      },
      "execution_count": 43,
      "outputs": []
    },
    {
      "cell_type": "markdown",
      "source": [
        "**Features**\n",
        "\n",
        "Changed the required matching features from greater than 1 to greater than zero as we can consider the blocked feature as one of the features as data without matching years will not be consider either ways. This was originally kept the same as before but changed to to the resulting upsurge of false negatives."
      ],
      "metadata": {
        "id": "wk8ePyuloSAZ"
      }
    },
    {
      "cell_type": "code",
      "source": [
        "potential_matches = features[features.sum(axis=1) > 0].reset_index()\n",
        "potential_matches['Score'] = potential_matches.loc[:, 'Authors':'Title'].sum(axis=1)\n",
        "potential_matches.rename(columns ={'id_1':'ACM_id','id_2':'DBLP_id'}, inplace = True)\n",
        "potential_matches.head()"
      ],
      "metadata": {
        "colab": {
          "base_uri": "https://localhost:8080/",
          "height": 206
        },
        "id": "txwv5u9PGTl0",
        "outputId": "be324c56-3cfb-48db-d638-ccb4e3500eaf"
      },
      "execution_count": 44,
      "outputs": [
        {
          "output_type": "execute_result",
          "data": {
            "text/html": [
              "<div>\n",
              "<style scoped>\n",
              "    .dataframe tbody tr th:only-of-type {\n",
              "        vertical-align: middle;\n",
              "    }\n",
              "\n",
              "    .dataframe tbody tr th {\n",
              "        vertical-align: top;\n",
              "    }\n",
              "\n",
              "    .dataframe thead th {\n",
              "        text-align: right;\n",
              "    }\n",
              "</style>\n",
              "<table border=\"1\" class=\"dataframe\">\n",
              "  <thead>\n",
              "    <tr style=\"text-align: right;\">\n",
              "      <th></th>\n",
              "      <th>ACM_id</th>\n",
              "      <th>DBLP_id</th>\n",
              "      <th>Title</th>\n",
              "      <th>Authors</th>\n",
              "      <th>Score</th>\n",
              "    </tr>\n",
              "  </thead>\n",
              "  <tbody>\n",
              "    <tr>\n",
              "      <th>0</th>\n",
              "      <td>304586</td>\n",
              "      <td>conf/sigmod/VossenW99</td>\n",
              "      <td>1.0</td>\n",
              "      <td>0.0</td>\n",
              "      <td>0.0</td>\n",
              "    </tr>\n",
              "    <tr>\n",
              "      <th>1</th>\n",
              "      <td>304587</td>\n",
              "      <td>conf/sigmod/CruzJ99</td>\n",
              "      <td>1.0</td>\n",
              "      <td>0.0</td>\n",
              "      <td>0.0</td>\n",
              "    </tr>\n",
              "    <tr>\n",
              "      <th>2</th>\n",
              "      <td>304589</td>\n",
              "      <td>conf/sigmod/BouguettayaBH99</td>\n",
              "      <td>1.0</td>\n",
              "      <td>0.0</td>\n",
              "      <td>0.0</td>\n",
              "    </tr>\n",
              "    <tr>\n",
              "      <th>3</th>\n",
              "      <td>304590</td>\n",
              "      <td>conf/sigmod/BaruGLMPVC99</td>\n",
              "      <td>1.0</td>\n",
              "      <td>0.0</td>\n",
              "      <td>0.0</td>\n",
              "    </tr>\n",
              "    <tr>\n",
              "      <th>4</th>\n",
              "      <td>304582</td>\n",
              "      <td>conf/sigmod/BrodskySCE99</td>\n",
              "      <td>1.0</td>\n",
              "      <td>0.0</td>\n",
              "      <td>0.0</td>\n",
              "    </tr>\n",
              "  </tbody>\n",
              "</table>\n",
              "</div>"
            ],
            "text/plain": [
              "   ACM_id                      DBLP_id  Title  Authors  Score\n",
              "0  304586        conf/sigmod/VossenW99    1.0      0.0    0.0\n",
              "1  304587          conf/sigmod/CruzJ99    1.0      0.0    0.0\n",
              "2  304589  conf/sigmod/BouguettayaBH99    1.0      0.0    0.0\n",
              "3  304590     conf/sigmod/BaruGLMPVC99    1.0      0.0    0.0\n",
              "4  304582     conf/sigmod/BrodskySCE99    1.0      0.0    0.0"
            ]
          },
          "metadata": {},
          "execution_count": 44
        }
      ]
    },
    {
      "cell_type": "code",
      "source": [
        "ACM['ACM_Name_Lookup'] = ACM[[\n",
        "    'ACM_authors', 'ACM_title', 'ACM_year', 'ACM_venue'\n",
        "]].apply(lambda x: '_'.join(x.dropna().astype(str)), axis=1)\n",
        "\n",
        "DBLP['DBLP_Name_Lookup'] = DBLP[[\n",
        "    'DBLP_authors', 'DBLP_title', 'DBLP_year', 'DBLP_venue'\n",
        "]].apply(lambda x: '_'.join(x.dropna().astype(str)), axis=1)\n",
        "\n",
        "ACM_lookup = ACM[['ACM_Name_Lookup']].reset_index()\n",
        "ACM_lookup.rename(columns ={'id':'ACM_id'}, inplace = True)\n",
        "DBLP_lookup = DBLP[['DBLP_Name_Lookup']].reset_index()\n",
        "DBLP_lookup.rename(columns ={'id':'DBLP_id'}, inplace = True)"
      ],
      "metadata": {
        "id": "7pFLEoqOGvDB"
      },
      "execution_count": 45,
      "outputs": []
    },
    {
      "cell_type": "code",
      "source": [
        "## merge with the ACM data\n",
        "ACM_merge = potential_matches.merge(ACM_lookup, how='left')\n",
        "ACM_merge.head()"
      ],
      "metadata": {
        "colab": {
          "base_uri": "https://localhost:8080/",
          "height": 206
        },
        "id": "s2zhLTdLG_hZ",
        "outputId": "509f4c9a-31d6-4c9e-8908-e1c3268f2c2d"
      },
      "execution_count": 46,
      "outputs": [
        {
          "output_type": "execute_result",
          "data": {
            "text/html": [
              "<div>\n",
              "<style scoped>\n",
              "    .dataframe tbody tr th:only-of-type {\n",
              "        vertical-align: middle;\n",
              "    }\n",
              "\n",
              "    .dataframe tbody tr th {\n",
              "        vertical-align: top;\n",
              "    }\n",
              "\n",
              "    .dataframe thead th {\n",
              "        text-align: right;\n",
              "    }\n",
              "</style>\n",
              "<table border=\"1\" class=\"dataframe\">\n",
              "  <thead>\n",
              "    <tr style=\"text-align: right;\">\n",
              "      <th></th>\n",
              "      <th>ACM_id</th>\n",
              "      <th>DBLP_id</th>\n",
              "      <th>Title</th>\n",
              "      <th>Authors</th>\n",
              "      <th>Score</th>\n",
              "      <th>ACM_Name_Lookup</th>\n",
              "    </tr>\n",
              "  </thead>\n",
              "  <tbody>\n",
              "    <tr>\n",
              "      <th>0</th>\n",
              "      <td>304586</td>\n",
              "      <td>conf/sigmod/VossenW99</td>\n",
              "      <td>1.0</td>\n",
              "      <td>0.0</td>\n",
              "      <td>0.0</td>\n",
              "      <td>Gottfried Vossen, Mathias Weske_The WASA2 obje...</td>\n",
              "    </tr>\n",
              "    <tr>\n",
              "      <th>1</th>\n",
              "      <td>304587</td>\n",
              "      <td>conf/sigmod/CruzJ99</td>\n",
              "      <td>1.0</td>\n",
              "      <td>0.0</td>\n",
              "      <td>0.0</td>\n",
              "      <td>Isabel F. Cruz, Kimberly M. James_A user-cente...</td>\n",
              "    </tr>\n",
              "    <tr>\n",
              "      <th>2</th>\n",
              "      <td>304589</td>\n",
              "      <td>conf/sigmod/BouguettayaBH99</td>\n",
              "      <td>1.0</td>\n",
              "      <td>0.0</td>\n",
              "      <td>0.0</td>\n",
              "      <td>Athman Bouguettaya, Boualem Benatallah, Lily H...</td>\n",
              "    </tr>\n",
              "    <tr>\n",
              "      <th>3</th>\n",
              "      <td>304590</td>\n",
              "      <td>conf/sigmod/BaruGLMPVC99</td>\n",
              "      <td>1.0</td>\n",
              "      <td>0.0</td>\n",
              "      <td>0.0</td>\n",
              "      <td>Chaitan Baru, Amarnath Gupta, Bertram Lud&amp;#228...</td>\n",
              "    </tr>\n",
              "    <tr>\n",
              "      <th>4</th>\n",
              "      <td>304582</td>\n",
              "      <td>conf/sigmod/BrodskySCE99</td>\n",
              "      <td>1.0</td>\n",
              "      <td>0.0</td>\n",
              "      <td>0.0</td>\n",
              "      <td>Alexander Brodsky, Victor E. Segal, Jia Chen, ...</td>\n",
              "    </tr>\n",
              "  </tbody>\n",
              "</table>\n",
              "</div>"
            ],
            "text/plain": [
              "   ACM_id                      DBLP_id  Title  Authors  Score  \\\n",
              "0  304586        conf/sigmod/VossenW99    1.0      0.0    0.0   \n",
              "1  304587          conf/sigmod/CruzJ99    1.0      0.0    0.0   \n",
              "2  304589  conf/sigmod/BouguettayaBH99    1.0      0.0    0.0   \n",
              "3  304590     conf/sigmod/BaruGLMPVC99    1.0      0.0    0.0   \n",
              "4  304582     conf/sigmod/BrodskySCE99    1.0      0.0    0.0   \n",
              "\n",
              "                                     ACM_Name_Lookup  \n",
              "0  Gottfried Vossen, Mathias Weske_The WASA2 obje...  \n",
              "1  Isabel F. Cruz, Kimberly M. James_A user-cente...  \n",
              "2  Athman Bouguettaya, Boualem Benatallah, Lily H...  \n",
              "3  Chaitan Baru, Amarnath Gupta, Bertram Lud&#228...  \n",
              "4  Alexander Brodsky, Victor E. Segal, Jia Chen, ...  "
            ]
          },
          "metadata": {},
          "execution_count": 46
        }
      ]
    },
    {
      "cell_type": "code",
      "source": [
        "##final merge with the DBLP data\n",
        "final_merge_B = ACM_merge.merge(DBLP_lookup, how='left')"
      ],
      "metadata": {
        "id": "d3MWIxYWHAkw"
      },
      "execution_count": 47,
      "outputs": []
    },
    {
      "cell_type": "code",
      "source": [
        "cols = ['ACM_id', 'DBLP_id', 'Score',\n",
        "        'ACM_Name_Lookup', 'DBLP_Name_Lookup']\n",
        "\n",
        "final_merge_B[cols].sort_values(by=['ACM_id', 'Score'], ascending=False)"
      ],
      "metadata": {
        "colab": {
          "base_uri": "https://localhost:8080/",
          "height": 424
        },
        "id": "HmdbkHxCHJ8H",
        "outputId": "7471abd0-09d9-4fe5-86ff-e52e592532f4"
      },
      "execution_count": 48,
      "outputs": [
        {
          "output_type": "execute_result",
          "data": {
            "text/html": [
              "<div>\n",
              "<style scoped>\n",
              "    .dataframe tbody tr th:only-of-type {\n",
              "        vertical-align: middle;\n",
              "    }\n",
              "\n",
              "    .dataframe tbody tr th {\n",
              "        vertical-align: top;\n",
              "    }\n",
              "\n",
              "    .dataframe thead th {\n",
              "        text-align: right;\n",
              "    }\n",
              "</style>\n",
              "<table border=\"1\" class=\"dataframe\">\n",
              "  <thead>\n",
              "    <tr style=\"text-align: right;\">\n",
              "      <th></th>\n",
              "      <th>ACM_id</th>\n",
              "      <th>DBLP_id</th>\n",
              "      <th>Score</th>\n",
              "      <th>ACM_Name_Lookup</th>\n",
              "      <th>DBLP_Name_Lookup</th>\n",
              "    </tr>\n",
              "  </thead>\n",
              "  <tbody>\n",
              "    <tr>\n",
              "      <th>2262</th>\n",
              "      <td>959087</td>\n",
              "      <td>journals/sigmod/Hainaut03</td>\n",
              "      <td>0.0</td>\n",
              "      <td>Jean-Luc Hainaut_Research in database engineer...</td>\n",
              "      <td>Jean-Luc Hainaut_Research in database engineer...</td>\n",
              "    </tr>\n",
              "    <tr>\n",
              "      <th>2261</th>\n",
              "      <td>959086</td>\n",
              "      <td>journals/sigmod/KambhampatiK03</td>\n",
              "      <td>0.0</td>\n",
              "      <td>Subbarao Kambhampati, Craig A. Knoblock_Inform...</td>\n",
              "      <td>Subbarao Kambhampati, Craig A. Knoblock_Inform...</td>\n",
              "    </tr>\n",
              "    <tr>\n",
              "      <th>2264</th>\n",
              "      <td>959085</td>\n",
              "      <td>journals/sigmod/MotroA03</td>\n",
              "      <td>0.0</td>\n",
              "      <td>Amihai Motro, Troels Andreasen_Report on FQAS ...</td>\n",
              "      <td>Amihai Motro, Troels Andreasen_Report on FQAS ...</td>\n",
              "    </tr>\n",
              "    <tr>\n",
              "      <th>2263</th>\n",
              "      <td>959084</td>\n",
              "      <td>journals/sigmod/Giorgini03</td>\n",
              "      <td>0.0</td>\n",
              "      <td>Paolo Giorgini_Agent-Oriented software enginee...</td>\n",
              "      <td>Paolo Giorgini_Agent-Oriented software enginee...</td>\n",
              "    </tr>\n",
              "    <tr>\n",
              "      <th>2295</th>\n",
              "      <td>959083</td>\n",
              "      <td>journals/sigmod/LenzVJS03</td>\n",
              "      <td>0.0</td>\n",
              "      <td>Hans J. Lenz, Panos Vassiliadis, Manfred Jeusf...</td>\n",
              "      <td>Manfred A. Jeusfeld, Hans-Joachim Lenz, Panos ...</td>\n",
              "    </tr>\n",
              "    <tr>\n",
              "      <th>...</th>\n",
              "      <td>...</td>\n",
              "      <td>...</td>\n",
              "      <td>...</td>\n",
              "      <td>...</td>\n",
              "      <td>...</td>\n",
              "    </tr>\n",
              "    <tr>\n",
              "      <th>1919</th>\n",
              "      <td>176568</td>\n",
              "      <td>journals/tods/RosenthalR94</td>\n",
              "      <td>0.0</td>\n",
              "      <td>Arnon Rosenthal, David Reiner_Tools and transf...</td>\n",
              "      <td>David S. Reiner, Arnon Rosenthal_Tools and Tra...</td>\n",
              "    </tr>\n",
              "    <tr>\n",
              "      <th>1918</th>\n",
              "      <td>174642</td>\n",
              "      <td>journals/tods/CliffordC94</td>\n",
              "      <td>0.0</td>\n",
              "      <td>James Clifford, Albert Croker, Alexander Tuzhi...</td>\n",
              "      <td>James Clifford, Albert Croker, Alexander Tuzhi...</td>\n",
              "    </tr>\n",
              "    <tr>\n",
              "      <th>1927</th>\n",
              "      <td>174641</td>\n",
              "      <td>journals/tods/TendickM94</td>\n",
              "      <td>0.0</td>\n",
              "      <td>Patrick Tendick, Norman Matloff_A modified ran...</td>\n",
              "      <td>Norman S. Matloff, Patrick Tendick_A Modified ...</td>\n",
              "    </tr>\n",
              "    <tr>\n",
              "      <th>1926</th>\n",
              "      <td>174640</td>\n",
              "      <td>journals/tods/OliverS94</td>\n",
              "      <td>0.0</td>\n",
              "      <td>Martin S. Olivier, Sebastiaan H. von Solms_A t...</td>\n",
              "      <td>Sebastiaan H. von Solms, Martin S. Olivier_A T...</td>\n",
              "    </tr>\n",
              "    <tr>\n",
              "      <th>1928</th>\n",
              "      <td>174639</td>\n",
              "      <td>journals/tods/SalemGS94</td>\n",
              "      <td>0.0</td>\n",
              "      <td>Kenneth Salem, H&amp;#233;ctor Garc&amp;#237;a-Molina,...</td>\n",
              "      <td>Jeannie Shands, Kenneth Salem, Hector Garcia-M...</td>\n",
              "    </tr>\n",
              "  </tbody>\n",
              "</table>\n",
              "<p>2345 rows × 5 columns</p>\n",
              "</div>"
            ],
            "text/plain": [
              "      ACM_id                         DBLP_id  Score  \\\n",
              "2262  959087       journals/sigmod/Hainaut03    0.0   \n",
              "2261  959086  journals/sigmod/KambhampatiK03    0.0   \n",
              "2264  959085        journals/sigmod/MotroA03    0.0   \n",
              "2263  959084      journals/sigmod/Giorgini03    0.0   \n",
              "2295  959083       journals/sigmod/LenzVJS03    0.0   \n",
              "...      ...                             ...    ...   \n",
              "1919  176568      journals/tods/RosenthalR94    0.0   \n",
              "1918  174642       journals/tods/CliffordC94    0.0   \n",
              "1927  174641        journals/tods/TendickM94    0.0   \n",
              "1926  174640         journals/tods/OliverS94    0.0   \n",
              "1928  174639         journals/tods/SalemGS94    0.0   \n",
              "\n",
              "                                        ACM_Name_Lookup  \\\n",
              "2262  Jean-Luc Hainaut_Research in database engineer...   \n",
              "2261  Subbarao Kambhampati, Craig A. Knoblock_Inform...   \n",
              "2264  Amihai Motro, Troels Andreasen_Report on FQAS ...   \n",
              "2263  Paolo Giorgini_Agent-Oriented software enginee...   \n",
              "2295  Hans J. Lenz, Panos Vassiliadis, Manfred Jeusf...   \n",
              "...                                                 ...   \n",
              "1919  Arnon Rosenthal, David Reiner_Tools and transf...   \n",
              "1918  James Clifford, Albert Croker, Alexander Tuzhi...   \n",
              "1927  Patrick Tendick, Norman Matloff_A modified ran...   \n",
              "1926  Martin S. Olivier, Sebastiaan H. von Solms_A t...   \n",
              "1928  Kenneth Salem, H&#233;ctor Garc&#237;a-Molina,...   \n",
              "\n",
              "                                       DBLP_Name_Lookup  \n",
              "2262  Jean-Luc Hainaut_Research in database engineer...  \n",
              "2261  Subbarao Kambhampati, Craig A. Knoblock_Inform...  \n",
              "2264  Amihai Motro, Troels Andreasen_Report on FQAS ...  \n",
              "2263  Paolo Giorgini_Agent-Oriented software enginee...  \n",
              "2295  Manfred A. Jeusfeld, Hans-Joachim Lenz, Panos ...  \n",
              "...                                                 ...  \n",
              "1919  David S. Reiner, Arnon Rosenthal_Tools and Tra...  \n",
              "1918  James Clifford, Albert Croker, Alexander Tuzhi...  \n",
              "1927  Norman S. Matloff, Patrick Tendick_A Modified ...  \n",
              "1926  Sebastiaan H. von Solms, Martin S. Olivier_A T...  \n",
              "1928  Jeannie Shands, Kenneth Salem, Hector Garcia-M...  \n",
              "\n",
              "[2345 rows x 5 columns]"
            ]
          },
          "metadata": {},
          "execution_count": 48
        }
      ]
    },
    {
      "cell_type": "markdown",
      "source": [
        "# **Comparing the results of our Blocked Index Record Linkage to Ground Truth**\n",
        "\n",
        "This segment involves comparing the data set achieved through using the Blocked Index Record Linkage with the ground truth data set provided to us. This will allow us to conclude the precision, recall and F1- meansure."
      ],
      "metadata": {
        "id": "H2jMA0rcHQh9"
      }
    },
    {
      "cell_type": "code",
      "source": [
        "cols = ['ACM_id','DBLP_id']\n",
        "recordLinkage_B = final_merge_B[cols]\n",
        "recordLinkage_B.head()"
      ],
      "metadata": {
        "colab": {
          "base_uri": "https://localhost:8080/",
          "height": 206
        },
        "id": "0zXrzVMYHjtx",
        "outputId": "d4a9c262-cf15-4182-d747-9848da02bc57"
      },
      "execution_count": 49,
      "outputs": [
        {
          "output_type": "execute_result",
          "data": {
            "text/html": [
              "<div>\n",
              "<style scoped>\n",
              "    .dataframe tbody tr th:only-of-type {\n",
              "        vertical-align: middle;\n",
              "    }\n",
              "\n",
              "    .dataframe tbody tr th {\n",
              "        vertical-align: top;\n",
              "    }\n",
              "\n",
              "    .dataframe thead th {\n",
              "        text-align: right;\n",
              "    }\n",
              "</style>\n",
              "<table border=\"1\" class=\"dataframe\">\n",
              "  <thead>\n",
              "    <tr style=\"text-align: right;\">\n",
              "      <th></th>\n",
              "      <th>ACM_id</th>\n",
              "      <th>DBLP_id</th>\n",
              "    </tr>\n",
              "  </thead>\n",
              "  <tbody>\n",
              "    <tr>\n",
              "      <th>0</th>\n",
              "      <td>304586</td>\n",
              "      <td>conf/sigmod/VossenW99</td>\n",
              "    </tr>\n",
              "    <tr>\n",
              "      <th>1</th>\n",
              "      <td>304587</td>\n",
              "      <td>conf/sigmod/CruzJ99</td>\n",
              "    </tr>\n",
              "    <tr>\n",
              "      <th>2</th>\n",
              "      <td>304589</td>\n",
              "      <td>conf/sigmod/BouguettayaBH99</td>\n",
              "    </tr>\n",
              "    <tr>\n",
              "      <th>3</th>\n",
              "      <td>304590</td>\n",
              "      <td>conf/sigmod/BaruGLMPVC99</td>\n",
              "    </tr>\n",
              "    <tr>\n",
              "      <th>4</th>\n",
              "      <td>304582</td>\n",
              "      <td>conf/sigmod/BrodskySCE99</td>\n",
              "    </tr>\n",
              "  </tbody>\n",
              "</table>\n",
              "</div>"
            ],
            "text/plain": [
              "   ACM_id                      DBLP_id\n",
              "0  304586        conf/sigmod/VossenW99\n",
              "1  304587          conf/sigmod/CruzJ99\n",
              "2  304589  conf/sigmod/BouguettayaBH99\n",
              "3  304590     conf/sigmod/BaruGLMPVC99\n",
              "4  304582     conf/sigmod/BrodskySCE99"
            ]
          },
          "metadata": {},
          "execution_count": 49
        }
      ]
    },
    {
      "cell_type": "code",
      "source": [
        "## utilizing itertuples in order to compare the corresponding colums for both data sets\n",
        "truePositive = 0\n",
        "falsePositive = 0\n",
        "falseNegative = 0\n",
        "\n",
        "for row in recordLinkage_B.itertuples():\n",
        "  hit = perfectMapping.loc[(perfectMapping['idACM'] == row.ACM_id) & (perfectMapping['idDBLP'] == row.DBLP_id\t)]\n",
        "  match = hit['idDBLP'].count()\n",
        "\n",
        "  if match == 1:\n",
        "    truePositive += 1\n",
        "  else: \n",
        "    falsePositive += 1\n",
        "\n",
        "print (\"truePositive: {x}\".format(x=truePositive))\n",
        "print (\"falsePositive: {x}\".format(x=falsePositive))"
      ],
      "metadata": {
        "colab": {
          "base_uri": "https://localhost:8080/"
        },
        "id": "7jWJ8nxQHxf4",
        "outputId": "8a315425-3d43-472a-80c2-f94ef8b04877"
      },
      "execution_count": 50,
      "outputs": [
        {
          "output_type": "stream",
          "name": "stdout",
          "text": [
            "truePositive: 2132\n",
            "falsePositive: 213\n"
          ]
        }
      ]
    },
    {
      "cell_type": "code",
      "source": [
        "for row in perfectMapping.itertuples():\n",
        "  hit = recordLinkage_B.loc[(recordLinkage_B['ACM_id'] == row.idACM) & (recordLinkage_B['DBLP_id'] == row.idDBLP)]\n",
        "  match = hit['DBLP_id'].count()\n",
        "  if match == 0:\n",
        "    falseNegative += 1\n",
        "print (\"falseNegative: {x}\".format(x=falseNegative))"
      ],
      "metadata": {
        "colab": {
          "base_uri": "https://localhost:8080/"
        },
        "id": "YmQaKRPHH9W_",
        "outputId": "8ed07171-983a-46bf-ec23-8e4c347ec330"
      },
      "execution_count": 51,
      "outputs": [
        {
          "output_type": "stream",
          "name": "stdout",
          "text": [
            "falseNegative: 92\n"
          ]
        }
      ]
    },
    {
      "cell_type": "markdown",
      "source": [
        "# **Calculating and concluding the precision, recall and F1- meansure from the values we got through using itertuples to compare the data sets**"
      ],
      "metadata": {
        "id": "o5qT3SCDI4ZE"
      }
    },
    {
      "cell_type": "code",
      "source": [
        "recordLinkage_BPrecision = truePositive/(truePositive+falsePositive)\n",
        "recordLinkage_BRecall = truePositive/(truePositive+falseNegative)\n",
        "recordLinkage_BF1 = 2*((recordLinkage_BPrecision*recordLinkage_BRecall)/(recordLinkage_BPrecision+recordLinkage_BRecall))\n",
        "print (\"recordLinkage_BPrecision: {x}\".format(x=recordLinkage_BPrecision))\n",
        "print (\"recordLinkage_BRecall: {x}\".format(x=recordLinkage_BRecall))\n",
        "print (\"recordLinkage_BF1: {x}\".format(x=recordLinkage_BF1))"
      ],
      "metadata": {
        "colab": {
          "base_uri": "https://localhost:8080/"
        },
        "id": "X8CEqeOOIHXH",
        "outputId": "8b3b90a7-2632-4ca1-d698-af6a04cf8c3c"
      },
      "execution_count": 52,
      "outputs": [
        {
          "output_type": "stream",
          "name": "stdout",
          "text": [
            "recordLinkage_BPrecision: 0.9091684434968017\n",
            "recordLinkage_BRecall: 0.9586330935251799\n",
            "recordLinkage_BF1: 0.9332457868242504\n"
          ]
        }
      ]
    },
    {
      "cell_type": "markdown",
      "source": [
        "# **Attempting to improve results**\n",
        "Attempting to change some setting in the full Index record linkage in order to obtain better results. I played around with threshold parameters in order to attempt to get better results."
      ],
      "metadata": {
        "id": "64xPxHe1dxQU"
      }
    },
    {
      "cell_type": "code",
      "source": [
        "ACM = pd.read_csv( 'https://raw.githubusercontent.com/PaoloMissier/CSC3831-2021-22/main/LINKAGE/DATASETS/ACM.csv', index_col='id')\n",
        "DBLP = pd.read_csv( 'https://raw.githubusercontent.com/PaoloMissier/CSC3831-2021-22/main/LINKAGE/DATASETS/dblp.csv', index_col= 'id')\n",
        "ACM.rename(columns = {'id':'ACM_id', 'title':'ACM_title', 'authors':'ACM_authors',\n",
        "                              'venue':'ACM_venue', 'year':'ACM_year'}, inplace = True)\n",
        "DBLP.rename(columns = {'id':'DBLP_id', 'title':'DBLP_title', 'authors':'DBLP_authors',\n",
        "                              'venue':'DBLP_venue', 'year':'DBLP_year'}, inplace = True)\n",
        "ACM = ACM.drop('Unnamed: 0',1)\n",
        "DBLP = DBLP.drop('Unnamed: 0',1)\n",
        "ACM"
      ],
      "metadata": {
        "colab": {
          "base_uri": "https://localhost:8080/",
          "height": 454
        },
        "id": "jLGqf7rBavpt",
        "outputId": "2f493090-894a-49ba-9693-67e4779632c7"
      },
      "execution_count": 54,
      "outputs": [
        {
          "output_type": "execute_result",
          "data": {
            "text/html": [
              "<div>\n",
              "<style scoped>\n",
              "    .dataframe tbody tr th:only-of-type {\n",
              "        vertical-align: middle;\n",
              "    }\n",
              "\n",
              "    .dataframe tbody tr th {\n",
              "        vertical-align: top;\n",
              "    }\n",
              "\n",
              "    .dataframe thead th {\n",
              "        text-align: right;\n",
              "    }\n",
              "</style>\n",
              "<table border=\"1\" class=\"dataframe\">\n",
              "  <thead>\n",
              "    <tr style=\"text-align: right;\">\n",
              "      <th></th>\n",
              "      <th>ACM_title</th>\n",
              "      <th>ACM_authors</th>\n",
              "      <th>ACM_venue</th>\n",
              "      <th>ACM_year</th>\n",
              "    </tr>\n",
              "    <tr>\n",
              "      <th>id</th>\n",
              "      <th></th>\n",
              "      <th></th>\n",
              "      <th></th>\n",
              "      <th></th>\n",
              "    </tr>\n",
              "  </thead>\n",
              "  <tbody>\n",
              "    <tr>\n",
              "      <th>304586</th>\n",
              "      <td>The WASA2 object-oriented workflow management ...</td>\n",
              "      <td>Gottfried Vossen, Mathias Weske</td>\n",
              "      <td>International Conference on Management of Data</td>\n",
              "      <td>1999</td>\n",
              "    </tr>\n",
              "    <tr>\n",
              "      <th>304587</th>\n",
              "      <td>A user-centered interface for querying distrib...</td>\n",
              "      <td>Isabel F. Cruz, Kimberly M. James</td>\n",
              "      <td>International Conference on Management of Data</td>\n",
              "      <td>1999</td>\n",
              "    </tr>\n",
              "    <tr>\n",
              "      <th>304589</th>\n",
              "      <td>World Wide Database-integrating the Web, CORBA...</td>\n",
              "      <td>Athman Bouguettaya, Boualem Benatallah, Lily H...</td>\n",
              "      <td>International Conference on Management of Data</td>\n",
              "      <td>1999</td>\n",
              "    </tr>\n",
              "    <tr>\n",
              "      <th>304590</th>\n",
              "      <td>XML-based information mediation with MIX</td>\n",
              "      <td>Chaitan Baru, Amarnath Gupta, Bertram Lud&amp;#228...</td>\n",
              "      <td>International Conference on Management of Data</td>\n",
              "      <td>1999</td>\n",
              "    </tr>\n",
              "    <tr>\n",
              "      <th>304582</th>\n",
              "      <td>The CCUBE constraint object-oriented database ...</td>\n",
              "      <td>Alexander Brodsky, Victor E. Segal, Jia Chen, ...</td>\n",
              "      <td>International Conference on Management of Data</td>\n",
              "      <td>1999</td>\n",
              "    </tr>\n",
              "    <tr>\n",
              "      <th>...</th>\n",
              "      <td>...</td>\n",
              "      <td>...</td>\n",
              "      <td>...</td>\n",
              "      <td>...</td>\n",
              "    </tr>\n",
              "    <tr>\n",
              "      <th>672977</th>\n",
              "      <td>Dual-Buffering Strategies in Object Bases</td>\n",
              "      <td>Alfons Kemper, Donald Kossmann</td>\n",
              "      <td>Very Large Data Bases</td>\n",
              "      <td>1994</td>\n",
              "    </tr>\n",
              "    <tr>\n",
              "      <th>950482</th>\n",
              "      <td>Guest editorial</td>\n",
              "      <td>Philip A. Bernstein, Yannis Ioannidis, Raghu R...</td>\n",
              "      <td>The VLDB Journal &amp;mdash; The International Jou...</td>\n",
              "      <td>2003</td>\n",
              "    </tr>\n",
              "    <tr>\n",
              "      <th>672980</th>\n",
              "      <td>GraphDB: Modeling and Querying Graphs in Datab...</td>\n",
              "      <td>Ralf Hartmut G&amp;#252;ting</td>\n",
              "      <td>Very Large Data Bases</td>\n",
              "      <td>1994</td>\n",
              "    </tr>\n",
              "    <tr>\n",
              "      <th>945741</th>\n",
              "      <td>Review of The data warehouse toolkit: the comp...</td>\n",
              "      <td>Alexander A. Anisimov</td>\n",
              "      <td>ACM SIGMOD Record</td>\n",
              "      <td>2003</td>\n",
              "    </tr>\n",
              "    <tr>\n",
              "      <th>672979</th>\n",
              "      <td>Bulk Loading into an OODB: A Performance Study</td>\n",
              "      <td>Janet L. Wiener, Jeffrey F. Naughton</td>\n",
              "      <td>Very Large Data Bases</td>\n",
              "      <td>1994</td>\n",
              "    </tr>\n",
              "  </tbody>\n",
              "</table>\n",
              "<p>2294 rows × 4 columns</p>\n",
              "</div>"
            ],
            "text/plain": [
              "                                                ACM_title  \\\n",
              "id                                                          \n",
              "304586  The WASA2 object-oriented workflow management ...   \n",
              "304587  A user-centered interface for querying distrib...   \n",
              "304589  World Wide Database-integrating the Web, CORBA...   \n",
              "304590           XML-based information mediation with MIX   \n",
              "304582  The CCUBE constraint object-oriented database ...   \n",
              "...                                                   ...   \n",
              "672977          Dual-Buffering Strategies in Object Bases   \n",
              "950482                                    Guest editorial   \n",
              "672980  GraphDB: Modeling and Querying Graphs in Datab...   \n",
              "945741  Review of The data warehouse toolkit: the comp...   \n",
              "672979     Bulk Loading into an OODB: A Performance Study   \n",
              "\n",
              "                                              ACM_authors  \\\n",
              "id                                                          \n",
              "304586                    Gottfried Vossen, Mathias Weske   \n",
              "304587                  Isabel F. Cruz, Kimberly M. James   \n",
              "304589  Athman Bouguettaya, Boualem Benatallah, Lily H...   \n",
              "304590  Chaitan Baru, Amarnath Gupta, Bertram Lud&#228...   \n",
              "304582  Alexander Brodsky, Victor E. Segal, Jia Chen, ...   \n",
              "...                                                   ...   \n",
              "672977                     Alfons Kemper, Donald Kossmann   \n",
              "950482  Philip A. Bernstein, Yannis Ioannidis, Raghu R...   \n",
              "672980                           Ralf Hartmut G&#252;ting   \n",
              "945741                              Alexander A. Anisimov   \n",
              "672979               Janet L. Wiener, Jeffrey F. Naughton   \n",
              "\n",
              "                                                ACM_venue  ACM_year  \n",
              "id                                                                   \n",
              "304586     International Conference on Management of Data      1999  \n",
              "304587     International Conference on Management of Data      1999  \n",
              "304589     International Conference on Management of Data      1999  \n",
              "304590     International Conference on Management of Data      1999  \n",
              "304582     International Conference on Management of Data      1999  \n",
              "...                                                   ...       ...  \n",
              "672977                              Very Large Data Bases      1994  \n",
              "950482  The VLDB Journal &mdash; The International Jou...      2003  \n",
              "672980                              Very Large Data Bases      1994  \n",
              "945741                                 ACM SIGMOD Record       2003  \n",
              "672979                              Very Large Data Bases      1994  \n",
              "\n",
              "[2294 rows x 4 columns]"
            ]
          },
          "metadata": {},
          "execution_count": 54
        }
      ]
    },
    {
      "cell_type": "code",
      "source": [
        "indexer = recordlinkage.Index()\n",
        "indexer.full()\n",
        "candidates = indexer.index(ACM, DBLP)"
      ],
      "metadata": {
        "colab": {
          "base_uri": "https://localhost:8080/"
        },
        "id": "lv2OAP5La4SE",
        "outputId": "050dc595-c9fb-4a79-9b30-fa9689156aa4"
      },
      "execution_count": 55,
      "outputs": [
        {
          "output_type": "stream",
          "name": "stdout",
          "text": [
            "WARNING:recordlinkage:indexing - performance warning - A full index can result in large number of record pairs.\n"
          ]
        }
      ]
    },
    {
      "cell_type": "markdown",
      "source": [
        "threshold value for the title comparison is lowered from 0.85 to 0.75 to reduce the number of false negatives, and produce better values for precision, recall and f1 measure."
      ],
      "metadata": {
        "id": "ePkxMO5DvSl9"
      }
    },
    {
      "cell_type": "code",
      "source": [
        "compare = recordlinkage.Compare()\n",
        "compare.exact('ACM_year', 'DBLP_year', label='Year')\n",
        "## changed the threshold from 0.85 to 0.75\n",
        "compare.string('ACM_title',\n",
        "            'DBLP_title',\n",
        "            threshold=0.75,\n",
        "            label='Title')\n",
        "compare.string('ACM_authors',\n",
        "            'DBLP_authors',\n",
        "            threshold=0.85,\n",
        "            label='Authors')\n",
        "features = compare.compute(candidates, ACM,\n",
        "                        DBLP)\n",
        "potential_matches = features[features.sum(axis=1) > 1].reset_index()\n",
        "potential_matches['Score'] = potential_matches.loc[:, 'Year':'Title'].sum(axis=1)\n",
        "potential_matches.rename(columns ={'id_1':'ACM_id','id_2':'DBLP_id'}, inplace = True)\n",
        "potential_matches.head()"
      ],
      "metadata": {
        "colab": {
          "base_uri": "https://localhost:8080/",
          "height": 206
        },
        "id": "6RFPm8DlbFV2",
        "outputId": "6af19866-a84d-4036-a927-fcbf5b92838b"
      },
      "execution_count": 56,
      "outputs": [
        {
          "output_type": "execute_result",
          "data": {
            "text/html": [
              "<div>\n",
              "<style scoped>\n",
              "    .dataframe tbody tr th:only-of-type {\n",
              "        vertical-align: middle;\n",
              "    }\n",
              "\n",
              "    .dataframe tbody tr th {\n",
              "        vertical-align: top;\n",
              "    }\n",
              "\n",
              "    .dataframe thead th {\n",
              "        text-align: right;\n",
              "    }\n",
              "</style>\n",
              "<table border=\"1\" class=\"dataframe\">\n",
              "  <thead>\n",
              "    <tr style=\"text-align: right;\">\n",
              "      <th></th>\n",
              "      <th>ACM_id</th>\n",
              "      <th>DBLP_id</th>\n",
              "      <th>Year</th>\n",
              "      <th>Title</th>\n",
              "      <th>Authors</th>\n",
              "      <th>Score</th>\n",
              "    </tr>\n",
              "  </thead>\n",
              "  <tbody>\n",
              "    <tr>\n",
              "      <th>0</th>\n",
              "      <td>304586</td>\n",
              "      <td>conf/sigmod/VossenW99</td>\n",
              "      <td>1</td>\n",
              "      <td>1.0</td>\n",
              "      <td>0.0</td>\n",
              "      <td>2.0</td>\n",
              "    </tr>\n",
              "    <tr>\n",
              "      <th>1</th>\n",
              "      <td>304587</td>\n",
              "      <td>conf/sigmod/CruzJ99</td>\n",
              "      <td>1</td>\n",
              "      <td>1.0</td>\n",
              "      <td>0.0</td>\n",
              "      <td>2.0</td>\n",
              "    </tr>\n",
              "    <tr>\n",
              "      <th>2</th>\n",
              "      <td>304589</td>\n",
              "      <td>conf/sigmod/BouguettayaBH99</td>\n",
              "      <td>1</td>\n",
              "      <td>1.0</td>\n",
              "      <td>0.0</td>\n",
              "      <td>2.0</td>\n",
              "    </tr>\n",
              "    <tr>\n",
              "      <th>3</th>\n",
              "      <td>304590</td>\n",
              "      <td>conf/sigmod/BaruGLMPVC99</td>\n",
              "      <td>1</td>\n",
              "      <td>1.0</td>\n",
              "      <td>0.0</td>\n",
              "      <td>2.0</td>\n",
              "    </tr>\n",
              "    <tr>\n",
              "      <th>4</th>\n",
              "      <td>304582</td>\n",
              "      <td>conf/sigmod/BrodskySCE99</td>\n",
              "      <td>1</td>\n",
              "      <td>1.0</td>\n",
              "      <td>0.0</td>\n",
              "      <td>2.0</td>\n",
              "    </tr>\n",
              "  </tbody>\n",
              "</table>\n",
              "</div>"
            ],
            "text/plain": [
              "   ACM_id                      DBLP_id  Year  Title  Authors  Score\n",
              "0  304586        conf/sigmod/VossenW99     1    1.0      0.0    2.0\n",
              "1  304587          conf/sigmod/CruzJ99     1    1.0      0.0    2.0\n",
              "2  304589  conf/sigmod/BouguettayaBH99     1    1.0      0.0    2.0\n",
              "3  304590     conf/sigmod/BaruGLMPVC99     1    1.0      0.0    2.0\n",
              "4  304582     conf/sigmod/BrodskySCE99     1    1.0      0.0    2.0"
            ]
          },
          "metadata": {},
          "execution_count": 56
        }
      ]
    },
    {
      "cell_type": "code",
      "source": [
        "ACM['ACM_Name_Lookup'] = ACM[[\n",
        "    'ACM_authors', 'ACM_title', 'ACM_year', 'ACM_venue'\n",
        "]].apply(lambda x: '_'.join(x.dropna().astype(str)), axis=1)\n",
        "\n",
        "DBLP['DBLP_Name_Lookup'] = DBLP[[\n",
        "    'DBLP_authors', 'DBLP_title', 'DBLP_year', 'DBLP_venue'\n",
        "]].apply(lambda x: '_'.join(x.dropna().astype(str)), axis=1)\n",
        "\n",
        "ACM_lookup = ACM[['ACM_Name_Lookup']].reset_index()\n",
        "ACM_lookup.rename(columns ={'id':'ACM_id'}, inplace = True)\n",
        "DBLP_lookup = DBLP[['DBLP_Name_Lookup']].reset_index()\n",
        "DBLP_lookup.rename(columns ={'id':'DBLP_id'}, inplace = True)"
      ],
      "metadata": {
        "id": "VsbBp_IlcoJN"
      },
      "execution_count": 57,
      "outputs": []
    },
    {
      "cell_type": "code",
      "source": [
        "ACM_merge = potential_matches.merge(ACM_lookup, how='left')\n",
        "final_merge = ACM_merge.merge(DBLP_lookup, how='left')"
      ],
      "metadata": {
        "id": "CuEq15u8ctw8"
      },
      "execution_count": 58,
      "outputs": []
    },
    {
      "cell_type": "code",
      "source": [
        "cols = ['ACM_id','DBLP_id']\n",
        "recordLinkage_NB_new = final_merge[cols]\n",
        "\n",
        "truePositive = 0\n",
        "falsePositive = 0\n",
        "falseNegative = 0\n",
        "\n",
        "for row in recordLinkage_NB_new.itertuples():\n",
        "  hit = perfectMapping.loc[(perfectMapping['idACM'] == row.ACM_id) & (perfectMapping['idDBLP'] == row.DBLP_id\t)]\n",
        "  match = hit['idDBLP'].count()\n",
        "\n",
        "  if match == 1:\n",
        "    truePositive += 1\n",
        "  else: \n",
        "    falsePositive += 1\n",
        "\n",
        "for row in perfectMapping.itertuples():\n",
        "  hit = recordLinkage_NB_new.loc[(recordLinkage_NB_new['ACM_id'] == row.idACM) & (recordLinkage_NB_new['DBLP_id'] == row.idDBLP)]\n",
        "  match = hit['DBLP_id'].count()\n",
        "  if match == 0:\n",
        "    falseNegative += 1\n",
        "\n",
        "print (\"truePositive: {x}\".format(x=truePositive))\n",
        "print (\"falsePositive: {x}\".format(x=falsePositive))\n",
        "print (\"falseNegative: {x}\".format(x=falseNegative))"
      ],
      "metadata": {
        "colab": {
          "base_uri": "https://localhost:8080/"
        },
        "id": "VEhxY30pc3TP",
        "outputId": "dad6b868-c169-4c86-eb34-69c704e05aa1"
      },
      "execution_count": 59,
      "outputs": [
        {
          "output_type": "stream",
          "name": "stdout",
          "text": [
            "truePositive: 2176\n",
            "falsePositive: 259\n",
            "falseNegative: 48\n"
          ]
        }
      ]
    },
    {
      "cell_type": "code",
      "source": [
        "recordLinkage_NB_newPrecision = truePositive/(truePositive+falsePositive)\n",
        "recordLinkage_NB_newRecall = truePositive/(truePositive+falseNegative)\n",
        "recordLinkage_NB_newF1 = 2*((recordLinkage_NB_newPrecision*recordLinkage_NB_newRecall)/(recordLinkage_NB_newPrecision+recordLinkage_NB_newRecall))\n",
        "print (\"recordLinkage_NB_newPrecision: {x}\".format(x=recordLinkage_NB_newPrecision))\n",
        "print (\"recordLinkage_NB_newRecall: {x}\".format(x=recordLinkage_NB_newRecall))\n",
        "print (\"recordLinkage_NB_newF1: {x}\".format(x=recordLinkage_NB_newF1))"
      ],
      "metadata": {
        "colab": {
          "base_uri": "https://localhost:8080/"
        },
        "id": "S2Ph_1v8dWTf",
        "outputId": "6be5de2d-37ba-4401-852c-c2d272ebc70b"
      },
      "execution_count": 61,
      "outputs": [
        {
          "output_type": "stream",
          "name": "stdout",
          "text": [
            "recordLinkage_NB_newPrecision: 0.8936344969199178\n",
            "recordLinkage_NB_newRecall: 0.9784172661870504\n",
            "recordLinkage_NB_newF1: 0.9341060313371968\n"
          ]
        }
      ]
    },
    {
      "cell_type": "markdown",
      "source": [
        "# **Comparison of Results**\n",
        "\n",
        "Below we can see the results of all three of our Record Linkage implementations along with the fuzzymatcher implementation. We can take note that the modified full index implementation has higher values for both Recall and F1 measure. This can be acquited to the lowering of the threshold of the comparison of titles slightly. It is also important to take note that the record linkage using blocking has equally high scores as the new full index implementation, while being significanlty faster to process. \n",
        "\n",
        "Overall it can be noted that the fuzzy matching implementation has overall higher precision, recall and f1 measure scores than the record linkage implemtnations, accompanied with being faster to implement. Though, this might also be due to this particular data set being more suitable for this particular implementation. More could have explored regarding the feature to be blocked, as well as the implementation of the sorted neighbourhood algorythm."
      ],
      "metadata": {
        "id": "O_vfOtxcp12-"
      }
    },
    {
      "cell_type": "code",
      "source": [
        "print (\"FuzzyMatcherPrecision: {x}\".format(x=FuzzyMatcherPrecision))\n",
        "print (\"FuzzyMatcherRecall: {x}\".format(x=FuzzyMatcherRecall))\n",
        "print (\"FuzzyMatcherF1: {x}\".format(x=FuzzyMatcherF1))\n",
        "print(\"\\n\")\n",
        "print (\"recordLinkage_NBPrecision: {x}\".format(x=recordLinkage_NBPrecision))\n",
        "print (\"recordLinkage_NBRecall: {x}\".format(x=recordLinkage_NBRecall))\n",
        "print (\"recordLinkage_NBF1: {x}\".format(x=recordLinkage_NBF1))\n",
        "print(\"\\n\")\n",
        "print (\"recordLinkage_BPrecision: {x}\".format(x=recordLinkage_BPrecision))\n",
        "print (\"recordLinkage_BRecall: {x}\".format(x=recordLinkage_BRecall))\n",
        "print (\"recordLinkage_BF1: {x}\".format(x=recordLinkage_BF1))\n",
        "print(\"\\n\")\n",
        "print (\"recordLinkage_NB_newPrecision: {x}\".format(x=recordLinkage_NB_newPrecision))\n",
        "print (\"recordLinkage_NB_newRecall: {x}\".format(x=recordLinkage_NB_newRecall))\n",
        "print (\"recordLinkage_NB_newF1: {x}\".format(x=recordLinkage_NB_newF1))"
      ],
      "metadata": {
        "colab": {
          "base_uri": "https://localhost:8080/"
        },
        "id": "E-GSm47Oq2AQ",
        "outputId": "728082e5-0f1e-461d-d998-88b70fee01c2"
      },
      "execution_count": 62,
      "outputs": [
        {
          "output_type": "stream",
          "name": "stdout",
          "text": [
            "FuzzyMatcherPrecision: 0.9612031386224935\n",
            "FuzzyMatcherRecall: 0.9914568345323741\n",
            "FuzzyMatcherF1: 0.9760956175298806\n",
            "\n",
            "\n",
            "recordLinkage_NBPrecision: 0.8942953020134228\n",
            "recordLinkage_NBRecall: 0.9586330935251799\n",
            "recordLinkage_NBF1: 0.9253472222222222\n",
            "\n",
            "\n",
            "recordLinkage_BPrecision: 0.9091684434968017\n",
            "recordLinkage_BRecall: 0.9586330935251799\n",
            "recordLinkage_BF1: 0.9332457868242504\n",
            "\n",
            "\n",
            "recordLinkage_NB_newPrecision: 0.8936344969199178\n",
            "recordLinkage_NB_newRecall: 0.9784172661870504\n",
            "recordLinkage_NB_newF1: 0.9341060313371968\n"
          ]
        }
      ]
    }
  ]
}